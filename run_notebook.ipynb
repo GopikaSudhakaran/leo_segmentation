{
 "cells": [
  {
   "cell_type": "code",
   "execution_count": 1,
   "metadata": {},
   "outputs": [
    {
     "name": "stderr",
     "output_type": "stream",
     "text": [
      "c:\\users\\temil\\onedrive\\documents\\codes_and_scripts\\python_envs\\pytorch-tf2-env\\lib\\site-packages\\numpy\\_distributor_init.py:32: UserWarning: loaded more than 1 DLL from .libs:\n",
      "c:\\users\\temil\\onedrive\\documents\\codes_and_scripts\\python_envs\\pytorch-tf2-env\\lib\\site-packages\\numpy\\.libs\\libopenblas.NOIJJG62EMASZI6NYURL6JBKM4EVBGM7.gfortran-win_amd64.dll\n",
      "c:\\users\\temil\\onedrive\\documents\\codes_and_scripts\\python_envs\\pytorch-tf2-env\\lib\\site-packages\\numpy\\.libs\\libopenblas.PYQHXLVVQ7VESDPUVUADXEVJOBGHJPAY.gfortran-win_amd64.dll\n",
      "  stacklevel=1)\n"
     ]
    }
   ],
   "source": [
    "import sys, os, argparse, time, numpy as np, tensorflow as tf, pandas as pd\n",
    "\"\"\"\n",
    "Do the following if using colab\n",
    "1. Download this notebook and upload to colab as your entry point\n",
    "2. Uncomment the code below\n",
    "\"\"\"\n",
    "#!git clone https://github.com/Temiloluwa/leo_segmentation.git --branch leo_maml_tensorflow\n",
    "#os.chdir(os.path.join(\"./leo_segmentation\")) \n",
    "from leo_segmentation.data import Datagenerator, TrainingStats\n",
    "from leo_segmentation.model import LEO, load_model, save_model\n",
    "from leo_segmentation.utils import load_config, check_experiment, get_named_dict, \\\n",
    "                        log_data, load_yaml, train_logger, val_logger, print_to_string_io, \\\n",
    "                        save_pickled_data, model_dir, list_to_tensor, numpy_to_tensor, prepare_inputs,\\\n",
    "                        tensor_to_numpy\n",
    "from run import train_model\n",
    "from matplotlib import pyplot as plt\n",
    "pd.set_option('display.max_columns', None)\n",
    "pd.set_option('display.max_rows', None)"
   ]
  },
  {
   "cell_type": "code",
   "execution_count": 2,
   "metadata": {
    "scrolled": true
   },
   "outputs": [],
   "source": [
    "dataset =\"fss1000\"\n",
    "config = load_config()"
   ]
  },
  {
   "cell_type": "markdown",
   "metadata": {},
   "source": [
    "## Train Model"
   ]
  },
  {
   "cell_type": "code",
   "execution_count": null,
   "metadata": {},
   "outputs": [
    {
     "name": "stdout",
     "output_type": "stream",
     "text": [
      "num tasks: 5\n",
      "tr_imgs shape: torch.Size([5, 2, 224, 224, 3]), tr_masks shape: torch.Size([5, 2, 224, 224]) val_imgs shape: torch.Size([5, 5, 224, 224, 3]), val_masks shape: torch.Size([5, 5, 224, 224])\n"
     ]
    },
    {
     "name": "stderr",
     "output_type": "stream",
     "text": [
      "C:\\Users\\temil\\OneDrive\\Documents\\Study\\UHildesheim\\Project\\Scripts\\leo-srp-project\\merge_to_dev\\leo_segmentation\\leo_segmentation\\model.py:212: UserWarning: Mixed memory format inputs detected while calling the operator. The operator will output contiguous tensor even if some of the inputs are in channels_last format. (Triggered internally at  ..\\aten\\src\\ATen\\native\\TensorIterator.cpp:918.)\n",
      "  weight = self.seg_weight - finetuning_lr * seg_weight_grad\n",
      "0it [00:00, ?it/s]"
     ]
    },
    {
     "name": "stdout",
     "output_type": "stream",
     "text": [
      "num tasks: 5\n",
      "tr_imgs shape: torch.Size([5, 2, 224, 224, 3]), tr_masks shape: torch.Size([5, 2, 224, 224]) val_imgs shape: 5 list of paths, val_masks shape: 5 list of paths\n"
     ]
    },
    {
     "name": "stderr",
     "output_type": "stream",
     "text": [
      "8it [00:00, 26.94it/s]\n",
      "8it [00:00, 29.65it/s]\n",
      "8it [00:00, 28.65it/s]\n",
      "8it [00:00, 27.87it/s]\n",
      "18it [00:00, 36.50it/s]\n"
     ]
    },
    {
     "name": "stdout",
     "output_type": "stream",
     "text": [
      "mode: meta_val, episode:  01, total_val_loss: 0.672228, \n",
      "val_mean_iou:{'peregine_falcon': 0.2812792849659027,\n",
      "'persimmon': 0.11125786755846223,\n",
      "'poker': 0.12237070220672347,\n",
      "'pspgo': 0.43500854500661906,\n",
      "'rock_snake': 0.2716242363462845}\n",
      "\n",
      "Episode: 1, Episode Time: 0.088 minutes\n"
     ]
    },
    {
     "name": "stderr",
     "output_type": "stream",
     "text": [
      "28it [00:00, 38.97it/s]\n",
      "8it [00:00, 29.61it/s]\n",
      "8it [00:00, 29.76it/s]\n",
      "28it [00:00, 36.32it/s]\n",
      "8it [00:00, 28.11it/s]\n"
     ]
    },
    {
     "name": "stdout",
     "output_type": "stream",
     "text": [
      "mode: meta_val, episode:  02, total_val_loss: 0.647152, \n",
      "val_mean_iou:{'owl': 0.1576628563670115,\n",
      "'potato': 0.051695239469391675,\n",
      "'proboscis': 0.07515964316836315,\n",
      "'santa_sledge': 0.1964478184452584,\n",
      "'skua': 0.3165342387336526}\n",
      "\n",
      "Episode: 2, Episode Time: 0.081 minutes\n"
     ]
    },
    {
     "name": "stderr",
     "output_type": "stream",
     "text": [
      "8it [00:00, 29.33it/s]\n",
      "8it [00:00, 31.01it/s]\n",
      "8it [00:00, 31.41it/s]\n",
      "8it [00:00, 28.68it/s]\n",
      "8it [00:00, 31.03it/s]\n"
     ]
    },
    {
     "name": "stdout",
     "output_type": "stream",
     "text": [
      "mode: meta_val, episode:  03, total_val_loss: 0.614237, \n",
      "val_mean_iou:{'refrigerator': 0.06730852319774142,\n",
      "'rock_beauty': 0.044104595797004785,\n",
      "'running_shoe': 0.06921137309588563,\n",
      "'sandal': 0.2650919133875278,\n",
      "'scorpion': 0.2709122404102756}\n",
      "\n",
      "Episode: 3, Episode Time: 0.064 minutes\n"
     ]
    },
    {
     "name": "stderr",
     "output_type": "stream",
     "text": [
      "8it [00:00, 31.28it/s]\n",
      "8it [00:00, 40.30it/s]\n",
      "8it [00:00, 30.08it/s]\n",
      "8it [00:00, 29.31it/s]\n",
      "18it [00:00, 36.93it/s]\n"
     ]
    },
    {
     "name": "stdout",
     "output_type": "stream",
     "text": [
      "mode: meta_val, episode:  04, total_val_loss: 0.616039, \n",
      "val_mean_iou:{'printer': 0.0408473296542176,\n",
      "'rabbit': 0.012217558529448206,\n",
      "'radio': 0.03779514603433862,\n",
      "'radio_telescope': 0.029640262624387827,\n",
      "'snow_leopard': 0.057277334589094654}\n",
      "\n",
      "Episode: 4, Episode Time: 0.068 minutes\n"
     ]
    },
    {
     "name": "stderr",
     "output_type": "stream",
     "text": [
      "8it [00:00, 27.88it/s]\n",
      "8it [00:00, 30.36it/s]\n",
      "8it [00:00, 31.91it/s]\n",
      "8it [00:00, 30.64it/s]\n",
      "8it [00:00, 30.20it/s]\n"
     ]
    },
    {
     "name": "stdout",
     "output_type": "stream",
     "text": [
      "mode: meta_val, episode:  05, total_val_loss: 0.555336, \n",
      "val_mean_iou:{'panpipe': 0.0448582552533761,\n",
      "'pinwheel': 0.05370486203378409,\n",
      "'pyraminx': 0.060549346408231654,\n",
      "'refrigerator': 0.01458078508858271,\n",
      "'sombrero': 0.011270165364962979}\n",
      "\n",
      "Episode: 5, Episode Time: 0.065 minutes\n"
     ]
    },
    {
     "name": "stderr",
     "output_type": "stream",
     "text": [
      "8it [00:00, 29.44it/s]\n",
      "18it [00:00, 37.75it/s]\n",
      "8it [00:00, 31.64it/s]\n",
      "8it [00:00, 31.18it/s]\n",
      "8it [00:00, 31.33it/s]\n"
     ]
    },
    {
     "name": "stdout",
     "output_type": "stream",
     "text": [
      "mode: meta_val, episode:  06, total_val_loss: 0.499000, \n",
      "val_mean_iou:{'park_bench': 0.01134911334467691,\n",
      "'pickelhaube': 0.03781739196851949,\n",
      "'pig': 0.0111120925423334,\n",
      "'ruffed_grouse': 0.03776907152854797,\n",
      "'sea_cucumber': 0.00839077211113513}\n",
      "\n",
      "Episode: 6, Episode Time: 0.068 minutes\n"
     ]
    },
    {
     "name": "stderr",
     "output_type": "stream",
     "text": [
      "8it [00:00, 29.45it/s]\n",
      "8it [00:00, 31.41it/s]\n",
      "8it [00:00, 30.78it/s]\n",
      "8it [00:00, 30.57it/s]\n",
      "8it [00:00, 30.71it/s]\n"
     ]
    },
    {
     "name": "stdout",
     "output_type": "stream",
     "text": [
      "mode: meta_val, episode:  07, total_val_loss: 0.462484, \n",
      "val_mean_iou:{'paddle': 0.013587626113204765,\n",
      "'paper_towel': 0.0018796639366951075,\n",
      "'pokermon_ball': 0.13421209488989672,\n",
      "'quail_egg': 0.1384440654289416,\n",
      "'shopping_cart': 0.06399952989007829}\n",
      "\n",
      "Episode: 7, Episode Time: 0.063 minutes\n"
     ]
    },
    {
     "name": "stderr",
     "output_type": "stream",
     "text": [
      "8it [00:00, 29.44it/s]\n",
      "8it [00:00, 30.69it/s]\n",
      "8it [00:00, 29.72it/s]\n",
      "8it [00:00, 30.70it/s]\n",
      "8it [00:00, 31.03it/s]\n"
     ]
    },
    {
     "name": "stdout",
     "output_type": "stream",
     "text": [
      "mode: meta_val, episode:  08, total_val_loss: 0.371058, \n",
      "val_mean_iou:{'pizza': 0.012622844705311205,\n",
      "'puma_logo': 0.06532332037073206,\n",
      "'santa_sledge': 0.09421529088548167,\n",
      "'shift_gear': 0.047329213758526716,\n",
      "'shower_cap': 0.15760015738773125}\n",
      "\n",
      "Episode: 8, Episode Time: 0.063 minutes\n"
     ]
    },
    {
     "name": "stderr",
     "output_type": "stream",
     "text": [
      "8it [00:00, 29.95it/s]\n",
      "8it [00:00, 29.04it/s]\n",
      "18it [00:00, 35.90it/s]\n",
      "8it [00:00, 28.35it/s]\n",
      "8it [00:00, 27.79it/s]\n"
     ]
    },
    {
     "name": "stdout",
     "output_type": "stream",
     "text": [
      "mode: meta_val, episode:  09, total_val_loss: 0.398409, \n",
      "val_mean_iou:{'otter': 0.07636392056630031,\n",
      "'pepitas': 0.10087679325525326,\n",
      "'poker': 0.15661245563128157,\n",
      "'sea_urchin': 0.14045911161913205,\n",
      "'snowball': 0.040071719737837186}\n",
      "\n",
      "Episode: 9, Episode Time: 0.069 minutes\n"
     ]
    },
    {
     "name": "stderr",
     "output_type": "stream",
     "text": [
      "8it [00:00, 27.26it/s]\n",
      "8it [00:00, 31.65it/s]\n",
      "8it [00:00, 33.27it/s]\n",
      "8it [00:00, 28.03it/s]\n",
      "8it [00:00, 30.98it/s]\n"
     ]
    },
    {
     "name": "stdout",
     "output_type": "stream",
     "text": [
      "mode: meta_val, episode:  10, total_val_loss: 0.405087, \n",
      "val_mean_iou:{'parthenon': 0.08890631331960831,\n",
      "'persian_cat': 0.0301404973391641,\n",
      "'seagull': 0.15892633833653041,\n",
      "'shuriken': 0.19070248276953347,\n",
      "'snow_leopard': 0.15381169741936565}\n",
      "\n",
      "Episode: 10, Episode Time: 0.065 minutes\n"
     ]
    },
    {
     "name": "stderr",
     "output_type": "stream",
     "text": [
      "58it [00:01, 40.06it/s]\n",
      "8it [00:00, 29.93it/s]\n",
      "8it [00:00, 29.80it/s]\n",
      "8it [00:00, 29.62it/s]\n",
      "8it [00:00, 30.03it/s]\n"
     ]
    },
    {
     "name": "stdout",
     "output_type": "stream",
     "text": [
      "mode: meta_val, episode:  11, total_val_loss: 0.326058, \n",
      "val_mean_iou:{'pingpong_ball': 0.027170538878388273,\n",
      "'pistachio': 0.25672266505387004,\n",
      "'rally_car': 0.15563521537184263,\n",
      "'ringlet_butterfly': 0.24517829176703348,\n",
      "'snake': 0.14385078449239128}\n",
      "\n",
      "Episode: 11, Episode Time: 0.083 minutes\n"
     ]
    },
    {
     "name": "stderr",
     "output_type": "stream",
     "text": [
      "28it [00:00, 38.62it/s]\n",
      "8it [00:00, 31.97it/s]\n",
      "8it [00:00, 30.42it/s]\n",
      "8it [00:00, 29.09it/s]\n",
      "8it [00:00, 30.12it/s]\n"
     ]
    },
    {
     "name": "stdout",
     "output_type": "stream",
     "text": [
      "mode: meta_val, episode:  12, total_val_loss: 0.375526, \n",
      "val_mean_iou:{'panda': 0.19500272274457514,\n",
      "'pingpong_racket': 0.30394524586956867,\n",
      "'quill_pen': 0.22670275331909648,\n",
      "'rock_snake': 0.1747069117773078,\n",
      "'rocking_chair': 0.17609202382170416}\n",
      "\n",
      "Episode: 12, Episode Time: 0.071 minutes\n"
     ]
    },
    {
     "name": "stderr",
     "output_type": "stream",
     "text": [
      "8it [00:00, 30.98it/s]\n",
      "38it [00:00, 40.68it/s]\n",
      "8it [00:00, 31.61it/s]\n",
      "28it [00:00, 37.74it/s]\n",
      "8it [00:00, 30.89it/s]\n"
     ]
    },
    {
     "name": "stdout",
     "output_type": "stream",
     "text": [
      "mode: meta_val, episode:  13, total_val_loss: 0.343835, \n",
      "val_mean_iou:{'paper_plane': 0.061648589388094505,\n",
      "'park_bench': 0.06446942276221462,\n",
      "'potato': 0.12244999053786862,\n",
      "'raft': 0.3349343462188549,\n",
      "'sock': 0.20352650683771967}\n",
      "\n",
      "Episode: 13, Episode Time: 0.083 minutes\n"
     ]
    },
    {
     "name": "stderr",
     "output_type": "stream",
     "text": [
      "8it [00:00, 32.66it/s]\n",
      "8it [00:00, 31.57it/s]\n",
      "18it [00:00, 37.79it/s]\n",
      "8it [00:00, 31.29it/s]\n",
      "8it [00:00, 30.94it/s]\n"
     ]
    },
    {
     "name": "stdout",
     "output_type": "stream",
     "text": [
      "mode: meta_val, episode:  14, total_val_loss: 0.304757, \n",
      "val_mean_iou:{'patas': 0.11935003739650996,\n",
      "'pufferfish': 0.22629467591971708,\n",
      "'redheart': 0.1255964855815025,\n",
      "'screw': 0.4217413122049258,\n",
      "'sea_urchin': 0.3574992819685221}\n",
      "\n",
      "Episode: 14, Episode Time: 0.066 minutes\n"
     ]
    },
    {
     "name": "stderr",
     "output_type": "stream",
     "text": [
      "8it [00:00, 30.64it/s]\n",
      "8it [00:00, 31.51it/s]\n",
      "8it [00:00, 31.80it/s]\n",
      "8it [00:00, 29.54it/s]\n",
      "8it [00:00, 30.08it/s]\n"
     ]
    },
    {
     "name": "stdout",
     "output_type": "stream",
     "text": [
      "mode: meta_val, episode:  15, total_val_loss: 0.429448, \n",
      "val_mean_iou:{'phonograph': 0.27664679485758203,\n",
      "'polecat': 0.31408093578049384,\n",
      "'prayer_rug': 0.14701259656554314,\n",
      "'recreational_vehicle': 0.19644192183478607,\n",
      "'roller_coaster': 0.3274820624312121}\n",
      "\n",
      "Episode: 15, Episode Time: 0.063 minutes\n"
     ]
    },
    {
     "name": "stderr",
     "output_type": "stream",
     "text": [
      "8it [00:00, 30.24it/s]\n",
      "8it [00:00, 29.94it/s]\n",
      "8it [00:00, 30.55it/s]\n",
      "8it [00:00, 30.18it/s]\n",
      "8it [00:00, 31.71it/s]\n"
     ]
    },
    {
     "name": "stdout",
     "output_type": "stream",
     "text": [
      "mode: meta_val, episode:  16, total_val_loss: 0.332135, \n",
      "val_mean_iou:{'pyraminx': 0.2701972328022762,\n",
      "'rock_beauty': 0.1927424794765123,\n",
      "'samarra_mosque': 0.15934268327506174,\n",
      "'sidewinder': 0.17412177054511674,\n",
      "'sniper_rifle': 0.23994675195225787}\n",
      "\n",
      "Episode: 16, Episode Time: 0.064 minutes\n"
     ]
    },
    {
     "name": "stderr",
     "output_type": "stream",
     "text": [
      "18it [00:00, 35.75it/s]\n",
      "28it [00:00, 40.00it/s]\n",
      "8it [00:00, 31.08it/s]\n",
      "8it [00:00, 30.96it/s]\n",
      "8it [00:00, 27.72it/s]\n"
     ]
    },
    {
     "name": "stdout",
     "output_type": "stream",
     "text": [
      "mode: meta_val, episode:  17, total_val_loss: 0.400167, \n",
      "val_mean_iou:{'owl': 0.2521984489989161,\n",
      "'peregine_falcon': 0.45371987593146923,\n",
      "'poker': 0.3617858903382733,\n",
      "'pyramid_cube': 0.23009823068958718,\n",
      "'sewing_machine': 0.17945963348712185}\n",
      "\n",
      "Episode: 17, Episode Time: 0.077 minutes\n"
     ]
    },
    {
     "name": "stderr",
     "output_type": "stream",
     "text": [
      "8it [00:00, 32.09it/s]\n",
      "8it [00:00, 29.11it/s]\n",
      "8it [00:00, 29.17it/s]\n",
      "8it [00:00, 30.07it/s]\n",
      "8it [00:00, 32.64it/s]\n"
     ]
    },
    {
     "name": "stdout",
     "output_type": "stream",
     "text": [
      "mode: meta_val, episode:  18, total_val_loss: 0.391288, \n",
      "val_mean_iou:{'pencil_sharpener2': 0.1595506611880391,\n",
      "'pizza': 0.16865119130337197,\n",
      "'redheart': 0.1383833956290507,\n",
      "'roller_coaster': 0.3987408618499364,\n",
      "'shih-tzu': 0.09648060521342798}\n",
      "\n",
      "Episode: 18, Episode Time: 0.065 minutes\n"
     ]
    },
    {
     "name": "stderr",
     "output_type": "stream",
     "text": [
      "8it [00:00, 30.21it/s]\n",
      "8it [00:00, 31.25it/s]\n",
      "8it [00:00, 30.39it/s]\n",
      "8it [00:00, 31.84it/s]\n",
      "8it [00:00, 28.04it/s]\n"
     ]
    },
    {
     "name": "stdout",
     "output_type": "stream",
     "text": [
      "mode: meta_val, episode:  19, total_val_loss: 0.346883, \n",
      "val_mean_iou:{'paper_plane': 0.08512993152332579,\n",
      "'partridge': 0.48696581488410384,\n",
      "'perfume': 0.19790767937402753,\n",
      "'printer': 0.20353186873751697,\n",
      "'revolver': 0.20537967729025514}\n",
      "\n",
      "Episode: 19, Episode Time: 0.064 minutes\n"
     ]
    },
    {
     "name": "stderr",
     "output_type": "stream",
     "text": [
      "8it [00:00, 31.02it/s]\n",
      "8it [00:00, 28.94it/s]\n",
      "8it [00:00, 30.90it/s]\n",
      "8it [00:00, 30.67it/s]\n",
      "8it [00:00, 30.13it/s]\n"
     ]
    },
    {
     "name": "stdout",
     "output_type": "stream",
     "text": [
      "mode: meta_val, episode:  20, total_val_loss: 0.379559, \n",
      "val_mean_iou:{'pickup': 0.4317113027928654,\n",
      "'pool_table': 0.18879723964231335,\n",
      "'relay_stick': 0.15992575977665383,\n",
      "'rhinoceros': 0.3776696840878558,\n",
      "'sandal': 0.44774074407002334}\n",
      "\n",
      "Episode: 20, Episode Time: 0.064 minutes\n"
     ]
    },
    {
     "name": "stderr",
     "output_type": "stream",
     "text": [
      "8it [00:00, 28.66it/s]\n",
      "8it [00:00, 30.13it/s]\n",
      "8it [00:00, 28.95it/s]\n",
      "8it [00:00, 30.63it/s]\n",
      "8it [00:00, 27.90it/s]\n"
     ]
    },
    {
     "name": "stdout",
     "output_type": "stream",
     "text": [
      "mode: meta_val, episode:  21, total_val_loss: 0.348893, \n",
      "val_mean_iou:{'peregine_falcon': 0.5113339411766441,\n",
      "'pidan': 0.5050268614030882,\n",
      "'pingpong_racket': 0.5522452867295972,\n",
      "'pomelo': 0.1630858733309229,\n",
      "'ringlet_butterfly': 0.7528016948759679}\n",
      "\n",
      "Episode: 21, Episode Time: 0.065 minutes\n"
     ]
    },
    {
     "name": "stderr",
     "output_type": "stream",
     "text": [
      "8it [00:00, 30.19it/s]\n",
      "8it [00:00, 30.50it/s]\n",
      "8it [00:00, 31.61it/s]\n",
      "8it [00:00, 32.49it/s]\n",
      "8it [00:00, 29.59it/s]\n"
     ]
    },
    {
     "name": "stdout",
     "output_type": "stream",
     "text": [
      "mode: meta_val, episode:  22, total_val_loss: 0.328096, \n",
      "val_mean_iou:{'pencil_sharpener2': 0.21878254522187074,\n",
      "'poached_egg': 0.09660439598149445,\n",
      "'puma_logo': 0.11460783595367573,\n",
      "'rubick_cube': 0.5299162375875651,\n",
      "'shower_cap': 0.3041125357626146}\n",
      "\n",
      "Episode: 22, Episode Time: 0.064 minutes\n"
     ]
    },
    {
     "name": "stderr",
     "output_type": "stream",
     "text": [
      "8it [00:00, 29.72it/s]\n",
      "8it [00:00, 30.06it/s]\n",
      "8it [00:00, 31.64it/s]\n",
      "8it [00:00, 31.40it/s]\n",
      "8it [00:00, 30.81it/s]\n"
     ]
    },
    {
     "name": "stdout",
     "output_type": "stream",
     "text": [
      "mode: meta_val, episode:  23, total_val_loss: 0.318199, \n",
      "val_mean_iou:{'panpipe': 0.3668080044640023,\n",
      "'puma_logo': 0.08871722533932239,\n",
      "'raccoon': 0.49878276393432697,\n",
      "'red_breasted_merganser': 0.563966192486208,\n",
      "'soap_dispenser': 0.22273087094229888}\n",
      "\n",
      "Episode: 23, Episode Time: 0.064 minutes\n"
     ]
    },
    {
     "name": "stderr",
     "output_type": "stream",
     "text": [
      "8it [00:00, 29.99it/s]\n",
      "8it [00:00, 31.27it/s]\n",
      "8it [00:00, 31.10it/s]\n",
      "8it [00:00, 31.20it/s]\n",
      "8it [00:00, 29.10it/s]\n"
     ]
    },
    {
     "name": "stdout",
     "output_type": "stream",
     "text": [
      "mode: meta_val, episode:  24, total_val_loss: 0.384367, \n",
      "val_mean_iou:{'pretzel': 0.2790604248754334,\n",
      "'rock_beauty': 0.4373361489177895,\n",
      "'rocket': 0.1897651121643779,\n",
      "'shotgun': 0.4192263234112296,\n",
      "'shumai': 0.18471633290132156}\n",
      "\n",
      "Episode: 24, Episode Time: 0.064 minutes\n"
     ]
    },
    {
     "name": "stderr",
     "output_type": "stream",
     "text": [
      "8it [00:00, 30.44it/s]\n",
      "8it [00:00, 30.22it/s]\n",
      "8it [00:00, 30.99it/s]\n",
      "8it [00:00, 29.91it/s]\n",
      "8it [00:00, 30.20it/s]\n"
     ]
    },
    {
     "name": "stdout",
     "output_type": "stream",
     "text": [
      "mode: meta_val, episode:  25, total_val_loss: 0.397471, \n",
      "val_mean_iou:{'petri_dish': 0.2563521417569083,\n",
      "'plate': 0.058069402735558884,\n",
      "'redshank': 0.4837595709905872,\n",
      "'sea_urchin': 0.5852802251726541,\n",
      "'snowman': 0.20359763167752287}\n",
      "\n",
      "Episode: 25, Episode Time: 0.064 minutes\n"
     ]
    },
    {
     "name": "stderr",
     "output_type": "stream",
     "text": [
      "8it [00:00, 28.07it/s]\n",
      "8it [00:00, 29.90it/s]\n",
      "8it [00:00, 30.08it/s]\n",
      "8it [00:00, 31.48it/s]\n",
      "8it [00:00, 31.65it/s]\n"
     ]
    },
    {
     "name": "stdout",
     "output_type": "stream",
     "text": [
      "mode: meta_val, episode:  26, total_val_loss: 0.444941, \n",
      "val_mean_iou:{'photocopier': 0.18083309317096546,\n",
      "'platypus': 0.5077824040435743,\n",
      "'radiator': 0.09175296360531757,\n",
      "'red_fox': 0.5409524890500497,\n",
      "'rock_snake': 0.4212447230086022}\n",
      "\n",
      "Episode: 26, Episode Time: 0.064 minutes\n"
     ]
    },
    {
     "name": "stderr",
     "output_type": "stream",
     "text": [
      "8it [00:00, 29.54it/s]\n",
      "8it [00:00, 30.70it/s]\n",
      "8it [00:00, 30.38it/s]\n",
      "18it [00:00, 37.12it/s]\n",
      "8it [00:00, 30.51it/s]\n"
     ]
    },
    {
     "name": "stdout",
     "output_type": "stream",
     "text": [
      "mode: meta_val, episode:  27, total_val_loss: 0.397440, \n",
      "val_mean_iou:{'papaya': 0.41791822680653895,\n",
      "'polar_bear': 0.322268514183419,\n",
      "'pomegranate': 0.5179834277302335,\n",
      "'radio': 0.3323724932792763,\n",
      "'refrigerator': 0.1895411894382486}\n",
      "\n",
      "Episode: 27, Episode Time: 0.067 minutes\n"
     ]
    },
    {
     "name": "stderr",
     "output_type": "stream",
     "text": [
      "18it [00:00, 35.84it/s]\n",
      "8it [00:00, 28.97it/s]\n",
      "8it [00:00, 31.20it/s]\n",
      "8it [00:00, 32.79it/s]\n",
      "8it [00:00, 30.61it/s]\n"
     ]
    },
    {
     "name": "stdout",
     "output_type": "stream",
     "text": [
      "mode: meta_val, episode:  28, total_val_loss: 0.284510, \n",
      "val_mean_iou:{'quill_pen': 0.4416919736417559,\n",
      "'red_fox': 0.5478148377240382,\n",
      "'saxophone': 0.46397142787075,\n",
      "'scabbard': 0.28377194137697653,\n",
      "'sled': 0.5143073750747863}\n",
      "\n",
      "Episode: 28, Episode Time: 0.068 minutes\n"
     ]
    },
    {
     "name": "stderr",
     "output_type": "stream",
     "text": [
      "18it [00:00, 33.47it/s]\n",
      "8it [00:00, 30.43it/s]\n",
      "8it [00:00, 30.52it/s]\n",
      "8it [00:00, 28.74it/s]\n",
      "8it [00:00, 29.68it/s]\n"
     ]
    },
    {
     "name": "stdout",
     "output_type": "stream",
     "text": [
      "mode: meta_val, episode:  29, total_val_loss: 0.291661, \n",
      "val_mean_iou:{'panther': 0.7055164873980897,\n",
      "'puma_logo': 0.11043642183636766,\n",
      "'scabbard': 0.2866280773064528,\n",
      "'shotgun': 0.4006133866515025,\n",
      "'soap': 0.18316566309232474}\n",
      "\n",
      "Episode: 29, Episode Time: 0.068 minutes\n"
     ]
    },
    {
     "name": "stderr",
     "output_type": "stream",
     "text": [
      "8it [00:00, 28.98it/s]\n",
      "8it [00:00, 30.68it/s]\n",
      "8it [00:00, 28.20it/s]\n",
      "8it [00:00, 30.45it/s]\n",
      "8it [00:00, 29.60it/s]\n"
     ]
    },
    {
     "name": "stdout",
     "output_type": "stream",
     "text": [
      "mode: meta_val, episode:  30, total_val_loss: 0.375838, \n",
      "val_mean_iou:{'panpipe': 0.43152120771399316,\n",
      "'saltshaker': 0.25681104563068924,\n",
      "'scroll_brush': 0.4187432568585581,\n",
      "'shih-tzu': 0.2307103479943723,\n",
      "'sleeping_bag': 0.20278646998561478}\n",
      "\n",
      "Episode: 30, Episode Time: 0.064 minutes\n"
     ]
    },
    {
     "name": "stderr",
     "output_type": "stream",
     "text": [
      "8it [00:00, 30.74it/s]\n",
      "8it [00:00, 29.31it/s]\n",
      "8it [00:00, 29.66it/s]\n",
      "8it [00:00, 31.88it/s]\n",
      "8it [00:00, 31.03it/s]\n"
     ]
    },
    {
     "name": "stdout",
     "output_type": "stream",
     "text": [
      "mode: meta_val, episode:  31, total_val_loss: 0.536949, \n",
      "val_mean_iou:{'pretzel': 0.3070695942906795,\n",
      "'pspgo': 0.3239673950823927,\n",
      "'remote_control': 0.5690896580263478,\n",
      "'sandbar': 0.08749925192144378,\n",
      "'scarerow': 0.3086220593938971}\n",
      "\n",
      "Episode: 31, Episode Time: 0.064 minutes\n"
     ]
    },
    {
     "name": "stderr",
     "output_type": "stream",
     "text": [
      "8it [00:00, 28.95it/s]\n",
      "8it [00:00, 30.88it/s]\n",
      "8it [00:00, 32.84it/s]\n",
      "8it [00:00, 29.57it/s]\n",
      "8it [00:00, 31.33it/s]\n"
     ]
    },
    {
     "name": "stdout",
     "output_type": "stream",
     "text": [
      "mode: meta_val, episode:  32, total_val_loss: 0.308209, \n",
      "val_mean_iou:{'pay_phone': 0.2889780285784259,\n",
      "'recreational_vehicle': 0.3527200315578234,\n",
      "'scroll_brush': 0.4610991430017263,\n",
      "'skateboard': 0.19163004388148752,\n",
      "'soap_dispenser': 0.3074570870749647}\n",
      "\n",
      "Episode: 32, Episode Time: 0.064 minutes\n"
     ]
    },
    {
     "name": "stderr",
     "output_type": "stream",
     "text": [
      "28it [00:00, 38.77it/s]\n",
      "8it [00:00, 31.43it/s]\n",
      "8it [00:00, 30.32it/s]\n",
      "8it [00:00, 31.57it/s]\n",
      "18it [00:00, 33.40it/s]\n"
     ]
    },
    {
     "name": "stdout",
     "output_type": "stream",
     "text": [
      "mode: meta_val, episode:  33, total_val_loss: 0.406615, \n",
      "val_mean_iou:{'panda': 0.5276037279837977,\n",
      "'psp': 0.3949261063840379,\n",
      "'raccoon': 0.5201550614417456,\n",
      "'reel': 0.6406149430352237,\n",
      "'remote_control': 0.5904420452465786}\n",
      "\n",
      "Episode: 33, Episode Time: 0.076 minutes\n"
     ]
    },
    {
     "name": "stderr",
     "output_type": "stream",
     "text": [
      "8it [00:00, 29.39it/s]\n",
      "8it [00:00, 29.76it/s]\n",
      "18it [00:00, 36.75it/s]\n",
      "8it [00:00, 30.18it/s]\n",
      "8it [00:00, 31.12it/s]\n"
     ]
    },
    {
     "name": "stdout",
     "output_type": "stream",
     "text": [
      "mode: meta_val, episode:  34, total_val_loss: 0.401560, \n",
      "val_mean_iou:{'pool_table': 0.2333013842909089,\n",
      "'puma_logo': 0.12137141333250845,\n",
      "'rice_cooker': 0.28672935346046524,\n",
      "'ruffed_grouse': 0.570612024924868,\n",
      "'seal': 0.6217892919639444}\n",
      "\n",
      "Episode: 34, Episode Time: 0.068 minutes\n"
     ]
    },
    {
     "name": "stderr",
     "output_type": "stream",
     "text": [
      "8it [00:00, 30.15it/s]\n",
      "8it [00:00, 29.30it/s]\n",
      "8it [00:00, 31.16it/s]\n",
      "18it [00:00, 36.46it/s]\n",
      "8it [00:00, 31.25it/s]\n"
     ]
    },
    {
     "name": "stdout",
     "output_type": "stream",
     "text": [
      "mode: meta_val, episode:  35, total_val_loss: 0.355873, \n",
      "val_mean_iou:{'paper_crane': 0.4320420227044672,\n",
      "'red_wolf': 0.3639619277281843,\n",
      "'reflex_camera': 0.5815114935381871,\n",
      "'rice_cooker': 0.30761003522292735,\n",
      "'soap': 0.23716676372686857}\n",
      "\n",
      "Episode: 35, Episode Time: 0.068 minutes\n"
     ]
    },
    {
     "name": "stderr",
     "output_type": "stream",
     "text": [
      "8it [00:00, 29.09it/s]\n",
      "8it [00:00, 30.66it/s]\n",
      "8it [00:00, 29.44it/s]\n",
      "8it [00:00, 30.86it/s]\n",
      "18it [00:00, 37.04it/s]\n"
     ]
    },
    {
     "name": "stdout",
     "output_type": "stream",
     "text": [
      "mode: meta_val, episode:  36, total_val_loss: 0.290387, \n",
      "val_mean_iou:{'persian_cat': 0.10352342140795427,\n",
      "'rain_barrel': 0.4497887559302302,\n",
      "'skua': 0.7161750709496733,\n",
      "'sled': 0.5218927952717866,\n",
      "'sloth_bear': 0.6643728666539217}\n",
      "\n",
      "Episode: 36, Episode Time: 0.068 minutes\n"
     ]
    },
    {
     "name": "stderr",
     "output_type": "stream",
     "text": [
      "128it [00:03, 41.79it/s]\n",
      "8it [00:00, 30.70it/s]\n",
      "8it [00:00, 30.33it/s]\n",
      "8it [00:00, 30.01it/s]\n",
      "8it [00:00, 30.03it/s]\n"
     ]
    },
    {
     "name": "stdout",
     "output_type": "stream",
     "text": [
      "mode: meta_val, episode:  37, total_val_loss: 0.294579, \n",
      "val_mean_iou:{'ostrich': 0.6481274868722405,\n",
      "'ox': 0.49908024518159433,\n",
      "'paint_brush': 0.6171117124211717,\n",
      "'park_bench': 0.31264255189149315,\n",
      "'pyramid_cube': 0.3937438461160182}\n",
      "\n",
      "Episode: 37, Episode Time: 0.111 minutes\n"
     ]
    },
    {
     "name": "stderr",
     "output_type": "stream",
     "text": [
      "8it [00:00, 30.16it/s]\n",
      "8it [00:00, 30.99it/s]\n",
      "8it [00:00, 30.86it/s]\n",
      "8it [00:00, 31.54it/s]\n",
      "8it [00:00, 30.29it/s]\n"
     ]
    },
    {
     "name": "stdout",
     "output_type": "stream",
     "text": [
      "mode: meta_val, episode:  38, total_val_loss: 0.367667, \n",
      "val_mean_iou:{'paint_brush': 0.6426332759860163,\n",
      "'pool_table': 0.27827852976321055,\n",
      "'running_shoe': 0.3145630670445515,\n",
      "'sandbar': 0.13278120104351515,\n",
      "'sniper_rifle': 0.5120984355580691}\n",
      "\n",
      "Episode: 38, Episode Time: 0.063 minutes\n"
     ]
    },
    {
     "name": "stderr",
     "output_type": "stream",
     "text": [
      "8it [00:00, 29.75it/s]\n",
      "8it [00:00, 31.56it/s]\n",
      "8it [00:00, 30.27it/s]\n",
      "8it [00:00, 31.01it/s]\n",
      "28it [00:00, 37.99it/s]\n"
     ]
    },
    {
     "name": "stdout",
     "output_type": "stream",
     "text": [
      "mode: meta_val, episode:  39, total_val_loss: 0.262027, \n",
      "val_mean_iou:{'partridge': 0.5982466364706862,\n",
      "'pinwheel': 0.5522864892936916,\n",
      "'polecat': 0.6588970103946292,\n",
      "'pyramid': 0.4334244555272502,\n",
      "'rugby_ball': 0.2831501531479555}\n",
      "\n",
      "Episode: 39, Episode Time: 0.071 minutes\n"
     ]
    },
    {
     "name": "stderr",
     "output_type": "stream",
     "text": [
      "28it [00:00, 39.07it/s]\n",
      "8it [00:00, 30.95it/s]\n",
      "8it [00:00, 30.21it/s]\n",
      "8it [00:00, 30.40it/s]\n",
      "8it [00:00, 31.49it/s]\n"
     ]
    },
    {
     "name": "stdout",
     "output_type": "stream",
     "text": [
      "mode: meta_val, episode:  40, total_val_loss: 0.350644, \n",
      "val_mean_iou:{'owl': 0.46130401288400324,\n",
      "'phonograph': 0.5999936242848461,\n",
      "'pingpong_racket': 0.6178843282194311,\n",
      "'pool_table': 0.31510418128292444,\n",
      "'ringlet_butterfly': 0.7903596340886672}\n",
      "\n",
      "Episode: 40, Episode Time: 0.071 minutes\n"
     ]
    },
    {
     "name": "stderr",
     "output_type": "stream",
     "text": [
      "8it [00:00, 29.15it/s]\n",
      "8it [00:00, 29.53it/s]\n",
      "8it [00:00, 31.75it/s]\n",
      "28it [00:00, 40.50it/s]\n",
      "8it [00:00, 30.56it/s]\n"
     ]
    },
    {
     "name": "stdout",
     "output_type": "stream",
     "text": [
      "mode: meta_val, episode:  41, total_val_loss: 0.393213, \n",
      "val_mean_iou:{'owl': 0.44535078568684583,\n",
      "'peacock': 0.46544236275524664,\n",
      "'pool_table': 0.2965404716375019,\n",
      "'remote_control': 0.6119171729064137,\n",
      "'rock_beauty': 0.6721004524632186}\n",
      "\n",
      "Episode: 41, Episode Time: 0.071 minutes\n"
     ]
    },
    {
     "name": "stderr",
     "output_type": "stream",
     "text": [
      "8it [00:00, 25.79it/s]\n",
      "8it [00:00, 29.12it/s]\n",
      "8it [00:00, 29.39it/s]\n",
      "8it [00:00, 30.79it/s]\n",
      "8it [00:00, 28.80it/s]\n"
     ]
    },
    {
     "name": "stdout",
     "output_type": "stream",
     "text": [
      "mode: meta_val, episode:  42, total_val_loss: 0.328592, \n",
      "val_mean_iou:{'paddle': 0.591885569534002,\n",
      "'police_car': 0.39371605169520585,\n",
      "'radio_telescope': 0.47552909504016405,\n",
      "'shift_gear': 0.23672477271500258,\n",
      "'sock': 0.4974768391795147}\n",
      "\n",
      "Episode: 42, Episode Time: 0.065 minutes\n"
     ]
    },
    {
     "name": "stderr",
     "output_type": "stream",
     "text": [
      "8it [00:00, 31.27it/s]\n",
      "8it [00:00, 30.37it/s]\n",
      "8it [00:00, 29.61it/s]\n",
      "8it [00:00, 30.66it/s]\n",
      "8it [00:00, 30.68it/s]\n"
     ]
    },
    {
     "name": "stdout",
     "output_type": "stream",
     "text": [
      "mode: meta_val, episode:  43, total_val_loss: 0.280095, \n",
      "val_mean_iou:{'persimmon': 0.638802664888403,\n",
      "'pingpong_racket': 0.5811015542767246,\n",
      "'pomegranate': 0.5794009024181991,\n",
      "'redheart': 0.12571841048893295,\n",
      "'snail': 0.5511739263684587}\n",
      "\n",
      "Episode: 43, Episode Time: 0.064 minutes\n"
     ]
    },
    {
     "name": "stderr",
     "output_type": "stream",
     "text": [
      "8it [00:00, 29.15it/s]\n",
      "8it [00:00, 29.85it/s]\n",
      "8it [00:00, 30.03it/s]\n",
      "8it [00:00, 29.81it/s]\n",
      "8it [00:00, 31.13it/s]\n"
     ]
    },
    {
     "name": "stdout",
     "output_type": "stream",
     "text": [
      "mode: meta_val, episode:  44, total_val_loss: 0.247812, \n",
      "val_mean_iou:{'ostrich': 0.6040835049839586,\n",
      "'prairie_chicken': 0.7161643736170715,\n",
      "'proboscis': 0.45609734603731505,\n",
      "'saluki': 0.4421877639293077,\n",
      "'scissors': 0.5846040848986822}\n",
      "\n",
      "Episode: 44, Episode Time: 0.064 minutes\n"
     ]
    },
    {
     "name": "stderr",
     "output_type": "stream",
     "text": [
      "8it [00:00, 27.97it/s]\n",
      "8it [00:00, 30.46it/s]\n",
      "8it [00:00, 27.64it/s]\n",
      "8it [00:00, 29.65it/s]\n",
      "18it [00:00, 37.25it/s]\n"
     ]
    },
    {
     "name": "stdout",
     "output_type": "stream",
     "text": [
      "mode: meta_val, episode:  45, total_val_loss: 0.366687, \n",
      "val_mean_iou:{'pool_table': 0.29387612925726236,\n",
      "'projector': 0.30901318319375704,\n",
      "'pubg_airdrop': 0.3804534889018037,\n",
      "'pumpkin': 0.7236157472483007,\n",
      "'rocking_chair': 0.5578499863247017}\n",
      "\n",
      "Episode: 45, Episode Time: 0.068 minutes\n"
     ]
    },
    {
     "name": "stderr",
     "output_type": "stream",
     "text": [
      "8it [00:00, 28.20it/s]\n",
      "8it [00:00, 30.78it/s]\n",
      "8it [00:00, 29.11it/s]\n",
      "8it [00:00, 30.42it/s]\n",
      "8it [00:00, 32.07it/s]\n"
     ]
    },
    {
     "name": "stdout",
     "output_type": "stream",
     "text": [
      "mode: meta_val, episode:  46, total_val_loss: 0.395189, \n",
      "val_mean_iou:{'plastic_bag': 0.20146636752390315,\n",
      "'polo_shirt': 0.3067335380348621,\n",
      "'screwdriver': 0.6090170228655659,\n",
      "'shakuhachi': 0.3638156538525169,\n",
      "'sombrero': 0.3900501649113872}\n",
      "\n",
      "Episode: 46, Episode Time: 0.064 minutes\n"
     ]
    },
    {
     "name": "stderr",
     "output_type": "stream",
     "text": [
      "8it [00:00, 27.75it/s]\n",
      "8it [00:00, 29.89it/s]\n",
      "8it [00:00, 30.60it/s]\n",
      "8it [00:00, 30.56it/s]\n",
      "8it [00:00, 30.79it/s]\n"
     ]
    },
    {
     "name": "stdout",
     "output_type": "stream",
     "text": [
      "mode: meta_val, episode:  47, total_val_loss: 0.283177, \n",
      "val_mean_iou:{'panther': 0.714824370564463,\n",
      "'perfume': 0.43821254432009493,\n",
      "'pubg_lvl3helmet': 0.37211744756625065,\n",
      "'rally_car': 0.5643846801632917,\n",
      "'red_bayberry': 0.6572728921541984}\n",
      "\n",
      "Episode: 47, Episode Time: 0.064 minutes\n"
     ]
    },
    {
     "name": "stderr",
     "output_type": "stream",
     "text": [
      "8it [00:00, 30.48it/s]\n",
      "8it [00:00, 29.30it/s]\n",
      "8it [00:00, 30.78it/s]\n",
      "8it [00:00, 31.39it/s]\n",
      "8it [00:00, 30.63it/s]\n"
     ]
    },
    {
     "name": "stdout",
     "output_type": "stream",
     "text": [
      "mode: meta_val, episode:  48, total_val_loss: 0.332969, \n",
      "val_mean_iou:{'partridge': 0.6313280718786134,\n",
      "'petri_dish': 0.41301496303807583,\n",
      "'plaice': 0.6433935566771637,\n",
      "'polo_shirt': 0.36663047232597806,\n",
      "'skull': 0.5689182768088767}\n",
      "\n",
      "Episode: 48, Episode Time: 0.064 minutes\n"
     ]
    },
    {
     "name": "stderr",
     "output_type": "stream",
     "text": [
      "8it [00:00, 29.61it/s]\n",
      "18it [00:00, 37.85it/s]\n",
      "8it [00:00, 30.00it/s]\n",
      "8it [00:00, 30.96it/s]\n",
      "8it [00:00, 29.40it/s]\n"
     ]
    },
    {
     "name": "stdout",
     "output_type": "stream",
     "text": [
      "mode: meta_val, episode:  49, total_val_loss: 0.315497, \n",
      "val_mean_iou:{'polecat': 0.6456262038897729,\n",
      "'polo_shirt': 0.3172279889242887,\n",
      "'pomelo': 0.4534288370833248,\n",
      "'quail': 0.6144137928948176,\n",
      "'sombrero': 0.3510620887538426}\n",
      "\n",
      "Episode: 49, Episode Time: 0.068 minutes\n"
     ]
    },
    {
     "name": "stderr",
     "output_type": "stream",
     "text": [
      "8it [00:00, 29.90it/s]\n",
      "8it [00:00, 32.55it/s]\n",
      "8it [00:00, 30.66it/s]\n",
      "8it [00:00, 30.11it/s]\n",
      "8it [00:00, 31.27it/s]\n"
     ]
    },
    {
     "name": "stdout",
     "output_type": "stream",
     "text": [
      "mode: meta_val, episode:  50, total_val_loss: 0.325157, \n",
      "val_mean_iou:{'petri_dish': 0.5270090033495768,\n",
      "'ruffed_grouse': 0.682701544289957,\n",
      "'sewing_machine': 0.3354865526915306,\n",
      "'skateboard': 0.23004455098651783,\n",
      "'snowmobile': 0.46441908041532043}\n",
      "\n",
      "Episode: 50, Episode Time: 0.064 minutes\n"
     ]
    },
    {
     "name": "stderr",
     "output_type": "stream",
     "text": [
      "8it [00:00, 27.20it/s]\n",
      "8it [00:00, 30.68it/s]\n",
      "8it [00:00, 30.65it/s]\n",
      "8it [00:00, 31.42it/s]\n",
      "8it [00:00, 31.66it/s]\n"
     ]
    },
    {
     "name": "stdout",
     "output_type": "stream",
     "text": [
      "mode: meta_val, episode:  51, total_val_loss: 0.282254, \n",
      "val_mean_iou:{'ostrich': 0.6096946341914186,\n",
      "'poached_egg': 0.1981597424720602,\n",
      "'pomelo': 0.5430653693742984,\n",
      "'red_wolf': 0.48588782155534915,\n",
      "'ski_mask': 0.38824151151379743}\n",
      "\n",
      "Episode: 51, Episode Time: 0.064 minutes\n"
     ]
    },
    {
     "name": "stderr",
     "output_type": "stream",
     "text": [
      "18it [00:00, 35.94it/s]\n",
      "8it [00:00, 29.38it/s]\n",
      "8it [00:00, 30.54it/s]\n",
      "18it [00:00, 36.63it/s]\n",
      "8it [00:00, 29.81it/s]\n"
     ]
    },
    {
     "name": "stdout",
     "output_type": "stream",
     "text": [
      "mode: meta_val, episode:  52, total_val_loss: 0.378072, \n",
      "val_mean_iou:{'parthenon': 0.5082042388240322,\n",
      "'poker': 0.43608597944125094,\n",
      "'polo_shirt': 0.3013284597014606,\n",
      "'red_breasted_merganser': 0.6309077954426742,\n",
      "'sandwich': 0.5008412181717143}\n",
      "\n",
      "Episode: 52, Episode Time: 0.072 minutes\n"
     ]
    },
    {
     "name": "stderr",
     "output_type": "stream",
     "text": [
      "8it [00:00, 29.40it/s]\n",
      "8it [00:00, 30.69it/s]\n",
      "8it [00:00, 29.99it/s]\n",
      "18it [00:00, 37.57it/s]\n",
      "8it [00:00, 29.60it/s]\n"
     ]
    },
    {
     "name": "stdout",
     "output_type": "stream",
     "text": [
      "mode: meta_val, episode:  53, total_val_loss: 0.302642, \n",
      "val_mean_iou:{'paper_towel': 0.05141025190317362,\n",
      "'parking_meter': 0.5869845949701381,\n",
      "'pig': 0.45860408362359895,\n",
      "'polar_bear': 0.5780035967368743,\n",
      "'sarong': 0.4262325337005494}\n",
      "\n",
      "Episode: 53, Episode Time: 0.068 minutes\n"
     ]
    },
    {
     "name": "stderr",
     "output_type": "stream",
     "text": [
      "8it [00:00, 29.50it/s]\n",
      "8it [00:00, 29.64it/s]\n",
      "8it [00:00, 30.73it/s]\n",
      "8it [00:00, 29.47it/s]\n",
      "8it [00:00, 29.27it/s]\n"
     ]
    },
    {
     "name": "stdout",
     "output_type": "stream",
     "text": [
      "mode: meta_val, episode:  54, total_val_loss: 0.503176, \n",
      "val_mean_iou:{'pizza': 0.5056540498757861,\n",
      "'pool_table': 0.3884900738894454,\n",
      "'pteropus': 0.7148811037378824,\n",
      "'rosehip': 0.3940429271802439,\n",
      "'shower_curtain': 0.22444781075552467}\n",
      "\n",
      "Episode: 54, Episode Time: 0.065 minutes\n"
     ]
    },
    {
     "name": "stderr",
     "output_type": "stream",
     "text": [
      "8it [00:00, 30.82it/s]\n",
      "8it [00:00, 29.87it/s]\n",
      "8it [00:00, 28.81it/s]\n",
      "8it [00:00, 27.73it/s]\n",
      "8it [00:00, 31.77it/s]\n"
     ]
    },
    {
     "name": "stdout",
     "output_type": "stream",
     "text": [
      "mode: meta_val, episode:  55, total_val_loss: 0.379046, \n",
      "val_mean_iou:{'pencil_box': 0.27511334310540947,\n",
      "'photocopier': 0.39587350085103834,\n",
      "'pteropus': 0.7262347938481837,\n",
      "'scabbard': 0.24940222976393475,\n",
      "'sniper_rifle': 0.5536299848490557}\n",
      "\n",
      "Episode: 55, Episode Time: 0.065 minutes\n"
     ]
    },
    {
     "name": "stderr",
     "output_type": "stream",
     "text": [
      "8it [00:00, 30.91it/s]\n",
      "8it [00:00, 30.27it/s]\n",
      "8it [00:00, 29.77it/s]\n",
      "8it [00:00, 30.13it/s]\n",
      "38it [00:00, 39.69it/s]\n"
     ]
    },
    {
     "name": "stdout",
     "output_type": "stream",
     "text": [
      "mode: meta_val, episode:  56, total_val_loss: 0.259899, \n",
      "val_mean_iou:{'peregine_falcon': 0.7286135506866208,\n",
      "'raft': 0.5702789472365559,\n",
      "'sandwich_cookies': 0.5000671689719021,\n",
      "'screwdriver': 0.6145252779668929,\n",
      "'shuriken': 0.43605054689411626}\n",
      "\n",
      "Episode: 56, Episode Time: 0.076 minutes\n"
     ]
    },
    {
     "name": "stderr",
     "output_type": "stream",
     "text": [
      "8it [00:00, 28.28it/s]\n",
      "8it [00:00, 29.52it/s]\n",
      "8it [00:00, 30.44it/s]\n",
      "8it [00:00, 30.71it/s]\n",
      "8it [00:00, 29.69it/s]\n"
     ]
    },
    {
     "name": "stdout",
     "output_type": "stream",
     "text": [
      "mode: meta_val, episode:  57, total_val_loss: 0.274335, \n",
      "val_mean_iou:{'pencil_sharpener1': 0.6332855941183522,\n",
      "'pidan': 0.7155498585303399,\n",
      "'porcupine': 0.6443947402809029,\n",
      "'proboscis': 0.5785272118251316,\n",
      "'sealion': 0.8188121013083848}\n",
      "\n",
      "Episode: 57, Episode Time: 0.065 minutes\n"
     ]
    },
    {
     "name": "stderr",
     "output_type": "stream",
     "text": [
      "8it [00:00, 28.31it/s]\n",
      "8it [00:00, 30.00it/s]\n",
      "8it [00:00, 29.55it/s]\n",
      "8it [00:00, 30.93it/s]\n",
      "8it [00:00, 31.42it/s]\n"
     ]
    },
    {
     "name": "stdout",
     "output_type": "stream",
     "text": [
      "mode: meta_val, episode:  58, total_val_loss: 0.243763, \n",
      "val_mean_iou:{'pubg_lvl3helmet': 0.34911514629336093,\n",
      "'radio_telescope': 0.41787032941943747,\n",
      "'scissors': 0.5230314478058329,\n",
      "'siamang': 0.7424547172497081,\n",
      "'skua': 0.6693568224012351}\n",
      "\n",
      "Episode: 58, Episode Time: 0.064 minutes\n"
     ]
    },
    {
     "name": "stderr",
     "output_type": "stream",
     "text": [
      "8it [00:00, 30.54it/s]\n",
      "8it [00:00, 30.79it/s]\n",
      "88it [00:02, 42.83it/s]\n",
      "18it [00:00, 36.88it/s]\n",
      "8it [00:00, 31.25it/s]\n"
     ]
    },
    {
     "name": "stdout",
     "output_type": "stream",
     "text": [
      "mode: meta_val, episode:  59, total_val_loss: 0.296640, \n",
      "val_mean_iou:{'pen': 0.4393012165073955,\n",
      "'pill_bottle': 0.3320661828844399,\n",
      "'quail': 0.6581975202906998,\n",
      "'ringlet_butterfly': 0.8526063860729237,\n",
      "'sleeping_bag': 0.30857189900290577}\n",
      "\n",
      "Episode: 59, Episode Time: 0.097 minutes\n"
     ]
    },
    {
     "name": "stderr",
     "output_type": "stream",
     "text": [
      "8it [00:00, 30.99it/s]\n",
      "8it [00:00, 31.02it/s]\n",
      "8it [00:00, 29.56it/s]\n",
      "8it [00:00, 30.01it/s]\n",
      "8it [00:00, 30.95it/s]\n"
     ]
    },
    {
     "name": "stdout",
     "output_type": "stream",
     "text": [
      "mode: meta_val, episode:  60, total_val_loss: 0.243119, \n",
      "val_mean_iou:{'pill_bottle': 0.2936321918784457,\n",
      "'potted_plant': 0.6854528225940724,\n",
      "'saltshaker': 0.35996091361321436,\n",
      "'samarra_mosque': 0.5145981344674233,\n",
      "'skull': 0.550986374251879}\n",
      "\n",
      "Episode: 60, Episode Time: 0.064 minutes\n"
     ]
    },
    {
     "name": "stderr",
     "output_type": "stream",
     "text": [
      "8it [00:00, 29.34it/s]\n",
      "8it [00:00, 30.48it/s]\n",
      "8it [00:00, 30.97it/s]\n",
      "8it [00:00, 31.22it/s]\n",
      "8it [00:00, 33.85it/s]\n"
     ]
    },
    {
     "name": "stdout",
     "output_type": "stream",
     "text": [
      "mode: meta_val, episode:  61, total_val_loss: 0.234853, \n",
      "val_mean_iou:{'peregine_falcon': 0.7180868378368617,\n",
      "'pickelhaube': 0.6643355798019352,\n",
      "'saxophone': 0.49126282710504626,\n",
      "'scissors': 0.6092387154778425,\n",
      "'shakuhachi': 0.4788164456156394}\n",
      "\n",
      "Episode: 61, Episode Time: 0.064 minutes\n"
     ]
    },
    {
     "name": "stderr",
     "output_type": "stream",
     "text": [
      "8it [00:00, 30.20it/s]\n",
      "8it [00:00, 31.19it/s]\n",
      "8it [00:00, 30.32it/s]\n",
      "18it [00:00, 37.51it/s]\n",
      "18it [00:00, 36.07it/s]\n"
     ]
    },
    {
     "name": "stdout",
     "output_type": "stream",
     "text": [
      "mode: meta_val, episode:  62, total_val_loss: 0.295302, \n",
      "val_mean_iou:{'pig': 0.446962044823542,\n",
      "'pomegranate': 0.6479252766814376,\n",
      "'rock_beauty': 0.6983798688424495,\n",
      "'sandbar': 0.1485163088870317,\n",
      "'soap': 0.2935913860495519}\n",
      "\n",
      "Episode: 62, Episode Time: 0.071 minutes\n"
     ]
    },
    {
     "name": "stderr",
     "output_type": "stream",
     "text": [
      "8it [00:00, 29.68it/s]\n",
      "8it [00:00, 29.88it/s]\n",
      "8it [00:00, 31.39it/s]\n",
      "8it [00:00, 31.52it/s]\n",
      "8it [00:00, 32.17it/s]\n"
     ]
    },
    {
     "name": "stdout",
     "output_type": "stream",
     "text": [
      "mode: meta_val, episode:  63, total_val_loss: 0.362417, \n",
      "val_mean_iou:{'panpipe': 0.5679838957365353,\n",
      "'pillow': 0.10214741891232533,\n",
      "'quad_drone': 0.3916776548852242,\n",
      "'snail': 0.4835887537906886,\n",
      "'snowball': 0.1573370704129115}\n",
      "\n",
      "Episode: 63, Episode Time: 0.063 minutes\n"
     ]
    },
    {
     "name": "stderr",
     "output_type": "stream",
     "text": [
      "8it [00:00, 31.62it/s]\n",
      "8it [00:00, 29.56it/s]\n",
      "8it [00:00, 29.15it/s]\n",
      "8it [00:00, 31.65it/s]\n",
      "8it [00:00, 31.23it/s]\n"
     ]
    },
    {
     "name": "stdout",
     "output_type": "stream",
     "text": [
      "mode: meta_val, episode:  64, total_val_loss: 0.372411, \n",
      "val_mean_iou:{'paper_plane': 0.11413538284389062,\n",
      "'paper_towel': 0.03777763868528577,\n",
      "'rain_barrel': 0.49051166266204843,\n",
      "'saltshaker': 0.3602159142612381,\n",
      "'seatbelt': 0.07385674444947378}\n",
      "\n",
      "Episode: 64, Episode Time: 0.064 minutes\n"
     ]
    },
    {
     "name": "stderr",
     "output_type": "stream",
     "text": [
      "8it [00:00, 30.71it/s]\n",
      "8it [00:00, 29.55it/s]\n",
      "8it [00:00, 32.08it/s]\n",
      "8it [00:00, 31.29it/s]\n",
      "8it [00:00, 30.56it/s]\n"
     ]
    },
    {
     "name": "stdout",
     "output_type": "stream",
     "text": [
      "mode: meta_val, episode:  65, total_val_loss: 0.284898, \n",
      "val_mean_iou:{'panpipe': 0.6045013591144217,\n",
      "'pingpong_racket': 0.6784019058657149,\n",
      "'printer': 0.45422225242704917,\n",
      "'rosehip': 0.42753426564738994,\n",
      "'samarra_mosque': 0.5564364518595597}\n",
      "\n",
      "Episode: 65, Episode Time: 0.063 minutes\n"
     ]
    },
    {
     "name": "stderr",
     "output_type": "stream",
     "text": [
      "8it [00:00, 29.88it/s]\n",
      "18it [00:00, 37.28it/s]\n",
      "28it [00:00, 39.64it/s]\n",
      "8it [00:00, 29.64it/s]\n",
      "8it [00:00, 30.80it/s]\n"
     ]
    },
    {
     "name": "stdout",
     "output_type": "stream",
     "text": [
      "mode: meta_val, episode:  66, total_val_loss: 0.273615, \n",
      "val_mean_iou:{'panda': 0.583827812717237,\n",
      "'persian_cat': 0.22226401968469625,\n",
      "'pickup': 0.704575788617035,\n",
      "'polecat': 0.6482613313290437,\n",
      "'razor': 0.4606267115502711}\n",
      "\n",
      "Episode: 66, Episode Time: 0.075 minutes\n"
     ]
    },
    {
     "name": "stderr",
     "output_type": "stream",
     "text": [
      "8it [00:00, 29.83it/s]\n",
      "8it [00:00, 30.64it/s]\n",
      "8it [00:00, 30.94it/s]\n",
      "8it [00:00, 28.69it/s]\n",
      "8it [00:00, 30.20it/s]\n"
     ]
    },
    {
     "name": "stdout",
     "output_type": "stream",
     "text": [
      "mode: meta_val, episode:  67, total_val_loss: 0.352956, \n",
      "val_mean_iou:{'poached_egg': 0.22939784513627803,\n",
      "'pool_table': 0.3759813393405097,\n",
      "'rubick_cube': 0.7392186455385925,\n",
      "'shower_cap': 0.3043484387428941,\n",
      "'snowball': 0.17230780672800453}\n",
      "\n",
      "Episode: 67, Episode Time: 0.064 minutes\n"
     ]
    },
    {
     "name": "stderr",
     "output_type": "stream",
     "text": [
      "8it [00:00, 28.32it/s]\n",
      "8it [00:00, 31.15it/s]\n",
      "8it [00:00, 29.63it/s]\n",
      "8it [00:00, 30.00it/s]\n",
      "8it [00:00, 30.90it/s]\n"
     ]
    },
    {
     "name": "stdout",
     "output_type": "stream",
     "text": [
      "mode: meta_val, episode:  68, total_val_loss: 0.327414, \n",
      "val_mean_iou:{'paint_brush': 0.6762810602440794,\n",
      "'patas': 0.45990723377840886,\n",
      "'porcupine': 0.656467140207326,\n",
      "'roller_coaster': 0.4895036788303216,\n",
      "'solar_dish': 0.35484530437249606}\n",
      "\n",
      "Episode: 68, Episode Time: 0.064 minutes\n"
     ]
    },
    {
     "name": "stderr",
     "output_type": "stream",
     "text": [
      "8it [00:00, 28.76it/s]\n",
      "8it [00:00, 30.16it/s]\n",
      "8it [00:00, 31.49it/s]\n",
      "8it [00:00, 30.17it/s]\n",
      "8it [00:00, 32.76it/s]\n"
     ]
    },
    {
     "name": "stdout",
     "output_type": "stream",
     "text": [
      "mode: meta_val, episode:  69, total_val_loss: 0.290691, \n",
      "val_mean_iou:{'peanut': 0.5030322386581757,\n",
      "'pidan': 0.6787561314331436,\n",
      "'reel': 0.7196608785110024,\n",
      "'rhinoceros': 0.7367336646924265,\n",
      "'saltshaker': 0.3999372486046754}\n",
      "\n",
      "Episode: 69, Episode Time: 0.064 minutes\n"
     ]
    },
    {
     "name": "stderr",
     "output_type": "stream",
     "text": [
      "8it [00:00, 30.37it/s]\n",
      "8it [00:00, 29.82it/s]\n",
      "8it [00:00, 31.67it/s]\n",
      "8it [00:00, 29.74it/s]\n",
      "8it [00:00, 30.62it/s]\n"
     ]
    },
    {
     "name": "stdout",
     "output_type": "stream",
     "text": [
      "mode: meta_val, episode:  70, total_val_loss: 0.241986, \n",
      "val_mean_iou:{'red_fox': 0.7381874763813071,\n",
      "'ringlet_butterfly': 0.831079656420272,\n",
      "'shovel': 0.5197498140953971,\n",
      "'sidewinder': 0.6236589788515758,\n",
      "'snowmobile': 0.47984357726424215}\n",
      "\n",
      "Episode: 70, Episode Time: 0.064 minutes\n"
     ]
    },
    {
     "name": "stderr",
     "output_type": "stream",
     "text": [
      "8it [00:00, 29.64it/s]\n",
      "8it [00:00, 30.61it/s]\n",
      "8it [00:00, 29.76it/s]\n",
      "8it [00:00, 31.23it/s]\n",
      "8it [00:00, 31.15it/s]\n"
     ]
    },
    {
     "name": "stdout",
     "output_type": "stream",
     "text": [
      "mode: meta_val, episode:  71, total_val_loss: 0.259709, \n",
      "val_mean_iou:{'pencil_sharpener1': 0.6904038643727667,\n",
      "'poached_egg': 0.22869237723211866,\n",
      "'puma_logo': 0.08677251255082619,\n",
      "'radio_telescope': 0.5100869987315603,\n",
      "'rock_beauty': 0.680517459203716}\n",
      "\n",
      "Episode: 71, Episode Time: 0.064 minutes\n"
     ]
    },
    {
     "name": "stderr",
     "output_type": "stream",
     "text": [
      "8it [00:00, 31.16it/s]\n",
      "8it [00:00, 31.88it/s]\n",
      "8it [00:00, 31.26it/s]\n",
      "8it [00:00, 31.48it/s]\n",
      "28it [00:00, 37.48it/s]\n"
     ]
    },
    {
     "name": "stdout",
     "output_type": "stream",
     "text": [
      "mode: meta_val, episode:  72, total_val_loss: 0.290224, \n",
      "val_mean_iou:{'phonograph': 0.6980969418555146,\n",
      "'police_car': 0.4890848847030942,\n",
      "'pomelo': 0.6021778727584681,\n",
      "'pyramid': 0.49795350957779466,\n",
      "'redheart': 0.16302160012199984}\n",
      "\n",
      "Episode: 72, Episode Time: 0.072 minutes\n"
     ]
    },
    {
     "name": "stderr",
     "output_type": "stream",
     "text": [
      "8it [00:00, 29.71it/s]\n",
      "8it [00:00, 31.47it/s]\n",
      "28it [00:00, 39.31it/s]\n",
      "8it [00:00, 31.19it/s]\n",
      "8it [00:00, 31.23it/s]\n"
     ]
    },
    {
     "name": "stdout",
     "output_type": "stream",
     "text": [
      "mode: meta_val, episode:  73, total_val_loss: 0.333345, \n",
      "val_mean_iou:{'owl': 0.5031823352334223,\n",
      "'peacock': 0.6028621274437655,\n",
      "'police_car': 0.469941833193196,\n",
      "'pteropus': 0.6875121753225182,\n",
      "'radio_telescope': 0.4782236047384759}\n",
      "\n",
      "Episode: 73, Episode Time: 0.071 minutes\n"
     ]
    },
    {
     "name": "stderr",
     "output_type": "stream",
     "text": [
      "18it [00:00, 37.99it/s]\n",
      "8it [00:00, 31.49it/s]\n",
      "8it [00:00, 29.20it/s]\n",
      "8it [00:00, 29.42it/s]\n",
      "8it [00:00, 30.11it/s]\n"
     ]
    },
    {
     "name": "stdout",
     "output_type": "stream",
     "text": [
      "mode: meta_val, episode:  74, total_val_loss: 0.311212, \n",
      "val_mean_iou:{'photocopier': 0.44398633358680284,\n",
      "'pumpkin_pie': 0.7790698531836453,\n",
      "'redshank': 0.454010187858593,\n",
      "'screw': 0.5563133833580681,\n",
      "'soccer_ball': 0.2916538232709859}\n",
      "\n",
      "Episode: 74, Episode Time: 0.067 minutes\n"
     ]
    },
    {
     "name": "stderr",
     "output_type": "stream",
     "text": [
      "8it [00:00, 28.57it/s]\n",
      "8it [00:00, 31.84it/s]\n",
      "8it [00:00, 30.24it/s]\n",
      "8it [00:00, 29.08it/s]\n",
      "8it [00:00, 29.72it/s]\n"
     ]
    },
    {
     "name": "stdout",
     "output_type": "stream",
     "text": [
      "mode: meta_val, episode:  75, total_val_loss: 0.317468, \n",
      "val_mean_iou:{'pencil_box': 0.29673155223143294,\n",
      "'pufferfish': 0.5223835390063083,\n",
      "'radio_telescope': 0.5067890891972986,\n",
      "'rice_cooker': 0.38978385397512405,\n",
      "'ruler': 0.33061408369851575}\n",
      "\n",
      "Episode: 75, Episode Time: 0.064 minutes\n"
     ]
    },
    {
     "name": "stderr",
     "output_type": "stream",
     "text": [
      "8it [00:00, 31.46it/s]\n",
      "8it [00:00, 28.91it/s]\n",
      "8it [00:00, 30.03it/s]\n",
      "8it [00:00, 28.86it/s]\n",
      "8it [00:00, 31.04it/s]\n"
     ]
    },
    {
     "name": "stdout",
     "output_type": "stream",
     "text": [
      "mode: meta_val, episode:  76, total_val_loss: 0.364988, \n",
      "val_mean_iou:{'panpipe': 0.599093403426125,\n",
      "'pspgo': 0.41820705339256187,\n",
      "'pubg_lvl3backpack': 0.41403592584671894,\n",
      "'pyramid_cube': 0.5110124042126976,\n",
      "'radiator': 0.15303184389555863}\n",
      "\n",
      "Episode: 76, Episode Time: 0.064 minutes\n"
     ]
    },
    {
     "name": "stderr",
     "output_type": "stream",
     "text": [
      "8it [00:00, 29.96it/s]\n",
      "8it [00:00, 30.04it/s]\n",
      "8it [00:00, 30.09it/s]\n",
      "8it [00:00, 33.24it/s]\n",
      "8it [00:00, 28.90it/s]\n"
     ]
    },
    {
     "name": "stdout",
     "output_type": "stream",
     "text": [
      "mode: meta_val, episode:  77, total_val_loss: 0.232054, \n",
      "val_mean_iou:{'platypus': 0.6845442173512603,\n",
      "'pokermon_ball': 0.700462849956756,\n",
      "'red_wolf': 0.6017740504700618,\n",
      "'sealion': 0.7573379919137796,\n",
      "'skua': 0.760536307354226}\n",
      "\n",
      "Episode: 77, Episode Time: 0.064 minutes\n"
     ]
    },
    {
     "name": "stderr",
     "output_type": "stream",
     "text": [
      "8it [00:00, 27.95it/s]\n",
      "8it [00:00, 32.27it/s]\n",
      "8it [00:00, 32.26it/s]\n",
      "8it [00:00, 29.62it/s]\n",
      "18it [00:00, 36.35it/s]\n"
     ]
    },
    {
     "name": "stdout",
     "output_type": "stream",
     "text": [
      "mode: meta_val, episode:  78, total_val_loss: 0.251706, \n",
      "val_mean_iou:{'phonograph': 0.7242799302392211,\n",
      "'polecat': 0.6176899313006735,\n",
      "'rose': 0.6276338358862639,\n",
      "'seatbelt': 0.063144377116098,\n",
      "'ski_mask': 0.4399820679843434}\n",
      "\n",
      "Episode: 78, Episode Time: 0.068 minutes\n"
     ]
    },
    {
     "name": "stderr",
     "output_type": "stream",
     "text": [
      "8it [00:00, 28.65it/s]\n",
      "8it [00:00, 28.52it/s]\n",
      "8it [00:00, 29.72it/s]\n",
      "8it [00:00, 30.76it/s]\n",
      "8it [00:00, 30.99it/s]\n"
     ]
    },
    {
     "name": "stdout",
     "output_type": "stream",
     "text": [
      "mode: meta_val, episode:  79, total_val_loss: 0.390206, \n",
      "val_mean_iou:{'pencil_sharpener2': 0.47746013047989966,\n",
      "'petri_dish': 0.5629159167196007,\n",
      "'rock_beauty': 0.7770148698239141,\n",
      "'single_log': 0.08535915627249087,\n",
      "'smoothing_iron': 0.27962799505880176}\n",
      "\n",
      "Episode: 79, Episode Time: 0.064 minutes\n"
     ]
    },
    {
     "name": "stderr",
     "output_type": "stream",
     "text": [
      "8it [00:00, 29.15it/s]\n",
      "8it [00:00, 30.49it/s]\n",
      "8it [00:00, 30.77it/s]\n",
      "8it [00:00, 25.56it/s]\n",
      "18it [00:00, 39.65it/s]\n"
     ]
    },
    {
     "name": "stdout",
     "output_type": "stream",
     "text": [
      "mode: meta_val, episode:  80, total_val_loss: 0.338933, \n",
      "val_mean_iou:{'puma_logo': 0.10238030976189065,\n",
      "'reel': 0.638082081604729,\n",
      "'rock_snake': 0.5519407384332592,\n",
      "'ski_mask': 0.5187817276428256,\n",
      "'sled': 0.5678236731424802}\n",
      "\n",
      "Episode: 80, Episode Time: 0.068 minutes\n"
     ]
    },
    {
     "name": "stderr",
     "output_type": "stream",
     "text": [
      "8it [00:00, 28.39it/s]\n",
      "8it [00:00, 27.37it/s]\n",
      "8it [00:00, 30.96it/s]\n",
      "8it [00:00, 30.68it/s]\n",
      "8it [00:00, 30.37it/s]\n"
     ]
    },
    {
     "name": "stdout",
     "output_type": "stream",
     "text": [
      "mode: meta_val, episode:  81, total_val_loss: 0.358514, \n",
      "val_mean_iou:{'park_bench': 0.46120732771890244,\n",
      "'pepitas': 0.6467474678978548,\n",
      "'pheasant': 0.6851543943352687,\n",
      "'shih-tzu': 0.5097697997742145,\n",
      "'sleeping_bag': 0.39793718892063346}\n",
      "\n",
      "Episode: 81, Episode Time: 0.064 minutes\n"
     ]
    },
    {
     "name": "stderr",
     "output_type": "stream",
     "text": [
      "8it [00:00, 31.21it/s]\n",
      "8it [00:00, 28.17it/s]\n",
      "28it [00:00, 40.12it/s]\n",
      "8it [00:00, 29.53it/s]\n",
      "8it [00:00, 29.08it/s]\n"
     ]
    },
    {
     "name": "stdout",
     "output_type": "stream",
     "text": [
      "mode: meta_val, episode:  82, total_val_loss: 0.435319, \n",
      "val_mean_iou:{'panda': 0.5682846654738231,\n",
      "'parthenon': 0.5610219832235995,\n",
      "'pidan': 0.6670481698417176,\n",
      "'saxophone': 0.49326434509894723,\n",
      "'shumai': 0.47967342562691784}\n",
      "\n",
      "Episode: 82, Episode Time: 0.072 minutes\n"
     ]
    },
    {
     "name": "stderr",
     "output_type": "stream",
     "text": [
      "8it [00:00, 29.60it/s]\n",
      "8it [00:00, 31.03it/s]\n",
      "8it [00:00, 31.41it/s]\n",
      "8it [00:00, 30.08it/s]\n",
      "18it [00:00, 37.37it/s]\n"
     ]
    },
    {
     "name": "stdout",
     "output_type": "stream",
     "text": [
      "mode: meta_val, episode:  83, total_val_loss: 0.285016, \n",
      "val_mean_iou:{'pig': 0.5634784003403204,\n",
      "'pokermon_ball': 0.6998111648788788,\n",
      "'printer': 0.5349130932943393,\n",
      "'quad_drone': 0.47642131475022487,\n",
      "'radiator': 0.20921908906483191}\n",
      "\n",
      "Episode: 83, Episode Time: 0.067 minutes\n"
     ]
    },
    {
     "name": "stderr",
     "output_type": "stream",
     "text": [
      "8it [00:00, 28.86it/s]\n",
      "8it [00:00, 29.34it/s]\n",
      "8it [00:00, 31.27it/s]\n",
      "8it [00:00, 31.62it/s]\n",
      "8it [00:00, 30.54it/s]\n"
     ]
    },
    {
     "name": "stdout",
     "output_type": "stream",
     "text": [
      "mode: meta_val, episode:  84, total_val_loss: 0.384425, \n",
      "val_mean_iou:{'prayer_rug': 0.5685051530723391,\n",
      "'pufferfish': 0.5927403128476556,\n",
      "'puma_logo': 0.10283291202708997,\n",
      "'rubick_cube': 0.7715076027945479,\n",
      "'shopping_cart': 0.5397314643265883}\n",
      "\n",
      "Episode: 84, Episode Time: 0.064 minutes\n"
     ]
    },
    {
     "name": "stderr",
     "output_type": "stream",
     "text": [
      "8it [00:00, 29.75it/s]\n",
      "8it [00:00, 29.51it/s]\n",
      "8it [00:00, 29.19it/s]\n",
      "8it [00:00, 30.04it/s]\n",
      "8it [00:00, 30.98it/s]\n"
     ]
    },
    {
     "name": "stdout",
     "output_type": "stream",
     "text": [
      "mode: meta_val, episode:  85, total_val_loss: 0.397720, \n",
      "val_mean_iou:{'otter': 0.7775908609860336,\n",
      "'pspgo': 0.33653044137763377,\n",
      "'pubg_lvl3helmet': 0.43698717439110313,\n",
      "'roller_skate': 0.600955784503278,\n",
      "'rugby_ball': 0.47424227359191307}\n",
      "\n",
      "Episode: 85, Episode Time: 0.064 minutes\n"
     ]
    },
    {
     "name": "stderr",
     "output_type": "stream",
     "text": [
      "28it [00:00, 38.53it/s]\n",
      "8it [00:00, 30.47it/s]\n",
      "8it [00:00, 28.27it/s]\n",
      "8it [00:00, 28.18it/s]\n",
      "8it [00:00, 31.20it/s]\n"
     ]
    },
    {
     "name": "stdout",
     "output_type": "stream",
     "text": [
      "mode: meta_val, episode:  86, total_val_loss: 0.358646, \n",
      "val_mean_iou:{'panda': 0.609743857311236,\n",
      "'pencil_sharpener2': 0.5358972015231143,\n",
      "'rice_cooker': 0.38118248782621345,\n",
      "'ruler': 0.4080059019678186,\n",
      "'sandwich_cookies': 0.6574900048772012}\n",
      "\n",
      "Episode: 86, Episode Time: 0.072 minutes\n"
     ]
    },
    {
     "name": "stderr",
     "output_type": "stream",
     "text": [
      "8it [00:00, 29.18it/s]\n",
      "8it [00:00, 26.80it/s]\n",
      "8it [00:00, 30.94it/s]\n",
      "8it [00:00, 30.43it/s]\n",
      "8it [00:00, 31.22it/s]\n"
     ]
    },
    {
     "name": "stdout",
     "output_type": "stream",
     "text": [
      "mode: meta_val, episode:  87, total_val_loss: 0.283720, \n",
      "val_mean_iou:{'paint_brush': 0.7202707406732507,\n",
      "'persian_cat': 0.3846366290366581,\n",
      "'poached_egg': 0.3531276250652058,\n",
      "'police_car': 0.5347193357173329,\n",
      "'remote_control': 0.6460781435155832}\n",
      "\n",
      "Episode: 87, Episode Time: 0.065 minutes\n"
     ]
    },
    {
     "name": "stderr",
     "output_type": "stream",
     "text": [
      "8it [00:00, 29.94it/s]\n",
      "8it [00:00, 30.25it/s]\n",
      "8it [00:00, 30.68it/s]\n",
      "8it [00:00, 31.04it/s]\n",
      "8it [00:00, 32.04it/s]\n"
     ]
    },
    {
     "name": "stdout",
     "output_type": "stream",
     "text": [
      "mode: meta_val, episode:  88, total_val_loss: 0.282230, \n",
      "val_mean_iou:{'pingpong_racket': 0.6753920775729494,\n",
      "'proboscis': 0.7124805500982987,\n",
      "'red_wolf': 0.6945561929351833,\n",
      "'sandbar': 0.1724757858119708,\n",
      "'seagull': 0.5473801193560446}\n",
      "\n",
      "Episode: 88, Episode Time: 0.064 minutes\n"
     ]
    },
    {
     "name": "stderr",
     "output_type": "stream",
     "text": [
      "8it [00:00, 30.76it/s]\n",
      "8it [00:00, 29.33it/s]\n",
      "8it [00:00, 31.88it/s]\n",
      "8it [00:00, 30.21it/s]\n",
      "18it [00:00, 35.91it/s]\n"
     ]
    },
    {
     "name": "stdout",
     "output_type": "stream",
     "text": [
      "mode: meta_val, episode:  89, total_val_loss: 0.284728, \n",
      "val_mean_iou:{'pig': 0.6353109987188051,\n",
      "'pingpong_racket': 0.6402983175394992,\n",
      "'poached_egg': 0.36980254181294614,\n",
      "'pteropus': 0.701951086874899,\n",
      "'schooner': 0.5243172393905617}\n",
      "\n",
      "Episode: 89, Episode Time: 0.067 minutes\n"
     ]
    },
    {
     "name": "stderr",
     "output_type": "stream",
     "text": [
      "8it [00:00, 28.59it/s]\n",
      "18it [00:00, 35.73it/s]\n",
      "8it [00:00, 31.20it/s]\n",
      "8it [00:00, 29.12it/s]\n",
      "8it [00:00, 30.37it/s]\n"
     ]
    },
    {
     "name": "stdout",
     "output_type": "stream",
     "text": [
      "mode: meta_val, episode:  90, total_val_loss: 0.286696, \n",
      "val_mean_iou:{'pistachio': 0.6164350013573894,\n",
      "'pomegranate': 0.7211500257964949,\n",
      "'potato_chips': 0.6544335799698505,\n",
      "'rose': 0.5929580310327138,\n",
      "'sniper_rifle': 0.46632795316008624}\n",
      "\n",
      "Episode: 90, Episode Time: 0.068 minutes\n"
     ]
    },
    {
     "name": "stderr",
     "output_type": "stream",
     "text": [
      "8it [00:00, 31.04it/s]\n",
      "8it [00:00, 30.70it/s]\n",
      "8it [00:00, 27.66it/s]\n",
      "8it [00:00, 30.96it/s]\n",
      "8it [00:00, 31.45it/s]\n"
     ]
    },
    {
     "name": "stdout",
     "output_type": "stream",
     "text": [
      "mode: meta_val, episode:  91, total_val_loss: 0.300544, \n",
      "val_mean_iou:{'peregine_falcon': 0.6739939773943182,\n",
      "'pickelhaube': 0.7643020960896661,\n",
      "'pidan': 0.7273441969107313,\n",
      "'saltshaker': 0.49973919455540866,\n",
      "'shovel': 0.3799784920661508}\n",
      "\n",
      "Episode: 91, Episode Time: 0.064 minutes\n"
     ]
    },
    {
     "name": "stderr",
     "output_type": "stream",
     "text": [
      "8it [00:00, 30.28it/s]\n",
      "8it [00:00, 28.80it/s]\n",
      "8it [00:00, 29.12it/s]\n",
      "8it [00:00, 31.55it/s]\n",
      "8it [00:00, 30.92it/s]\n"
     ]
    },
    {
     "name": "stdout",
     "output_type": "stream",
     "text": [
      "mode: meta_val, episode:  92, total_val_loss: 0.389298, \n",
      "val_mean_iou:{'parallel_bars': 0.1682825740443209,\n",
      "'pizza': 0.7214769536843662,\n",
      "'pomegranate': 0.7321563071577555,\n",
      "'prayer_rug': 0.6836466564124146,\n",
      "'printer': 0.5269306521449479}\n",
      "\n",
      "Episode: 92, Episode Time: 0.064 minutes\n"
     ]
    },
    {
     "name": "stderr",
     "output_type": "stream",
     "text": [
      "18it [00:00, 37.19it/s]\n",
      "8it [00:00, 32.90it/s]\n",
      "8it [00:00, 30.04it/s]\n",
      "8it [00:00, 30.62it/s]\n",
      "8it [00:00, 31.43it/s]\n"
     ]
    },
    {
     "name": "stdout",
     "output_type": "stream",
     "text": [
      "mode: meta_val, episode:  93, total_val_loss: 0.315746, \n",
      "val_mean_iou:{'peacock': 0.6074574267883597,\n",
      "'polo_shirt': 0.3768967257771436,\n",
      "'pomelo': 0.6809212020429944,\n",
      "'proboscis': 0.7022272111139741,\n",
      "'screw': 0.5727423399925864}\n",
      "\n",
      "Episode: 93, Episode Time: 0.067 minutes\n"
     ]
    },
    {
     "name": "stderr",
     "output_type": "stream",
     "text": [
      "8it [00:00, 29.38it/s]\n",
      "8it [00:00, 30.48it/s]\n",
      "8it [00:00, 31.66it/s]\n",
      "8it [00:00, 29.85it/s]\n",
      "8it [00:00, 30.52it/s]\n"
     ]
    },
    {
     "name": "stdout",
     "output_type": "stream",
     "text": [
      "mode: meta_val, episode:  94, total_val_loss: 0.358105, \n",
      "val_mean_iou:{'pool_table': 0.4923487143792071,\n",
      "'pubg_airdrop': 0.5965087643749971,\n",
      "'radiator': 0.3549330958383643,\n",
      "'samarra_mosque': 0.6892990784266956,\n",
      "'skull': 0.7776430975292983}\n",
      "\n",
      "Episode: 94, Episode Time: 0.064 minutes\n"
     ]
    },
    {
     "name": "stderr",
     "output_type": "stream",
     "text": [
      "8it [00:00, 29.94it/s]\n",
      "18it [00:00, 35.15it/s]\n",
      "8it [00:00, 30.59it/s]\n",
      "8it [00:00, 31.25it/s]\n",
      "8it [00:00, 31.57it/s]\n"
     ]
    },
    {
     "name": "stdout",
     "output_type": "stream",
     "text": [
      "mode: meta_val, episode:  95, total_val_loss: 0.472756, \n",
      "val_mean_iou:{'paddle': 0.5438647894220469,\n",
      "'parthenon': 0.6033247004906177,\n",
      "'perfume': 0.5637188399150616,\n",
      "'psp': 0.5561102254485716,\n",
      "'skateboard': 0.23059604015634894}\n",
      "\n",
      "Episode: 95, Episode Time: 0.068 minutes\n"
     ]
    },
    {
     "name": "stderr",
     "output_type": "stream",
     "text": [
      "8it [00:00, 28.96it/s]\n",
      "8it [00:00, 29.61it/s]\n",
      "8it [00:00, 29.69it/s]\n",
      "8it [00:00, 30.67it/s]\n",
      "8it [00:00, 31.52it/s]\n"
     ]
    },
    {
     "name": "stdout",
     "output_type": "stream",
     "text": [
      "mode: meta_val, episode:  96, total_val_loss: 0.252984, \n",
      "val_mean_iou:{'ostrich': 0.6363126848972105,\n",
      "'pumpkin_pie': 0.7821414054406095,\n",
      "'radiator': 0.36982157775269336,\n",
      "'rally_car': 0.6950689340337548,\n",
      "'sarong': 0.4325292451007242}\n",
      "\n",
      "Episode: 96, Episode Time: 0.064 minutes\n"
     ]
    },
    {
     "name": "stderr",
     "output_type": "stream",
     "text": [
      "8it [00:00, 30.54it/s]\n",
      "8it [00:00, 30.98it/s]\n",
      "8it [00:00, 31.19it/s]\n",
      "58it [00:01, 41.61it/s]\n",
      "8it [00:00, 30.93it/s]\n"
     ]
    },
    {
     "name": "stdout",
     "output_type": "stream",
     "text": [
      "mode: meta_val, episode:  97, total_val_loss: 0.300365, \n",
      "val_mean_iou:{'patas': 0.6649016083616741,\n",
      "'pizza': 0.7532332291065755,\n",
      "'schooner': 0.6172149781368471,\n",
      "'scissors': 0.5739312057746715,\n",
      "'snake': 0.5795930073822155}\n",
      "\n",
      "Episode: 97, Episode Time: 0.082 minutes\n"
     ]
    },
    {
     "name": "stderr",
     "output_type": "stream",
     "text": [
      "8it [00:00, 29.56it/s]\n",
      "8it [00:00, 26.72it/s]\n",
      "8it [00:00, 33.65it/s]\n",
      "8it [00:00, 30.81it/s]\n",
      "28it [00:00, 40.25it/s]\n"
     ]
    },
    {
     "name": "stdout",
     "output_type": "stream",
     "text": [
      "mode: meta_val, episode:  98, total_val_loss: 0.250799, \n",
      "val_mean_iou:{'owl': 0.6465312125234732,\n",
      "'radio_telescope': 0.6796342638486828,\n",
      "'recreational_vehicle': 0.6801038955252658,\n",
      "'rhinoceros': 0.809684391846832,\n",
      "'snowman': 0.5440168130720265}\n",
      "\n",
      "Episode: 98, Episode Time: 0.071 minutes\n"
     ]
    },
    {
     "name": "stderr",
     "output_type": "stream",
     "text": [
      "8it [00:00, 30.16it/s]\n",
      "8it [00:00, 31.27it/s]\n",
      "8it [00:00, 30.77it/s]\n",
      "8it [00:00, 31.23it/s]\n",
      "8it [00:00, 31.32it/s]\n"
     ]
    },
    {
     "name": "stdout",
     "output_type": "stream",
     "text": [
      "mode: meta_val, episode:  99, total_val_loss: 0.239187, \n",
      "val_mean_iou:{'polecat': 0.7515829730751511,\n",
      "'quill_pen': 0.3970904035777112,\n",
      "'rocket': 0.24222117412192737,\n",
      "'sarong': 0.4856702993135344,\n",
      "'sea_urchin': 0.642954424873758}\n",
      "\n",
      "Episode: 99, Episode Time: 0.063 minutes\n"
     ]
    },
    {
     "name": "stderr",
     "output_type": "stream",
     "text": [
      "8it [00:00, 29.13it/s]\n",
      "8it [00:00, 30.15it/s]\n",
      "8it [00:00, 31.29it/s]\n",
      "8it [00:00, 30.26it/s]\n",
      "8it [00:00, 30.67it/s]\n"
     ]
    },
    {
     "name": "stdout",
     "output_type": "stream",
     "text": [
      "mode: meta_val, episode:  100, total_val_loss: 0.507717, \n",
      "val_mean_iou:{'oyster': 0.5858012173944229,\n",
      "'pencil_box': 0.6328470687310438,\n",
      "'piano_keyboard': 0.3168083915682698,\n",
      "'pteropus': 0.7334157971223455,\n",
      "'redshank': 0.4864595581821657}\n",
      "\n",
      "Episode: 100, Episode Time: 0.063 minutes\n",
      "num tasks: 5\n",
      "tr_imgs shape: torch.Size([5, 2, 224, 224, 3]), tr_masks shape: torch.Size([5, 2, 224, 224]) val_imgs shape: torch.Size([5, 5, 224, 224, 3]), val_masks shape: torch.Size([5, 5, 224, 224])\n"
     ]
    },
    {
     "name": "stderr",
     "output_type": "stream",
     "text": [
      "\r",
      "0it [00:00, ?it/s]"
     ]
    },
    {
     "name": "stdout",
     "output_type": "stream",
     "text": [
      "num tasks: 5\n",
      "tr_imgs shape: torch.Size([5, 2, 224, 224, 3]), tr_masks shape: torch.Size([5, 2, 224, 224]) val_imgs shape: 5 list of paths, val_masks shape: 5 list of paths\n"
     ]
    },
    {
     "name": "stderr",
     "output_type": "stream",
     "text": [
      "8it [00:00, 28.43it/s]\n",
      "8it [00:00, 29.39it/s]\n",
      "28it [00:00, 38.94it/s]\n",
      "8it [00:00, 31.34it/s]\n",
      "28it [00:00, 38.96it/s]\n"
     ]
    },
    {
     "name": "stdout",
     "output_type": "stream",
     "text": [
      "mode: meta_val, episode:  101, total_val_loss: 0.244150, \n",
      "val_mean_iou:{'ostrich': 0.6536134844406447,\n",
      "'panda': 0.7142641963849147,\n",
      "'pyramid': 0.5782002494745623,\n",
      "'pyramid_cube': 0.6571437025978554,\n",
      "'radiator': 0.5007037861840888}\n",
      "\n",
      "Episode: 101, Episode Time: 0.079 minutes\n"
     ]
    },
    {
     "name": "stderr",
     "output_type": "stream",
     "text": [
      "8it [00:00, 28.22it/s]\n",
      "18it [00:00, 36.24it/s]\n",
      "8it [00:00, 29.51it/s]\n",
      "8it [00:00, 28.70it/s]\n",
      "8it [00:00, 29.63it/s]\n"
     ]
    },
    {
     "name": "stdout",
     "output_type": "stream",
     "text": [
      "mode: meta_val, episode:  102, total_val_loss: 0.460002, \n",
      "val_mean_iou:{'paper_plane': 0.4084467564409627,\n",
      "'piano_keyboard': 0.3489450817974129,\n",
      "'power_drill': 0.6231153419598385,\n",
      "'rally_car': 0.7639423884070424,\n",
      "'soap': 0.5174219631251326}\n",
      "\n",
      "Episode: 102, Episode Time: 0.070 minutes\n"
     ]
    },
    {
     "name": "stderr",
     "output_type": "stream",
     "text": [
      "8it [00:00, 29.90it/s]\n",
      "8it [00:00, 29.52it/s]\n",
      "8it [00:00, 29.88it/s]\n",
      "8it [00:00, 29.82it/s]\n",
      "88it [00:02, 43.59it/s]\n"
     ]
    },
    {
     "name": "stdout",
     "output_type": "stream",
     "text": [
      "mode: meta_val, episode:  103, total_val_loss: 0.292347, \n",
      "val_mean_iou:{'parthenon': 0.6593616131637802,\n",
      "'pen': 0.5330130294100561,\n",
      "'polecat': 0.7384046642481616,\n",
      "'red_bayberry': 0.7635403148824986,\n",
      "'scorpion': 0.6469474979048218}\n",
      "\n",
      "Episode: 103, Episode Time: 0.094 minutes\n"
     ]
    },
    {
     "name": "stderr",
     "output_type": "stream",
     "text": [
      "18it [00:00, 36.92it/s]\n",
      "8it [00:00, 30.52it/s]\n",
      "8it [00:00, 30.41it/s]\n",
      "8it [00:00, 32.86it/s]\n",
      "8it [00:00, 28.78it/s]\n"
     ]
    },
    {
     "name": "stdout",
     "output_type": "stream",
     "text": [
      "mode: meta_val, episode:  104, total_val_loss: 0.287123, \n",
      "val_mean_iou:{'plaice': 0.7447800929317407,\n",
      "'puma_logo': 0.14365711534165115,\n",
      "'radiator': 0.5885088785361862,\n",
      "'radio': 0.7243114485507222,\n",
      "'reel': 0.7104493620463712}\n",
      "\n",
      "Episode: 104, Episode Time: 0.067 minutes\n"
     ]
    },
    {
     "name": "stderr",
     "output_type": "stream",
     "text": [
      "8it [00:00, 29.65it/s]\n",
      "8it [00:00, 29.84it/s]\n",
      "18it [00:00, 35.81it/s]\n",
      "8it [00:00, 30.59it/s]\n",
      "8it [00:00, 33.00it/s]\n"
     ]
    },
    {
     "name": "stdout",
     "output_type": "stream",
     "text": [
      "mode: meta_val, episode:  105, total_val_loss: 0.271729, \n",
      "val_mean_iou:{'proboscis': 0.7596431553043436,\n",
      "'redheart': 0.07359506405549765,\n",
      "'revolver': 0.5965164520438775,\n",
      "'sandal': 0.5638194069627698,\n",
      "'soap': 0.5520676114305005}\n",
      "\n",
      "Episode: 105, Episode Time: 0.068 minutes\n"
     ]
    },
    {
     "name": "stderr",
     "output_type": "stream",
     "text": [
      "8it [00:00, 29.86it/s]\n",
      "8it [00:00, 29.73it/s]\n",
      "8it [00:00, 30.92it/s]\n",
      "8it [00:00, 30.66it/s]\n",
      "8it [00:00, 30.10it/s]\n"
     ]
    },
    {
     "name": "stdout",
     "output_type": "stream",
     "text": [
      "mode: meta_val, episode:  106, total_val_loss: 0.225402, \n",
      "val_mean_iou:{'pear': 0.6740185409043629,\n",
      "'pepitas': 0.6418616968045766,\n",
      "'pokermon_ball': 0.742242134317463,\n",
      "'quad_drone': 0.534191817376727,\n",
      "'rubber_eraser': 0.5951980237506791}\n",
      "\n",
      "Episode: 106, Episode Time: 0.064 minutes\n"
     ]
    },
    {
     "name": "stderr",
     "output_type": "stream",
     "text": [
      "8it [00:00, 29.23it/s]\n",
      "8it [00:00, 29.59it/s]\n",
      "8it [00:00, 31.98it/s]\n",
      "18it [00:00, 38.14it/s]\n",
      "8it [00:00, 30.22it/s]\n"
     ]
    },
    {
     "name": "stdout",
     "output_type": "stream",
     "text": [
      "mode: meta_val, episode:  107, total_val_loss: 0.264686, \n",
      "val_mean_iou:{'pyramid_cube': 0.6366575050598093,\n",
      "'sandwich': 0.7157989587006902,\n",
      "'school_bus': 0.6914930880971147,\n",
      "'sealion': 0.8557314141873484,\n",
      "'smoothing_iron': 0.6329832040983636}\n",
      "\n",
      "Episode: 107, Episode Time: 0.067 minutes\n"
     ]
    },
    {
     "name": "stderr",
     "output_type": "stream",
     "text": [
      "8it [00:00, 31.39it/s]\n",
      "8it [00:00, 30.79it/s]\n",
      "8it [00:00, 31.41it/s]\n",
      "8it [00:00, 28.95it/s]\n",
      "8it [00:00, 29.06it/s]\n"
     ]
    },
    {
     "name": "stdout",
     "output_type": "stream",
     "text": [
      "mode: meta_val, episode:  108, total_val_loss: 0.244592, \n",
      "val_mean_iou:{'pencil_box': 0.6812543461655318,\n",
      "'pubg_airdrop': 0.5686567068358742,\n",
      "'pyraminx': 0.7153847321514775,\n",
      "'seagull': 0.6237270556491621,\n",
      "'shakuhachi': 0.3821421391616497}\n",
      "\n",
      "Episode: 108, Episode Time: 0.064 minutes\n"
     ]
    },
    {
     "name": "stderr",
     "output_type": "stream",
     "text": [
      "8it [00:00, 28.64it/s]\n",
      "8it [00:00, 27.51it/s]\n",
      "8it [00:00, 31.78it/s]\n",
      "8it [00:00, 28.45it/s]\n",
      "8it [00:00, 29.43it/s]\n"
     ]
    },
    {
     "name": "stdout",
     "output_type": "stream",
     "text": [
      "mode: meta_val, episode:  109, total_val_loss: 0.301625, \n",
      "val_mean_iou:{'papaya': 0.8058918506138575,\n",
      "'plate': 0.672439211469543,\n",
      "'rubber_eraser': 0.6581343182204491,\n",
      "'sea_cucumber': 0.7116747870871408,\n",
      "'shift_gear': 0.24548088312564914}\n",
      "\n",
      "Episode: 109, Episode Time: 0.066 minutes\n"
     ]
    },
    {
     "name": "stderr",
     "output_type": "stream",
     "text": [
      "8it [00:00, 28.77it/s]\n",
      "8it [00:00, 30.62it/s]\n",
      "8it [00:00, 30.65it/s]\n",
      "8it [00:00, 29.45it/s]\n",
      "8it [00:00, 29.25it/s]\n"
     ]
    },
    {
     "name": "stdout",
     "output_type": "stream",
     "text": [
      "mode: meta_val, episode:  110, total_val_loss: 0.353326, \n",
      "val_mean_iou:{'parachute': 0.6772586916772532,\n",
      "'pidan': 0.7383303128449148,\n",
      "'rock_snake': 0.6003907222385119,\n",
      "'shopping_cart': 0.7366698658546887,\n",
      "'shower_curtain': 0.5068148068331257}\n",
      "\n",
      "Episode: 110, Episode Time: 0.066 minutes\n"
     ]
    },
    {
     "name": "stderr",
     "output_type": "stream",
     "text": [
      "8it [00:00, 29.23it/s]\n",
      "8it [00:00, 28.18it/s]\n",
      "38it [00:00, 39.89it/s]\n",
      "8it [00:00, 31.42it/s]\n",
      "8it [00:00, 30.91it/s]\n"
     ]
    },
    {
     "name": "stdout",
     "output_type": "stream",
     "text": [
      "mode: meta_val, episode:  111, total_val_loss: 0.220879, \n",
      "val_mean_iou:{'panther': 0.7447300329085963,\n",
      "'paper_crane': 0.579215298951587,\n",
      "'pingpong_racket': 0.6945748636544069,\n",
      "'raft': 0.6811311055086112,\n",
      "'rocking_chair': 0.7102013419437087}\n",
      "\n",
      "Episode: 111, Episode Time: 0.076 minutes\n"
     ]
    },
    {
     "name": "stderr",
     "output_type": "stream",
     "text": [
      "8it [00:00, 29.35it/s]\n",
      "8it [00:00, 29.69it/s]\n",
      "8it [00:00, 31.93it/s]\n",
      "18it [00:00, 37.03it/s]\n",
      "8it [00:00, 30.82it/s]\n"
     ]
    },
    {
     "name": "stdout",
     "output_type": "stream",
     "text": [
      "mode: meta_val, episode:  112, total_val_loss: 0.258052, \n",
      "val_mean_iou:{'perfume': 0.7839749172172645,\n",
      "'pill_bottle': 0.6851160786208691,\n",
      "'polo_shirt': 0.4728786106471352,\n",
      "'razor': 0.4175093883836637,\n",
      "'santa_sledge': 0.499299386532008}\n",
      "\n",
      "Episode: 112, Episode Time: 0.068 minutes\n"
     ]
    },
    {
     "name": "stderr",
     "output_type": "stream",
     "text": [
      "8it [00:00, 30.78it/s]\n",
      "8it [00:00, 31.56it/s]\n",
      "8it [00:00, 29.64it/s]\n",
      "8it [00:00, 29.20it/s]\n",
      "8it [00:00, 30.11it/s]\n"
     ]
    },
    {
     "name": "stdout",
     "output_type": "stream",
     "text": [
      "mode: meta_val, episode:  113, total_val_loss: 0.235736, \n",
      "val_mean_iou:{'paint_brush': 0.6915234516002247,\n",
      "'persimmon': 0.7460830415856692,\n",
      "'sandal': 0.5741444981556949,\n",
      "'scissors': 0.4328156506111195,\n",
      "'shift_gear': 0.21092487179825914}\n",
      "\n",
      "Episode: 113, Episode Time: 0.064 minutes\n"
     ]
    },
    {
     "name": "stderr",
     "output_type": "stream",
     "text": [
      "8it [00:00, 31.08it/s]\n",
      "8it [00:00, 30.66it/s]\n",
      "18it [00:00, 35.03it/s]\n",
      "8it [00:00, 29.53it/s]\n",
      "8it [00:00, 29.00it/s]\n"
     ]
    },
    {
     "name": "stdout",
     "output_type": "stream",
     "text": [
      "mode: meta_val, episode:  114, total_val_loss: 0.364788, \n",
      "val_mean_iou:{'persian_cat': 0.7569055883182287,\n",
      "'porcupine': 0.7706641453330445,\n",
      "'psp': 0.6417879927604263,\n",
      "'sandbar': 0.23275269712537425,\n",
      "'sombrero': 0.5701259365221665}\n",
      "\n",
      "Episode: 114, Episode Time: 0.069 minutes\n"
     ]
    },
    {
     "name": "stderr",
     "output_type": "stream",
     "text": [
      "8it [00:00, 27.11it/s]\n",
      "8it [00:00, 30.34it/s]\n",
      "8it [00:00, 28.87it/s]\n",
      "8it [00:00, 28.70it/s]\n",
      "8it [00:00, 28.64it/s]\n"
     ]
    },
    {
     "name": "stdout",
     "output_type": "stream",
     "text": [
      "mode: meta_val, episode:  115, total_val_loss: 0.328107, \n",
      "val_mean_iou:{'peanut': 0.5813996221525519,\n",
      "'pickup': 0.8416937376883666,\n",
      "'pomelo': 0.7120325280181367,\n",
      "'pool_table': 0.5493224752399162,\n",
      "'quill_pen': 0.4032943345259489}\n",
      "\n",
      "Episode: 115, Episode Time: 0.065 minutes\n"
     ]
    },
    {
     "name": "stderr",
     "output_type": "stream",
     "text": [
      "18it [00:00, 36.26it/s]\n",
      "8it [00:00, 31.29it/s]\n",
      "18it [00:00, 36.46it/s]\n",
      "8it [00:00, 29.34it/s]\n",
      "8it [00:00, 31.55it/s]\n"
     ]
    },
    {
     "name": "stdout",
     "output_type": "stream",
     "text": [
      "mode: meta_val, episode:  116, total_val_loss: 0.234946, \n",
      "val_mean_iou:{'ostrich': 0.6434927218435217,\n",
      "'radio': 0.725214366796008,\n",
      "'redshank': 0.40966086538140667,\n",
      "'sandwich': 0.7380743251799718,\n",
      "'saxophone': 0.5563694820389735}\n",
      "\n",
      "Episode: 116, Episode Time: 0.073 minutes\n"
     ]
    },
    {
     "name": "stderr",
     "output_type": "stream",
     "text": [
      "8it [00:00, 29.54it/s]\n",
      "8it [00:00, 28.93it/s]\n",
      "8it [00:00, 30.99it/s]\n",
      "8it [00:00, 30.73it/s]\n",
      "8it [00:00, 31.75it/s]\n"
     ]
    },
    {
     "name": "stdout",
     "output_type": "stream",
     "text": [
      "mode: meta_val, episode:  117, total_val_loss: 0.266813, \n",
      "val_mean_iou:{'phonograph': 0.7038487388904917,\n",
      "'poached_egg': 0.7299068998996255,\n",
      "'power_drill': 0.6275507680399517,\n",
      "'pubg_lvl3backpack': 0.4289415481812019,\n",
      "'soccer_ball': 0.449587186422273}\n",
      "\n",
      "Episode: 117, Episode Time: 0.064 minutes\n"
     ]
    },
    {
     "name": "stderr",
     "output_type": "stream",
     "text": [
      "8it [00:00, 30.28it/s]\n",
      "8it [00:00, 30.36it/s]\n",
      "8it [00:00, 30.12it/s]\n",
      "8it [00:00, 30.21it/s]\n",
      "8it [00:00, 31.44it/s]\n"
     ]
    },
    {
     "name": "stdout",
     "output_type": "stream",
     "text": [
      "mode: meta_val, episode:  118, total_val_loss: 0.240121, \n",
      "val_mean_iou:{'perfume': 0.7578293713084037,\n",
      "'proboscis': 0.7813817651605266,\n",
      "'roller_coaster': 0.41260215135866285,\n",
      "'rugby_ball': 0.4633537711003677,\n",
      "'siamang': 0.6125011957439344}\n",
      "\n",
      "Episode: 118, Episode Time: 0.063 minutes\n"
     ]
    },
    {
     "name": "stderr",
     "output_type": "stream",
     "text": [
      "8it [00:00, 29.88it/s]\n",
      "8it [00:00, 29.78it/s]\n",
      "8it [00:00, 31.46it/s]\n",
      "8it [00:00, 29.41it/s]\n",
      "8it [00:00, 29.81it/s]\n"
     ]
    },
    {
     "name": "stdout",
     "output_type": "stream",
     "text": [
      "mode: meta_val, episode:  119, total_val_loss: 0.197818, \n",
      "val_mean_iou:{'ostrich': 0.5811760225962979,\n",
      "'phonograph': 0.7179328153044692,\n",
      "'pubg_airdrop': 0.6456256593096191,\n",
      "'skull': 0.8883900937256595,\n",
      "'snow_leopard': 0.667210457631087}\n",
      "\n",
      "Episode: 119, Episode Time: 0.065 minutes\n"
     ]
    },
    {
     "name": "stderr",
     "output_type": "stream",
     "text": [
      "8it [00:00, 26.07it/s]\n",
      "8it [00:00, 32.58it/s]\n",
      "18it [00:00, 35.41it/s]\n",
      "8it [00:00, 30.90it/s]\n",
      "8it [00:00, 28.11it/s]\n"
     ]
    },
    {
     "name": "stdout",
     "output_type": "stream",
     "text": [
      "mode: meta_val, episode:  120, total_val_loss: 0.305806, \n",
      "val_mean_iou:{'pencil_sharpener2': 0.7998896162390379,\n",
      "'plate': 0.7813816856690171,\n",
      "'psp': 0.7073254063637027,\n",
      "'pubg_lvl3backpack': 0.3691640081899714,\n",
      "'samarra_mosque': 0.659304946684114}\n",
      "\n",
      "Episode: 120, Episode Time: 0.069 minutes\n"
     ]
    },
    {
     "name": "stderr",
     "output_type": "stream",
     "text": [
      "8it [00:00, 30.40it/s]\n",
      "8it [00:00, 30.76it/s]\n",
      "8it [00:00, 29.86it/s]\n",
      "8it [00:00, 31.33it/s]\n",
      "8it [00:00, 29.76it/s]\n"
     ]
    },
    {
     "name": "stdout",
     "output_type": "stream",
     "text": [
      "mode: meta_val, episode:  121, total_val_loss: 0.257414, \n",
      "val_mean_iou:{'rabbit': 0.7856144122302244,\n",
      "'recreational_vehicle': 0.7959174558144746,\n",
      "'roller_coaster': 0.4066492598385987,\n",
      "'saxophone': 0.4613582081794099,\n",
      "'soccer_ball': 0.4717131284355401}\n",
      "\n",
      "Episode: 121, Episode Time: 0.064 minutes\n"
     ]
    },
    {
     "name": "stderr",
     "output_type": "stream",
     "text": [
      "8it [00:00, 30.27it/s]\n",
      "8it [00:00, 29.07it/s]\n",
      "8it [00:00, 30.35it/s]\n",
      "8it [00:00, 29.26it/s]\n",
      "8it [00:00, 30.09it/s]\n"
     ]
    },
    {
     "name": "stdout",
     "output_type": "stream",
     "text": [
      "mode: meta_val, episode:  122, total_val_loss: 0.270666, \n",
      "val_mean_iou:{'parallel_bars': 0.21257250154349638,\n",
      "'pear': 0.7065757752479771,\n",
      "'power_drill': 0.6448123608494309,\n",
      "'quail_egg': 0.7187791284831557,\n",
      "'screwdriver': 0.58568686243196}\n",
      "\n",
      "Episode: 122, Episode Time: 0.064 minutes\n"
     ]
    },
    {
     "name": "stderr",
     "output_type": "stream",
     "text": [
      "8it [00:00, 28.11it/s]\n",
      "8it [00:00, 30.35it/s]\n",
      "18it [00:00, 37.73it/s]\n",
      "8it [00:00, 31.01it/s]\n",
      "8it [00:00, 31.10it/s]\n"
     ]
    },
    {
     "name": "stdout",
     "output_type": "stream",
     "text": [
      "mode: meta_val, episode:  123, total_val_loss: 0.238560, \n",
      "val_mean_iou:{'pumpkin': 0.8162565224009662,\n",
      "'rocking_chair': 0.7076387598791241,\n",
      "'sandal': 0.47305660916707487,\n",
      "'scarerow': 0.3658392726182974,\n",
      "'snowplow': 0.7807683803552261}\n",
      "\n",
      "Episode: 123, Episode Time: 0.068 minutes\n"
     ]
    },
    {
     "name": "stderr",
     "output_type": "stream",
     "text": [
      "8it [00:00, 29.75it/s]\n",
      "8it [00:00, 28.93it/s]\n",
      "18it [00:00, 35.75it/s]\n",
      "8it [00:00, 28.59it/s]\n",
      "8it [00:00, 29.38it/s]\n"
     ]
    },
    {
     "name": "stdout",
     "output_type": "stream",
     "text": [
      "mode: meta_val, episode:  124, total_val_loss: 0.270883, \n",
      "val_mean_iou:{'pepitas': 0.6938920798954875,\n",
      "'police_car': 0.7314947282020471,\n",
      "'redheart': 0.053480943429210226,\n",
      "'reel': 0.7506903671827471,\n",
      "'screw': 0.5495354071436395}\n",
      "\n",
      "Episode: 124, Episode Time: 0.068 minutes\n"
     ]
    },
    {
     "name": "stderr",
     "output_type": "stream",
     "text": [
      "8it [00:00, 29.14it/s]\n",
      "8it [00:00, 30.23it/s]\n",
      "8it [00:00, 27.01it/s]\n",
      "8it [00:00, 27.95it/s]\n",
      "8it [00:00, 28.68it/s]\n"
     ]
    },
    {
     "name": "stdout",
     "output_type": "stream",
     "text": [
      "mode: meta_val, episode:  125, total_val_loss: 0.304378, \n",
      "val_mean_iou:{'panther': 0.7531325750280047,\n",
      "'paper_crane': 0.6037083849885301,\n",
      "'patas': 0.7294149873869791,\n",
      "'plastic_bag': 0.530549299787036,\n",
      "'reflex_camera': 0.7625726572748082}\n",
      "\n",
      "Episode: 125, Episode Time: 0.066 minutes\n"
     ]
    },
    {
     "name": "stderr",
     "output_type": "stream",
     "text": [
      "8it [00:00, 30.20it/s]\n",
      "8it [00:00, 30.55it/s]\n",
      "8it [00:00, 30.42it/s]\n",
      "8it [00:00, 30.55it/s]\n",
      "8it [00:00, 29.21it/s]\n"
     ]
    },
    {
     "name": "stdout",
     "output_type": "stream",
     "text": [
      "mode: meta_val, episode:  126, total_val_loss: 0.264290, \n",
      "val_mean_iou:{'pheasant': 0.7109205699325065,\n",
      "'quad_drone': 0.586938500947975,\n",
      "'rice_cooker': 0.6448414851201514,\n",
      "'sewing_machine': 0.504901322990492,\n",
      "'snowplow': 0.7629379987335221}\n",
      "\n",
      "Episode: 126, Episode Time: 0.064 minutes\n"
     ]
    },
    {
     "name": "stderr",
     "output_type": "stream",
     "text": [
      "8it [00:00, 28.60it/s]\n",
      "8it [00:00, 29.74it/s]\n",
      "8it [00:00, 29.86it/s]\n",
      "18it [00:00, 35.25it/s]\n",
      "18it [00:00, 36.39it/s]\n"
     ]
    },
    {
     "name": "stdout",
     "output_type": "stream",
     "text": [
      "mode: meta_val, episode:  127, total_val_loss: 0.229440, \n",
      "val_mean_iou:{'petri_dish': 0.7602243451188386,\n",
      "'pig': 0.7581971352590335,\n",
      "'ptarmigan': 0.7595262298890357,\n",
      "'siamang': 0.6483099183382188,\n",
      "'sled': 0.5476299158783248}\n",
      "\n",
      "Episode: 127, Episode Time: 0.072 minutes\n"
     ]
    },
    {
     "name": "stderr",
     "output_type": "stream",
     "text": [
      "8it [00:00, 27.95it/s]\n",
      "8it [00:00, 29.30it/s]\n",
      "8it [00:00, 29.59it/s]\n",
      "8it [00:00, 29.80it/s]\n",
      "8it [00:00, 31.88it/s]\n"
     ]
    },
    {
     "name": "stdout",
     "output_type": "stream",
     "text": [
      "mode: meta_val, episode:  128, total_val_loss: 0.260427, \n",
      "val_mean_iou:{'otter': 0.8276500098970851,\n",
      "'phonograph': 0.6984332560155548,\n",
      "'pool_table': 0.5405930744765657,\n",
      "'rocking_chair': 0.7339691334549694,\n",
      "'ski_mask': 0.6602744176421387}\n",
      "\n",
      "Episode: 128, Episode Time: 0.065 minutes\n"
     ]
    },
    {
     "name": "stderr",
     "output_type": "stream",
     "text": [
      "18it [00:00, 34.73it/s]\n",
      "8it [00:00, 30.88it/s]\n",
      "28it [00:00, 38.49it/s]\n",
      "8it [00:00, 29.08it/s]\n",
      "8it [00:00, 31.02it/s]\n"
     ]
    },
    {
     "name": "stdout",
     "output_type": "stream",
     "text": [
      "mode: meta_val, episode:  129, total_val_loss: 0.181400, \n",
      "val_mean_iou:{'ostrich': 0.7030957891549714,\n",
      "'potato': 0.7339427258557552,\n",
      "'rose': 0.6520292322347321,\n",
      "'scorpion': 0.6396386381944643,\n",
      "'seagull': 0.7658441620304978}\n",
      "\n",
      "Episode: 129, Episode Time: 0.076 minutes\n"
     ]
    },
    {
     "name": "stderr",
     "output_type": "stream",
     "text": [
      "8it [00:00, 31.20it/s]\n",
      "8it [00:00, 32.40it/s]\n",
      "8it [00:00, 27.30it/s]\n",
      "8it [00:00, 31.75it/s]\n",
      "8it [00:00, 29.82it/s]\n"
     ]
    },
    {
     "name": "stdout",
     "output_type": "stream",
     "text": [
      "mode: meta_val, episode:  130, total_val_loss: 0.292458, \n",
      "val_mean_iou:{'parachute': 0.7242591036057314,\n",
      "'polo_shirt': 0.402132955343276,\n",
      "'pubg_lvl3helmet': 0.2773364388683569,\n",
      "'red_bayberry': 0.7462306804995116,\n",
      "'shih-tzu': 0.7313415349128065}\n",
      "\n",
      "Episode: 130, Episode Time: 0.065 minutes\n"
     ]
    },
    {
     "name": "stderr",
     "output_type": "stream",
     "text": [
      "8it [00:00, 28.40it/s]\n",
      "8it [00:00, 29.60it/s]\n",
      "8it [00:00, 30.67it/s]\n",
      "8it [00:00, 28.68it/s]\n",
      "8it [00:00, 31.66it/s]\n"
     ]
    },
    {
     "name": "stdout",
     "output_type": "stream",
     "text": [
      "mode: meta_val, episode:  131, total_val_loss: 0.238833, \n",
      "val_mean_iou:{'panpipe': 0.6001077701296837,\n",
      "'pencil_sharpener1': 0.7205210166762159,\n",
      "'pill_bottle': 0.7712633384038307,\n",
      "'prairie_chicken': 0.7910945723467095,\n",
      "'single_log': 0.16975360798998684}\n",
      "\n",
      "Episode: 131, Episode Time: 0.066 minutes\n"
     ]
    },
    {
     "name": "stderr",
     "output_type": "stream",
     "text": [
      "8it [00:00, 27.51it/s]\n",
      "8it [00:00, 28.87it/s]\n",
      "8it [00:00, 28.44it/s]\n",
      "8it [00:00, 30.21it/s]\n",
      "8it [00:00, 28.60it/s]\n"
     ]
    },
    {
     "name": "stdout",
     "output_type": "stream",
     "text": [
      "mode: meta_val, episode:  132, total_val_loss: 0.296845, \n",
      "val_mean_iou:{'otter': 0.8464702268672495,\n",
      "'pretzel': 0.5559115052895542,\n",
      "'pyramid_cube': 0.7579778161019031,\n",
      "'shopping_cart': 0.6367730398105713,\n",
      "'shovel': 0.5657870275253913}\n",
      "\n",
      "Episode: 132, Episode Time: 0.067 minutes\n"
     ]
    },
    {
     "name": "stderr",
     "output_type": "stream",
     "text": [
      "8it [00:00, 27.51it/s]\n",
      "8it [00:00, 29.59it/s]\n",
      "8it [00:00, 27.34it/s]\n",
      "8it [00:00, 29.68it/s]\n",
      "8it [00:00, 29.59it/s]\n"
     ]
    },
    {
     "name": "stdout",
     "output_type": "stream",
     "text": [
      "mode: meta_val, episode:  133, total_val_loss: 0.240285, \n",
      "val_mean_iou:{'radiator': 0.63597040445654,\n",
      "'rock_beauty': 0.7485164185245836,\n",
      "'shower_cap': 0.37627681344846786,\n",
      "'snail': 0.6130507967410156,\n",
      "'snowball': 0.5252483631833196}\n",
      "\n",
      "Episode: 133, Episode Time: 0.069 minutes\n"
     ]
    },
    {
     "name": "stderr",
     "output_type": "stream",
     "text": [
      "8it [00:00, 26.78it/s]\n",
      "18it [00:00, 32.98it/s]\n",
      "8it [00:00, 28.21it/s]\n",
      "8it [00:00, 29.83it/s]\n",
      "8it [00:00, 28.63it/s]\n"
     ]
    },
    {
     "name": "stdout",
     "output_type": "stream",
     "text": [
      "mode: meta_val, episode:  134, total_val_loss: 0.223930, \n",
      "val_mean_iou:{'panpipe': 0.6398656429217052,\n",
      "'pumpkin': 0.8194438969445499,\n",
      "'red_wolf': 0.7379737520819001,\n",
      "'school_bus': 0.703349140873709,\n",
      "'snowball': 0.5561470874735825}\n",
      "\n",
      "Episode: 134, Episode Time: 0.072 minutes\n"
     ]
    },
    {
     "name": "stderr",
     "output_type": "stream",
     "text": [
      "8it [00:00, 28.42it/s]\n",
      "8it [00:00, 29.01it/s]\n",
      "8it [00:00, 30.88it/s]\n",
      "8it [00:00, 31.27it/s]\n",
      "8it [00:00, 30.57it/s]\n"
     ]
    },
    {
     "name": "stdout",
     "output_type": "stream",
     "text": [
      "mode: meta_val, episode:  135, total_val_loss: 0.202366, \n",
      "val_mean_iou:{'pepitas': 0.7092012327088831,\n",
      "'persimmon': 0.7465544710754884,\n",
      "'power_drill': 0.642037469770621,\n",
      "'shih-tzu': 0.7893425725000649,\n",
      "'snail': 0.6425884591581453}\n",
      "\n",
      "Episode: 135, Episode Time: 0.065 minutes\n"
     ]
    },
    {
     "name": "stderr",
     "output_type": "stream",
     "text": [
      "8it [00:00, 31.49it/s]\n",
      "8it [00:00, 29.56it/s]\n",
      "8it [00:00, 29.83it/s]\n",
      "8it [00:00, 30.12it/s]\n",
      "28it [00:00, 38.16it/s]\n"
     ]
    },
    {
     "name": "stdout",
     "output_type": "stream",
     "text": [
      "mode: meta_val, episode:  136, total_val_loss: 0.320917, \n",
      "val_mean_iou:{'patas': 0.7286219824923569,\n",
      "'pill_bottle': 0.7673348100342687,\n",
      "'pillow': 0.5783381951539208,\n",
      "'potato': 0.6948300708829069,\n",
      "'shopping_cart': 0.7211797183420356}\n",
      "\n",
      "Episode: 136, Episode Time: 0.072 minutes\n"
     ]
    },
    {
     "name": "stderr",
     "output_type": "stream",
     "text": [
      "8it [00:00, 31.28it/s]\n",
      "8it [00:00, 29.61it/s]\n",
      "88it [00:02, 42.46it/s]\n",
      "8it [00:00, 28.84it/s]\n",
      "8it [00:00, 29.97it/s]\n"
     ]
    },
    {
     "name": "stdout",
     "output_type": "stream",
     "text": [
      "mode: meta_val, episode:  137, total_val_loss: 0.266319, \n",
      "val_mean_iou:{'pen': 0.5987255736418595,\n",
      "'platypus': 0.7654946300494606,\n",
      "'printer': 0.7013070520637017,\n",
      "'rally_car': 0.7992034851454668,\n",
      "'single_log': 0.1914060094901962}\n",
      "\n",
      "Episode: 137, Episode Time: 0.095 minutes\n"
     ]
    },
    {
     "name": "stderr",
     "output_type": "stream",
     "text": [
      "8it [00:00, 30.21it/s]\n",
      "8it [00:00, 30.88it/s]\n",
      "18it [00:00, 38.08it/s]\n",
      "8it [00:00, 28.89it/s]\n",
      "8it [00:00, 29.82it/s]\n"
     ]
    },
    {
     "name": "stdout",
     "output_type": "stream",
     "text": [
      "mode: meta_val, episode:  138, total_val_loss: 0.279451, \n",
      "val_mean_iou:{'park_bench': 0.5989864979693841,\n",
      "'persian_cat': 0.794131301104168,\n",
      "'petri_dish': 0.7148502232043856,\n",
      "'potato_chips': 0.6667308888185846,\n",
      "'radio': 0.788930331756069}\n",
      "\n",
      "Episode: 138, Episode Time: 0.068 minutes\n"
     ]
    },
    {
     "name": "stderr",
     "output_type": "stream",
     "text": [
      "8it [00:00, 29.41it/s]\n",
      "8it [00:00, 30.77it/s]\n",
      "8it [00:00, 29.83it/s]\n",
      "8it [00:00, 30.10it/s]\n",
      "8it [00:00, 28.90it/s]\n"
     ]
    },
    {
     "name": "stdout",
     "output_type": "stream",
     "text": [
      "mode: meta_val, episode:  139, total_val_loss: 0.238688, \n",
      "val_mean_iou:{'patas': 0.7228336978922986,\n",
      "'phonograph': 0.7861426376816867,\n",
      "'pubg_lvl3backpack': 0.5067407698752474,\n",
      "'redheart': 0.036185939281164065,\n",
      "'samarra_mosque': 0.5971473308554083}\n",
      "\n",
      "Episode: 139, Episode Time: 0.064 minutes\n"
     ]
    },
    {
     "name": "stderr",
     "output_type": "stream",
     "text": [
      "18it [00:00, 36.00it/s]\n",
      "8it [00:00, 30.29it/s]\n",
      "8it [00:00, 30.84it/s]\n",
      "8it [00:00, 29.43it/s]\n",
      "8it [00:00, 30.28it/s]\n"
     ]
    },
    {
     "name": "stdout",
     "output_type": "stream",
     "text": [
      "mode: meta_val, episode:  140, total_val_loss: 0.291800, \n",
      "val_mean_iou:{'perfume': 0.7531044289843097,\n",
      "'pillow': 0.6339369867161713,\n",
      "'pubg_airdrop': 0.6014114794418152,\n",
      "'radio': 0.7667040091306411,\n",
      "'roller_coaster': 0.3742054232616254}\n",
      "\n",
      "Episode: 140, Episode Time: 0.068 minutes\n"
     ]
    },
    {
     "name": "stderr",
     "output_type": "stream",
     "text": [
      "8it [00:00, 28.32it/s]\n",
      "8it [00:00, 28.71it/s]\n",
      "18it [00:00, 35.34it/s]\n",
      "8it [00:00, 30.44it/s]\n",
      "8it [00:00, 30.16it/s]\n"
     ]
    },
    {
     "name": "stdout",
     "output_type": "stream",
     "text": [
      "mode: meta_val, episode:  141, total_val_loss: 0.225339, \n",
      "val_mean_iou:{'paddle': 0.7032738809096839,\n",
      "'peanut': 0.6151570424078845,\n",
      "'raven': 0.8415215717454214,\n",
      "'samarra_mosque': 0.627940966981656,\n",
      "'sandwich': 0.7299794628275343}\n",
      "\n",
      "Episode: 141, Episode Time: 0.068 minutes\n"
     ]
    },
    {
     "name": "stderr",
     "output_type": "stream",
     "text": [
      "8it [00:00, 28.20it/s]\n",
      "8it [00:00, 29.03it/s]\n",
      "8it [00:00, 30.50it/s]\n",
      "8it [00:00, 31.12it/s]\n",
      "8it [00:00, 30.42it/s]\n"
     ]
    },
    {
     "name": "stdout",
     "output_type": "stream",
     "text": [
      "mode: meta_val, episode:  142, total_val_loss: 0.265284, \n",
      "val_mean_iou:{'peregine_falcon': 0.7737821297225373,\n",
      "'quill_pen': 0.3739639370661998,\n",
      "'sarong': 0.5414332290448595,\n",
      "'sealion': 0.8698437333295548,\n",
      "'shakuhachi': 0.39049697344975964}\n",
      "\n",
      "Episode: 142, Episode Time: 0.064 minutes\n"
     ]
    },
    {
     "name": "stderr",
     "output_type": "stream",
     "text": [
      "8it [00:00, 29.67it/s]\n",
      "8it [00:00, 28.35it/s]\n",
      "18it [00:00, 36.66it/s]\n",
      "8it [00:00, 28.40it/s]\n",
      "8it [00:00, 29.38it/s]\n"
     ]
    },
    {
     "name": "stdout",
     "output_type": "stream",
     "text": [
      "mode: meta_val, episode:  143, total_val_loss: 0.257793, \n",
      "val_mean_iou:{'patas': 0.7501857242800454,\n",
      "'peacock': 0.6353958007180576,\n",
      "'platypus': 0.7706530449366124,\n",
      "'rocking_chair': 0.7094965558980997,\n",
      "'rose': 0.6132319674984673}\n",
      "\n",
      "Episode: 143, Episode Time: 0.068 minutes\n"
     ]
    },
    {
     "name": "stderr",
     "output_type": "stream",
     "text": [
      "28it [00:00, 36.97it/s]\n",
      "8it [00:00, 31.43it/s]\n",
      "8it [00:00, 29.74it/s]\n",
      "8it [00:00, 30.66it/s]\n",
      "8it [00:00, 31.53it/s]\n"
     ]
    },
    {
     "name": "stdout",
     "output_type": "stream",
     "text": [
      "mode: meta_val, episode:  144, total_val_loss: 0.248623, \n",
      "val_mean_iou:{'owl': 0.7205563073918233,\n",
      "'parking_meter': 0.7423928065695741,\n",
      "'reflex_camera': 0.7571901419644876,\n",
      "'rocket': 0.17658347017571613,\n",
      "'saxophone': 0.5080596773123767}\n",
      "\n",
      "Episode: 144, Episode Time: 0.072 minutes\n"
     ]
    },
    {
     "name": "stderr",
     "output_type": "stream",
     "text": [
      "8it [00:00, 30.52it/s]\n",
      "8it [00:00, 31.23it/s]\n",
      "8it [00:00, 30.13it/s]\n",
      "8it [00:00, 30.13it/s]\n",
      "8it [00:00, 29.60it/s]\n"
     ]
    },
    {
     "name": "stdout",
     "output_type": "stream",
     "text": [
      "mode: meta_val, episode:  145, total_val_loss: 0.289521, \n",
      "val_mean_iou:{'panpipe': 0.5418729026723859,\n",
      "'scissors': 0.4466955865692319,\n",
      "'shotgun': 0.37192014878485663,\n",
      "'sleeping_bag': 0.701153666632558,\n",
      "'sock': 0.634358009089218}\n",
      "\n",
      "Episode: 145, Episode Time: 0.066 minutes\n"
     ]
    },
    {
     "name": "stderr",
     "output_type": "stream",
     "text": [
      "8it [00:00, 29.83it/s]\n",
      "8it [00:00, 30.76it/s]\n",
      "8it [00:00, 30.07it/s]\n",
      "8it [00:00, 30.50it/s]\n",
      "8it [00:00, 28.92it/s]\n"
     ]
    },
    {
     "name": "stdout",
     "output_type": "stream",
     "text": [
      "mode: meta_val, episode:  146, total_val_loss: 0.295900, \n",
      "val_mean_iou:{'police_car': 0.724588928475469,\n",
      "'polo_shirt': 0.5312100027701465,\n",
      "'saluki': 0.6391186618148872,\n",
      "'siamang': 0.7232096775977018,\n",
      "'sniper_rifle': 0.41841623690187457}\n",
      "\n",
      "Episode: 146, Episode Time: 0.064 minutes\n"
     ]
    },
    {
     "name": "stderr",
     "output_type": "stream",
     "text": [
      "8it [00:00, 28.75it/s]\n",
      "18it [00:00, 37.28it/s]\n",
      "8it [00:00, 31.00it/s]\n",
      "8it [00:00, 31.25it/s]\n",
      "8it [00:00, 30.26it/s]\n"
     ]
    },
    {
     "name": "stdout",
     "output_type": "stream",
     "text": [
      "mode: meta_val, episode:  147, total_val_loss: 0.204487, \n",
      "val_mean_iou:{'pheasant': 0.7923351092149522,\n",
      "'pyramid_cube': 0.7024900308451916,\n",
      "'rose': 0.6309508189420296,\n",
      "'scroll_brush': 0.6542387311574975,\n",
      "'sniper_rifle': 0.4827061618416925}\n",
      "\n",
      "Episode: 147, Episode Time: 0.068 minutes\n"
     ]
    },
    {
     "name": "stderr",
     "output_type": "stream",
     "text": [
      "8it [00:00, 30.39it/s]\n",
      "8it [00:00, 32.73it/s]\n",
      "8it [00:00, 29.73it/s]\n",
      "8it [00:00, 31.27it/s]\n",
      "8it [00:00, 30.51it/s]\n"
     ]
    },
    {
     "name": "stdout",
     "output_type": "stream",
     "text": [
      "mode: meta_val, episode:  148, total_val_loss: 0.307602, \n",
      "val_mean_iou:{'puma_logo': 0.22809490827188839,\n",
      "'rain_barrel': 0.6058127874768529,\n",
      "'sandal': 0.5000849813498734,\n",
      "'seatbelt': 0.09869488300908921,\n",
      "'skateboard': 0.20596715643478034}\n",
      "\n",
      "Episode: 148, Episode Time: 0.064 minutes\n"
     ]
    },
    {
     "name": "stderr",
     "output_type": "stream",
     "text": [
      "8it [00:00, 29.39it/s]\n",
      "8it [00:00, 30.20it/s]\n",
      "8it [00:00, 32.40it/s]\n",
      "8it [00:00, 29.95it/s]\n",
      "8it [00:00, 29.77it/s]\n"
     ]
    },
    {
     "name": "stdout",
     "output_type": "stream",
     "text": [
      "mode: meta_val, episode:  149, total_val_loss: 0.217398, \n",
      "val_mean_iou:{'persian_cat': 0.7661725841217553,\n",
      "'polecat': 0.7284177150270935,\n",
      "'pufferfish': 0.8052950854810814,\n",
      "'ruddy_turnstone': 0.6058744093893103,\n",
      "'skateboard': 0.26774202435009853}\n",
      "\n",
      "Episode: 149, Episode Time: 0.064 minutes\n"
     ]
    },
    {
     "name": "stderr",
     "output_type": "stream",
     "text": [
      "8it [00:00, 28.18it/s]\n",
      "8it [00:00, 26.96it/s]\n",
      "8it [00:00, 31.62it/s]\n",
      "8it [00:00, 32.26it/s]\n",
      "8it [00:00, 30.09it/s]\n"
     ]
    },
    {
     "name": "stdout",
     "output_type": "stream",
     "text": [
      "mode: meta_val, episode:  150, total_val_loss: 0.303663, \n",
      "val_mean_iou:{'ruler': 0.6164406320586056,\n",
      "'running_shoe': 0.5278709631711231,\n",
      "'sea_cucumber': 0.7268855971790797,\n",
      "'sniper_rifle': 0.4893634583713756,\n",
      "'soccer_ball': 0.4023733241451124}\n",
      "\n",
      "Episode: 150, Episode Time: 0.065 minutes\n"
     ]
    },
    {
     "name": "stderr",
     "output_type": "stream",
     "text": [
      "8it [00:00, 28.55it/s]\n",
      "8it [00:00, 31.30it/s]\n",
      "8it [00:00, 30.15it/s]\n",
      "8it [00:00, 30.69it/s]\n",
      "8it [00:00, 29.54it/s]\n"
     ]
    },
    {
     "name": "stdout",
     "output_type": "stream",
     "text": [
      "mode: meta_val, episode:  151, total_val_loss: 0.209990, \n",
      "val_mean_iou:{'pinecone': 0.8626814038338274,\n",
      "'police_car': 0.7384423474149224,\n",
      "'rubber_eraser': 0.7123023669230584,\n",
      "'skateboard': 0.23838826702296717,\n",
      "'skull': 0.8593126337273428}\n",
      "\n",
      "Episode: 151, Episode Time: 0.064 minutes\n"
     ]
    },
    {
     "name": "stderr",
     "output_type": "stream",
     "text": [
      "8it [00:00, 31.04it/s]\n",
      "8it [00:00, 31.31it/s]\n",
      "8it [00:00, 31.71it/s]\n",
      "8it [00:00, 30.27it/s]\n",
      "8it [00:00, 30.05it/s]\n"
     ]
    },
    {
     "name": "stdout",
     "output_type": "stream",
     "text": [
      "mode: meta_val, episode:  152, total_val_loss: 0.285725, \n",
      "val_mean_iou:{'persimmon': 0.6866088720167842,\n",
      "'pumpkin_pie': 0.73576874136173,\n",
      "'scissors': 0.519565274733176,\n",
      "'sewing_machine': 0.49058095074591246,\n",
      "'shakuhachi': 0.43149248463633}\n",
      "\n",
      "Episode: 152, Episode Time: 0.063 minutes\n"
     ]
    },
    {
     "name": "stderr",
     "output_type": "stream",
     "text": [
      "8it [00:00, 29.11it/s]\n",
      "8it [00:00, 31.29it/s]\n",
      "8it [00:00, 29.81it/s]\n",
      "8it [00:00, 27.94it/s]\n",
      "8it [00:00, 31.86it/s]\n"
     ]
    },
    {
     "name": "stdout",
     "output_type": "stream",
     "text": [
      "mode: meta_val, episode:  153, total_val_loss: 0.391010, \n",
      "val_mean_iou:{'parthenon': 0.683255409555906,\n",
      "'pistachio': 0.7062710555665095,\n",
      "'poached_egg': 0.7806448234064365,\n",
      "'pretzel': 0.5849669037851437,\n",
      "'rocket': 0.29701444189811277}\n",
      "\n",
      "Episode: 153, Episode Time: 0.064 minutes\n"
     ]
    },
    {
     "name": "stderr",
     "output_type": "stream",
     "text": [
      "8it [00:00, 28.48it/s]\n",
      "8it [00:00, 29.64it/s]\n",
      "8it [00:00, 31.25it/s]\n",
      "18it [00:00, 36.58it/s]\n",
      "8it [00:00, 32.14it/s]\n"
     ]
    },
    {
     "name": "stdout",
     "output_type": "stream",
     "text": [
      "mode: meta_val, episode:  154, total_val_loss: 0.288799, \n",
      "val_mean_iou:{'paint_brush': 0.722190435891068,\n",
      "'poker': 0.7121980142844904,\n",
      "'polar_bear': 0.8563800986720147,\n",
      "'sandbar': 0.3094663429049018,\n",
      "'seatbelt': 0.07742739644973186}\n",
      "\n",
      "Episode: 154, Episode Time: 0.068 minutes\n"
     ]
    },
    {
     "name": "stderr",
     "output_type": "stream",
     "text": [
      "8it [00:00, 29.83it/s]\n",
      "8it [00:00, 29.12it/s]\n",
      "8it [00:00, 28.48it/s]\n",
      "8it [00:00, 29.42it/s]\n",
      "8it [00:00, 30.15it/s]\n"
     ]
    },
    {
     "name": "stdout",
     "output_type": "stream",
     "text": [
      "mode: meta_val, episode:  155, total_val_loss: 0.264767, \n",
      "val_mean_iou:{'paddle': 0.757307216161767,\n",
      "'peacock': 0.6726512780404287,\n",
      "'phonograph': 0.7681840526922816,\n",
      "'potted_plant': 0.7492741309547273,\n",
      "'raven': 0.7950581728599287}\n",
      "\n",
      "Episode: 155, Episode Time: 0.065 minutes\n"
     ]
    },
    {
     "name": "stderr",
     "output_type": "stream",
     "text": [
      "8it [00:00, 28.39it/s]\n",
      "8it [00:00, 30.10it/s]\n",
      "8it [00:00, 29.16it/s]\n",
      "8it [00:00, 31.44it/s]\n",
      "8it [00:00, 29.31it/s]\n"
     ]
    },
    {
     "name": "stdout",
     "output_type": "stream",
     "text": [
      "mode: meta_val, episode:  156, total_val_loss: 0.239089, \n",
      "val_mean_iou:{'parking_meter': 0.6784602863405043,\n",
      "'pear': 0.7195188843527243,\n",
      "'pomegranate': 0.7620191121215307,\n",
      "'quad_drone': 0.5488146778663838,\n",
      "'scissors': 0.5010822593906425}\n",
      "\n",
      "Episode: 156, Episode Time: 0.064 minutes\n"
     ]
    },
    {
     "name": "stderr",
     "output_type": "stream",
     "text": [
      "8it [00:00, 27.90it/s]\n",
      "8it [00:00, 30.02it/s]\n",
      "8it [00:00, 31.63it/s]\n",
      "8it [00:00, 29.99it/s]\n",
      "8it [00:00, 32.79it/s]\n"
     ]
    },
    {
     "name": "stdout",
     "output_type": "stream",
     "text": [
      "mode: meta_val, episode:  157, total_val_loss: 0.412799, \n",
      "val_mean_iou:{'park_bench': 0.5931516882465405,\n",
      "'parthenon': 0.7132366117935246,\n",
      "'pspgo': 0.5559394366555885,\n",
      "'quad_drone': 0.5419149816001317,\n",
      "'roller_skate': 0.8228864984491853}\n",
      "\n",
      "Episode: 157, Episode Time: 0.064 minutes\n"
     ]
    },
    {
     "name": "stderr",
     "output_type": "stream",
     "text": [
      "8it [00:00, 29.64it/s]\n",
      "8it [00:00, 30.26it/s]\n",
      "18it [00:00, 36.33it/s]\n",
      "8it [00:00, 30.13it/s]\n",
      "8it [00:00, 32.08it/s]\n"
     ]
    },
    {
     "name": "stdout",
     "output_type": "stream",
     "text": [
      "mode: meta_val, episode:  158, total_val_loss: 0.230252, \n",
      "val_mean_iou:{'ostrich': 0.7195818597794379,\n",
      "'prairie_chicken': 0.7384363320757634,\n",
      "'quail': 0.7028782568758427,\n",
      "'sandbar': 0.22584776792053726,\n",
      "'snail': 0.6152294645478571}\n",
      "\n",
      "Episode: 158, Episode Time: 0.068 minutes\n"
     ]
    },
    {
     "name": "stderr",
     "output_type": "stream",
     "text": [
      "8it [00:00, 29.32it/s]\n",
      "8it [00:00, 28.14it/s]\n",
      "8it [00:00, 30.81it/s]\n",
      "8it [00:00, 30.57it/s]\n",
      "88it [00:02, 43.01it/s]\n"
     ]
    },
    {
     "name": "stdout",
     "output_type": "stream",
     "text": [
      "mode: meta_val, episode:  159, total_val_loss: 0.247158, \n",
      "val_mean_iou:{'otter': 0.8449790039948524,\n",
      "'peacock': 0.7351958762618246,\n",
      "'pen': 0.5515437195299928,\n",
      "'pickelhaube': 0.768203367223027,\n",
      "'porcupine': 0.7046738524784253}\n",
      "\n",
      "Episode: 159, Episode Time: 0.094 minutes\n"
     ]
    },
    {
     "name": "stderr",
     "output_type": "stream",
     "text": [
      "8it [00:00, 29.39it/s]\n",
      "8it [00:00, 29.84it/s]\n",
      "8it [00:00, 28.89it/s]\n",
      "8it [00:00, 31.30it/s]\n",
      "8it [00:00, 28.59it/s]\n"
     ]
    },
    {
     "name": "stdout",
     "output_type": "stream",
     "text": [
      "mode: meta_val, episode:  160, total_val_loss: 0.255447, \n",
      "val_mean_iou:{'ostrich': 0.7181112240896916,\n",
      "'pyraminx': 0.6699574390519201,\n",
      "'quill_pen': 0.40602078547591414,\n",
      "'red_breasted_merganser': 0.63075177377869,\n",
      "'sleeping_bag': 0.7488206193612947}\n",
      "\n",
      "Episode: 160, Episode Time: 0.064 minutes\n"
     ]
    },
    {
     "name": "stderr",
     "output_type": "stream",
     "text": [
      "8it [00:00, 30.21it/s]\n",
      "8it [00:00, 30.25it/s]\n",
      "8it [00:00, 29.06it/s]\n",
      "8it [00:00, 29.46it/s]\n",
      "8it [00:00, 30.10it/s]\n"
     ]
    },
    {
     "name": "stdout",
     "output_type": "stream",
     "text": [
      "mode: meta_val, episode:  161, total_val_loss: 0.237095, \n",
      "val_mean_iou:{'paper_crane': 0.6102823538910407,\n",
      "'parachute': 0.7032461896209501,\n",
      "'pubg_lvl3helmet': 0.40991711908531503,\n",
      "'scorpion': 0.602778738288698,\n",
      "'shovel': 0.4633579455725402}\n",
      "\n",
      "Episode: 161, Episode Time: 0.065 minutes\n"
     ]
    },
    {
     "name": "stderr",
     "output_type": "stream",
     "text": [
      "8it [00:00, 28.92it/s]\n",
      "18it [00:00, 37.47it/s]\n",
      "8it [00:00, 31.32it/s]\n",
      "8it [00:00, 27.87it/s]\n",
      "8it [00:00, 30.01it/s]\n"
     ]
    },
    {
     "name": "stdout",
     "output_type": "stream",
     "text": [
      "mode: meta_val, episode:  162, total_val_loss: 0.342169, \n",
      "val_mean_iou:{'peacock': 0.6768557031362084,\n",
      "'razor': 0.4589248894589416,\n",
      "'refrigerator': 0.5621612108700271,\n",
      "'ruler': 0.6235222559661502,\n",
      "'shumai': 0.6705883780814251}\n",
      "\n",
      "Episode: 162, Episode Time: 0.068 minutes\n"
     ]
    },
    {
     "name": "stderr",
     "output_type": "stream",
     "text": [
      "8it [00:00, 29.59it/s]\n",
      "8it [00:00, 30.60it/s]\n",
      "8it [00:00, 31.46it/s]\n",
      "8it [00:00, 30.20it/s]\n",
      "8it [00:00, 31.30it/s]\n"
     ]
    },
    {
     "name": "stdout",
     "output_type": "stream",
     "text": [
      "mode: meta_val, episode:  163, total_val_loss: 0.294816, \n",
      "val_mean_iou:{'pingpong_ball': 0.13566185398702224,\n",
      "'pinwheel': 0.7096786589227149,\n",
      "'pomegranate': 0.7707004564919948,\n",
      "'ptarmigan': 0.7768694951350013,\n",
      "'seatbelt': 0.095790523036538}\n",
      "\n",
      "Episode: 163, Episode Time: 0.064 minutes\n"
     ]
    },
    {
     "name": "stderr",
     "output_type": "stream",
     "text": [
      "8it [00:00, 31.18it/s]\n",
      "8it [00:00, 30.55it/s]\n",
      "8it [00:00, 27.90it/s]\n",
      "8it [00:00, 31.34it/s]\n",
      "8it [00:00, 29.92it/s]\n"
     ]
    },
    {
     "name": "stdout",
     "output_type": "stream",
     "text": [
      "mode: meta_val, episode:  164, total_val_loss: 0.367807, \n",
      "val_mean_iou:{'pistachio': 0.7230335654732326,\n",
      "'plastic_bag': 0.5989918583307281,\n",
      "'pool_table': 0.4916690496868191,\n",
      "'potato_chips': 0.6520209866314708,\n",
      "'red_breasted_merganser': 0.6490205170192304}\n",
      "\n",
      "Episode: 164, Episode Time: 0.064 minutes\n"
     ]
    },
    {
     "name": "stderr",
     "output_type": "stream",
     "text": [
      "18it [00:00, 36.10it/s]\n",
      "8it [00:00, 29.58it/s]\n",
      "8it [00:00, 32.73it/s]\n",
      "8it [00:00, 28.76it/s]\n",
      "18it [00:00, 37.06it/s]\n"
     ]
    },
    {
     "name": "stdout",
     "output_type": "stream",
     "text": [
      "mode: meta_val, episode:  165, total_val_loss: 0.227824, \n",
      "val_mean_iou:{'remote_control': 0.5215268876648597,\n",
      "'rose': 0.6146192539399636,\n",
      "'rugby_ball': 0.6138388431456978,\n",
      "'siamang': 0.6730955195757586,\n",
      "'sled': 0.5805902600411001}\n",
      "\n",
      "Episode: 165, Episode Time: 0.072 minutes\n"
     ]
    },
    {
     "name": "stderr",
     "output_type": "stream",
     "text": [
      "8it [00:00, 27.22it/s]\n",
      "8it [00:00, 29.41it/s]\n",
      "8it [00:00, 27.08it/s]\n",
      "8it [00:00, 29.66it/s]\n",
      "8it [00:00, 29.18it/s]\n"
     ]
    },
    {
     "name": "stdout",
     "output_type": "stream",
     "text": [
      "mode: meta_val, episode:  166, total_val_loss: 0.247650, \n",
      "val_mean_iou:{'pidan': 0.6968857108741883,\n",
      "'pteropus': 0.6996029180097709,\n",
      "'pubg_lvl3helmet': 0.389608968545279,\n",
      "'red_fox': 0.7684233987261875,\n",
      "'siamang': 0.6623849450189606}\n",
      "\n",
      "Episode: 166, Episode Time: 0.066 minutes\n"
     ]
    },
    {
     "name": "stderr",
     "output_type": "stream",
     "text": [
      "8it [00:00, 29.92it/s]\n",
      "8it [00:00, 31.21it/s]\n",
      "18it [00:00, 35.92it/s]\n",
      "8it [00:00, 30.27it/s]\n",
      "8it [00:00, 31.33it/s]\n"
     ]
    },
    {
     "name": "stdout",
     "output_type": "stream",
     "text": [
      "mode: meta_val, episode:  167, total_val_loss: 0.273578, \n",
      "val_mean_iou:{'psp': 0.5818455614362201,\n",
      "'saltshaker': 0.8065388260022581,\n",
      "'seagull': 0.7194589571899429,\n",
      "'shovel': 0.5440312244562143,\n",
      "'ski_mask': 0.5967080991796082}\n",
      "\n",
      "Episode: 167, Episode Time: 0.068 minutes\n"
     ]
    },
    {
     "name": "stderr",
     "output_type": "stream",
     "text": [
      "8it [00:00, 29.09it/s]\n",
      "8it [00:00, 30.32it/s]\n",
      "8it [00:00, 30.31it/s]\n",
      "8it [00:00, 29.74it/s]\n",
      "8it [00:00, 31.22it/s]\n"
     ]
    },
    {
     "name": "stdout",
     "output_type": "stream",
     "text": [
      "mode: meta_val, episode:  168, total_val_loss: 0.355368, \n",
      "val_mean_iou:{'pheasant': 0.8054098525183716,\n",
      "'piano_keyboard': 0.38011211082703644,\n",
      "'polecat': 0.716057640631725,\n",
      "'police_car': 0.7232418878814542,\n",
      "'shuriken': 0.4698188216260279}\n",
      "\n",
      "Episode: 168, Episode Time: 0.064 minutes\n"
     ]
    },
    {
     "name": "stderr",
     "output_type": "stream",
     "text": [
      "8it [00:00, 30.41it/s]\n",
      "8it [00:00, 31.01it/s]\n",
      "8it [00:00, 29.68it/s]\n",
      "8it [00:00, 31.12it/s]\n",
      "8it [00:00, 29.61it/s]\n"
     ]
    },
    {
     "name": "stdout",
     "output_type": "stream",
     "text": [
      "mode: meta_val, episode:  169, total_val_loss: 0.246925, \n",
      "val_mean_iou:{'paint_brush': 0.6666110174953059,\n",
      "'persimmon': 0.6943444210497449,\n",
      "'printer': 0.6911094436007286,\n",
      "'sloth_bear': 0.772641110779525,\n",
      "'sombrero': 0.6001987310402582}\n",
      "\n",
      "Episode: 169, Episode Time: 0.063 minutes\n"
     ]
    },
    {
     "name": "stderr",
     "output_type": "stream",
     "text": [
      "18it [00:00, 36.23it/s]\n",
      "8it [00:00, 29.19it/s]\n",
      "8it [00:00, 30.47it/s]\n",
      "18it [00:00, 36.84it/s]\n",
      "8it [00:00, 29.81it/s]\n"
     ]
    },
    {
     "name": "stdout",
     "output_type": "stream",
     "text": [
      "mode: meta_val, episode:  170, total_val_loss: 0.244386, \n",
      "val_mean_iou:{'pig': 0.8065439510542125,\n",
      "'polo_shirt': 0.5330799496404321,\n",
      "'radio': 0.7630931972538012,\n",
      "'red_bayberry': 0.6763196783172836,\n",
      "'sarong': 0.5044281894914587}\n",
      "\n",
      "Episode: 170, Episode Time: 0.072 minutes\n"
     ]
    },
    {
     "name": "stderr",
     "output_type": "stream",
     "text": [
      "8it [00:00, 30.27it/s]\n",
      "8it [00:00, 30.47it/s]\n",
      "18it [00:00, 36.79it/s]\n",
      "8it [00:00, 31.24it/s]\n",
      "8it [00:00, 29.43it/s]\n"
     ]
    },
    {
     "name": "stdout",
     "output_type": "stream",
     "text": [
      "mode: meta_val, episode:  171, total_val_loss: 0.232318, \n",
      "val_mean_iou:{'pingpong_racket': 0.7928904836140591,\n",
      "'pumpkin': 0.8287905191835777,\n",
      "'rock_snake': 0.6509780533978992,\n",
      "'school_bus': 0.7132360369262809,\n",
      "'skua': 0.8099559114128501}\n",
      "\n",
      "Episode: 171, Episode Time: 0.068 minutes\n"
     ]
    },
    {
     "name": "stderr",
     "output_type": "stream",
     "text": [
      "8it [00:00, 28.82it/s]\n",
      "8it [00:00, 30.43it/s]\n",
      "8it [00:00, 29.28it/s]\n",
      "8it [00:00, 31.14it/s]\n",
      "8it [00:00, 32.05it/s]\n"
     ]
    },
    {
     "name": "stdout",
     "output_type": "stream",
     "text": [
      "mode: meta_val, episode:  172, total_val_loss: 0.216231, \n",
      "val_mean_iou:{'panpipe': 0.5256897235860782,\n",
      "'parachute': 0.6820663044573252,\n",
      "'proboscis': 0.8030524912389508,\n",
      "'sandwich_cookies': 0.7090622990670643,\n",
      "'snail': 0.6432787817007194}\n",
      "\n",
      "Episode: 172, Episode Time: 0.064 minutes\n"
     ]
    },
    {
     "name": "stderr",
     "output_type": "stream",
     "text": [
      "8it [00:00, 27.85it/s]\n",
      "8it [00:00, 31.12it/s]\n",
      "8it [00:00, 32.15it/s]\n",
      "8it [00:00, 28.68it/s]\n",
      "8it [00:00, 29.99it/s]\n"
     ]
    },
    {
     "name": "stdout",
     "output_type": "stream",
     "text": [
      "mode: meta_val, episode:  173, total_val_loss: 0.233791, \n",
      "val_mean_iou:{'oyster': 0.7234719474276723,\n",
      "'perfume': 0.7746618939340413,\n",
      "'pickelhaube': 0.7525685092285497,\n",
      "'snail': 0.6009268725370612,\n",
      "'soap_dispenser': 0.8106769751551398}\n",
      "\n",
      "Episode: 173, Episode Time: 0.064 minutes\n"
     ]
    },
    {
     "name": "stderr",
     "output_type": "stream",
     "text": [
      "18it [00:00, 36.88it/s]\n",
      "8it [00:00, 30.41it/s]\n",
      "8it [00:00, 30.02it/s]\n",
      "8it [00:00, 28.31it/s]\n",
      "8it [00:00, 30.57it/s]\n"
     ]
    },
    {
     "name": "stdout",
     "output_type": "stream",
     "text": [
      "mode: meta_val, episode:  174, total_val_loss: 0.198026, \n",
      "val_mean_iou:{'panther': 0.7508817717558094,\n",
      "'poached_egg': 0.8320352651903993,\n",
      "'pomegranate': 0.775331368182596,\n",
      "'seagull': 0.6972769808642965,\n",
      "'seal': 0.8421707247056636}\n",
      "\n",
      "Episode: 174, Episode Time: 0.068 minutes\n"
     ]
    },
    {
     "name": "stderr",
     "output_type": "stream",
     "text": [
      "8it [00:00, 29.20it/s]\n",
      "8it [00:00, 29.76it/s]\n",
      "18it [00:00, 35.72it/s]\n",
      "8it [00:00, 30.27it/s]\n",
      "8it [00:00, 30.45it/s]\n"
     ]
    },
    {
     "name": "stdout",
     "output_type": "stream",
     "text": [
      "mode: meta_val, episode:  175, total_val_loss: 0.234667, \n",
      "val_mean_iou:{'papaya': 0.8606182714281165,\n",
      "'rain_barrel': 0.7114725034678838,\n",
      "'roller_coaster': 0.5226739932998415,\n",
      "'shakuhachi': 0.4122507115071715,\n",
      "'sled': 0.6084840921146979}\n",
      "\n",
      "Episode: 175, Episode Time: 0.068 minutes\n"
     ]
    },
    {
     "name": "stderr",
     "output_type": "stream",
     "text": [
      "18it [00:00, 35.85it/s]\n",
      "18it [00:00, 36.76it/s]\n",
      "8it [00:00, 29.82it/s]\n",
      "18it [00:00, 34.20it/s]\n",
      "8it [00:00, 30.93it/s]\n"
     ]
    },
    {
     "name": "stdout",
     "output_type": "stream",
     "text": [
      "mode: meta_val, episode:  176, total_val_loss: 0.275121, \n",
      "val_mean_iou:{'psp': 0.6660133342789462,\n",
      "'pyramid_cube': 0.7466447533323365,\n",
      "'razor': 0.4520452474272265,\n",
      "'santa_sledge': 0.6011907290245495,\n",
      "'soap': 0.6594192624036809}\n",
      "\n",
      "Episode: 176, Episode Time: 0.076 minutes\n"
     ]
    },
    {
     "name": "stderr",
     "output_type": "stream",
     "text": [
      "8it [00:00, 30.27it/s]\n",
      "8it [00:00, 28.63it/s]\n",
      "8it [00:00, 31.05it/s]\n",
      "8it [00:00, 28.14it/s]\n",
      "8it [00:00, 32.82it/s]\n"
     ]
    },
    {
     "name": "stdout",
     "output_type": "stream",
     "text": [
      "mode: meta_val, episode:  177, total_val_loss: 0.294536, \n",
      "val_mean_iou:{'polo_shirt': 0.47703768155893134,\n",
      "'relay_stick': 0.2779714783368665,\n",
      "'rock_snake': 0.6424854325113978,\n",
      "'skateboard': 0.2002886698829624,\n",
      "'sloth_bear': 0.7379211653987248}\n",
      "\n",
      "Episode: 177, Episode Time: 0.064 minutes\n"
     ]
    },
    {
     "name": "stderr",
     "output_type": "stream",
     "text": [
      "8it [00:00, 29.79it/s]\n",
      "8it [00:00, 30.90it/s]\n",
      "8it [00:00, 29.90it/s]\n",
      "8it [00:00, 32.03it/s]\n",
      "8it [00:00, 30.87it/s]\n"
     ]
    },
    {
     "name": "stdout",
     "output_type": "stream",
     "text": [
      "mode: meta_val, episode:  178, total_val_loss: 0.190768, \n",
      "val_mean_iou:{'pistachio': 0.7349676431873625,\n",
      "'platypus': 0.8170395880637681,\n",
      "'potato_chips': 0.6477223972675898,\n",
      "'rally_car': 0.7954585993875922,\n",
      "'screwdriver': 0.6503379705399253}\n",
      "\n",
      "Episode: 178, Episode Time: 0.064 minutes\n"
     ]
    },
    {
     "name": "stderr",
     "output_type": "stream",
     "text": [
      "8it [00:00, 29.97it/s]\n",
      "8it [00:00, 29.83it/s]\n",
      "8it [00:00, 30.45it/s]\n",
      "8it [00:00, 31.86it/s]\n",
      "8it [00:00, 29.11it/s]\n"
     ]
    },
    {
     "name": "stdout",
     "output_type": "stream",
     "text": [
      "mode: meta_val, episode:  179, total_val_loss: 0.229468, \n",
      "val_mean_iou:{'persimmon': 0.7560680531715375,\n",
      "'pingpong_racket': 0.7280131583178009,\n",
      "'scabbard': 0.3441434025305017,\n",
      "'shih-tzu': 0.7404885751381638,\n",
      "'skull': 0.862082861434078}\n",
      "\n",
      "Episode: 179, Episode Time: 0.064 minutes\n"
     ]
    },
    {
     "name": "stderr",
     "output_type": "stream",
     "text": [
      "8it [00:00, 30.50it/s]\n",
      "8it [00:00, 30.12it/s]\n",
      "8it [00:00, 31.09it/s]\n",
      "8it [00:00, 29.86it/s]\n",
      "28it [00:00, 40.30it/s]\n"
     ]
    },
    {
     "name": "stdout",
     "output_type": "stream",
     "text": [
      "mode: meta_val, episode:  180, total_val_loss: 0.249171, \n",
      "val_mean_iou:{'owl': 0.7246305027642662,\n",
      "'pinecone': 0.842529506010192,\n",
      "'pufferfish': 0.8421027219218769,\n",
      "'ringlet_butterfly': 0.9201098681366942,\n",
      "'solar_dish': 0.5971575564862404}\n",
      "\n",
      "Episode: 180, Episode Time: 0.071 minutes\n"
     ]
    },
    {
     "name": "stderr",
     "output_type": "stream",
     "text": [
      "18it [00:00, 36.35it/s]\n",
      "8it [00:00, 29.70it/s]\n",
      "8it [00:00, 31.10it/s]\n",
      "18it [00:00, 37.47it/s]\n",
      "128it [00:03, 41.72it/s]\n"
     ]
    },
    {
     "name": "stdout",
     "output_type": "stream",
     "text": [
      "mode: meta_val, episode:  181, total_val_loss: 0.252244, \n",
      "val_mean_iou:{'ox': 0.7791226130391011,\n",
      "'radio_telescope': 0.7595485873206554,\n",
      "'razor': 0.5145452118307262,\n",
      "'seal': 0.8736845807275534,\n",
      "'sleeping_bag': 0.6727710197610761}\n",
      "\n",
      "Episode: 181, Episode Time: 0.118 minutes\n"
     ]
    },
    {
     "name": "stderr",
     "output_type": "stream",
     "text": [
      "18it [00:00, 35.76it/s]\n",
      "8it [00:00, 29.83it/s]\n",
      "8it [00:00, 29.27it/s]\n",
      "8it [00:00, 31.93it/s]\n",
      "8it [00:00, 26.56it/s]\n"
     ]
    },
    {
     "name": "stdout",
     "output_type": "stream",
     "text": [
      "mode: meta_val, episode:  182, total_val_loss: 0.303043, \n",
      "val_mean_iou:{'peregine_falcon': 0.7787280447006084,\n",
      "'pretzel': 0.6811510756582335,\n",
      "'radio': 0.7633636063768175,\n",
      "'sidewinder': 0.6832935624553702,\n",
      "'sock': 0.7185450934652702}\n",
      "\n",
      "Episode: 182, Episode Time: 0.069 minutes\n"
     ]
    },
    {
     "name": "stderr",
     "output_type": "stream",
     "text": [
      "8it [00:00, 29.86it/s]\n",
      "18it [00:00, 37.00it/s]\n",
      "8it [00:00, 29.24it/s]\n",
      "8it [00:00, 30.22it/s]\n",
      "8it [00:00, 27.81it/s]\n"
     ]
    },
    {
     "name": "stdout",
     "output_type": "stream",
     "text": [
      "mode: meta_val, episode:  183, total_val_loss: 0.162117, \n",
      "val_mean_iou:{'perfume': 0.7783330012027996,\n",
      "'pig': 0.8197399422313206,\n",
      "'ringlet_butterfly': 0.9033853023752403,\n",
      "'skunk': 0.8255829579792053,\n",
      "'snowball': 0.4068772629247574}\n",
      "\n",
      "Episode: 183, Episode Time: 0.068 minutes\n"
     ]
    },
    {
     "name": "stderr",
     "output_type": "stream",
     "text": [
      "8it [00:00, 28.11it/s]\n",
      "8it [00:00, 30.14it/s]\n",
      "8it [00:00, 29.91it/s]\n",
      "8it [00:00, 29.98it/s]\n",
      "8it [00:00, 32.78it/s]\n"
     ]
    },
    {
     "name": "stdout",
     "output_type": "stream",
     "text": [
      "mode: meta_val, episode:  184, total_val_loss: 0.248686, \n",
      "val_mean_iou:{'plate': 0.8030644458094165,\n",
      "'quail_egg': 0.7318235100440744,\n",
      "'shih-tzu': 0.8462134888169404,\n",
      "'snowman': 0.6838256696103554,\n",
      "'soccer_ball': 0.5489743751218377}\n",
      "\n",
      "Episode: 184, Episode Time: 0.064 minutes\n"
     ]
    },
    {
     "name": "stderr",
     "output_type": "stream",
     "text": [
      "8it [00:00, 28.46it/s]\n",
      "8it [00:00, 29.32it/s]\n",
      "18it [00:00, 36.72it/s]\n",
      "8it [00:00, 29.77it/s]\n",
      "8it [00:00, 31.37it/s]\n"
     ]
    },
    {
     "name": "stdout",
     "output_type": "stream",
     "text": [
      "mode: meta_val, episode:  185, total_val_loss: 0.491754, \n",
      "val_mean_iou:{'pomegranate': 0.8054116183398343,\n",
      "'pumpkin': 0.8240215520481576,\n",
      "'scroll_brush': 0.6917785277407736,\n",
      "'shower_curtain': 0.4440126602618434,\n",
      "'sidewinder': 0.6968834039075424}\n",
      "\n",
      "Episode: 185, Episode Time: 0.068 minutes\n"
     ]
    },
    {
     "name": "stderr",
     "output_type": "stream",
     "text": [
      "8it [00:00, 27.97it/s]\n",
      "8it [00:00, 29.76it/s]\n",
      "8it [00:00, 30.37it/s]\n",
      "8it [00:00, 30.66it/s]\n",
      "8it [00:00, 30.21it/s]\n"
     ]
    },
    {
     "name": "stdout",
     "output_type": "stream",
     "text": [
      "mode: meta_val, episode:  186, total_val_loss: 0.296824, \n",
      "val_mean_iou:{'paper_towel': 0.4406286612511161,\n",
      "'ptarmigan': 0.7777576239354107,\n",
      "'reel': 0.687419862387441,\n",
      "'schooner': 0.6745014023143743,\n",
      "'skull': 0.8911924834155405}\n",
      "\n",
      "Episode: 186, Episode Time: 0.064 minutes\n"
     ]
    },
    {
     "name": "stderr",
     "output_type": "stream",
     "text": [
      "8it [00:00, 28.08it/s]\n",
      "8it [00:00, 30.06it/s]\n",
      "18it [00:00, 36.83it/s]\n",
      "8it [00:00, 28.38it/s]\n",
      "8it [00:00, 29.64it/s]\n"
     ]
    },
    {
     "name": "stdout",
     "output_type": "stream",
     "text": [
      "mode: meta_val, episode:  187, total_val_loss: 0.325437, \n",
      "val_mean_iou:{'petri_dish': 0.7355519929386205,\n",
      "'potato_chips': 0.6144092329383631,\n",
      "'pubg_lvl3backpack': 0.4535431718231684,\n",
      "'sandwich': 0.7555737376333916,\n",
      "'shuriken': 0.4886796366268442}\n",
      "\n",
      "Episode: 187, Episode Time: 0.068 minutes\n"
     ]
    },
    {
     "name": "stderr",
     "output_type": "stream",
     "text": [
      "8it [00:00, 27.96it/s]\n",
      "8it [00:00, 29.83it/s]\n",
      "8it [00:00, 29.62it/s]\n",
      "8it [00:00, 30.73it/s]\n",
      "8it [00:00, 30.61it/s]\n"
     ]
    },
    {
     "name": "stdout",
     "output_type": "stream",
     "text": [
      "mode: meta_val, episode:  188, total_val_loss: 0.170525, \n",
      "val_mean_iou:{'pokermon_ball': 0.8048066218085446,\n",
      "'polecat': 0.794326963811899,\n",
      "'pyramid_cube': 0.7963017358157416,\n",
      "'roller_skate': 0.83399399094912,\n",
      "'snow_leopard': 0.7200370052210137}\n",
      "\n",
      "Episode: 188, Episode Time: 0.065 minutes\n"
     ]
    },
    {
     "name": "stderr",
     "output_type": "stream",
     "text": [
      "18it [00:00, 37.02it/s]\n",
      "8it [00:00, 29.15it/s]\n",
      "18it [00:00, 37.50it/s]\n",
      "8it [00:00, 26.67it/s]\n",
      "8it [00:00, 31.06it/s]\n"
     ]
    },
    {
     "name": "stdout",
     "output_type": "stream",
     "text": [
      "mode: meta_val, episode:  189, total_val_loss: 0.211295, \n",
      "val_mean_iou:{'phonograph': 0.7557302608335847,\n",
      "'red_fox': 0.8203174270939884,\n",
      "'rocking_chair': 0.7055293188069018,\n",
      "'rose': 0.6250040947449239,\n",
      "'soap': 0.6604314713721966}\n",
      "\n",
      "Episode: 189, Episode Time: 0.073 minutes\n"
     ]
    },
    {
     "name": "stderr",
     "output_type": "stream",
     "text": [
      "8it [00:00, 29.82it/s]\n",
      "8it [00:00, 30.65it/s]\n",
      "8it [00:00, 30.54it/s]\n",
      "8it [00:00, 31.65it/s]\n",
      "8it [00:00, 28.98it/s]\n"
     ]
    },
    {
     "name": "stdout",
     "output_type": "stream",
     "text": [
      "mode: meta_val, episode:  190, total_val_loss: 0.282081, \n",
      "val_mean_iou:{'paper_crane': 0.7332569166100165,\n",
      "'pingpong_racket': 0.687637233323597,\n",
      "'pool_table': 0.5034614846028741,\n",
      "'pufferfish': 0.7993582720055898,\n",
      "'skunk': 0.844563401291466}\n",
      "\n",
      "Episode: 190, Episode Time: 0.063 minutes\n"
     ]
    },
    {
     "name": "stderr",
     "output_type": "stream",
     "text": [
      "8it [00:00, 29.45it/s]\n",
      "8it [00:00, 31.27it/s]\n",
      "18it [00:00, 34.99it/s]\n",
      "8it [00:00, 30.18it/s]\n",
      "8it [00:00, 31.86it/s]\n"
     ]
    },
    {
     "name": "stdout",
     "output_type": "stream",
     "text": [
      "mode: meta_val, episode:  191, total_val_loss: 0.213050, \n",
      "val_mean_iou:{'oyster': 0.6482378544637022,\n",
      "'pencil_sharpener1': 0.8132241524609243,\n",
      "'persimmon': 0.7564420172806403,\n",
      "'rose': 0.6578988006324863,\n",
      "'rubick_cube': 0.8573108869180958}\n",
      "\n",
      "Episode: 191, Episode Time: 0.067 minutes\n"
     ]
    },
    {
     "name": "stderr",
     "output_type": "stream",
     "text": [
      "8it [00:00, 30.41it/s]\n",
      "8it [00:00, 30.78it/s]\n",
      "8it [00:00, 31.00it/s]\n",
      "18it [00:00, 36.68it/s]\n",
      "8it [00:00, 30.01it/s]\n"
     ]
    },
    {
     "name": "stdout",
     "output_type": "stream",
     "text": [
      "mode: meta_val, episode:  192, total_val_loss: 0.300644, \n",
      "val_mean_iou:{'papaya': 0.7866201061597788,\n",
      "'pig': 0.7965759488016745,\n",
      "'pool_table': 0.514585156517775,\n",
      "'pumpkin_pie': 0.8566134831152981,\n",
      "'running_shoe': 0.4968947767837164}\n",
      "\n",
      "Episode: 192, Episode Time: 0.067 minutes\n"
     ]
    },
    {
     "name": "stderr",
     "output_type": "stream",
     "text": [
      "18it [00:00, 36.19it/s]\n",
      "8it [00:00, 29.90it/s]\n",
      "8it [00:00, 30.13it/s]\n",
      "8it [00:00, 23.84it/s]\n",
      "8it [00:00, 35.26it/s]\n"
     ]
    },
    {
     "name": "stdout",
     "output_type": "stream",
     "text": [
      "mode: meta_val, episode:  193, total_val_loss: 0.198340, \n",
      "val_mean_iou:{'persian_cat': 0.7677398065707094,\n",
      "'pig': 0.8160907608839374,\n",
      "'plaice': 0.7759425479096991,\n",
      "'rally_car': 0.8166365418589613,\n",
      "'scarerow': 0.47084579978495666}\n",
      "\n",
      "Episode: 193, Episode Time: 0.069 minutes\n"
     ]
    },
    {
     "name": "stderr",
     "output_type": "stream",
     "text": [
      "18it [00:00, 36.35it/s]\n",
      "8it [00:00, 31.72it/s]\n",
      "8it [00:00, 32.43it/s]\n",
      "8it [00:00, 30.03it/s]\n",
      "8it [00:00, 29.22it/s]\n"
     ]
    },
    {
     "name": "stdout",
     "output_type": "stream",
     "text": [
      "mode: meta_val, episode:  194, total_val_loss: 0.220753, \n",
      "val_mean_iou:{'panther': 0.7831313115221064,\n",
      "'phonograph': 0.7610776660507819,\n",
      "'polecat': 0.7759937166508961,\n",
      "'reel': 0.7150189054030309,\n",
      "'soap': 0.6555814518870818}\n",
      "\n",
      "Episode: 194, Episode Time: 0.068 minutes\n"
     ]
    },
    {
     "name": "stderr",
     "output_type": "stream",
     "text": [
      "8it [00:00, 29.01it/s]\n",
      "8it [00:00, 29.74it/s]\n",
      "8it [00:00, 30.90it/s]\n",
      "8it [00:00, 30.40it/s]\n",
      "8it [00:00, 30.22it/s]\n"
     ]
    },
    {
     "name": "stdout",
     "output_type": "stream",
     "text": [
      "mode: meta_val, episode:  195, total_val_loss: 0.166063, \n",
      "val_mean_iou:{'pinwheel': 0.6285393791486946,\n",
      "'poached_egg': 0.7843205971232938,\n",
      "'proboscis': 0.7852730666938983,\n",
      "'scissors': 0.5997902134934701,\n",
      "'scroll_brush': 0.756664294640778}\n",
      "\n",
      "Episode: 195, Episode Time: 0.064 minutes\n"
     ]
    },
    {
     "name": "stderr",
     "output_type": "stream",
     "text": [
      "8it [00:00, 28.34it/s]\n",
      "8it [00:00, 30.51it/s]\n",
      "8it [00:00, 30.82it/s]\n",
      "8it [00:00, 31.01it/s]\n",
      "8it [00:00, 30.80it/s]\n"
     ]
    },
    {
     "name": "stdout",
     "output_type": "stream",
     "text": [
      "mode: meta_val, episode:  196, total_val_loss: 0.247882, \n",
      "val_mean_iou:{'peacock': 0.656841242575622,\n",
      "'police_car': 0.7293626207486854,\n",
      "'rally_car': 0.8178419556530545,\n",
      "'samarra_mosque': 0.649337123826584,\n",
      "'sloth_bear': 0.8155821740541936}\n",
      "\n",
      "Episode: 196, Episode Time: 0.064 minutes\n"
     ]
    },
    {
     "name": "stderr",
     "output_type": "stream",
     "text": [
      "8it [00:00, 29.20it/s]\n",
      "8it [00:00, 31.92it/s]\n",
      "8it [00:00, 29.54it/s]\n",
      "8it [00:00, 29.32it/s]\n",
      "8it [00:00, 30.27it/s]\n"
     ]
    },
    {
     "name": "stdout",
     "output_type": "stream",
     "text": [
      "mode: meta_val, episode:  197, total_val_loss: 0.218365, \n",
      "val_mean_iou:{'ostrich': 0.657471544166898,\n",
      "'pteropus': 0.7100721654414572,\n",
      "'pubg_airdrop': 0.6301314837050023,\n",
      "'snow_leopard': 0.7471569692939916,\n",
      "'sombrero': 0.616218673519903}\n",
      "\n",
      "Episode: 197, Episode Time: 0.064 minutes\n"
     ]
    },
    {
     "name": "stderr",
     "output_type": "stream",
     "text": [
      "8it [00:00, 28.06it/s]\n",
      "8it [00:00, 29.12it/s]\n",
      "8it [00:00, 29.11it/s]\n",
      "8it [00:00, 31.77it/s]\n",
      "8it [00:00, 32.12it/s]\n"
     ]
    },
    {
     "name": "stdout",
     "output_type": "stream",
     "text": [
      "mode: meta_val, episode:  198, total_val_loss: 0.232072, \n",
      "val_mean_iou:{'oyster': 0.7701954203151,\n",
      "'persimmon': 0.6781097144437018,\n",
      "'pomegranate': 0.8363768572207217,\n",
      "'pomelo': 0.7865997845236735,\n",
      "'porcupine': 0.7550674653887794}\n",
      "\n",
      "Episode: 198, Episode Time: 0.064 minutes\n"
     ]
    },
    {
     "name": "stderr",
     "output_type": "stream",
     "text": [
      "8it [00:00, 29.52it/s]\n",
      "18it [00:00, 34.82it/s]\n",
      "8it [00:00, 31.48it/s]\n",
      "8it [00:00, 29.65it/s]\n",
      "8it [00:00, 30.72it/s]\n"
     ]
    },
    {
     "name": "stdout",
     "output_type": "stream",
     "text": [
      "mode: meta_val, episode:  199, total_val_loss: 0.230174, \n",
      "val_mean_iou:{'pig': 0.8362226853795951,\n",
      "'reflex_camera': 0.7600947145384392,\n",
      "'shift_gear': 0.24083774758687146,\n",
      "'shih-tzu': 0.8845926803805484,\n",
      "'shopping_cart': 0.8110200804717759}\n",
      "\n",
      "Episode: 199, Episode Time: 0.067 minutes\n"
     ]
    },
    {
     "name": "stderr",
     "output_type": "stream",
     "text": [
      "8it [00:00, 30.74it/s]\n",
      "8it [00:00, 31.44it/s]\n",
      "8it [00:00, 29.60it/s]\n",
      "8it [00:00, 29.29it/s]\n",
      "8it [00:00, 31.38it/s]\n"
     ]
    },
    {
     "name": "stdout",
     "output_type": "stream",
     "text": [
      "mode: meta_val, episode:  200, total_val_loss: 0.244133, \n",
      "val_mean_iou:{'pokermon_ball': 0.7947197060423762,\n",
      "'rugby_ball': 0.5616192967871554,\n",
      "'school_bus': 0.7589557663050157,\n",
      "'shower_cap': 0.39911543487565687,\n",
      "'soap_dispenser': 0.8157010832277118}\n",
      "\n",
      "Episode: 200, Episode Time: 0.064 minutes\n",
      "num tasks: 5\n",
      "tr_imgs shape: torch.Size([5, 2, 224, 224, 3]), tr_masks shape: torch.Size([5, 2, 224, 224]) val_imgs shape: torch.Size([5, 5, 224, 224, 3]), val_masks shape: torch.Size([5, 5, 224, 224])\n"
     ]
    },
    {
     "name": "stderr",
     "output_type": "stream",
     "text": [
      "\r",
      "0it [00:00, ?it/s]"
     ]
    },
    {
     "name": "stdout",
     "output_type": "stream",
     "text": [
      "num tasks: 5\n",
      "tr_imgs shape: torch.Size([5, 2, 224, 224, 3]), tr_masks shape: torch.Size([5, 2, 224, 224]) val_imgs shape: 5 list of paths, val_masks shape: 5 list of paths\n"
     ]
    },
    {
     "name": "stderr",
     "output_type": "stream",
     "text": [
      "8it [00:00, 30.29it/s]\n",
      "8it [00:00, 30.38it/s]\n",
      "8it [00:00, 31.10it/s]\n",
      "8it [00:00, 30.22it/s]\n",
      "8it [00:00, 28.83it/s]\n"
     ]
    },
    {
     "name": "stdout",
     "output_type": "stream",
     "text": [
      "mode: meta_val, episode:  201, total_val_loss: 0.314431, \n",
      "val_mean_iou:{'panther': 0.7733630259930735,\n",
      "'photocopier': 0.6592783963864313,\n",
      "'pineapple': 0.5734987678669552,\n",
      "'revolver': 0.6546978825446963,\n",
      "'rock_beauty': 0.8097082982584392}\n",
      "\n",
      "Episode: 201, Episode Time: 0.064 minutes\n"
     ]
    },
    {
     "name": "stderr",
     "output_type": "stream",
     "text": [
      "8it [00:00, 28.71it/s]\n",
      "8it [00:00, 31.00it/s]\n",
      "8it [00:00, 30.74it/s]\n",
      "8it [00:00, 32.40it/s]\n",
      "8it [00:00, 31.53it/s]\n"
     ]
    },
    {
     "name": "stdout",
     "output_type": "stream",
     "text": [
      "mode: meta_val, episode:  202, total_val_loss: 0.323662, \n",
      "val_mean_iou:{'parachute': 0.780269740244527,\n",
      "'patas': 0.7411634583154028,\n",
      "'plastic_bag': 0.615155428242613,\n",
      "'redheart': 0.053325891657768285,\n",
      "'shumai': 0.59242377194819}\n",
      "\n",
      "Episode: 202, Episode Time: 0.064 minutes\n"
     ]
    },
    {
     "name": "stderr",
     "output_type": "stream",
     "text": [
      "38it [00:00, 41.40it/s]\n",
      "8it [00:00, 30.90it/s]\n",
      "18it [00:00, 36.71it/s]\n",
      "8it [00:00, 27.89it/s]\n",
      "18it [00:00, 37.44it/s]\n"
     ]
    },
    {
     "name": "stdout",
     "output_type": "stream",
     "text": [
      "mode: meta_val, episode:  203, total_val_loss: 0.155942, \n",
      "val_mean_iou:{'prairie_chicken': 0.8168411731808921,\n",
      "'pumpkin': 0.854779618141941,\n",
      "'raft': 0.7184013155313574,\n",
      "'seagull': 0.751610979682018,\n",
      "'soap': 0.6603012061514085}\n",
      "\n",
      "Episode: 203, Episode Time: 0.082 minutes\n"
     ]
    },
    {
     "name": "stderr",
     "output_type": "stream",
     "text": [
      "8it [00:00, 27.91it/s]\n",
      "8it [00:00, 30.58it/s]\n",
      "8it [00:00, 32.33it/s]\n",
      "18it [00:00, 32.66it/s]\n",
      "8it [00:00, 30.53it/s]\n"
     ]
    },
    {
     "name": "stdout",
     "output_type": "stream",
     "text": [
      "mode: meta_val, episode:  204, total_val_loss: 0.247606, \n",
      "val_mean_iou:{'poker': 0.6712557326634375,\n",
      "'pteropus': 0.7373490505924953,\n",
      "'rain_barrel': 0.6595421587401282,\n",
      "'seatbelt': 0.09908223547195268,\n",
      "'siamang': 0.7181578798815546}\n",
      "\n",
      "Episode: 204, Episode Time: 0.070 minutes\n"
     ]
    },
    {
     "name": "stderr",
     "output_type": "stream",
     "text": [
      "8it [00:00, 27.74it/s]\n",
      "8it [00:00, 27.95it/s]\n",
      "8it [00:00, 32.55it/s]\n",
      "8it [00:00, 28.52it/s]\n",
      "8it [00:00, 29.82it/s]\n"
     ]
    },
    {
     "name": "stdout",
     "output_type": "stream",
     "text": [
      "mode: meta_val, episode:  205, total_val_loss: 0.286407, \n",
      "val_mean_iou:{'partridge': 0.817922650713157,\n",
      "'pay_phone': 0.5620169166507134,\n",
      "'peacock': 0.5939114683303841,\n",
      "'pinecone': 0.8239710905250213,\n",
      "'ruler': 0.5050163279879187}\n",
      "\n",
      "Episode: 205, Episode Time: 0.067 minutes\n"
     ]
    },
    {
     "name": "stderr",
     "output_type": "stream",
     "text": [
      "8it [00:00, 29.41it/s]\n",
      "8it [00:00, 31.00it/s]\n",
      "58it [00:01, 41.02it/s]\n",
      "8it [00:00, 28.15it/s]\n",
      "8it [00:00, 28.76it/s]\n"
     ]
    },
    {
     "name": "stdout",
     "output_type": "stream",
     "text": [
      "mode: meta_val, episode:  206, total_val_loss: 0.287795, \n",
      "val_mean_iou:{'pill_bottle': 0.799703119476919,\n",
      "'santa_sledge': 0.5587273537280413,\n",
      "'sewing_machine': 0.5070448909754631,\n",
      "'snake': 0.5964651901054755,\n",
      "'snowplow': 0.7762319742017345}\n",
      "\n",
      "Episode: 206, Episode Time: 0.085 minutes\n"
     ]
    },
    {
     "name": "stderr",
     "output_type": "stream",
     "text": [
      "8it [00:00, 29.38it/s]\n",
      "8it [00:00, 31.04it/s]\n",
      "8it [00:00, 30.71it/s]\n",
      "8it [00:00, 30.94it/s]\n",
      "8it [00:00, 31.56it/s]\n"
     ]
    },
    {
     "name": "stdout",
     "output_type": "stream",
     "text": [
      "mode: meta_val, episode:  207, total_val_loss: 0.171137, \n",
      "val_mean_iou:{'quill_pen': 0.37066927072469646,\n",
      "'rain_barrel': 0.7303835081824832,\n",
      "'raven': 0.865390213034906,\n",
      "'rosehip': 0.5181309715219773,\n",
      "'sock': 0.758097843039122}\n",
      "\n",
      "Episode: 207, Episode Time: 0.064 minutes\n"
     ]
    },
    {
     "name": "stderr",
     "output_type": "stream",
     "text": [
      "8it [00:00, 29.69it/s]\n",
      "8it [00:00, 29.51it/s]\n",
      "8it [00:00, 30.84it/s]\n",
      "8it [00:00, 31.38it/s]\n",
      "8it [00:00, 31.37it/s]\n"
     ]
    },
    {
     "name": "stdout",
     "output_type": "stream",
     "text": [
      "mode: meta_val, episode:  208, total_val_loss: 0.209412, \n",
      "val_mean_iou:{'pheasant': 0.8800223023668315,\n",
      "'phonograph': 0.7403417304219815,\n",
      "'pubg_lvl3helmet': 0.4619009416431606,\n",
      "'relay_stick': 0.33365765964831606,\n",
      "'sloth_bear': 0.7891318471267437}\n",
      "\n",
      "Episode: 208, Episode Time: 0.064 minutes\n"
     ]
    },
    {
     "name": "stderr",
     "output_type": "stream",
     "text": [
      "8it [00:00, 30.55it/s]\n",
      "8it [00:00, 29.72it/s]\n",
      "8it [00:00, 29.96it/s]\n",
      "8it [00:00, 31.07it/s]\n",
      "8it [00:00, 29.45it/s]\n"
     ]
    },
    {
     "name": "stdout",
     "output_type": "stream",
     "text": [
      "mode: meta_val, episode:  209, total_val_loss: 0.182649, \n",
      "val_mean_iou:{'otter': 0.8725243436906027,\n",
      "'pickelhaube': 0.6879632510827539,\n",
      "'polecat': 0.7627590652554014,\n",
      "'rally_car': 0.8505628343522305,\n",
      "'sandal': 0.5962357411361039}\n",
      "\n",
      "Episode: 209, Episode Time: 0.064 minutes\n"
     ]
    },
    {
     "name": "stderr",
     "output_type": "stream",
     "text": [
      "8it [00:00, 28.25it/s]\n",
      "8it [00:00, 29.89it/s]\n",
      "8it [00:00, 27.37it/s]\n",
      "8it [00:00, 30.86it/s]\n",
      "8it [00:00, 28.75it/s]\n"
     ]
    },
    {
     "name": "stdout",
     "output_type": "stream",
     "text": [
      "mode: meta_val, episode:  210, total_val_loss: 0.300310, \n",
      "val_mean_iou:{'oyster': 0.6917248440244256,\n",
      "'pizza': 0.7707243550547345,\n",
      "'plastic_bag': 0.6644363910117792,\n",
      "'raven': 0.8643213694412493,\n",
      "'reflex_camera': 0.7656012882112537}\n",
      "\n",
      "Episode: 210, Episode Time: 0.066 minutes\n"
     ]
    },
    {
     "name": "stderr",
     "output_type": "stream",
     "text": [
      "8it [00:00, 29.73it/s]\n",
      "8it [00:00, 29.71it/s]\n",
      "8it [00:00, 29.03it/s]\n",
      "8it [00:00, 31.06it/s]\n",
      "8it [00:00, 29.93it/s]\n"
     ]
    },
    {
     "name": "stdout",
     "output_type": "stream",
     "text": [
      "mode: meta_val, episode:  211, total_val_loss: 0.223163, \n",
      "val_mean_iou:{'partridge': 0.7220538007556313,\n",
      "'pubg_airdrop': 0.6881109897941391,\n",
      "'refrigerator': 0.5528128622608492,\n",
      "'rock_beauty': 0.8992080686886026,\n",
      "'sidewinder': 0.7094585827229746}\n",
      "\n",
      "Episode: 211, Episode Time: 0.065 minutes\n"
     ]
    },
    {
     "name": "stderr",
     "output_type": "stream",
     "text": [
      "8it [00:00, 28.18it/s]\n",
      "8it [00:00, 30.82it/s]\n",
      "8it [00:00, 27.19it/s]\n",
      "8it [00:00, 29.90it/s]\n",
      "8it [00:00, 31.02it/s]\n"
     ]
    },
    {
     "name": "stdout",
     "output_type": "stream",
     "text": [
      "mode: meta_val, episode:  212, total_val_loss: 0.194306, \n",
      "val_mean_iou:{'platypus': 0.8227366145576478,\n",
      "'redshank': 0.5346053921520382,\n",
      "'reel': 0.7298020808437058,\n",
      "'ruler': 0.6453614841734556,\n",
      "'samarra_mosque': 0.7056057115865803}\n",
      "\n",
      "Episode: 212, Episode Time: 0.065 minutes\n"
     ]
    },
    {
     "name": "stderr",
     "output_type": "stream",
     "text": [
      "8it [00:00, 30.98it/s]\n",
      "8it [00:00, 31.36it/s]\n",
      "28it [00:00, 36.42it/s]\n",
      "8it [00:00, 29.08it/s]\n",
      "8it [00:00, 31.26it/s]\n"
     ]
    },
    {
     "name": "stdout",
     "output_type": "stream",
     "text": [
      "mode: meta_val, episode:  213, total_val_loss: 0.199726, \n",
      "val_mean_iou:{'pheasant': 0.7834817046149953,\n",
      "'potato': 0.718418464788113,\n",
      "'reflex_camera': 0.8024808633432218,\n",
      "'scarerow': 0.4719877830068931,\n",
      "'snail': 0.6507635432255191}\n",
      "\n",
      "Episode: 213, Episode Time: 0.073 minutes\n"
     ]
    },
    {
     "name": "stderr",
     "output_type": "stream",
     "text": [
      "8it [00:00, 27.86it/s]\n",
      "8it [00:00, 27.78it/s]\n",
      "8it [00:00, 29.05it/s]\n",
      "8it [00:00, 32.25it/s]\n",
      "8it [00:00, 28.11it/s]\n"
     ]
    },
    {
     "name": "stdout",
     "output_type": "stream",
     "text": [
      "mode: meta_val, episode:  214, total_val_loss: 0.286005, \n",
      "val_mean_iou:{'ostrich': 0.6971945519489284,\n",
      "'panpipe': 0.603454025809963,\n",
      "'patas': 0.7759040515620008,\n",
      "'redheart': 0.04118106902543903,\n",
      "'rice_cooker': 0.6988769087687288}\n",
      "\n",
      "Episode: 214, Episode Time: 0.067 minutes\n"
     ]
    },
    {
     "name": "stderr",
     "output_type": "stream",
     "text": [
      "8it [00:00, 29.01it/s]\n",
      "8it [00:00, 30.31it/s]\n",
      "8it [00:00, 29.41it/s]\n",
      "8it [00:00, 31.00it/s]\n",
      "8it [00:00, 30.82it/s]\n"
     ]
    },
    {
     "name": "stdout",
     "output_type": "stream",
     "text": [
      "mode: meta_val, episode:  215, total_val_loss: 0.343131, \n",
      "val_mean_iou:{'persimmon': 0.7272920166887344,\n",
      "'raven': 0.8312149309845033,\n",
      "'reel': 0.7488714830635033,\n",
      "'shower_curtain': 0.5430552142039833,\n",
      "'sock': 0.6690065443117355}\n",
      "\n",
      "Episode: 215, Episode Time: 0.067 minutes\n"
     ]
    },
    {
     "name": "stderr",
     "output_type": "stream",
     "text": [
      "8it [00:00, 30.66it/s]\n",
      "18it [00:00, 37.85it/s]\n",
      "8it [00:00, 31.35it/s]\n",
      "8it [00:00, 30.02it/s]\n",
      "18it [00:00, 36.52it/s]\n"
     ]
    },
    {
     "name": "stdout",
     "output_type": "stream",
     "text": [
      "mode: meta_val, episode:  216, total_val_loss: 0.290593, \n",
      "val_mean_iou:{'projector': 0.5675235031587738,\n",
      "'quail': 0.7548553319537636,\n",
      "'scabbard': 0.34968632037932434,\n",
      "'sea_urchin': 0.6699101344225449,\n",
      "'sled': 0.6388766516456488}\n",
      "\n",
      "Episode: 216, Episode Time: 0.074 minutes\n"
     ]
    },
    {
     "name": "stderr",
     "output_type": "stream",
     "text": [
      "8it [00:00, 30.32it/s]\n",
      "8it [00:00, 27.97it/s]\n",
      "8it [00:00, 31.75it/s]\n",
      "8it [00:00, 28.88it/s]\n",
      "8it [00:00, 25.82it/s]\n"
     ]
    },
    {
     "name": "stdout",
     "output_type": "stream",
     "text": [
      "mode: meta_val, episode:  217, total_val_loss: 0.343802, \n",
      "val_mean_iou:{'pepitas': 0.7095816970128828,\n",
      "'pingpong_ball': 0.12762260140691395,\n",
      "'pizza': 0.7888137315803114,\n",
      "'redheart': 0.045238879763150545,\n",
      "'santa_sledge': 0.6063964559767733}\n",
      "\n",
      "Episode: 217, Episode Time: 0.065 minutes\n"
     ]
    },
    {
     "name": "stderr",
     "output_type": "stream",
     "text": [
      "8it [00:00, 27.80it/s]\n",
      "8it [00:00, 30.95it/s]\n",
      "8it [00:00, 29.52it/s]\n",
      "8it [00:00, 29.20it/s]\n",
      "8it [00:00, 31.47it/s]\n"
     ]
    },
    {
     "name": "stdout",
     "output_type": "stream",
     "text": [
      "mode: meta_val, episode:  218, total_val_loss: 0.269898, \n",
      "val_mean_iou:{'paper_crane': 0.6323862633653478,\n",
      "'potato_chips': 0.5992031885694042,\n",
      "'ruffed_grouse': 0.7643250790746241,\n",
      "'shift_gear': 0.24076738473230208,\n",
      "'skateboard': 0.22886030998697762}\n",
      "\n",
      "Episode: 218, Episode Time: 0.066 minutes\n"
     ]
    },
    {
     "name": "stderr",
     "output_type": "stream",
     "text": [
      "8it [00:00, 30.23it/s]\n",
      "8it [00:00, 29.32it/s]\n",
      "8it [00:00, 31.66it/s]\n",
      "8it [00:00, 29.36it/s]\n",
      "18it [00:00, 35.45it/s]\n"
     ]
    },
    {
     "name": "stdout",
     "output_type": "stream",
     "text": [
      "mode: meta_val, episode:  219, total_val_loss: 0.351997, \n",
      "val_mean_iou:{'photocopier': 0.6563819527421759,\n",
      "'pubg_lvl3helmet': 0.40816056729530015,\n",
      "'quad_drone': 0.6686268112619214,\n",
      "'radio': 0.7958731857045354,\n",
      "'shakuhachi': 0.5414657920667337}\n",
      "\n",
      "Episode: 219, Episode Time: 0.068 minutes\n"
     ]
    },
    {
     "name": "stderr",
     "output_type": "stream",
     "text": [
      "8it [00:00, 30.70it/s]\n",
      "8it [00:00, 30.39it/s]\n",
      "8it [00:00, 28.33it/s]\n",
      "8it [00:00, 31.40it/s]\n",
      "8it [00:00, 31.14it/s]\n"
     ]
    },
    {
     "name": "stdout",
     "output_type": "stream",
     "text": [
      "mode: meta_val, episode:  220, total_val_loss: 0.300927, \n",
      "val_mean_iou:{'pheasant': 0.8438904571412564,\n",
      "'printer': 0.6899854707772024,\n",
      "'rock_snake': 0.6217188912171343,\n",
      "'sandbar': 0.2563365236759711,\n",
      "'sewing_machine': 0.631970788137086}\n",
      "\n",
      "Episode: 220, Episode Time: 0.065 minutes\n"
     ]
    },
    {
     "name": "stderr",
     "output_type": "stream",
     "text": [
      "8it [00:00, 28.36it/s]\n",
      "8it [00:00, 29.79it/s]\n",
      "8it [00:00, 30.64it/s]\n",
      "8it [00:00, 29.59it/s]\n",
      "8it [00:00, 29.48it/s]\n"
     ]
    },
    {
     "name": "stdout",
     "output_type": "stream",
     "text": [
      "mode: meta_val, episode:  221, total_val_loss: 0.429946, \n",
      "val_mean_iou:{'pay_phone': 0.5052915702072667,\n",
      "'piano_keyboard': 0.41880497622285534,\n",
      "'pyraminx': 0.7677603856376618,\n",
      "'rabbit': 0.8594839362232756,\n",
      "'redshank': 0.5940138301932232}\n",
      "\n",
      "Episode: 221, Episode Time: 0.065 minutes\n"
     ]
    },
    {
     "name": "stderr",
     "output_type": "stream",
     "text": [
      "28it [00:00, 37.93it/s]\n",
      "8it [00:00, 29.61it/s]\n",
      "8it [00:00, 31.01it/s]\n",
      "8it [00:00, 28.55it/s]\n",
      "8it [00:00, 29.95it/s]\n"
     ]
    },
    {
     "name": "stdout",
     "output_type": "stream",
     "text": [
      "mode: meta_val, episode:  222, total_val_loss: 0.201626, \n",
      "val_mean_iou:{'peregine_falcon': 0.861070325711507,\n",
      "'pokermon_ball': 0.8314149993388202,\n",
      "'potato_chips': 0.6113674740007744,\n",
      "'pyramid': 0.6557039460740911,\n",
      "'shovel': 0.5317905738194364}\n",
      "\n",
      "Episode: 222, Episode Time: 0.073 minutes\n"
     ]
    },
    {
     "name": "stderr",
     "output_type": "stream",
     "text": [
      "8it [00:00, 30.16it/s]\n",
      "8it [00:00, 29.69it/s]\n",
      "8it [00:00, 29.44it/s]\n",
      "8it [00:00, 30.17it/s]\n",
      "8it [00:00, 29.80it/s]\n"
     ]
    },
    {
     "name": "stdout",
     "output_type": "stream",
     "text": [
      "mode: meta_val, episode:  223, total_val_loss: 0.326504, \n",
      "val_mean_iou:{'paddle': 0.6695401028171051,\n",
      "'parallel_bars': 0.27406161974624454,\n",
      "'pinecone': 0.8456426447663689,\n",
      "'plastic_bag': 0.6496402861704479,\n",
      "'snowplow': 0.7990861404564817}\n",
      "\n",
      "Episode: 223, Episode Time: 0.066 minutes\n"
     ]
    },
    {
     "name": "stderr",
     "output_type": "stream",
     "text": [
      "8it [00:00, 28.90it/s]\n",
      "8it [00:00, 30.04it/s]\n",
      "8it [00:00, 28.39it/s]\n",
      "8it [00:00, 32.41it/s]\n",
      "8it [00:00, 29.72it/s]\n"
     ]
    },
    {
     "name": "stdout",
     "output_type": "stream",
     "text": [
      "mode: meta_val, episode:  224, total_val_loss: 0.201773, \n",
      "val_mean_iou:{'platypus': 0.8087993772769179,\n",
      "'rugby_ball': 0.580904195526518,\n",
      "'scabbard': 0.2912948525962231,\n",
      "'sea_cucumber': 0.8432187295628646,\n",
      "'shih-tzu': 0.8398755858325383}\n",
      "\n",
      "Episode: 224, Episode Time: 0.065 minutes\n"
     ]
    },
    {
     "name": "stderr",
     "output_type": "stream",
     "text": [
      "8it [00:00, 28.54it/s]\n",
      "8it [00:00, 29.97it/s]\n",
      "8it [00:00, 30.35it/s]\n",
      "8it [00:00, 31.19it/s]\n",
      "8it [00:00, 29.99it/s]\n"
     ]
    },
    {
     "name": "stdout",
     "output_type": "stream",
     "text": [
      "mode: meta_val, episode:  225, total_val_loss: 0.223334, \n",
      "val_mean_iou:{'pomelo': 0.7228853166049503,\n",
      "'porcupine': 0.760357998286942,\n",
      "'roller_skate': 0.79944326575743,\n",
      "'shakuhachi': 0.51153114971463,\n",
      "'ski_mask': 0.5969816005558146}\n",
      "\n",
      "Episode: 225, Episode Time: 0.065 minutes\n"
     ]
    },
    {
     "name": "stderr",
     "output_type": "stream",
     "text": [
      "128it [00:03, 41.35it/s]\n",
      "8it [00:00, 29.75it/s]\n",
      "8it [00:00, 31.69it/s]\n",
      "8it [00:00, 29.19it/s]\n",
      "8it [00:00, 27.30it/s]\n"
     ]
    },
    {
     "name": "stdout",
     "output_type": "stream",
     "text": [
      "mode: meta_val, episode:  226, total_val_loss: 0.242141, \n",
      "val_mean_iou:{'ox': 0.7980631360094247,\n",
      "'pingpong_ball': 0.1133664626598549,\n",
      "'rain_barrel': 0.6380418056208834,\n",
      "'shakuhachi': 0.6208954397850566,\n",
      "'sidewinder': 0.7849561558901057}\n",
      "\n",
      "Episode: 226, Episode Time: 0.112 minutes\n"
     ]
    },
    {
     "name": "stderr",
     "output_type": "stream",
     "text": [
      "8it [00:00, 28.90it/s]\n",
      "8it [00:00, 30.26it/s]\n",
      "8it [00:00, 28.97it/s]\n",
      "8it [00:00, 29.70it/s]\n",
      "8it [00:00, 28.96it/s]\n"
     ]
    },
    {
     "name": "stdout",
     "output_type": "stream",
     "text": [
      "mode: meta_val, episode:  227, total_val_loss: 0.185500, \n",
      "val_mean_iou:{'pencil_sharpener1': 0.7652319175537913,\n",
      "'petri_dish': 0.7755581359818108,\n",
      "'pistachio': 0.6914892242889368,\n",
      "'ringlet_butterfly': 0.9003018217930893,\n",
      "'smoothing_iron': 0.7422690105241465}\n",
      "\n",
      "Episode: 227, Episode Time: 0.065 minutes\n"
     ]
    },
    {
     "name": "stderr",
     "output_type": "stream",
     "text": [
      "8it [00:00, 30.98it/s]\n",
      "8it [00:00, 29.05it/s]\n",
      "8it [00:00, 29.48it/s]\n",
      "8it [00:00, 31.43it/s]\n",
      "8it [00:00, 30.83it/s]\n"
     ]
    },
    {
     "name": "stdout",
     "output_type": "stream",
     "text": [
      "mode: meta_val, episode:  228, total_val_loss: 0.202861, \n",
      "val_mean_iou:{'paddle': 0.7437325767585051,\n",
      "'pickup': 0.8821792923240617,\n",
      "'radiator': 0.6851122222702948,\n",
      "'raven': 0.8630741727200782,\n",
      "'shovel': 0.540483692905647}\n",
      "\n",
      "Episode: 228, Episode Time: 0.063 minutes\n"
     ]
    },
    {
     "name": "stderr",
     "output_type": "stream",
     "text": [
      "18it [00:00, 36.74it/s]\n",
      "8it [00:00, 30.70it/s]\n",
      "8it [00:00, 30.80it/s]\n",
      "8it [00:00, 30.06it/s]\n",
      "8it [00:00, 28.71it/s]\n"
     ]
    },
    {
     "name": "stdout",
     "output_type": "stream",
     "text": [
      "mode: meta_val, episode:  229, total_val_loss: 0.218887, \n",
      "val_mean_iou:{'pencil_sharpener1': 0.7636661608162332,\n",
      "'pteropus': 0.7334159515227663,\n",
      "'radio': 0.772066948513284,\n",
      "'recreational_vehicle': 0.7917121019857986,\n",
      "'rice_cooker': 0.6947325251819845}\n",
      "\n",
      "Episode: 229, Episode Time: 0.067 minutes\n"
     ]
    },
    {
     "name": "stderr",
     "output_type": "stream",
     "text": [
      "8it [00:00, 30.10it/s]\n",
      "8it [00:00, 30.34it/s]\n",
      "8it [00:00, 29.92it/s]\n",
      "8it [00:00, 29.13it/s]\n",
      "8it [00:00, 29.55it/s]\n"
     ]
    },
    {
     "name": "stdout",
     "output_type": "stream",
     "text": [
      "mode: meta_val, episode:  230, total_val_loss: 0.198818, \n",
      "val_mean_iou:{'pteropus': 0.7441849883122045,\n",
      "'pyramid_cube': 0.7499239097375179,\n",
      "'saluki': 0.7907080427879161,\n",
      "'schooner': 0.6613110260916888,\n",
      "'snowball': 0.5638733530378651}\n",
      "\n",
      "Episode: 230, Episode Time: 0.065 minutes\n"
     ]
    },
    {
     "name": "stderr",
     "output_type": "stream",
     "text": [
      "8it [00:00, 29.86it/s]\n",
      "8it [00:00, 31.43it/s]\n",
      "8it [00:00, 31.54it/s]\n",
      "8it [00:00, 30.14it/s]\n",
      "8it [00:00, 30.75it/s]\n"
     ]
    },
    {
     "name": "stdout",
     "output_type": "stream",
     "text": [
      "mode: meta_val, episode:  231, total_val_loss: 0.186217, \n",
      "val_mean_iou:{'papaya': 0.8108244307562298,\n",
      "'pencil_box': 0.7676515906846757,\n",
      "'peregine_falcon': 0.8588071285834585,\n",
      "'pickelhaube': 0.7110997728546726,\n",
      "'rosehip': 0.5714534440054044}\n",
      "\n",
      "Episode: 231, Episode Time: 0.064 minutes\n"
     ]
    },
    {
     "name": "stderr",
     "output_type": "stream",
     "text": [
      "8it [00:00, 29.70it/s]\n",
      "8it [00:00, 30.33it/s]\n",
      "8it [00:00, 30.80it/s]\n",
      "8it [00:00, 29.69it/s]\n",
      "8it [00:00, 29.97it/s]\n"
     ]
    },
    {
     "name": "stdout",
     "output_type": "stream",
     "text": [
      "mode: meta_val, episode:  232, total_val_loss: 0.197284, \n",
      "val_mean_iou:{'pickup': 0.802175779023525,\n",
      "'pubg_lvl3backpack': 0.5624608870555392,\n",
      "'raccoon': 0.8048380943371399,\n",
      "'rain_barrel': 0.7660790901944479,\n",
      "'reflex_camera': 0.7773992786744082}\n",
      "\n",
      "Episode: 232, Episode Time: 0.064 minutes\n"
     ]
    },
    {
     "name": "stderr",
     "output_type": "stream",
     "text": [
      "8it [00:00, 30.10it/s]\n",
      "8it [00:00, 31.56it/s]\n",
      "8it [00:00, 32.58it/s]\n",
      "8it [00:00, 31.64it/s]\n",
      "8it [00:00, 28.76it/s]\n"
     ]
    },
    {
     "name": "stdout",
     "output_type": "stream",
     "text": [
      "mode: meta_val, episode:  233, total_val_loss: 0.170713, \n",
      "val_mean_iou:{'patas': 0.7661845234687825,\n",
      "'rocket': 0.3915859973986286,\n",
      "'rugby_ball': 0.5947199000985686,\n",
      "'sandal': 0.6567751544831599,\n",
      "'siamese_cat': 0.805954755722916}\n",
      "\n",
      "Episode: 233, Episode Time: 0.064 minutes\n"
     ]
    },
    {
     "name": "stderr",
     "output_type": "stream",
     "text": [
      "8it [00:00, 29.04it/s]\n",
      "18it [00:00, 36.16it/s]\n",
      "8it [00:00, 30.31it/s]\n",
      "8it [00:00, 30.77it/s]\n",
      "8it [00:00, 30.13it/s]\n"
     ]
    },
    {
     "name": "stdout",
     "output_type": "stream",
     "text": [
      "mode: meta_val, episode:  234, total_val_loss: 0.177586, \n",
      "val_mean_iou:{'paddle': 0.6589698146554729,\n",
      "'pumpkin': 0.8524890687940807,\n",
      "'pumpkin_pie': 0.8402770144368912,\n",
      "'rally_car': 0.8279120185412081,\n",
      "'rubick_cube': 0.8743297342186893}\n",
      "\n",
      "Episode: 234, Episode Time: 0.069 minutes\n"
     ]
    },
    {
     "name": "stderr",
     "output_type": "stream",
     "text": [
      "18it [00:00, 36.97it/s]\n",
      "8it [00:00, 29.42it/s]\n",
      "8it [00:00, 30.70it/s]\n",
      "8it [00:00, 30.71it/s]\n",
      "8it [00:00, 31.19it/s]\n"
     ]
    },
    {
     "name": "stdout",
     "output_type": "stream",
     "text": [
      "mode: meta_val, episode:  235, total_val_loss: 0.202271, \n",
      "val_mean_iou:{'polecat': 0.8020735155687235,\n",
      "'remote_control': 0.6402153087969646,\n",
      "'roller_coaster': 0.549371884634104,\n",
      "'samarra_mosque': 0.6606092760001525,\n",
      "'soap': 0.6662034766579256}\n",
      "\n",
      "Episode: 235, Episode Time: 0.067 minutes\n"
     ]
    },
    {
     "name": "stderr",
     "output_type": "stream",
     "text": [
      "18it [00:00, 37.26it/s]\n",
      "8it [00:00, 31.88it/s]\n",
      "38it [00:00, 41.04it/s]\n",
      "8it [00:00, 30.03it/s]\n",
      "8it [00:00, 29.52it/s]\n"
     ]
    },
    {
     "name": "stdout",
     "output_type": "stream",
     "text": [
      "mode: meta_val, episode:  236, total_val_loss: 0.167603, \n",
      "val_mean_iou:{'paper_plane': 0.5343912340276272,\n",
      "'pinecone': 0.8590476255230648,\n",
      "'raft': 0.7388942652574445,\n",
      "'seal': 0.8482551780040084,\n",
      "'skateboard': 0.23875225342303869}\n",
      "\n",
      "Episode: 236, Episode Time: 0.079 minutes\n"
     ]
    },
    {
     "name": "stderr",
     "output_type": "stream",
     "text": [
      "8it [00:00, 28.32it/s]\n",
      "8it [00:00, 30.54it/s]\n",
      "8it [00:00, 31.41it/s]\n",
      "8it [00:00, 30.99it/s]\n",
      "8it [00:00, 27.92it/s]\n"
     ]
    },
    {
     "name": "stdout",
     "output_type": "stream",
     "text": [
      "mode: meta_val, episode:  237, total_val_loss: 0.254951, \n",
      "val_mean_iou:{'plastic_bag': 0.6259063255545586,\n",
      "'platypus': 0.8097945220620699,\n",
      "'proboscis': 0.8402505770857059,\n",
      "'samarra_mosque': 0.7402467157817614,\n",
      "'sarong': 0.5836796831787958}\n",
      "\n",
      "Episode: 237, Episode Time: 0.064 minutes\n"
     ]
    },
    {
     "name": "stderr",
     "output_type": "stream",
     "text": [
      "8it [00:00, 29.56it/s]\n",
      "8it [00:00, 30.91it/s]\n",
      "8it [00:00, 30.97it/s]\n",
      "8it [00:00, 29.68it/s]\n",
      "8it [00:00, 30.51it/s]\n"
     ]
    },
    {
     "name": "stdout",
     "output_type": "stream",
     "text": [
      "mode: meta_val, episode:  238, total_val_loss: 0.143830, \n",
      "val_mean_iou:{'pickup': 0.8653308010868652,\n",
      "'pistachio': 0.7320589652832157,\n",
      "'platypus': 0.8796561137036782,\n",
      "'rugby_ball': 0.5828572674880819,\n",
      "'skull': 0.9208798189166785}\n",
      "\n",
      "Episode: 238, Episode Time: 0.064 minutes\n"
     ]
    },
    {
     "name": "stderr",
     "output_type": "stream",
     "text": [
      "8it [00:00, 28.89it/s]\n",
      "8it [00:00, 29.70it/s]\n",
      "8it [00:00, 29.57it/s]\n",
      "8it [00:00, 31.14it/s]\n",
      "8it [00:00, 31.53it/s]\n"
     ]
    },
    {
     "name": "stdout",
     "output_type": "stream",
     "text": [
      "mode: meta_val, episode:  239, total_val_loss: 0.260231, \n",
      "val_mean_iou:{'poached_egg': 0.7604044976296442,\n",
      "'pretzel': 0.6461674312952408,\n",
      "'pumpkin_pie': 0.8107338796493515,\n",
      "'radiator': 0.6307077633358515,\n",
      "'sombrero': 0.6709348928960233}\n",
      "\n",
      "Episode: 239, Episode Time: 0.064 minutes\n"
     ]
    },
    {
     "name": "stderr",
     "output_type": "stream",
     "text": [
      "8it [00:00, 29.83it/s]\n",
      "8it [00:00, 29.62it/s]\n",
      "8it [00:00, 29.86it/s]\n",
      "8it [00:00, 29.39it/s]\n",
      "8it [00:00, 31.19it/s]\n"
     ]
    },
    {
     "name": "stdout",
     "output_type": "stream",
     "text": [
      "mode: meta_val, episode:  240, total_val_loss: 0.223168, \n",
      "val_mean_iou:{'oyster': 0.7780468224521031,\n",
      "'pickup': 0.9044095835648691,\n",
      "'scabbard': 0.3392241834252553,\n",
      "'shih-tzu': 0.8731176231731167,\n",
      "'skunk': 0.8519920443476791}\n",
      "\n",
      "Episode: 240, Episode Time: 0.064 minutes\n"
     ]
    },
    {
     "name": "stderr",
     "output_type": "stream",
     "text": [
      "8it [00:00, 29.47it/s]\n",
      "8it [00:00, 30.23it/s]\n",
      "8it [00:00, 29.02it/s]\n",
      "8it [00:00, 30.78it/s]\n",
      "8it [00:00, 31.75it/s]\n"
     ]
    },
    {
     "name": "stdout",
     "output_type": "stream",
     "text": [
      "mode: meta_val, episode:  241, total_val_loss: 0.210294, \n",
      "val_mean_iou:{'pizza': 0.7928512568795418,\n",
      "'prairie_chicken': 0.8013799376356656,\n",
      "'rice_cooker': 0.7265055418655444,\n",
      "'rubick_cube': 0.9027814906825282,\n",
      "'shopping_cart': 0.7751859910201555}\n",
      "\n",
      "Episode: 241, Episode Time: 0.065 minutes\n"
     ]
    },
    {
     "name": "stderr",
     "output_type": "stream",
     "text": [
      "8it [00:00, 27.11it/s]\n",
      "8it [00:00, 31.17it/s]\n",
      "8it [00:00, 32.78it/s]\n",
      "8it [00:00, 29.41it/s]\n",
      "8it [00:00, 28.19it/s]\n"
     ]
    },
    {
     "name": "stdout",
     "output_type": "stream",
     "text": [
      "mode: meta_val, episode:  242, total_val_loss: 0.244736, \n",
      "val_mean_iou:{'proboscis': 0.8048663115741069,\n",
      "'quail_egg': 0.6934188119544445,\n",
      "'red_wolf': 0.7617484421964658,\n",
      "'refrigerator': 0.6612105105014806,\n",
      "'snowball': 0.45707649982836074}\n",
      "\n",
      "Episode: 242, Episode Time: 0.065 minutes\n"
     ]
    },
    {
     "name": "stderr",
     "output_type": "stream",
     "text": [
      "88it [00:02, 37.33it/s]\n",
      "8it [00:00, 31.33it/s]\n",
      "8it [00:00, 31.54it/s]\n",
      "8it [00:00, 31.60it/s]\n",
      "8it [00:00, 30.45it/s]\n"
     ]
    },
    {
     "name": "stdout",
     "output_type": "stream",
     "text": [
      "mode: meta_val, episode:  243, total_val_loss: 0.195303, \n",
      "val_mean_iou:{'panther': 0.7983894663873599,\n",
      "'pen': 0.6137219433030752,\n",
      "'quill_pen': 0.37803057643899973,\n",
      "'ringlet_butterfly': 0.9198942294134245,\n",
      "'smoothing_iron': 0.7718354194360062}\n",
      "\n",
      "Episode: 243, Episode Time: 0.099 minutes\n"
     ]
    },
    {
     "name": "stderr",
     "output_type": "stream",
     "text": [
      "8it [00:00, 30.72it/s]\n",
      "8it [00:00, 31.13it/s]\n",
      "8it [00:00, 32.56it/s]\n",
      "18it [00:00, 32.00it/s]\n",
      "8it [00:00, 27.97it/s]\n"
     ]
    },
    {
     "name": "stdout",
     "output_type": "stream",
     "text": [
      "mode: meta_val, episode:  244, total_val_loss: 0.151465, \n",
      "val_mean_iou:{'plate': 0.8785987946648255,\n",
      "'potted_plant': 0.7282131233654873,\n",
      "'rabbit': 0.8421887309006957,\n",
      "'seal': 0.8790547856469868,\n",
      "'soap_dispenser': 0.8308126012239134}\n",
      "\n",
      "Episode: 244, Episode Time: 0.070 minutes\n"
     ]
    },
    {
     "name": "stderr",
     "output_type": "stream",
     "text": [
      "8it [00:00, 28.05it/s]\n",
      "8it [00:00, 28.27it/s]\n",
      "8it [00:00, 26.88it/s]\n",
      "8it [00:00, 29.27it/s]\n",
      "8it [00:00, 29.46it/s]\n"
     ]
    },
    {
     "name": "stdout",
     "output_type": "stream",
     "text": [
      "mode: meta_val, episode:  245, total_val_loss: 0.305031, \n",
      "val_mean_iou:{'photocopier': 0.6755679265034868,\n",
      "'quill_pen': 0.47305192406531194,\n",
      "'radiator': 0.7380369942018398,\n",
      "'rubick_cube': 0.9133858853111505,\n",
      "'santa_sledge': 0.5551584515646136}\n",
      "\n",
      "Episode: 245, Episode Time: 0.070 minutes\n"
     ]
    },
    {
     "name": "stderr",
     "output_type": "stream",
     "text": [
      "8it [00:00, 28.89it/s]\n",
      "8it [00:00, 26.82it/s]\n",
      "8it [00:00, 26.66it/s]\n",
      "8it [00:00, 25.62it/s]\n",
      "8it [00:00, 27.04it/s]\n"
     ]
    },
    {
     "name": "stdout",
     "output_type": "stream",
     "text": [
      "mode: meta_val, episode:  246, total_val_loss: 0.191221, \n",
      "val_mean_iou:{'rock_snake': 0.6867561938037333,\n",
      "'rubick_cube': 0.9040340384393148,\n",
      "'santa_sledge': 0.5363707910127546,\n",
      "'scorpion': 0.6882807573006106,\n",
      "'screwdriver': 0.674351483409911}\n",
      "\n",
      "Episode: 246, Episode Time: 0.072 minutes\n"
     ]
    },
    {
     "name": "stderr",
     "output_type": "stream",
     "text": [
      "8it [00:00, 28.46it/s]\n",
      "128it [00:03, 36.57it/s]\n",
      "8it [00:00, 27.85it/s]\n",
      "8it [00:00, 28.27it/s]\n",
      "8it [00:00, 27.60it/s]\n"
     ]
    },
    {
     "name": "stdout",
     "output_type": "stream",
     "text": [
      "mode: meta_val, episode:  247, total_val_loss: 0.248384, \n",
      "val_mean_iou:{'ox': 0.8043838722266022,\n",
      "'parachute': 0.7353519388527223,\n",
      "'rock_beauty': 0.7324071598153203,\n",
      "'scissors': 0.5210325096196584,\n",
      "'shower_curtain': 0.6545866139615902}\n",
      "\n",
      "Episode: 247, Episode Time: 0.123 minutes\n"
     ]
    },
    {
     "name": "stderr",
     "output_type": "stream",
     "text": [
      "8it [00:00, 28.76it/s]\n",
      "8it [00:00, 28.90it/s]\n",
      "8it [00:00, 26.62it/s]\n",
      "8it [00:00, 26.34it/s]\n",
      "8it [00:00, 29.81it/s]\n"
     ]
    },
    {
     "name": "stdout",
     "output_type": "stream",
     "text": [
      "mode: meta_val, episode:  248, total_val_loss: 0.260268, \n",
      "val_mean_iou:{'paint_brush': 0.7133004077719077,\n",
      "'raccoon': 0.8288046494275256,\n",
      "'remote_control': 0.6276374942632048,\n",
      "'ruler': 0.7070194592712991,\n",
      "'sniper_rifle': 0.4881795649084271}\n",
      "\n",
      "Episode: 248, Episode Time: 0.070 minutes\n"
     ]
    },
    {
     "name": "stderr",
     "output_type": "stream",
     "text": [
      "8it [00:00, 28.11it/s]\n",
      "8it [00:00, 28.44it/s]\n",
      "8it [00:00, 27.90it/s]\n",
      "8it [00:00, 29.71it/s]\n",
      "8it [00:00, 26.77it/s]\n"
     ]
    },
    {
     "name": "stdout",
     "output_type": "stream",
     "text": [
      "mode: meta_val, episode:  249, total_val_loss: 0.198740, \n",
      "val_mean_iou:{'park_bench': 0.5544501412332623,\n",
      "'pistachio': 0.735320645354149,\n",
      "'potato_chips': 0.6796565344026289,\n",
      "'prairie_chicken': 0.7996888042263872,\n",
      "'smoothing_iron': 0.7803145954156666}\n",
      "\n",
      "Episode: 249, Episode Time: 0.069 minutes\n"
     ]
    },
    {
     "name": "stderr",
     "output_type": "stream",
     "text": [
      "8it [00:00, 25.49it/s]\n",
      "8it [00:00, 28.97it/s]\n",
      "8it [00:00, 28.96it/s]\n",
      "8it [00:00, 29.83it/s]\n",
      "8it [00:00, 28.54it/s]\n"
     ]
    },
    {
     "name": "stdout",
     "output_type": "stream",
     "text": [
      "mode: meta_val, episode:  250, total_val_loss: 0.269814, \n",
      "val_mean_iou:{'pool_table': 0.5128777488499947,\n",
      "'pubg_lvl3backpack': 0.4414795626346181,\n",
      "'ringlet_butterfly': 0.9180661439218958,\n",
      "'saluki': 0.657920195545665,\n",
      "'skua': 0.8185828397859328}\n",
      "\n",
      "Episode: 250, Episode Time: 0.068 minutes\n"
     ]
    },
    {
     "name": "stderr",
     "output_type": "stream",
     "text": [
      "8it [00:00, 26.91it/s]\n",
      "8it [00:00, 28.72it/s]\n",
      "8it [00:00, 28.98it/s]\n",
      "8it [00:00, 27.08it/s]\n",
      "8it [00:00, 29.71it/s]\n"
     ]
    },
    {
     "name": "stdout",
     "output_type": "stream",
     "text": [
      "mode: meta_val, episode:  251, total_val_loss: 0.285106, \n",
      "val_mean_iou:{'pickup': 0.8422118303523105,\n",
      "'pineapple': 0.6547246238745572,\n",
      "'prayer_rug': 0.6977074031806941,\n",
      "'ptarmigan': 0.8070210170829266,\n",
      "'skunk': 0.8472901037297428}\n",
      "\n",
      "Episode: 251, Episode Time: 0.068 minutes\n"
     ]
    },
    {
     "name": "stderr",
     "output_type": "stream",
     "text": [
      "8it [00:00, 29.47it/s]\n",
      "8it [00:00, 30.72it/s]\n",
      "8it [00:00, 25.88it/s]\n",
      "8it [00:00, 26.22it/s]\n",
      "8it [00:00, 27.34it/s]\n"
     ]
    },
    {
     "name": "stdout",
     "output_type": "stream",
     "text": [
      "mode: meta_val, episode:  252, total_val_loss: 0.298032, \n",
      "val_mean_iou:{'pencil_box': 0.7989992218609079,\n",
      "'photocopier': 0.6547719177546564,\n",
      "'rocking_chair': 0.7380422093542075,\n",
      "'samarra_mosque': 0.6713168609950249,\n",
      "'sock': 0.7311860943125139}\n",
      "\n",
      "Episode: 252, Episode Time: 0.069 minutes\n"
     ]
    },
    {
     "name": "stderr",
     "output_type": "stream",
     "text": [
      "8it [00:00, 28.09it/s]\n",
      "8it [00:00, 30.36it/s]\n",
      "8it [00:00, 30.22it/s]\n",
      "8it [00:00, 28.69it/s]\n",
      "8it [00:00, 29.06it/s]\n"
     ]
    },
    {
     "name": "stdout",
     "output_type": "stream",
     "text": [
      "mode: meta_val, episode:  253, total_val_loss: 0.248382, \n",
      "val_mean_iou:{'paddle': 0.7097259184686869,\n",
      "'paper_plane': 0.6429224333769838,\n",
      "'reel': 0.7910574144325583,\n",
      "'sandbar': 0.36933851146985586,\n",
      "'saxophone': 0.6006978255481047}\n",
      "\n",
      "Episode: 253, Episode Time: 0.067 minutes\n"
     ]
    },
    {
     "name": "stderr",
     "output_type": "stream",
     "text": [
      "8it [00:00, 27.78it/s]\n",
      "8it [00:00, 27.99it/s]\n",
      "8it [00:00, 30.25it/s]\n",
      "8it [00:00, 29.11it/s]\n",
      "8it [00:00, 27.25it/s]\n"
     ]
    },
    {
     "name": "stdout",
     "output_type": "stream",
     "text": [
      "mode: meta_val, episode:  254, total_val_loss: 0.306971, \n",
      "val_mean_iou:{'prayer_rug': 0.7566432040604993,\n",
      "'sandwich_cookies': 0.8229379387887551,\n",
      "'scroll_brush': 0.7466451615747564,\n",
      "'shower_cap': 0.42346984319050096,\n",
      "'single_log': 0.21343806933798795}\n",
      "\n",
      "Episode: 254, Episode Time: 0.068 minutes\n"
     ]
    },
    {
     "name": "stderr",
     "output_type": "stream",
     "text": [
      "8it [00:00, 26.93it/s]\n",
      "8it [00:00, 30.32it/s]\n",
      "8it [00:00, 29.44it/s]\n",
      "18it [00:00, 36.07it/s]\n",
      "8it [00:00, 28.57it/s]\n"
     ]
    },
    {
     "name": "stdout",
     "output_type": "stream",
     "text": [
      "mode: meta_val, episode:  255, total_val_loss: 0.158309, \n",
      "val_mean_iou:{'parachute': 0.7970141807662264,\n",
      "'radiator': 0.7101087323675632,\n",
      "'red_wolf': 0.7578274129804184,\n",
      "'rose': 0.6494530647409816,\n",
      "'skunk': 0.8399849798482247}\n",
      "\n",
      "Episode: 255, Episode Time: 0.071 minutes\n"
     ]
    },
    {
     "name": "stderr",
     "output_type": "stream",
     "text": [
      "8it [00:00, 28.62it/s]\n",
      "8it [00:00, 28.99it/s]\n",
      "8it [00:00, 29.42it/s]\n",
      "8it [00:00, 30.44it/s]\n",
      "8it [00:00, 30.35it/s]\n"
     ]
    },
    {
     "name": "stdout",
     "output_type": "stream",
     "text": [
      "mode: meta_val, episode:  256, total_val_loss: 0.253910, \n",
      "val_mean_iou:{'projector': 0.5526481601346636,\n",
      "'pyraminx': 0.7167267923920984,\n",
      "'rugby_ball': 0.6840102377623811,\n",
      "'snowmobile': 0.4461331354064489,\n",
      "'soap_dispenser': 0.7844467286389842}\n",
      "\n",
      "Episode: 256, Episode Time: 0.067 minutes\n"
     ]
    },
    {
     "name": "stderr",
     "output_type": "stream",
     "text": [
      "8it [00:00, 26.51it/s]\n",
      "8it [00:00, 29.20it/s]\n",
      "8it [00:00, 27.42it/s]\n",
      "8it [00:00, 29.31it/s]\n",
      "8it [00:00, 29.36it/s]\n"
     ]
    },
    {
     "name": "stdout",
     "output_type": "stream",
     "text": [
      "mode: meta_val, episode:  257, total_val_loss: 0.234680, \n",
      "val_mean_iou:{'poached_egg': 0.8018935362297799,\n",
      "'reflex_camera': 0.7794056501637183,\n",
      "'sandal': 0.7173194967233609,\n",
      "'shuriken': 0.4670533202952133,\n",
      "'sleeping_bag': 0.6905285835211168}\n",
      "\n",
      "Episode: 257, Episode Time: 0.067 minutes\n"
     ]
    },
    {
     "name": "stderr",
     "output_type": "stream",
     "text": [
      "8it [00:00, 28.11it/s]\n",
      "8it [00:00, 30.85it/s]\n",
      "8it [00:00, 27.01it/s]\n",
      "8it [00:00, 30.47it/s]\n",
      "8it [00:00, 28.05it/s]\n"
     ]
    },
    {
     "name": "stdout",
     "output_type": "stream",
     "text": [
      "mode: meta_val, episode:  258, total_val_loss: 0.225598, \n",
      "val_mean_iou:{'panther': 0.7995023159200192,\n",
      "'polo_shirt': 0.4279797321177068,\n",
      "'reflex_camera': 0.7748223547767293,\n",
      "'saxophone': 0.5380393108312514,\n",
      "'screwdriver': 0.6742231121508397}\n",
      "\n",
      "Episode: 258, Episode Time: 0.068 minutes\n"
     ]
    },
    {
     "name": "stderr",
     "output_type": "stream",
     "text": [
      "8it [00:00, 28.46it/s]\n",
      "8it [00:00, 28.60it/s]\n",
      "8it [00:00, 27.03it/s]\n",
      "8it [00:00, 32.04it/s]\n",
      "8it [00:00, 30.11it/s]\n"
     ]
    },
    {
     "name": "stdout",
     "output_type": "stream",
     "text": [
      "mode: meta_val, episode:  259, total_val_loss: 0.255896, \n",
      "val_mean_iou:{'paint_brush': 0.733396164481481,\n",
      "'peanut': 0.6586621418330333,\n",
      "'prayer_rug': 0.726921836303398,\n",
      "'pufferfish': 0.8219786061637886,\n",
      "'skateboard': 0.2924504488742609}\n",
      "\n",
      "Episode: 259, Episode Time: 0.068 minutes\n"
     ]
    },
    {
     "name": "stderr",
     "output_type": "stream",
     "text": [
      "8it [00:00, 27.50it/s]\n",
      "8it [00:00, 28.02it/s]\n",
      "8it [00:00, 28.70it/s]\n",
      "8it [00:00, 28.24it/s]\n",
      "28it [00:00, 37.42it/s]\n"
     ]
    },
    {
     "name": "stdout",
     "output_type": "stream",
     "text": [
      "mode: meta_val, episode:  260, total_val_loss: 0.160021, \n",
      "val_mean_iou:{'panda': 0.7696838965681047,\n",
      "'pencil_box': 0.7506929763314794,\n",
      "'pumpkin_pie': 0.8435206257592018,\n",
      "'red_fox': 0.8553131545667816,\n",
      "'sealion': 0.8861627352672659}\n",
      "\n",
      "Episode: 260, Episode Time: 0.076 minutes\n"
     ]
    },
    {
     "name": "stderr",
     "output_type": "stream",
     "text": [
      "8it [00:00, 28.50it/s]\n",
      "8it [00:00, 30.32it/s]\n",
      "8it [00:00, 27.96it/s]\n",
      "18it [00:00, 34.23it/s]\n",
      "8it [00:00, 28.69it/s]\n"
     ]
    },
    {
     "name": "stdout",
     "output_type": "stream",
     "text": [
      "mode: meta_val, episode:  261, total_val_loss: 0.296568, \n",
      "val_mean_iou:{'pool_table': 0.5003895667236186,\n",
      "'pteropus': 0.807931272800147,\n",
      "'pyraminx': 0.7452543487851261,\n",
      "'sandwich': 0.7850651793373203,\n",
      "'sleeping_bag': 0.7484460241945423}\n",
      "\n",
      "Episode: 261, Episode Time: 0.072 minutes\n"
     ]
    },
    {
     "name": "stderr",
     "output_type": "stream",
     "text": [
      "8it [00:00, 27.74it/s]\n",
      "8it [00:00, 28.22it/s]\n",
      "8it [00:00, 28.99it/s]\n",
      "8it [00:00, 29.20it/s]\n",
      "8it [00:00, 28.93it/s]\n"
     ]
    },
    {
     "name": "stdout",
     "output_type": "stream",
     "text": [
      "mode: meta_val, episode:  262, total_val_loss: 0.178725, \n",
      "val_mean_iou:{'papaya': 0.7775668549112263,\n",
      "'pumpkin_pie': 0.8353150714639646,\n",
      "'red_fox': 0.8388693480086797,\n",
      "'rosehip': 0.5791462531229357,\n",
      "'snowball': 0.6238397488829994}\n",
      "\n",
      "Episode: 262, Episode Time: 0.068 minutes\n"
     ]
    },
    {
     "name": "stderr",
     "output_type": "stream",
     "text": [
      "8it [00:00, 29.42it/s]\n",
      "8it [00:00, 28.12it/s]\n",
      "8it [00:00, 28.33it/s]\n",
      "28it [00:00, 37.77it/s]\n",
      "8it [00:00, 25.89it/s]\n"
     ]
    },
    {
     "name": "stdout",
     "output_type": "stream",
     "text": [
      "mode: meta_val, episode:  263, total_val_loss: 0.265489, \n",
      "val_mean_iou:{'peregine_falcon': 0.7771671224735806,\n",
      "'pinwheel': 0.6499448371147286,\n",
      "'poached_egg': 0.819527415552812,\n",
      "'potato': 0.7398320732249505,\n",
      "'rice_cooker': 0.6510500887278144}\n",
      "\n",
      "Episode: 263, Episode Time: 0.075 minutes\n"
     ]
    },
    {
     "name": "stderr",
     "output_type": "stream",
     "text": [
      "8it [00:00, 27.31it/s]\n",
      "8it [00:00, 28.34it/s]\n",
      "8it [00:00, 27.29it/s]\n",
      "18it [00:00, 34.13it/s]\n",
      "28it [00:00, 37.39it/s]\n"
     ]
    },
    {
     "name": "stdout",
     "output_type": "stream",
     "text": [
      "mode: meta_val, episode:  264, total_val_loss: 0.154427, \n",
      "val_mean_iou:{'owl': 0.7903112693206091,\n",
      "'pheasant': 0.7892135639822315,\n",
      "'pufferfish': 0.8731855733948536,\n",
      "'rocking_chair': 0.7964419821087854,\n",
      "'screw': 0.6029598749478159}\n",
      "\n",
      "Episode: 264, Episode Time: 0.080 minutes\n"
     ]
    },
    {
     "name": "stderr",
     "output_type": "stream",
     "text": [
      "8it [00:00, 27.14it/s]\n",
      "8it [00:00, 29.35it/s]\n",
      "8it [00:00, 30.29it/s]\n",
      "128it [00:03, 41.17it/s]\n",
      "8it [00:00, 30.37it/s]\n"
     ]
    },
    {
     "name": "stdout",
     "output_type": "stream",
     "text": [
      "mode: meta_val, episode:  265, total_val_loss: 0.224254, \n",
      "val_mean_iou:{'ox': 0.8090052942501907,\n",
      "'persimmon': 0.7330353669512205,\n",
      "'pillow': 0.7179162632177747,\n",
      "'sandal': 0.6276110099093103,\n",
      "'sniper_rifle': 0.5539931304817556}\n",
      "\n",
      "Episode: 265, Episode Time: 0.114 minutes\n"
     ]
    },
    {
     "name": "stderr",
     "output_type": "stream",
     "text": [
      "8it [00:00, 28.10it/s]\n",
      "8it [00:00, 29.43it/s]\n",
      "8it [00:00, 28.98it/s]\n",
      "8it [00:00, 29.20it/s]\n",
      "8it [00:00, 29.12it/s]\n"
     ]
    },
    {
     "name": "stdout",
     "output_type": "stream",
     "text": [
      "mode: meta_val, episode:  266, total_val_loss: 0.231582, \n",
      "val_mean_iou:{'projector': 0.6757703298862596,\n",
      "'red_fox': 0.8505815324572744,\n",
      "'rugby_ball': 0.6361521767082878,\n",
      "'siamese_cat': 0.8296321720242114,\n",
      "'snowmobile': 0.397601030061408}\n",
      "\n",
      "Episode: 266, Episode Time: 0.067 minutes\n"
     ]
    },
    {
     "name": "stderr",
     "output_type": "stream",
     "text": [
      "8it [00:00, 27.14it/s]\n",
      "8it [00:00, 27.76it/s]\n",
      "8it [00:00, 27.72it/s]\n",
      "8it [00:00, 27.45it/s]\n",
      "8it [00:00, 28.77it/s]\n"
     ]
    },
    {
     "name": "stdout",
     "output_type": "stream",
     "text": [
      "mode: meta_val, episode:  267, total_val_loss: 0.186396, \n",
      "val_mean_iou:{'parachute': 0.7335640279202902,\n",
      "'potato_chips': 0.7218539589938834,\n",
      "'pumpkin_pie': 0.8366911125220302,\n",
      "'revolver': 0.6545878731580872,\n",
      "'sea_cucumber': 0.7363989154847919}\n",
      "\n",
      "Episode: 267, Episode Time: 0.068 minutes\n"
     ]
    },
    {
     "name": "stderr",
     "output_type": "stream",
     "text": [
      "8it [00:00, 29.29it/s]\n",
      "8it [00:00, 29.45it/s]\n",
      "8it [00:00, 29.70it/s]\n",
      "128it [00:03, 40.12it/s]\n",
      "8it [00:00, 28.41it/s]\n"
     ]
    },
    {
     "name": "stdout",
     "output_type": "stream",
     "text": [
      "mode: meta_val, episode:  268, total_val_loss: 0.151506, \n",
      "val_mean_iou:{'ox': 0.8044877111911706,\n",
      "'parking_meter': 0.7235738072316744,\n",
      "'pepitas': 0.7521004536208298,\n",
      "'pill_bottle': 0.8304917583623036,\n",
      "'rabbit': 0.855486998819293}\n",
      "\n",
      "Episode: 268, Episode Time: 0.117 minutes\n"
     ]
    },
    {
     "name": "stderr",
     "output_type": "stream",
     "text": [
      "8it [00:00, 30.25it/s]\n",
      "8it [00:00, 29.08it/s]\n",
      "8it [00:00, 27.77it/s]\n",
      "18it [00:00, 35.30it/s]\n",
      "8it [00:00, 27.91it/s]\n"
     ]
    },
    {
     "name": "stdout",
     "output_type": "stream",
     "text": [
      "mode: meta_val, episode:  269, total_val_loss: 0.230842, \n",
      "val_mean_iou:{'pubg_airdrop': 0.6232602194644118,\n",
      "'puma_logo': 0.2906773632995826,\n",
      "'roller_skate': 0.7906812900174073,\n",
      "'santa_sledge': 0.6204512085482776,\n",
      "'seal': 0.8527806988421909}\n",
      "\n",
      "Episode: 269, Episode Time: 0.071 minutes\n"
     ]
    },
    {
     "name": "stderr",
     "output_type": "stream",
     "text": [
      "8it [00:00, 28.45it/s]\n",
      "8it [00:00, 27.91it/s]\n",
      "8it [00:00, 27.99it/s]\n",
      "8it [00:00, 28.09it/s]\n",
      "8it [00:00, 28.37it/s]\n"
     ]
    },
    {
     "name": "stdout",
     "output_type": "stream",
     "text": [
      "mode: meta_val, episode:  270, total_val_loss: 0.204607, \n",
      "val_mean_iou:{'papaya': 0.8119637074311911,\n",
      "'parthenon': 0.7138330424522593,\n",
      "'pomelo': 0.8260101710862873,\n",
      "'raven': 0.8710444517755431,\n",
      "'rock_beauty': 0.8376945976932118}\n",
      "\n",
      "Episode: 270, Episode Time: 0.067 minutes\n"
     ]
    },
    {
     "name": "stderr",
     "output_type": "stream",
     "text": [
      "8it [00:00, 27.86it/s]\n",
      "8it [00:00, 28.17it/s]\n",
      "8it [00:00, 28.29it/s]\n",
      "8it [00:00, 28.70it/s]\n",
      "8it [00:00, 29.09it/s]\n"
     ]
    },
    {
     "name": "stdout",
     "output_type": "stream",
     "text": [
      "mode: meta_val, episode:  271, total_val_loss: 0.282322, \n",
      "val_mean_iou:{'pickelhaube': 0.8170557727740093,\n",
      "'pubg_lvl3backpack': 0.5580305611457873,\n",
      "'sandwich_cookies': 0.751081209401623,\n",
      "'scorpion': 0.6437944582097055,\n",
      "'seatbelt': 0.08939299511902948}\n",
      "\n",
      "Episode: 271, Episode Time: 0.067 minutes\n"
     ]
    },
    {
     "name": "stderr",
     "output_type": "stream",
     "text": [
      "8it [00:00, 27.83it/s]\n",
      "8it [00:00, 29.16it/s]\n",
      "8it [00:00, 29.07it/s]\n",
      "8it [00:00, 29.59it/s]\n",
      "8it [00:00, 28.66it/s]\n"
     ]
    },
    {
     "name": "stdout",
     "output_type": "stream",
     "text": [
      "mode: meta_val, episode:  272, total_val_loss: 0.158181, \n",
      "val_mean_iou:{'peanut': 0.6712720125414198,\n",
      "'pinwheel': 0.7793939079998495,\n",
      "'pokermon_ball': 0.83769696417778,\n",
      "'printer': 0.7241921618319083,\n",
      "'shih-tzu': 0.8574231220169191}\n",
      "\n",
      "Episode: 272, Episode Time: 0.067 minutes\n"
     ]
    },
    {
     "name": "stderr",
     "output_type": "stream",
     "text": [
      "8it [00:00, 27.31it/s]\n",
      "88it [00:02, 40.90it/s]\n",
      "8it [00:00, 30.52it/s]\n",
      "8it [00:00, 28.20it/s]\n",
      "8it [00:00, 29.56it/s]\n"
     ]
    },
    {
     "name": "stdout",
     "output_type": "stream",
     "text": [
      "mode: meta_val, episode:  273, total_val_loss: 0.213171, \n",
      "val_mean_iou:{'pen': 0.6525087400571542,\n",
      "'red_fox': 0.8606997616864414,\n",
      "'samarra_mosque': 0.6485638555724487,\n",
      "'seatbelt': 0.08934340360244068,\n",
      "'skua': 0.8369859824817749}\n",
      "\n",
      "Episode: 273, Episode Time: 0.099 minutes\n"
     ]
    },
    {
     "name": "stderr",
     "output_type": "stream",
     "text": [
      "8it [00:00, 28.16it/s]\n",
      "8it [00:00, 30.40it/s]\n",
      "8it [00:00, 30.39it/s]\n",
      "8it [00:00, 28.17it/s]\n",
      "8it [00:00, 31.71it/s]\n"
     ]
    },
    {
     "name": "stdout",
     "output_type": "stream",
     "text": [
      "mode: meta_val, episode:  274, total_val_loss: 0.203345, \n",
      "val_mean_iou:{'platypus': 0.7955405093666809,\n",
      "'reel': 0.7441233006827768,\n",
      "'rugby_ball': 0.5971700580634544,\n",
      "'schooner': 0.7507795442730485,\n",
      "'siamese_cat': 0.8142214667930358}\n",
      "\n",
      "Episode: 274, Episode Time: 0.067 minutes\n"
     ]
    },
    {
     "name": "stderr",
     "output_type": "stream",
     "text": [
      "8it [00:00, 27.96it/s]\n",
      "8it [00:00, 28.92it/s]\n",
      "8it [00:00, 28.94it/s]\n",
      "8it [00:00, 27.65it/s]\n",
      "8it [00:00, 28.37it/s]\n"
     ]
    },
    {
     "name": "stdout",
     "output_type": "stream",
     "text": [
      "mode: meta_val, episode:  275, total_val_loss: 0.165664, \n",
      "val_mean_iou:{'panther': 0.8232089132538853,\n",
      "'parking_meter': 0.7916357885106476,\n",
      "'rally_car': 0.8387966159304712,\n",
      "'ruffed_grouse': 0.7771478695661358,\n",
      "'sombrero': 0.6750970025806982}\n",
      "\n",
      "Episode: 275, Episode Time: 0.067 minutes\n"
     ]
    },
    {
     "name": "stderr",
     "output_type": "stream",
     "text": [
      "8it [00:00, 28.52it/s]\n",
      "8it [00:00, 28.86it/s]\n",
      "8it [00:00, 29.47it/s]\n",
      "8it [00:00, 31.12it/s]\n",
      "8it [00:00, 28.27it/s]\n"
     ]
    },
    {
     "name": "stdout",
     "output_type": "stream",
     "text": [
      "mode: meta_val, episode:  276, total_val_loss: 0.194875, \n",
      "val_mean_iou:{'peacock': 0.6819695856830168,\n",
      "'poached_egg': 0.8554660713805813,\n",
      "'sandal': 0.6098670859704542,\n",
      "'skua': 0.8214074718689637,\n",
      "'sloth_bear': 0.7957206657340365}\n",
      "\n",
      "Episode: 276, Episode Time: 0.067 minutes\n"
     ]
    },
    {
     "name": "stderr",
     "output_type": "stream",
     "text": [
      "8it [00:00, 29.12it/s]\n",
      "8it [00:00, 28.73it/s]\n",
      "28it [00:00, 36.41it/s]\n",
      "8it [00:00, 31.02it/s]\n",
      "128it [00:03, 40.33it/s]\n"
     ]
    },
    {
     "name": "stdout",
     "output_type": "stream",
     "text": [
      "mode: meta_val, episode:  277, total_val_loss: 0.158190, \n",
      "val_mean_iou:{'ox': 0.8008447460077434,\n",
      "'panda': 0.7444943106129903,\n",
      "'perfume': 0.7671182229230442,\n",
      "'pickup': 0.8860401570400825,\n",
      "'pill_bottle': 0.8323994598073751}\n",
      "\n",
      "Episode: 277, Episode Time: 0.123 minutes\n"
     ]
    },
    {
     "name": "stderr",
     "output_type": "stream",
     "text": [
      "8it [00:00, 28.01it/s]\n",
      "8it [00:00, 28.06it/s]\n",
      "8it [00:00, 29.87it/s]\n",
      "8it [00:00, 28.87it/s]\n",
      "8it [00:00, 29.86it/s]\n"
     ]
    },
    {
     "name": "stdout",
     "output_type": "stream",
     "text": [
      "mode: meta_val, episode:  278, total_val_loss: 0.338364, \n",
      "val_mean_iou:{'piano_keyboard': 0.47079789099833363,\n",
      "'radio_telescope': 0.8261470261456016,\n",
      "'ruddy_turnstone': 0.6513862365872162,\n",
      "'scabbard': 0.35970494640164824,\n",
      "'ski_mask': 0.6471111507017828}\n",
      "\n",
      "Episode: 278, Episode Time: 0.067 minutes\n"
     ]
    },
    {
     "name": "stderr",
     "output_type": "stream",
     "text": [
      "8it [00:00, 27.03it/s]\n",
      "8it [00:00, 30.15it/s]\n",
      "8it [00:00, 29.88it/s]\n",
      "18it [00:00, 34.06it/s]\n",
      "8it [00:00, 29.39it/s]\n"
     ]
    },
    {
     "name": "stdout",
     "output_type": "stream",
     "text": [
      "mode: meta_val, episode:  279, total_val_loss: 0.236316, \n",
      "val_mean_iou:{'pizza': 0.7801128369353222,\n",
      "'pubg_airdrop': 0.7065672361671707,\n",
      "'radiator': 0.6902000376285798,\n",
      "'relay_stick': 0.29370956101274137,\n",
      "'sled': 0.63298195496907}\n",
      "\n",
      "Episode: 279, Episode Time: 0.072 minutes\n"
     ]
    },
    {
     "name": "stderr",
     "output_type": "stream",
     "text": [
      "8it [00:00, 28.16it/s]\n",
      "8it [00:00, 29.31it/s]\n",
      "8it [00:00, 27.38it/s]\n",
      "18it [00:00, 34.72it/s]\n",
      "8it [00:00, 28.41it/s]\n"
     ]
    },
    {
     "name": "stdout",
     "output_type": "stream",
     "text": [
      "mode: meta_val, episode:  280, total_val_loss: 0.203037, \n",
      "val_mean_iou:{'peregine_falcon': 0.7759801314059296,\n",
      "'phonograph': 0.7733313396937435,\n",
      "'pyraminx': 0.7622928447784648,\n",
      "'radio': 0.8056345215083685,\n",
      "'rhinoceros': 0.8806320917727698}\n",
      "\n",
      "Episode: 280, Episode Time: 0.072 minutes\n"
     ]
    },
    {
     "name": "stderr",
     "output_type": "stream",
     "text": [
      "8it [00:00, 28.73it/s]\n",
      "8it [00:00, 29.70it/s]\n",
      "8it [00:00, 30.67it/s]\n",
      "8it [00:00, 29.71it/s]\n",
      "38it [00:00, 38.70it/s]\n"
     ]
    },
    {
     "name": "stdout",
     "output_type": "stream",
     "text": [
      "mode: meta_val, episode:  281, total_val_loss: 0.196620, \n",
      "val_mean_iou:{'ostrich': 0.7386361999840902,\n",
      "'pidan': 0.7862857937502803,\n",
      "'police_car': 0.7451813383490087,\n",
      "'raft': 0.7333090398725257,\n",
      "'schooner': 0.699673894042354}\n",
      "\n",
      "Episode: 281, Episode Time: 0.079 minutes\n"
     ]
    },
    {
     "name": "stderr",
     "output_type": "stream",
     "text": [
      "8it [00:00, 28.08it/s]\n",
      "8it [00:00, 29.20it/s]\n",
      "8it [00:00, 28.91it/s]\n",
      "8it [00:00, 29.34it/s]\n",
      "8it [00:00, 28.75it/s]\n"
     ]
    },
    {
     "name": "stdout",
     "output_type": "stream",
     "text": [
      "mode: meta_val, episode:  282, total_val_loss: 0.179476, \n",
      "val_mean_iou:{'ostrich': 0.7656157387436606,\n",
      "'patas': 0.7224810623079045,\n",
      "'persimmon': 0.7474176556433817,\n",
      "'rally_car': 0.843595074146748,\n",
      "'santa_sledge': 0.5580147046354408}\n",
      "\n",
      "Episode: 282, Episode Time: 0.067 minutes\n"
     ]
    },
    {
     "name": "stderr",
     "output_type": "stream",
     "text": [
      "8it [00:00, 27.74it/s]\n",
      "8it [00:00, 29.60it/s]\n",
      "8it [00:00, 29.80it/s]\n",
      "18it [00:00, 37.09it/s]\n",
      "18it [00:00, 35.17it/s]\n"
     ]
    },
    {
     "name": "stdout",
     "output_type": "stream",
     "text": [
      "mode: meta_val, episode:  283, total_val_loss: 0.262864, \n",
      "val_mean_iou:{'panther': 0.8122421439530647,\n",
      "'photocopier': 0.6389202235359954,\n",
      "'ruddy_turnstone': 0.7287313939690152,\n",
      "'seal': 0.8578075526730355,\n",
      "'soap': 0.6507432719657126}\n",
      "\n",
      "Episode: 283, Episode Time: 0.075 minutes\n"
     ]
    },
    {
     "name": "stderr",
     "output_type": "stream",
     "text": [
      "8it [00:00, 27.83it/s]\n",
      "28it [00:00, 38.38it/s]\n",
      "8it [00:00, 28.71it/s]\n",
      "8it [00:00, 28.47it/s]\n",
      "8it [00:00, 28.52it/s]\n"
     ]
    },
    {
     "name": "stdout",
     "output_type": "stream",
     "text": [
      "mode: meta_val, episode:  284, total_val_loss: 0.275015, \n",
      "val_mean_iou:{'pool_table': 0.5732850802575729,\n",
      "'potato': 0.7524415393722125,\n",
      "'pubg_airdrop': 0.6312850291971555,\n",
      "'red_bayberry': 0.7096168898921833,\n",
      "'roller_skate': 0.7618605467011981}\n",
      "\n",
      "Episode: 284, Episode Time: 0.075 minutes\n"
     ]
    },
    {
     "name": "stderr",
     "output_type": "stream",
     "text": [
      "18it [00:00, 32.82it/s]\n",
      "8it [00:00, 28.32it/s]\n",
      "8it [00:00, 28.33it/s]\n",
      "8it [00:00, 26.32it/s]\n",
      "8it [00:00, 28.04it/s]\n"
     ]
    },
    {
     "name": "stdout",
     "output_type": "stream",
     "text": [
      "mode: meta_val, episode:  285, total_val_loss: 0.304551, \n",
      "val_mean_iou:{'plastic_bag': 0.6542001170610149,\n",
      "'psp': 0.7029969613774392,\n",
      "'skunk': 0.8254745564270045,\n",
      "'sleeping_bag': 0.6822439858928543,\n",
      "'soccer_ball': 0.5773190520119651}\n",
      "\n",
      "Episode: 285, Episode Time: 0.073 minutes\n"
     ]
    },
    {
     "name": "stderr",
     "output_type": "stream",
     "text": [
      "8it [00:00, 26.93it/s]\n",
      "28it [00:00, 33.77it/s]\n",
      "18it [00:00, 34.81it/s]\n",
      "8it [00:00, 28.65it/s]\n",
      "8it [00:00, 29.87it/s]\n"
     ]
    },
    {
     "name": "stdout",
     "output_type": "stream",
     "text": [
      "mode: meta_val, episode:  286, total_val_loss: 0.212576, \n",
      "val_mean_iou:{'pidan': 0.7695924975590367,\n",
      "'pubg_airdrop': 0.6337690107034007,\n",
      "'pyramid': 0.6952438794045026,\n",
      "'razor': 0.5564141311217214,\n",
      "'shih-tzu': 0.8415779966409052}\n",
      "\n",
      "Episode: 286, Episode Time: 0.083 minutes\n"
     ]
    },
    {
     "name": "stderr",
     "output_type": "stream",
     "text": [
      "8it [00:00, 27.87it/s]\n",
      "8it [00:00, 29.85it/s]\n",
      "8it [00:00, 28.38it/s]\n",
      "8it [00:00, 26.40it/s]\n",
      "8it [00:00, 27.29it/s]\n"
     ]
    },
    {
     "name": "stdout",
     "output_type": "stream",
     "text": [
      "mode: meta_val, episode:  287, total_val_loss: 0.170612, \n",
      "val_mean_iou:{'pill_bottle': 0.8663669927575808,\n",
      "'polar_bear': 0.9031248338092638,\n",
      "'refrigerator': 0.6059762310347181,\n",
      "'ringlet_butterfly': 0.9023840464297038,\n",
      "'skua': 0.8162935429559751}\n",
      "\n",
      "Episode: 287, Episode Time: 0.070 minutes\n"
     ]
    },
    {
     "name": "stderr",
     "output_type": "stream",
     "text": [
      "8it [00:00, 29.01it/s]\n",
      "8it [00:00, 29.16it/s]\n",
      "8it [00:00, 29.82it/s]\n",
      "8it [00:00, 27.92it/s]\n",
      "8it [00:00, 28.31it/s]\n"
     ]
    },
    {
     "name": "stdout",
     "output_type": "stream",
     "text": [
      "mode: meta_val, episode:  288, total_val_loss: 0.210677, \n",
      "val_mean_iou:{'plaice': 0.8139643977304618,\n",
      "'pomegranate': 0.7899566163506915,\n",
      "'relay_stick': 0.208445764676878,\n",
      "'saltshaker': 0.8952572506229024,\n",
      "'snowplow': 0.8139630172000827}\n",
      "\n",
      "Episode: 288, Episode Time: 0.068 minutes\n"
     ]
    },
    {
     "name": "stderr",
     "output_type": "stream",
     "text": [
      "8it [00:00, 29.76it/s]\n",
      "8it [00:00, 27.99it/s]\n",
      "8it [00:00, 30.23it/s]\n",
      "8it [00:00, 29.16it/s]\n",
      "18it [00:00, 35.45it/s]\n"
     ]
    },
    {
     "name": "stdout",
     "output_type": "stream",
     "text": [
      "mode: meta_val, episode:  289, total_val_loss: 0.190324, \n",
      "val_mean_iou:{'pear': 0.7723250912394921,\n",
      "'phonograph': 0.8110502447729157,\n",
      "'razor': 0.5313612691086603,\n",
      "'skateboard': 0.26787799728177275,\n",
      "'smoothing_iron': 0.7870718932135499}\n",
      "\n",
      "Episode: 289, Episode Time: 0.071 minutes\n"
     ]
    },
    {
     "name": "stderr",
     "output_type": "stream",
     "text": [
      "8it [00:00, 26.70it/s]\n",
      "8it [00:00, 28.60it/s]\n",
      "8it [00:00, 30.08it/s]\n",
      "18it [00:00, 34.60it/s]\n",
      "8it [00:00, 30.39it/s]\n"
     ]
    },
    {
     "name": "stdout",
     "output_type": "stream",
     "text": [
      "mode: meta_val, episode:  290, total_val_loss: 0.207623, \n",
      "val_mean_iou:{'ostrich': 0.7194855060348606,\n",
      "'pokermon_ball': 0.8596927757589393,\n",
      "'rock_snake': 0.6894479704848234,\n",
      "'sandwich': 0.7692829821824875,\n",
      "'ski_mask': 0.6727842178211987}\n",
      "\n",
      "Episode: 290, Episode Time: 0.072 minutes\n"
     ]
    },
    {
     "name": "stderr",
     "output_type": "stream",
     "text": [
      "8it [00:00, 27.05it/s]\n",
      "18it [00:00, 35.90it/s]\n",
      "8it [00:00, 27.28it/s]\n",
      "8it [00:00, 30.00it/s]\n",
      "8it [00:00, 28.78it/s]\n"
     ]
    },
    {
     "name": "stdout",
     "output_type": "stream",
     "text": [
      "mode: meta_val, episode:  291, total_val_loss: 0.216630, \n",
      "val_mean_iou:{'pizza': 0.7696074709304415,\n",
      "'quill_pen': 0.4469771790629433,\n",
      "'rabbit': 0.8865715633132969,\n",
      "'sandwich_cookies': 0.7351651355766444,\n",
      "'screw': 0.6241829318497709}\n",
      "\n",
      "Episode: 291, Episode Time: 0.071 minutes\n"
     ]
    },
    {
     "name": "stderr",
     "output_type": "stream",
     "text": [
      "8it [00:00, 28.24it/s]\n",
      "8it [00:00, 30.17it/s]\n",
      "18it [00:00, 36.45it/s]\n",
      "8it [00:00, 31.72it/s]\n",
      "8it [00:00, 28.77it/s]\n"
     ]
    },
    {
     "name": "stdout",
     "output_type": "stream",
     "text": [
      "mode: meta_val, episode:  292, total_val_loss: 0.336560, \n",
      "val_mean_iou:{'power_drill': 0.6948981245740007,\n",
      "'psp': 0.768772997129507,\n",
      "'puma_logo': 0.27279365801712513,\n",
      "'rocket': 0.2613709564095086,\n",
      "'snowmobile': 0.5209393340542048}\n",
      "\n",
      "Episode: 292, Episode Time: 0.070 minutes\n"
     ]
    },
    {
     "name": "stderr",
     "output_type": "stream",
     "text": [
      "8it [00:00, 28.89it/s]\n",
      "8it [00:00, 29.53it/s]\n",
      "8it [00:00, 29.78it/s]\n",
      "18it [00:00, 34.19it/s]\n",
      "8it [00:00, 29.90it/s]\n"
     ]
    },
    {
     "name": "stdout",
     "output_type": "stream",
     "text": [
      "mode: meta_val, episode:  293, total_val_loss: 0.225227, \n",
      "val_mean_iou:{'poached_egg': 0.8471341654996984,\n",
      "'quill_pen': 0.4493816381123461,\n",
      "'razor': 0.5171964219694756,\n",
      "'rocket': 0.29851129821882677,\n",
      "'snowman': 0.7399087128576732}\n",
      "\n",
      "Episode: 293, Episode Time: 0.071 minutes\n"
     ]
    },
    {
     "name": "stderr",
     "output_type": "stream",
     "text": [
      "8it [00:00, 28.26it/s]\n",
      "8it [00:00, 27.20it/s]\n",
      "8it [00:00, 29.40it/s]\n",
      "8it [00:00, 30.20it/s]\n",
      "8it [00:00, 30.12it/s]\n"
     ]
    },
    {
     "name": "stdout",
     "output_type": "stream",
     "text": [
      "mode: meta_val, episode:  294, total_val_loss: 0.355542, \n",
      "val_mean_iou:{'paper_crane': 0.6987909654263418,\n",
      "'pspgo': 0.6584661250555618,\n",
      "'refrigerator': 0.6283663501622647,\n",
      "'shuriken': 0.4833769749663494,\n",
      "'skua': 0.7915939497216788}\n",
      "\n",
      "Episode: 294, Episode Time: 0.068 minutes\n"
     ]
    },
    {
     "name": "stderr",
     "output_type": "stream",
     "text": [
      "128it [00:03, 39.99it/s]\n",
      "8it [00:00, 27.17it/s]\n",
      "8it [00:00, 27.95it/s]\n",
      "8it [00:00, 28.09it/s]\n",
      "8it [00:00, 27.13it/s]\n"
     ]
    },
    {
     "name": "stdout",
     "output_type": "stream",
     "text": [
      "mode: meta_val, episode:  295, total_val_loss: 0.204774, \n",
      "val_mean_iou:{'ox': 0.8039525359575259,\n",
      "'pyramid_cube': 0.7942971442275417,\n",
      "'quill_pen': 0.3886127980414923,\n",
      "'raven': 0.8335612637647032,\n",
      "'rosehip': 0.5474633277998456}\n",
      "\n",
      "Episode: 295, Episode Time: 0.118 minutes\n"
     ]
    },
    {
     "name": "stderr",
     "output_type": "stream",
     "text": [
      "8it [00:00, 28.38it/s]\n",
      "28it [00:00, 36.65it/s]\n",
      "18it [00:00, 26.69it/s]\n",
      "8it [00:00, 27.60it/s]\n",
      "8it [00:00, 26.32it/s]\n"
     ]
    },
    {
     "name": "stdout",
     "output_type": "stream",
     "text": [
      "mode: meta_val, episode:  296, total_val_loss: 0.197729, \n",
      "val_mean_iou:{'ostrich': 0.7353431672355761,\n",
      "'owl': 0.7557774064997822,\n",
      "'pear': 0.7022098893066309,\n",
      "'plate': 0.8758029061638408,\n",
      "'sandwich': 0.7473318588076722}\n",
      "\n",
      "Episode: 296, Episode Time: 0.085 minutes\n"
     ]
    },
    {
     "name": "stderr",
     "output_type": "stream",
     "text": [
      "8it [00:00, 26.82it/s]\n",
      "8it [00:00, 27.30it/s]\n",
      "8it [00:00, 26.57it/s]\n",
      "8it [00:00, 25.60it/s]\n",
      "8it [00:00, 28.19it/s]\n"
     ]
    },
    {
     "name": "stdout",
     "output_type": "stream",
     "text": [
      "mode: meta_val, episode:  297, total_val_loss: 0.206395, \n",
      "val_mean_iou:{'plate': 0.891637747560641,\n",
      "'police_car': 0.7880811707699042,\n",
      "'redshank': 0.46249675148826896,\n",
      "'ruffed_grouse': 0.7423852778494269,\n",
      "'sandwich_cookies': 0.701047537436757}\n",
      "\n",
      "Episode: 297, Episode Time: 0.073 minutes\n"
     ]
    },
    {
     "name": "stderr",
     "output_type": "stream",
     "text": [
      "8it [00:00, 26.90it/s]\n",
      "8it [00:00, 27.35it/s]\n",
      "8it [00:00, 27.65it/s]\n",
      "8it [00:00, 27.65it/s]\n",
      "8it [00:00, 27.82it/s]\n"
     ]
    },
    {
     "name": "stdout",
     "output_type": "stream",
     "text": [
      "mode: meta_val, episode:  298, total_val_loss: 0.254343, \n",
      "val_mean_iou:{'parallel_bars': 0.2893081354740702,\n",
      "'rhinoceros': 0.8556129069766354,\n",
      "'rice_cooker': 0.7894814638436473,\n",
      "'shopping_cart': 0.7747929718839599,\n",
      "'siamese_cat': 0.8430873268299324}\n",
      "\n",
      "Episode: 298, Episode Time: 0.070 minutes\n"
     ]
    },
    {
     "name": "stderr",
     "output_type": "stream",
     "text": [
      "8it [00:00, 28.83it/s]\n",
      "8it [00:00, 28.60it/s]\n",
      "8it [00:00, 26.78it/s]\n",
      "8it [00:00, 29.95it/s]\n",
      "8it [00:00, 30.29it/s]\n"
     ]
    },
    {
     "name": "stdout",
     "output_type": "stream",
     "text": [
      "mode: meta_val, episode:  299, total_val_loss: 0.215007, \n",
      "val_mean_iou:{'partridge': 0.7708242077497915,\n",
      "'persimmon': 0.713302795130734,\n",
      "'pumpkin_pie': 0.842378688435306,\n",
      "'revolver': 0.6529783899613504,\n",
      "'sandbar': 0.2590781995490028}\n",
      "\n",
      "Episode: 299, Episode Time: 0.068 minutes\n"
     ]
    },
    {
     "name": "stderr",
     "output_type": "stream",
     "text": [
      "8it [00:00, 27.42it/s]\n",
      "8it [00:00, 29.16it/s]\n",
      "8it [00:00, 31.10it/s]\n",
      "8it [00:00, 30.87it/s]\n",
      "8it [00:00, 28.43it/s]\n"
     ]
    },
    {
     "name": "stdout",
     "output_type": "stream",
     "text": [
      "mode: meta_val, episode:  300, total_val_loss: 0.183846, \n",
      "val_mean_iou:{'park_bench': 0.6614783570080227,\n",
      "'persimmon': 0.7028063824881179,\n",
      "'pickelhaube': 0.7600505649194895,\n",
      "'poached_egg': 0.7885582355188461,\n",
      "'saltshaker': 0.8753165457378393}\n",
      "\n",
      "Episode: 300, Episode Time: 0.069 minutes\n",
      "num tasks: 5\n",
      "tr_imgs shape: torch.Size([5, 2, 224, 224, 3]), tr_masks shape: torch.Size([5, 2, 224, 224]) val_imgs shape: torch.Size([5, 5, 224, 224, 3]), val_masks shape: torch.Size([5, 5, 224, 224])\n"
     ]
    },
    {
     "name": "stderr",
     "output_type": "stream",
     "text": [
      "\r",
      "0it [00:00, ?it/s]"
     ]
    },
    {
     "name": "stdout",
     "output_type": "stream",
     "text": [
      "num tasks: 5\n",
      "tr_imgs shape: torch.Size([5, 2, 224, 224, 3]), tr_masks shape: torch.Size([5, 2, 224, 224]) val_imgs shape: 5 list of paths, val_masks shape: 5 list of paths\n"
     ]
    },
    {
     "name": "stderr",
     "output_type": "stream",
     "text": [
      "8it [00:00, 28.04it/s]\n",
      "8it [00:00, 28.44it/s]\n",
      "8it [00:00, 29.00it/s]\n",
      "8it [00:00, 28.89it/s]\n",
      "8it [00:00, 28.62it/s]\n"
     ]
    },
    {
     "name": "stdout",
     "output_type": "stream",
     "text": [
      "mode: meta_val, episode:  301, total_val_loss: 0.182496, \n",
      "val_mean_iou:{'parachute': 0.7522237803114394,\n",
      "'running_shoe': 0.48948404132027884,\n",
      "'sea_urchin': 0.6510554342403785,\n",
      "'skull': 0.8976374783075483,\n",
      "'smoothing_iron': 0.7199074884039305}\n",
      "\n",
      "Episode: 301, Episode Time: 0.068 minutes\n"
     ]
    },
    {
     "name": "stderr",
     "output_type": "stream",
     "text": [
      "8it [00:00, 28.18it/s]\n",
      "8it [00:00, 28.87it/s]\n",
      "8it [00:00, 28.09it/s]\n",
      "8it [00:00, 28.52it/s]\n",
      "18it [00:00, 35.42it/s]\n"
     ]
    },
    {
     "name": "stdout",
     "output_type": "stream",
     "text": [
      "mode: meta_val, episode:  302, total_val_loss: 0.220820, \n",
      "val_mean_iou:{'otter': 0.8540124601332655,\n",
      "'pencil_box': 0.7773508937727652,\n",
      "'proboscis': 0.768764413869715,\n",
      "'quail': 0.7437157623488446,\n",
      "'single_log': 0.20183074176110644}\n",
      "\n",
      "Episode: 302, Episode Time: 0.072 minutes\n"
     ]
    },
    {
     "name": "stderr",
     "output_type": "stream",
     "text": [
      "8it [00:00, 29.73it/s]\n",
      "8it [00:00, 30.83it/s]\n",
      "8it [00:00, 28.81it/s]\n",
      "8it [00:00, 28.12it/s]\n",
      "8it [00:00, 29.77it/s]\n"
     ]
    },
    {
     "name": "stdout",
     "output_type": "stream",
     "text": [
      "mode: meta_val, episode:  303, total_val_loss: 0.170045, \n",
      "val_mean_iou:{'ostrich': 0.7221475790918225,\n",
      "'redshank': 0.6056594717392783,\n",
      "'reflex_camera': 0.7274037242754636,\n",
      "'roller_skate': 0.7417979843221231,\n",
      "'soap_dispenser': 0.7816761044751694}\n",
      "\n",
      "Episode: 303, Episode Time: 0.067 minutes\n"
     ]
    },
    {
     "name": "stderr",
     "output_type": "stream",
     "text": [
      "58it [00:01, 38.65it/s]\n",
      "8it [00:00, 28.37it/s]\n",
      "18it [00:00, 35.33it/s]\n",
      "8it [00:00, 27.50it/s]\n",
      "8it [00:00, 29.25it/s]\n"
     ]
    },
    {
     "name": "stdout",
     "output_type": "stream",
     "text": [
      "mode: meta_val, episode:  304, total_val_loss: 0.199297, \n",
      "val_mean_iou:{'paper_plane': 0.5708765719269472,\n",
      "'pig': 0.7910583311571976,\n",
      "'potato_chips': 0.7123259057669629,\n",
      "'pyramid_cube': 0.7748836556973022,\n",
      "'snake': 0.6255345261250553}\n",
      "\n",
      "Episode: 304, Episode Time: 0.092 minutes\n"
     ]
    },
    {
     "name": "stderr",
     "output_type": "stream",
     "text": [
      "8it [00:00, 28.44it/s]\n",
      "8it [00:00, 27.93it/s]\n",
      "8it [00:00, 30.47it/s]\n",
      "8it [00:00, 28.76it/s]\n",
      "8it [00:00, 28.01it/s]\n"
     ]
    },
    {
     "name": "stdout",
     "output_type": "stream",
     "text": [
      "mode: meta_val, episode:  305, total_val_loss: 0.278663, \n",
      "val_mean_iou:{'paper_towel': 0.4665026839085662,\n",
      "'polo_shirt': 0.511805785076134,\n",
      "'red_wolf': 0.7500188800021783,\n",
      "'snowball': 0.5636715612069336,\n",
      "'snowplow': 0.7542043545653312}\n",
      "\n",
      "Episode: 305, Episode Time: 0.068 minutes\n"
     ]
    },
    {
     "name": "stderr",
     "output_type": "stream",
     "text": [
      "8it [00:00, 27.89it/s]\n",
      "8it [00:00, 28.35it/s]\n",
      "8it [00:00, 29.14it/s]\n",
      "8it [00:00, 27.12it/s]\n",
      "8it [00:00, 30.21it/s]\n"
     ]
    },
    {
     "name": "stdout",
     "output_type": "stream",
     "text": [
      "mode: meta_val, episode:  306, total_val_loss: 0.170202, \n",
      "val_mean_iou:{'polar_bear': 0.8969517871686873,\n",
      "'pretzel': 0.6508775621859049,\n",
      "'raven': 0.8773723376922955,\n",
      "'screwdriver': 0.7145637528906547,\n",
      "'skull': 0.8805625517600254}\n",
      "\n",
      "Episode: 306, Episode Time: 0.068 minutes\n"
     ]
    },
    {
     "name": "stderr",
     "output_type": "stream",
     "text": [
      "58it [00:01, 38.99it/s]\n",
      "8it [00:00, 30.31it/s]\n",
      "8it [00:00, 28.39it/s]\n",
      "8it [00:00, 28.44it/s]\n",
      "8it [00:00, 29.80it/s]\n"
     ]
    },
    {
     "name": "stdout",
     "output_type": "stream",
     "text": [
      "mode: meta_val, episode:  307, total_val_loss: 0.245926, \n",
      "val_mean_iou:{'otter': 0.848662599718618,\n",
      "'pineapple': 0.6026545096819541,\n",
      "'rock_beauty': 0.7454959419865305,\n",
      "'shumai': 0.6573936515088461,\n",
      "'snake': 0.6210594334716518}\n",
      "\n",
      "Episode: 307, Episode Time: 0.088 minutes\n"
     ]
    },
    {
     "name": "stderr",
     "output_type": "stream",
     "text": [
      "8it [00:00, 30.54it/s]\n",
      "8it [00:00, 28.68it/s]\n",
      "8it [00:00, 28.87it/s]\n",
      "8it [00:00, 28.83it/s]\n",
      "8it [00:00, 26.34it/s]\n"
     ]
    },
    {
     "name": "stdout",
     "output_type": "stream",
     "text": [
      "mode: meta_val, episode:  308, total_val_loss: 0.212131, \n",
      "val_mean_iou:{'pinwheel': 0.6784750451475772,\n",
      "'plaice': 0.8742501197306007,\n",
      "'pretzel': 0.6782132695057901,\n",
      "'punching_bag': 0.511638525620094,\n",
      "'seagull': 0.7560218935332317}\n",
      "\n",
      "Episode: 308, Episode Time: 0.068 minutes\n"
     ]
    },
    {
     "name": "stderr",
     "output_type": "stream",
     "text": [
      "8it [00:00, 27.23it/s]\n",
      "8it [00:00, 29.65it/s]\n",
      "18it [00:00, 36.01it/s]\n",
      "18it [00:00, 34.45it/s]\n",
      "8it [00:00, 28.91it/s]\n"
     ]
    },
    {
     "name": "stdout",
     "output_type": "stream",
     "text": [
      "mode: meta_val, episode:  309, total_val_loss: 0.226353, \n",
      "val_mean_iou:{'quail': 0.7527838119716567,\n",
      "'recreational_vehicle': 0.8437992139387418,\n",
      "'rock_snake': 0.6162056318282714,\n",
      "'seal': 0.845204843658968,\n",
      "'sniper_rifle': 0.5710335709948611}\n",
      "\n",
      "Episode: 309, Episode Time: 0.075 minutes\n"
     ]
    },
    {
     "name": "stderr",
     "output_type": "stream",
     "text": [
      "8it [00:00, 26.90it/s]\n",
      "8it [00:00, 29.44it/s]\n",
      "8it [00:00, 28.56it/s]\n",
      "8it [00:00, 28.44it/s]\n",
      "8it [00:00, 28.66it/s]\n"
     ]
    },
    {
     "name": "stdout",
     "output_type": "stream",
     "text": [
      "mode: meta_val, episode:  310, total_val_loss: 0.259508, \n",
      "val_mean_iou:{'paper_crane': 0.650592611460327,\n",
      "'pingpong_ball': 0.1141642562332717,\n",
      "'platypus': 0.8044911776357939,\n",
      "'pubg_lvl3helmet': 0.3866186038960603,\n",
      "'snow_leopard': 0.7654385107704842}\n",
      "\n",
      "Episode: 310, Episode Time: 0.068 minutes\n"
     ]
    },
    {
     "name": "stderr",
     "output_type": "stream",
     "text": [
      "8it [00:00, 28.78it/s]\n",
      "8it [00:00, 28.60it/s]\n",
      "8it [00:00, 27.30it/s]\n",
      "8it [00:00, 25.96it/s]\n",
      "8it [00:00, 29.04it/s]\n"
     ]
    },
    {
     "name": "stdout",
     "output_type": "stream",
     "text": [
      "mode: meta_val, episode:  311, total_val_loss: 0.313473, \n",
      "val_mean_iou:{'oyster': 0.8330752777633084,\n",
      "'parallel_bars': 0.24621208743348047,\n",
      "'plaice': 0.8198576987365624,\n",
      "'plastic_bag': 0.703701249455779,\n",
      "'sombrero': 0.6013739105861889}\n",
      "\n",
      "Episode: 311, Episode Time: 0.069 minutes\n"
     ]
    },
    {
     "name": "stderr",
     "output_type": "stream",
     "text": [
      "18it [00:00, 33.34it/s]\n",
      "8it [00:00, 27.66it/s]\n",
      "8it [00:00, 28.88it/s]\n",
      "8it [00:00, 26.31it/s]\n",
      "18it [00:00, 34.92it/s]\n"
     ]
    },
    {
     "name": "stdout",
     "output_type": "stream",
     "text": [
      "mode: meta_val, episode:  312, total_val_loss: 0.316799, \n",
      "val_mean_iou:{'plastic_bag': 0.6736687443910475,\n",
      "'psp': 0.7673928014394247,\n",
      "'rubber_eraser': 0.6708597933743566,\n",
      "'scissors': 0.5010601852420401,\n",
      "'sled': 0.5715395994845371}\n",
      "\n",
      "Episode: 312, Episode Time: 0.078 minutes\n"
     ]
    },
    {
     "name": "stderr",
     "output_type": "stream",
     "text": [
      "8it [00:00, 30.01it/s]\n",
      "8it [00:00, 29.43it/s]\n",
      "8it [00:00, 27.83it/s]\n",
      "8it [00:00, 30.97it/s]\n",
      "8it [00:00, 28.77it/s]\n"
     ]
    },
    {
     "name": "stdout",
     "output_type": "stream",
     "text": [
      "mode: meta_val, episode:  313, total_val_loss: 0.453976, \n",
      "val_mean_iou:{'photocopier': 0.7074700742112814,\n",
      "'piano_keyboard': 0.4784881612905272,\n",
      "'quill_pen': 0.3803729223948218,\n",
      "'redshank': 0.4573068985527166,\n",
      "'sarong': 0.5419139356959007}\n",
      "\n",
      "Episode: 313, Episode Time: 0.068 minutes\n"
     ]
    },
    {
     "name": "stderr",
     "output_type": "stream",
     "text": [
      "8it [00:00, 29.00it/s]\n",
      "8it [00:00, 28.95it/s]\n",
      "8it [00:00, 28.38it/s]\n",
      "18it [00:00, 35.57it/s]\n",
      "8it [00:00, 27.51it/s]\n"
     ]
    },
    {
     "name": "stdout",
     "output_type": "stream",
     "text": [
      "mode: meta_val, episode:  314, total_val_loss: 0.203810, \n",
      "val_mean_iou:{'partridge': 0.7126230354129162,\n",
      "'petri_dish': 0.7985411857349476,\n",
      "'poker': 0.797033501678091,\n",
      "'red_breasted_merganser': 0.6475105130405752,\n",
      "'smoothing_iron': 0.7744358875009542}\n",
      "\n",
      "Episode: 314, Episode Time: 0.071 minutes\n"
     ]
    },
    {
     "name": "stderr",
     "output_type": "stream",
     "text": [
      "8it [00:00, 27.76it/s]\n",
      "8it [00:00, 28.83it/s]\n",
      "8it [00:00, 28.67it/s]\n",
      "18it [00:00, 34.02it/s]\n",
      "8it [00:00, 27.86it/s]\n"
     ]
    },
    {
     "name": "stdout",
     "output_type": "stream",
     "text": [
      "mode: meta_val, episode:  315, total_val_loss: 0.231862, \n",
      "val_mean_iou:{'paint_brush': 0.6975314935890329,\n",
      "'quill_pen': 0.3431686801909256,\n",
      "'rosehip': 0.554909091129256,\n",
      "'sidewinder': 0.7235695481065729,\n",
      "'soap': 0.6848174171023582}\n",
      "\n",
      "Episode: 315, Episode Time: 0.072 minutes\n"
     ]
    },
    {
     "name": "stderr",
     "output_type": "stream",
     "text": [
      "8it [00:00, 27.64it/s]\n",
      "8it [00:00, 29.81it/s]\n",
      "8it [00:00, 27.61it/s]\n",
      "8it [00:00, 29.49it/s]\n",
      "18it [00:00, 35.91it/s]\n"
     ]
    },
    {
     "name": "stdout",
     "output_type": "stream",
     "text": [
      "mode: meta_val, episode:  316, total_val_loss: 0.186317, \n",
      "val_mean_iou:{'rosehip': 0.5529909043038419,\n",
      "'sealion': 0.89773899652817,\n",
      "'sled': 0.5906528195093389,\n",
      "'sloth_bear': 0.809188311318672,\n",
      "'snow_leopard': 0.7176978444751643}\n",
      "\n",
      "Episode: 316, Episode Time: 0.072 minutes\n"
     ]
    },
    {
     "name": "stderr",
     "output_type": "stream",
     "text": [
      "8it [00:00, 26.22it/s]\n",
      "8it [00:00, 27.33it/s]\n",
      "8it [00:00, 27.23it/s]\n",
      "8it [00:00, 30.78it/s]\n",
      "8it [00:00, 29.03it/s]\n"
     ]
    },
    {
     "name": "stdout",
     "output_type": "stream",
     "text": [
      "mode: meta_val, episode:  317, total_val_loss: 0.233035, \n",
      "val_mean_iou:{'patas': 0.7621860359038362,\n",
      "'red_breasted_merganser': 0.6898236494469383,\n",
      "'saluki': 0.7672241601550045,\n",
      "'single_log': 0.23797237783464592,\n",
      "'snowman': 0.809671064780683}\n",
      "\n",
      "Episode: 317, Episode Time: 0.070 minutes\n"
     ]
    },
    {
     "name": "stderr",
     "output_type": "stream",
     "text": [
      "8it [00:00, 27.03it/s]\n",
      "8it [00:00, 27.67it/s]\n",
      "8it [00:00, 30.86it/s]\n",
      "8it [00:00, 27.72it/s]\n",
      "8it [00:00, 28.23it/s]\n"
     ]
    },
    {
     "name": "stdout",
     "output_type": "stream",
     "text": [
      "mode: meta_val, episode:  318, total_val_loss: 0.183966, \n",
      "val_mean_iou:{'raven': 0.8648118471359452,\n",
      "'red_bayberry': 0.7716638485388483,\n",
      "'rocking_chair': 0.7380266112845305,\n",
      "'rubber_eraser': 0.7093617180382961,\n",
      "'snowball': 0.4850828798558409}\n",
      "\n",
      "Episode: 318, Episode Time: 0.068 minutes\n"
     ]
    },
    {
     "name": "stderr",
     "output_type": "stream",
     "text": [
      "28it [00:00, 35.50it/s]\n",
      "8it [00:00, 28.59it/s]\n",
      "8it [00:00, 30.68it/s]\n",
      "8it [00:00, 29.96it/s]\n",
      "8it [00:00, 28.89it/s]\n"
     ]
    },
    {
     "name": "stdout",
     "output_type": "stream",
     "text": [
      "mode: meta_val, episode:  319, total_val_loss: 0.264840, \n",
      "val_mean_iou:{'panda': 0.7733453824986901,\n",
      "'paper_plane': 0.5756176493958622,\n",
      "'pingpong_racket': 0.69531345823706,\n",
      "'schooner': 0.7050877018911272,\n",
      "'sewing_machine': 0.5366772594519624}\n",
      "\n",
      "Episode: 319, Episode Time: 0.076 minutes\n"
     ]
    },
    {
     "name": "stderr",
     "output_type": "stream",
     "text": [
      "8it [00:00, 29.43it/s]\n",
      "8it [00:00, 29.73it/s]\n",
      "8it [00:00, 31.12it/s]\n",
      "18it [00:00, 34.65it/s]\n",
      "8it [00:00, 28.24it/s]\n"
     ]
    },
    {
     "name": "stdout",
     "output_type": "stream",
     "text": [
      "mode: meta_val, episode:  320, total_val_loss: 0.158650, \n",
      "val_mean_iou:{'ostrich': 0.7460216233715182,\n",
      "'quail': 0.7629721230317134,\n",
      "'reel': 0.7781196952093942,\n",
      "'ringlet_butterfly': 0.9230938005758731,\n",
      "'snowplow': 0.7910848222534097}\n",
      "\n",
      "Episode: 320, Episode Time: 0.071 minutes\n"
     ]
    },
    {
     "name": "stderr",
     "output_type": "stream",
     "text": [
      "8it [00:00, 26.72it/s]\n",
      "8it [00:00, 29.21it/s]\n",
      "8it [00:00, 30.33it/s]\n",
      "8it [00:00, 29.03it/s]\n",
      "8it [00:00, 28.86it/s]\n"
     ]
    },
    {
     "name": "stdout",
     "output_type": "stream",
     "text": [
      "mode: meta_val, episode:  321, total_val_loss: 0.457108, \n",
      "val_mean_iou:{'paddle': 0.841142529952562,\n",
      "'piano_keyboard': 0.43904521774632965,\n",
      "'pspgo': 0.71560043012625,\n",
      "'sea_urchin': 0.6678183945857145,\n",
      "'sidewinder': 0.7055563757165573}\n",
      "\n",
      "Episode: 321, Episode Time: 0.068 minutes\n"
     ]
    },
    {
     "name": "stderr",
     "output_type": "stream",
     "text": [
      "8it [00:00, 28.24it/s]\n",
      "8it [00:00, 29.65it/s]\n",
      "8it [00:00, 28.36it/s]\n",
      "8it [00:00, 28.53it/s]\n",
      "28it [00:00, 36.95it/s]\n"
     ]
    },
    {
     "name": "stdout",
     "output_type": "stream",
     "text": [
      "mode: meta_val, episode:  322, total_val_loss: 0.195584, \n",
      "val_mean_iou:{'pencil_box': 0.8102190203351622,\n",
      "'persimmon': 0.7216035488111305,\n",
      "'potato': 0.7462050947723843,\n",
      "'rabbit': 0.8537339186624254,\n",
      "'school_bus': 0.7361192035735808}\n",
      "\n",
      "Episode: 322, Episode Time: 0.076 minutes\n"
     ]
    },
    {
     "name": "stderr",
     "output_type": "stream",
     "text": [
      "8it [00:00, 28.29it/s]\n",
      "8it [00:00, 27.39it/s]\n",
      "8it [00:00, 29.06it/s]\n",
      "8it [00:00, 28.33it/s]\n",
      "8it [00:00, 28.18it/s]\n"
     ]
    },
    {
     "name": "stdout",
     "output_type": "stream",
     "text": [
      "mode: meta_val, episode:  323, total_val_loss: 0.196467, \n",
      "val_mean_iou:{'parallel_bars': 0.25212112623981237,\n",
      "'pidan': 0.80833295122162,\n",
      "'shih-tzu': 0.8893055630459115,\n",
      "'skunk': 0.8813600823073654,\n",
      "'sloth_bear': 0.811486369318468}\n",
      "\n",
      "Episode: 323, Episode Time: 0.068 minutes\n"
     ]
    },
    {
     "name": "stderr",
     "output_type": "stream",
     "text": [
      "8it [00:00, 28.84it/s]\n",
      "8it [00:00, 28.49it/s]\n",
      "8it [00:00, 27.35it/s]\n",
      "18it [00:00, 35.98it/s]\n",
      "8it [00:00, 28.30it/s]\n"
     ]
    },
    {
     "name": "stdout",
     "output_type": "stream",
     "text": [
      "mode: meta_val, episode:  324, total_val_loss: 0.195097, \n",
      "val_mean_iou:{'pizza': 0.761561637786504,\n",
      "'pokermon_ball': 0.819975575694559,\n",
      "'porcupine': 0.8166525383308925,\n",
      "'razor': 0.5359159298718253,\n",
      "'scarerow': 0.550421994711328}\n",
      "\n",
      "Episode: 324, Episode Time: 0.071 minutes\n"
     ]
    },
    {
     "name": "stderr",
     "output_type": "stream",
     "text": [
      "8it [00:00, 27.22it/s]\n",
      "8it [00:00, 29.00it/s]\n",
      "8it [00:00, 29.46it/s]\n",
      "8it [00:00, 26.81it/s]\n",
      "8it [00:00, 28.82it/s]\n"
     ]
    },
    {
     "name": "stdout",
     "output_type": "stream",
     "text": [
      "mode: meta_val, episode:  325, total_val_loss: 0.225111, \n",
      "val_mean_iou:{'peregine_falcon': 0.7875834263501712,\n",
      "'pizza': 0.7753441263334546,\n",
      "'pumpkin_pie': 0.8324206256209079,\n",
      "'reel': 0.781370789006921,\n",
      "'ruffed_grouse': 0.8258443196499408}\n",
      "\n",
      "Episode: 325, Episode Time: 0.068 minutes\n"
     ]
    },
    {
     "name": "stderr",
     "output_type": "stream",
     "text": [
      "8it [00:00, 27.55it/s]\n",
      "8it [00:00, 29.94it/s]\n",
      "18it [00:00, 35.76it/s]\n",
      "8it [00:00, 25.71it/s]\n",
      "8it [00:00, 28.07it/s]\n"
     ]
    },
    {
     "name": "stdout",
     "output_type": "stream",
     "text": [
      "mode: meta_val, episode:  326, total_val_loss: 0.235579, \n",
      "val_mean_iou:{'patas': 0.783575351542942,\n",
      "'pinwheel': 0.7174880414466391,\n",
      "'red_breasted_merganser': 0.7023656735671404,\n",
      "'single_log': 0.18002831526923557,\n",
      "'soap': 0.6843723532714935}\n",
      "\n",
      "Episode: 326, Episode Time: 0.073 minutes\n"
     ]
    },
    {
     "name": "stderr",
     "output_type": "stream",
     "text": [
      "8it [00:00, 29.14it/s]\n",
      "8it [00:00, 28.92it/s]\n",
      "18it [00:00, 34.99it/s]\n",
      "8it [00:00, 28.35it/s]\n",
      "18it [00:00, 34.91it/s]\n"
     ]
    },
    {
     "name": "stdout",
     "output_type": "stream",
     "text": [
      "mode: meta_val, episode:  327, total_val_loss: 0.232150, \n",
      "val_mean_iou:{'poker': 0.7700427361730225,\n",
      "'polo_shirt': 0.5435953086926659,\n",
      "'radio': 0.7855486685826827,\n",
      "'rhinoceros': 0.8662993023073642,\n",
      "'rocking_chair': 0.7131023652127532}\n",
      "\n",
      "Episode: 327, Episode Time: 0.075 minutes\n"
     ]
    },
    {
     "name": "stderr",
     "output_type": "stream",
     "text": [
      "8it [00:00, 29.34it/s]\n",
      "8it [00:00, 29.24it/s]\n",
      "8it [00:00, 28.47it/s]\n",
      "8it [00:00, 30.69it/s]\n",
      "28it [00:00, 37.71it/s]\n"
     ]
    },
    {
     "name": "stdout",
     "output_type": "stream",
     "text": [
      "mode: meta_val, episode:  328, total_val_loss: 0.174363, \n",
      "val_mean_iou:{'potato': 0.7667033491687697,\n",
      "'rhinoceros': 0.8692917152686996,\n",
      "'seagull': 0.8093903181384509,\n",
      "'ski_mask': 0.6718353518223084,\n",
      "'sniper_rifle': 0.6214325616002045}\n",
      "\n",
      "Episode: 328, Episode Time: 0.075 minutes\n"
     ]
    },
    {
     "name": "stderr",
     "output_type": "stream",
     "text": [
      "8it [00:00, 27.89it/s]\n",
      "8it [00:00, 29.16it/s]\n",
      "18it [00:00, 31.17it/s]\n",
      "8it [00:00, 22.68it/s]\n",
      "8it [00:00, 30.45it/s]\n"
     ]
    },
    {
     "name": "stdout",
     "output_type": "stream",
     "text": [
      "mode: meta_val, episode:  329, total_val_loss: 0.353033, \n",
      "val_mean_iou:{'prayer_rug': 0.6819187718397314,\n",
      "'rose': 0.7008113898508446,\n",
      "'schooner': 0.6549767145440755,\n",
      "'skunk': 0.8450210277357741,\n",
      "'sleeping_bag': 0.6715971685738276}\n",
      "\n",
      "Episode: 329, Episode Time: 0.078 minutes\n"
     ]
    },
    {
     "name": "stderr",
     "output_type": "stream",
     "text": [
      "8it [00:00, 28.60it/s]\n",
      "8it [00:00, 28.77it/s]\n",
      "8it [00:00, 29.78it/s]\n",
      "8it [00:00, 27.75it/s]\n",
      "18it [00:00, 33.30it/s]\n"
     ]
    },
    {
     "name": "stdout",
     "output_type": "stream",
     "text": [
      "mode: meta_val, episode:  330, total_val_loss: 0.278457, \n",
      "val_mean_iou:{'paper_towel': 0.5066542517535333,\n",
      "'pencil_sharpener2': 0.7803924029847311,\n",
      "'psp': 0.6889837419490239,\n",
      "'red_fox': 0.8518575464423765,\n",
      "'rhinoceros': 0.8662409934378835}\n",
      "\n",
      "Episode: 330, Episode Time: 0.072 minutes\n"
     ]
    },
    {
     "name": "stderr",
     "output_type": "stream",
     "text": [
      "8it [00:00, 26.77it/s]\n",
      "18it [00:00, 36.91it/s]\n",
      "8it [00:00, 28.36it/s]\n",
      "8it [00:00, 28.91it/s]\n",
      "8it [00:00, 29.56it/s]\n"
     ]
    },
    {
     "name": "stdout",
     "output_type": "stream",
     "text": [
      "mode: meta_val, episode:  331, total_val_loss: 0.218357, \n",
      "val_mean_iou:{'pistachio': 0.7347934895636823,\n",
      "'pomegranate': 0.8248119363813673,\n",
      "'rocking_chair': 0.6920888574516737,\n",
      "'sandwich': 0.7515322925393877,\n",
      "'sombrero': 0.6439379294738788}\n",
      "\n",
      "Episode: 331, Episode Time: 0.071 minutes\n"
     ]
    },
    {
     "name": "stderr",
     "output_type": "stream",
     "text": [
      "8it [00:00, 26.27it/s]\n",
      "8it [00:00, 29.46it/s]\n",
      "8it [00:00, 29.00it/s]\n",
      "8it [00:00, 29.16it/s]\n",
      "8it [00:00, 28.82it/s]\n"
     ]
    },
    {
     "name": "stdout",
     "output_type": "stream",
     "text": [
      "mode: meta_val, episode:  332, total_val_loss: 0.192002, \n",
      "val_mean_iou:{'phonograph': 0.7771432670825413,\n",
      "'pokermon_ball': 0.8138708097934333,\n",
      "'potato_chips': 0.6122335161902037,\n",
      "'rabbit': 0.8785454136614778,\n",
      "'red_wolf': 0.7376236655080303}\n",
      "\n",
      "Episode: 332, Episode Time: 0.068 minutes\n"
     ]
    },
    {
     "name": "stderr",
     "output_type": "stream",
     "text": [
      "8it [00:00, 28.36it/s]\n",
      "8it [00:00, 29.43it/s]\n",
      "8it [00:00, 29.31it/s]\n",
      "8it [00:00, 28.76it/s]\n",
      "18it [00:00, 34.74it/s]\n"
     ]
    },
    {
     "name": "stdout",
     "output_type": "stream",
     "text": [
      "mode: meta_val, episode:  333, total_val_loss: 0.230211, \n",
      "val_mean_iou:{'pencil_box': 0.8433276843313772,\n",
      "'red_breasted_merganser': 0.6581430637019332,\n",
      "'sewing_machine': 0.5608989111149572,\n",
      "'sled': 0.5915475516576978,\n",
      "'smoothing_iron': 0.7745379848066247}\n",
      "\n",
      "Episode: 333, Episode Time: 0.072 minutes\n"
     ]
    },
    {
     "name": "stderr",
     "output_type": "stream",
     "text": [
      "8it [00:00, 29.65it/s]\n",
      "8it [00:00, 29.55it/s]\n",
      "8it [00:00, 29.09it/s]\n",
      "8it [00:00, 29.94it/s]\n",
      "8it [00:00, 28.22it/s]\n"
     ]
    },
    {
     "name": "stdout",
     "output_type": "stream",
     "text": [
      "mode: meta_val, episode:  334, total_val_loss: 0.185758, \n",
      "val_mean_iou:{'polar_bear': 0.9064587841741143,\n",
      "'quad_drone': 0.6334679873128629,\n",
      "'rabbit': 0.8625919574509728,\n",
      "'shower_cap': 0.44360783114830676,\n",
      "'sock': 0.72704996817979}\n",
      "\n",
      "Episode: 334, Episode Time: 0.068 minutes\n"
     ]
    },
    {
     "name": "stderr",
     "output_type": "stream",
     "text": [
      "8it [00:00, 27.40it/s]\n",
      "8it [00:00, 29.10it/s]\n",
      "8it [00:00, 30.30it/s]\n",
      "8it [00:00, 28.55it/s]\n",
      "8it [00:00, 29.50it/s]\n"
     ]
    },
    {
     "name": "stdout",
     "output_type": "stream",
     "text": [
      "mode: meta_val, episode:  335, total_val_loss: 0.254341, \n",
      "val_mean_iou:{'paint_brush': 0.7153848935944422,\n",
      "'paper_towel': 0.5061075466440663,\n",
      "'prayer_rug': 0.8168420047577243,\n",
      "'pyraminx': 0.8026878873218657,\n",
      "'recreational_vehicle': 0.8466759158896979}\n",
      "\n",
      "Episode: 335, Episode Time: 0.068 minutes\n"
     ]
    },
    {
     "name": "stderr",
     "output_type": "stream",
     "text": [
      "8it [00:00, 28.08it/s]\n",
      "8it [00:00, 29.56it/s]\n",
      "8it [00:00, 29.76it/s]\n",
      "8it [00:00, 26.52it/s]\n",
      "8it [00:00, 28.42it/s]\n"
     ]
    },
    {
     "name": "stdout",
     "output_type": "stream",
     "text": [
      "mode: meta_val, episode:  336, total_val_loss: 0.135883, \n",
      "val_mean_iou:{'pheasant': 0.8178771186454681,\n",
      "'pinwheel': 0.6455189057130613,\n",
      "'plate': 0.8755370187214528,\n",
      "'roller_skate': 0.9060920104992614,\n",
      "'sealion': 0.9051969366281232}\n",
      "\n",
      "Episode: 336, Episode Time: 0.068 minutes\n"
     ]
    },
    {
     "name": "stderr",
     "output_type": "stream",
     "text": [
      "8it [00:00, 27.76it/s]\n",
      "8it [00:00, 29.97it/s]\n",
      "8it [00:00, 29.29it/s]\n",
      "8it [00:00, 29.20it/s]\n",
      "8it [00:00, 31.12it/s]\n"
     ]
    },
    {
     "name": "stdout",
     "output_type": "stream",
     "text": [
      "mode: meta_val, episode:  337, total_val_loss: 0.262640, \n",
      "val_mean_iou:{'radiator': 0.637041410747045,\n",
      "'redshank': 0.5487626747942885,\n",
      "'revolver': 0.676932566913146,\n",
      "'scabbard': 0.33411442789581314,\n",
      "'siamang': 0.7205039443393187}\n",
      "\n",
      "Episode: 337, Episode Time: 0.067 minutes\n"
     ]
    },
    {
     "name": "stderr",
     "output_type": "stream",
     "text": [
      "8it [00:00, 28.04it/s]\n",
      "8it [00:00, 28.05it/s]\n",
      "8it [00:00, 29.12it/s]\n",
      "8it [00:00, 29.70it/s]\n",
      "8it [00:00, 28.64it/s]\n"
     ]
    },
    {
     "name": "stdout",
     "output_type": "stream",
     "text": [
      "mode: meta_val, episode:  338, total_val_loss: 0.203301, \n",
      "val_mean_iou:{'proboscis': 0.841317956191546,\n",
      "'revolver': 0.6965252404859493,\n",
      "'sandal': 0.6151192675257849,\n",
      "'scorpion': 0.6878461988711544,\n",
      "'solar_dish': 0.7762031198527521}\n",
      "\n",
      "Episode: 338, Episode Time: 0.067 minutes\n"
     ]
    },
    {
     "name": "stderr",
     "output_type": "stream",
     "text": [
      "8it [00:00, 30.64it/s]\n",
      "8it [00:00, 28.78it/s]\n",
      "8it [00:00, 27.97it/s]\n",
      "8it [00:00, 29.04it/s]\n",
      "18it [00:00, 35.48it/s]\n"
     ]
    },
    {
     "name": "stdout",
     "output_type": "stream",
     "text": [
      "mode: meta_val, episode:  339, total_val_loss: 0.154430, \n",
      "val_mean_iou:{'ostrich': 0.7391733563159015,\n",
      "'pig': 0.8502494134912073,\n",
      "'poached_egg': 0.7999243277244747,\n",
      "'red_bayberry': 0.7547471957407175,\n",
      "'snail': 0.7095245123801361}\n",
      "\n",
      "Episode: 339, Episode Time: 0.071 minutes\n"
     ]
    },
    {
     "name": "stderr",
     "output_type": "stream",
     "text": [
      "8it [00:00, 27.88it/s]\n",
      "8it [00:00, 27.67it/s]\n",
      "8it [00:00, 28.38it/s]\n",
      "8it [00:00, 25.91it/s]\n",
      "8it [00:00, 31.90it/s]\n"
     ]
    },
    {
     "name": "stdout",
     "output_type": "stream",
     "text": [
      "mode: meta_val, episode:  340, total_val_loss: 0.193603, \n",
      "val_mean_iou:{'partridge': 0.7032013369226651,\n",
      "'polecat': 0.776029737530888,\n",
      "'rabbit': 0.9042403522762417,\n",
      "'remote_control': 0.6303697775683681,\n",
      "'sewing_machine': 0.5538857960067245}\n",
      "\n",
      "Episode: 340, Episode Time: 0.069 minutes\n"
     ]
    },
    {
     "name": "stderr",
     "output_type": "stream",
     "text": [
      "8it [00:00, 28.03it/s]\n",
      "8it [00:00, 29.81it/s]\n",
      "8it [00:00, 29.23it/s]\n",
      "8it [00:00, 27.97it/s]\n",
      "8it [00:00, 27.56it/s]\n"
     ]
    },
    {
     "name": "stdout",
     "output_type": "stream",
     "text": [
      "mode: meta_val, episode:  341, total_val_loss: 0.218577, \n",
      "val_mean_iou:{'panpipe': 0.5936066602285669,\n",
      "'polar_bear': 0.8844831752467711,\n",
      "'ringlet_butterfly': 0.9268282217774924,\n",
      "'sewing_machine': 0.5348120829238237,\n",
      "'soccer_ball': 0.5908777951916191}\n",
      "\n",
      "Episode: 341, Episode Time: 0.068 minutes\n"
     ]
    },
    {
     "name": "stderr",
     "output_type": "stream",
     "text": [
      "8it [00:00, 28.22it/s]\n",
      "8it [00:00, 30.85it/s]\n",
      "8it [00:00, 29.50it/s]\n",
      "8it [00:00, 29.12it/s]\n",
      "8it [00:00, 30.39it/s]\n"
     ]
    },
    {
     "name": "stdout",
     "output_type": "stream",
     "text": [
      "mode: meta_val, episode:  342, total_val_loss: 0.231513, \n",
      "val_mean_iou:{'pay_phone': 0.49161465059609766,\n",
      "'petri_dish': 0.7626135830177843,\n",
      "'radio_telescope': 0.8008634361745177,\n",
      "'samarra_mosque': 0.669598546071509,\n",
      "'sock': 0.7198956636298456}\n",
      "\n",
      "Episode: 342, Episode Time: 0.067 minutes\n"
     ]
    },
    {
     "name": "stderr",
     "output_type": "stream",
     "text": [
      "8it [00:00, 28.59it/s]\n",
      "8it [00:00, 29.71it/s]\n",
      "8it [00:00, 30.92it/s]\n",
      "8it [00:00, 28.50it/s]\n",
      "8it [00:00, 29.15it/s]\n"
     ]
    },
    {
     "name": "stdout",
     "output_type": "stream",
     "text": [
      "mode: meta_val, episode:  343, total_val_loss: 0.322252, \n",
      "val_mean_iou:{'panther': 0.803848726473084,\n",
      "'persian_cat': 0.8215460934339802,\n",
      "'petri_dish': 0.7652320121099669,\n",
      "'seatbelt': 0.0860672164527343,\n",
      "'shower_cap': 0.3747391465089035}\n",
      "\n",
      "Episode: 343, Episode Time: 0.067 minutes\n"
     ]
    },
    {
     "name": "stderr",
     "output_type": "stream",
     "text": [
      "8it [00:00, 26.84it/s]\n",
      "8it [00:00, 28.96it/s]\n",
      "8it [00:00, 28.20it/s]\n",
      "8it [00:00, 31.02it/s]\n",
      "8it [00:00, 29.16it/s]\n"
     ]
    },
    {
     "name": "stdout",
     "output_type": "stream",
     "text": [
      "mode: meta_val, episode:  344, total_val_loss: 0.315180, \n",
      "val_mean_iou:{'pay_phone': 0.48624874545218083,\n",
      "'roller_coaster': 0.4956119956565031,\n",
      "'sleeping_bag': 0.7880274578627988,\n",
      "'snowman': 0.6766457166280464,\n",
      "'solar_dish': 0.7504884763533063}\n",
      "\n",
      "Episode: 344, Episode Time: 0.067 minutes\n"
     ]
    },
    {
     "name": "stderr",
     "output_type": "stream",
     "text": [
      "8it [00:00, 26.49it/s]\n",
      "8it [00:00, 28.49it/s]\n",
      "8it [00:00, 27.25it/s]\n",
      "28it [00:00, 37.75it/s]\n",
      "8it [00:00, 31.09it/s]\n"
     ]
    },
    {
     "name": "stdout",
     "output_type": "stream",
     "text": [
      "mode: meta_val, episode:  345, total_val_loss: 0.311090, \n",
      "val_mean_iou:{'owl': 0.7779269232592753,\n",
      "'paddle': 0.747130675066455,\n",
      "'pretzel': 0.604057607064381,\n",
      "'projector': 0.6083921405703296,\n",
      "'pyramid_cube': 0.7143984747330632}\n",
      "\n",
      "Episode: 345, Episode Time: 0.076 minutes\n"
     ]
    },
    {
     "name": "stderr",
     "output_type": "stream",
     "text": [
      "8it [00:00, 29.22it/s]\n",
      "8it [00:00, 30.37it/s]\n",
      "8it [00:00, 28.45it/s]\n",
      "8it [00:00, 27.87it/s]\n",
      "8it [00:00, 28.48it/s]\n"
     ]
    },
    {
     "name": "stdout",
     "output_type": "stream",
     "text": [
      "mode: meta_val, episode:  346, total_val_loss: 0.160966, \n",
      "val_mean_iou:{'pencil_sharpener2': 0.7795946846107995,\n",
      "'pistachio': 0.675449105776155,\n",
      "'ringlet_butterfly': 0.9423738350994441,\n",
      "'samarra_mosque': 0.7412101201419402,\n",
      "'shih-tzu': 0.7790372448528641}\n",
      "\n",
      "Episode: 346, Episode Time: 0.067 minutes\n"
     ]
    },
    {
     "name": "stderr",
     "output_type": "stream",
     "text": [
      "8it [00:00, 29.48it/s]\n",
      "8it [00:00, 28.02it/s]\n",
      "8it [00:00, 29.25it/s]\n",
      "8it [00:00, 29.67it/s]\n",
      "8it [00:00, 29.86it/s]\n"
     ]
    },
    {
     "name": "stdout",
     "output_type": "stream",
     "text": [
      "mode: meta_val, episode:  347, total_val_loss: 0.177254, \n",
      "val_mean_iou:{'pill_bottle': 0.8717459582801892,\n",
      "'pomegranate': 0.7941965893011252,\n",
      "'pomelo': 0.7879126598790633,\n",
      "'quail_egg': 0.6956406182723549,\n",
      "'rubber_eraser': 0.7680734322956009}\n",
      "\n",
      "Episode: 347, Episode Time: 0.067 minutes\n"
     ]
    },
    {
     "name": "stderr",
     "output_type": "stream",
     "text": [
      "8it [00:00, 27.58it/s]\n",
      "8it [00:00, 29.30it/s]\n",
      "8it [00:00, 28.71it/s]\n",
      "8it [00:00, 28.39it/s]\n",
      "8it [00:00, 28.89it/s]\n"
     ]
    },
    {
     "name": "stdout",
     "output_type": "stream",
     "text": [
      "mode: meta_val, episode:  348, total_val_loss: 0.182592, \n",
      "val_mean_iou:{'pomelo': 0.735044206534653,\n",
      "'ptarmigan': 0.8645422360151169,\n",
      "'pubg_lvl3backpack': 0.5694257441251263,\n",
      "'pyraminx': 0.7947228386064187,\n",
      "'solar_dish': 0.7433301886709488}\n",
      "\n",
      "Episode: 348, Episode Time: 0.067 minutes\n"
     ]
    },
    {
     "name": "stderr",
     "output_type": "stream",
     "text": [
      "8it [00:00, 29.12it/s]\n",
      "8it [00:00, 30.06it/s]\n",
      "8it [00:00, 27.57it/s]\n",
      "8it [00:00, 32.67it/s]\n",
      "8it [00:00, 26.74it/s]\n"
     ]
    },
    {
     "name": "stdout",
     "output_type": "stream",
     "text": [
      "mode: meta_val, episode:  349, total_val_loss: 0.205626, \n",
      "val_mean_iou:{'pokermon_ball': 0.8079795780014993,\n",
      "'radio_telescope': 0.8153574579459613,\n",
      "'reel': 0.7904919555163175,\n",
      "'sandwich_cookies': 0.8313012774599393,\n",
      "'shower_cap': 0.4675832683423776}\n",
      "\n",
      "Episode: 349, Episode Time: 0.068 minutes\n"
     ]
    },
    {
     "name": "stderr",
     "output_type": "stream",
     "text": [
      "8it [00:00, 28.54it/s]\n",
      "8it [00:00, 29.55it/s]\n",
      "18it [00:00, 35.16it/s]\n",
      "8it [00:00, 27.51it/s]\n",
      "8it [00:00, 28.92it/s]\n"
     ]
    },
    {
     "name": "stdout",
     "output_type": "stream",
     "text": [
      "mode: meta_val, episode:  350, total_val_loss: 0.394513, \n",
      "val_mean_iou:{'photocopier': 0.6544257187544312,\n",
      "'red_fox': 0.8402221485219745,\n",
      "'refrigerator': 0.6137244759003635,\n",
      "'shumai': 0.6400993428804709,\n",
      "'sled': 0.5828332478513563}\n",
      "\n",
      "Episode: 350, Episode Time: 0.071 minutes\n"
     ]
    },
    {
     "name": "stderr",
     "output_type": "stream",
     "text": [
      "8it [00:00, 28.25it/s]\n",
      "8it [00:00, 30.26it/s]\n",
      "8it [00:00, 30.91it/s]\n",
      "8it [00:00, 30.64it/s]\n",
      "8it [00:00, 29.22it/s]\n"
     ]
    },
    {
     "name": "stdout",
     "output_type": "stream",
     "text": [
      "mode: meta_val, episode:  351, total_val_loss: 0.222446, \n",
      "val_mean_iou:{'platypus': 0.8133566631552392,\n",
      "'pomelo': 0.7979224281245877,\n",
      "'red_breasted_merganser': 0.6618288031748403,\n",
      "'redheart': 0.03457802822992631,\n",
      "'rosehip': 0.6119704130577318}\n",
      "\n",
      "Episode: 351, Episode Time: 0.066 minutes\n"
     ]
    },
    {
     "name": "stderr",
     "output_type": "stream",
     "text": [
      "18it [00:00, 34.53it/s]\n",
      "8it [00:00, 30.83it/s]\n",
      "28it [00:00, 36.25it/s]\n",
      "8it [00:00, 28.68it/s]\n",
      "18it [00:00, 34.51it/s]\n"
     ]
    },
    {
     "name": "stdout",
     "output_type": "stream",
     "text": [
      "mode: meta_val, episode:  352, total_val_loss: 0.179401, \n",
      "val_mean_iou:{'owl': 0.7857139359219557,\n",
      "'pear': 0.7435284078299649,\n",
      "'pig': 0.8492008893209682,\n",
      "'razor': 0.5244611643990166,\n",
      "'scorpion': 0.6698358998221728}\n",
      "\n",
      "Episode: 352, Episode Time: 0.083 minutes\n"
     ]
    },
    {
     "name": "stderr",
     "output_type": "stream",
     "text": [
      "18it [00:00, 35.56it/s]\n",
      "8it [00:00, 31.04it/s]\n",
      "8it [00:00, 28.71it/s]\n",
      "8it [00:00, 29.99it/s]\n",
      "8it [00:00, 28.79it/s]\n"
     ]
    },
    {
     "name": "stdout",
     "output_type": "stream",
     "text": [
      "mode: meta_val, episode:  353, total_val_loss: 0.145756, \n",
      "val_mean_iou:{'parking_meter': 0.7094710612224027,\n",
      "'pyramid_cube': 0.8081685161201582,\n",
      "'radio': 0.8214848505937983,\n",
      "'red_breasted_merganser': 0.6905854736450592,\n",
      "'ringlet_butterfly': 0.9353776766321469}\n",
      "\n",
      "Episode: 353, Episode Time: 0.071 minutes\n"
     ]
    },
    {
     "name": "stderr",
     "output_type": "stream",
     "text": [
      "8it [00:00, 25.42it/s]\n",
      "8it [00:00, 29.62it/s]\n",
      "8it [00:00, 29.21it/s]\n",
      "8it [00:00, 28.82it/s]\n",
      "18it [00:00, 35.24it/s]\n"
     ]
    },
    {
     "name": "stdout",
     "output_type": "stream",
     "text": [
      "mode: meta_val, episode:  354, total_val_loss: 0.200825, \n",
      "val_mean_iou:{'peregine_falcon': 0.7816472142593305,\n",
      "'pheasant': 0.809989826416007,\n",
      "'quail': 0.7531290652690287,\n",
      "'relay_stick': 0.29916232423757216,\n",
      "'ringlet_butterfly': 0.9208401783648331}\n",
      "\n",
      "Episode: 354, Episode Time: 0.071 minutes\n"
     ]
    },
    {
     "name": "stderr",
     "output_type": "stream",
     "text": [
      "8it [00:00, 28.40it/s]\n",
      "8it [00:00, 29.47it/s]\n",
      "8it [00:00, 29.01it/s]\n",
      "8it [00:00, 28.77it/s]\n",
      "8it [00:00, 28.77it/s]\n"
     ]
    },
    {
     "name": "stdout",
     "output_type": "stream",
     "text": [
      "mode: meta_val, episode:  355, total_val_loss: 0.185615, \n",
      "val_mean_iou:{'park_bench': 0.6093843253868212,\n",
      "'persian_cat': 0.8768244296980707,\n",
      "'power_drill': 0.6535950006685078,\n",
      "'ringlet_butterfly': 0.9229188800476753,\n",
      "'rugby_ball': 0.6859993736299524}\n",
      "\n",
      "Episode: 355, Episode Time: 0.068 minutes\n"
     ]
    },
    {
     "name": "stderr",
     "output_type": "stream",
     "text": [
      "18it [00:00, 34.62it/s]\n",
      "8it [00:00, 28.03it/s]\n",
      "8it [00:00, 29.48it/s]\n",
      "8it [00:00, 29.39it/s]\n",
      "8it [00:00, 27.26it/s]\n"
     ]
    },
    {
     "name": "stdout",
     "output_type": "stream",
     "text": [
      "mode: meta_val, episode:  356, total_val_loss: 0.186212, \n",
      "val_mean_iou:{'paper_crane': 0.6918273750510961,\n",
      "'plaice': 0.8134031257058729,\n",
      "'sandwich': 0.7704128125429853,\n",
      "'scroll_brush': 0.6557840075114325,\n",
      "'shakuhachi': 0.4864536829500831}\n",
      "\n",
      "Episode: 356, Episode Time: 0.071 minutes\n"
     ]
    },
    {
     "name": "stderr",
     "output_type": "stream",
     "text": [
      "8it [00:00, 28.73it/s]\n",
      "8it [00:00, 28.42it/s]\n",
      "8it [00:00, 29.80it/s]\n",
      "8it [00:00, 28.38it/s]\n",
      "8it [00:00, 29.25it/s]\n"
     ]
    },
    {
     "name": "stdout",
     "output_type": "stream",
     "text": [
      "mode: meta_val, episode:  357, total_val_loss: 0.226134, \n",
      "val_mean_iou:{'peacock': 0.7794901729664634,\n",
      "'pomelo': 0.7876635434855258,\n",
      "'rally_car': 0.8665857942823093,\n",
      "'raven': 0.8651761815304642,\n",
      "'refrigerator': 0.6349230889062392}\n",
      "\n",
      "Episode: 357, Episode Time: 0.067 minutes\n"
     ]
    },
    {
     "name": "stderr",
     "output_type": "stream",
     "text": [
      "8it [00:00, 28.28it/s]\n",
      "8it [00:00, 29.39it/s]\n",
      "8it [00:00, 29.07it/s]\n",
      "8it [00:00, 28.46it/s]\n",
      "8it [00:00, 29.08it/s]\n"
     ]
    },
    {
     "name": "stdout",
     "output_type": "stream",
     "text": [
      "mode: meta_val, episode:  358, total_val_loss: 0.230118, \n",
      "val_mean_iou:{'projector': 0.5627028931912601,\n",
      "'punching_bag': 0.5196168356688458,\n",
      "'rally_car': 0.8689432754740659,\n",
      "'seagull': 0.7791774014259678,\n",
      "'snowman': 0.7840142349076014}\n",
      "\n",
      "Episode: 358, Episode Time: 0.067 minutes\n"
     ]
    },
    {
     "name": "stderr",
     "output_type": "stream",
     "text": [
      "8it [00:00, 29.67it/s]\n",
      "8it [00:00, 29.37it/s]\n",
      "8it [00:00, 29.67it/s]\n",
      "8it [00:00, 27.88it/s]\n",
      "8it [00:00, 28.88it/s]\n"
     ]
    },
    {
     "name": "stdout",
     "output_type": "stream",
     "text": [
      "mode: meta_val, episode:  359, total_val_loss: 0.222537, \n",
      "val_mean_iou:{'paint_brush': 0.6992340960366216,\n",
      "'park_bench': 0.5756171287186085,\n",
      "'pear': 0.7705683126963107,\n",
      "'red_breasted_merganser': 0.6681894046056769,\n",
      "'ruler': 0.6444426035701833}\n",
      "\n",
      "Episode: 359, Episode Time: 0.066 minutes\n"
     ]
    },
    {
     "name": "stderr",
     "output_type": "stream",
     "text": [
      "8it [00:00, 25.32it/s]\n",
      "8it [00:00, 28.73it/s]\n",
      "8it [00:00, 28.21it/s]\n",
      "8it [00:00, 29.26it/s]\n",
      "8it [00:00, 27.96it/s]\n"
     ]
    },
    {
     "name": "stdout",
     "output_type": "stream",
     "text": [
      "mode: meta_val, episode:  360, total_val_loss: 0.274489, \n",
      "val_mean_iou:{'parachute': 0.7901568814938887,\n",
      "'pomegranate': 0.7871384805379261,\n",
      "'rock_beauty': 0.8272659496970899,\n",
      "'shopping_cart': 0.7575043621354746,\n",
      "'single_log': 0.26365638563587745}\n",
      "\n",
      "Episode: 360, Episode Time: 0.068 minutes\n"
     ]
    },
    {
     "name": "stderr",
     "output_type": "stream",
     "text": [
      "8it [00:00, 29.51it/s]\n",
      "8it [00:00, 29.07it/s]\n",
      "8it [00:00, 26.48it/s]\n",
      "8it [00:00, 28.69it/s]\n",
      "8it [00:00, 29.90it/s]\n"
     ]
    },
    {
     "name": "stdout",
     "output_type": "stream",
     "text": [
      "mode: meta_val, episode:  361, total_val_loss: 0.383320, \n",
      "val_mean_iou:{'pspgo': 0.6468294345564194,\n",
      "'sandwich_cookies': 0.7653875449025985,\n",
      "'sarong': 0.5545655264607786,\n",
      "'siamese_cat': 0.8091313207388151,\n",
      "'sleeping_bag': 0.7521363887637296}\n",
      "\n",
      "Episode: 361, Episode Time: 0.068 minutes\n"
     ]
    },
    {
     "name": "stderr",
     "output_type": "stream",
     "text": [
      "8it [00:00, 29.60it/s]\n",
      "8it [00:00, 27.18it/s]\n",
      "8it [00:00, 29.47it/s]\n",
      "8it [00:00, 29.34it/s]\n",
      "8it [00:00, 29.45it/s]\n"
     ]
    },
    {
     "name": "stdout",
     "output_type": "stream",
     "text": [
      "mode: meta_val, episode:  362, total_val_loss: 0.223345, \n",
      "val_mean_iou:{'ostrich': 0.7488905380454911,\n",
      "'pillow': 0.7576869518265801,\n",
      "'remote_control': 0.6464161333183961,\n",
      "'running_shoe': 0.5397137832891777,\n",
      "'shovel': 0.5769125672090374}\n",
      "\n",
      "Episode: 362, Episode Time: 0.068 minutes\n"
     ]
    },
    {
     "name": "stderr",
     "output_type": "stream",
     "text": [
      "8it [00:00, 26.24it/s]\n",
      "18it [00:00, 34.37it/s]\n",
      "8it [00:00, 29.84it/s]\n",
      "18it [00:00, 35.27it/s]\n",
      "8it [00:00, 28.36it/s]\n"
     ]
    },
    {
     "name": "stdout",
     "output_type": "stream",
     "text": [
      "mode: meta_val, episode:  363, total_val_loss: 0.162286, \n",
      "val_mean_iou:{'parachute': 0.7418745777446465,\n",
      "'printer': 0.7888233282935995,\n",
      "'pumpkin': 0.8611061150614516,\n",
      "'reel': 0.8386805199964151,\n",
      "'screw': 0.6138683159806906}\n",
      "\n",
      "Episode: 363, Episode Time: 0.075 minutes\n"
     ]
    },
    {
     "name": "stderr",
     "output_type": "stream",
     "text": [
      "8it [00:00, 29.15it/s]\n",
      "88it [00:02, 41.59it/s]\n",
      "8it [00:00, 30.27it/s]\n",
      "8it [00:00, 28.81it/s]\n",
      "8it [00:00, 29.69it/s]\n"
     ]
    },
    {
     "name": "stdout",
     "output_type": "stream",
     "text": [
      "mode: meta_val, episode:  364, total_val_loss: 0.146123, \n",
      "val_mean_iou:{'pen': 0.6433657944061437,\n",
      "'potted_plant': 0.7166647880899533,\n",
      "'pyraminx': 0.7794089366206128,\n",
      "'rubick_cube': 0.9235055568328805,\n",
      "'snowball': 0.5667354917751999}\n",
      "\n",
      "Episode: 364, Episode Time: 0.097 minutes\n"
     ]
    },
    {
     "name": "stderr",
     "output_type": "stream",
     "text": [
      "8it [00:00, 28.59it/s]\n",
      "128it [00:03, 39.76it/s]\n",
      "8it [00:00, 30.17it/s]\n",
      "8it [00:00, 28.55it/s]\n",
      "8it [00:00, 29.63it/s]\n"
     ]
    },
    {
     "name": "stdout",
     "output_type": "stream",
     "text": [
      "mode: meta_val, episode:  365, total_val_loss: 0.201981, \n",
      "val_mean_iou:{'ox': 0.8244288038330382,\n",
      "'rhinoceros': 0.8762916435501051,\n",
      "'shovel': 0.4878554599992784,\n",
      "'shower_cap': 0.459890952837993,\n",
      "'snowman': 0.8133431485576598}\n",
      "\n",
      "Episode: 365, Episode Time: 0.117 minutes\n"
     ]
    },
    {
     "name": "stderr",
     "output_type": "stream",
     "text": [
      "8it [00:00, 27.32it/s]\n",
      "8it [00:00, 29.05it/s]\n",
      "8it [00:00, 28.95it/s]\n",
      "8it [00:00, 27.50it/s]\n",
      "8it [00:00, 28.81it/s]\n"
     ]
    },
    {
     "name": "stdout",
     "output_type": "stream",
     "text": [
      "mode: meta_val, episode:  366, total_val_loss: 0.238933, \n",
      "val_mean_iou:{'pspgo': 0.7055158441941403,\n",
      "'pubg_lvl3backpack': 0.6567192797682295,\n",
      "'rabbit': 0.8966107853027956,\n",
      "'samarra_mosque': 0.6604720871806176,\n",
      "'solar_dish': 0.7838344389326637}\n",
      "\n",
      "Episode: 366, Episode Time: 0.067 minutes\n"
     ]
    },
    {
     "name": "stderr",
     "output_type": "stream",
     "text": [
      "8it [00:00, 28.59it/s]\n",
      "8it [00:00, 28.77it/s]\n",
      "8it [00:00, 27.68it/s]\n",
      "8it [00:00, 27.12it/s]\n",
      "28it [00:00, 36.60it/s]\n"
     ]
    },
    {
     "name": "stdout",
     "output_type": "stream",
     "text": [
      "mode: meta_val, episode:  367, total_val_loss: 0.290551, \n",
      "val_mean_iou:{'paddle': 0.77897873378908,\n",
      "'parking_meter': 0.790670113807254,\n",
      "'prayer_rug': 0.7543224157345035,\n",
      "'pyramid': 0.691489385092394,\n",
      "'shumai': 0.6629931916016634}\n",
      "\n",
      "Episode: 367, Episode Time: 0.076 minutes\n"
     ]
    },
    {
     "name": "stderr",
     "output_type": "stream",
     "text": [
      "28it [00:00, 36.50it/s]\n",
      "8it [00:00, 28.28it/s]\n",
      "8it [00:00, 29.59it/s]\n",
      "8it [00:00, 28.46it/s]\n",
      "8it [00:00, 28.41it/s]\n"
     ]
    },
    {
     "name": "stdout",
     "output_type": "stream",
     "text": [
      "mode: meta_val, episode:  368, total_val_loss: 0.213785, \n",
      "val_mean_iou:{'panda': 0.7766807019113351,\n",
      "'pear': 0.7346365700572955,\n",
      "'persian_cat': 0.8507202358598224,\n",
      "'pretzel': 0.6682768759886618,\n",
      "'seagull': 0.7664308810130811}\n",
      "\n",
      "Episode: 368, Episode Time: 0.075 minutes\n"
     ]
    },
    {
     "name": "stderr",
     "output_type": "stream",
     "text": [
      "8it [00:00, 29.30it/s]\n",
      "8it [00:00, 30.43it/s]\n",
      "8it [00:00, 29.29it/s]\n",
      "8it [00:00, 25.82it/s]\n",
      "8it [00:00, 28.16it/s]\n"
     ]
    },
    {
     "name": "stdout",
     "output_type": "stream",
     "text": [
      "mode: meta_val, episode:  369, total_val_loss: 0.289050, \n",
      "val_mean_iou:{'plastic_bag': 0.7454576710689473,\n",
      "'power_drill': 0.7071396636090932,\n",
      "'pretzel': 0.6679418723912538,\n",
      "'printer': 0.7247889081696017,\n",
      "'santa_sledge': 0.639261955902814}\n",
      "\n",
      "Episode: 369, Episode Time: 0.067 minutes\n"
     ]
    },
    {
     "name": "stderr",
     "output_type": "stream",
     "text": [
      "8it [00:00, 29.08it/s]\n",
      "8it [00:00, 29.71it/s]\n",
      "8it [00:00, 28.59it/s]\n",
      "18it [00:00, 34.10it/s]\n",
      "8it [00:00, 29.45it/s]\n"
     ]
    },
    {
     "name": "stdout",
     "output_type": "stream",
     "text": [
      "mode: meta_val, episode:  370, total_val_loss: 0.183627, \n",
      "val_mean_iou:{'power_drill': 0.6281832888874561,\n",
      "'ptarmigan': 0.8310910789092785,\n",
      "'pyramid_cube': 0.7725954442342897,\n",
      "'radio': 0.8212708860271094,\n",
      "'soap_dispenser': 0.8436890629224321}\n",
      "\n",
      "Episode: 370, Episode Time: 0.071 minutes\n"
     ]
    },
    {
     "name": "stderr",
     "output_type": "stream",
     "text": [
      "8it [00:00, 26.97it/s]\n",
      "8it [00:00, 28.87it/s]\n",
      "8it [00:00, 28.66it/s]\n",
      "8it [00:00, 28.71it/s]\n",
      "8it [00:00, 28.69it/s]\n"
     ]
    },
    {
     "name": "stdout",
     "output_type": "stream",
     "text": [
      "mode: meta_val, episode:  371, total_val_loss: 0.271890, \n",
      "val_mean_iou:{'pool_table': 0.5634857994338236,\n",
      "'potato_chips': 0.6324539773445816,\n",
      "'reflex_camera': 0.796079784176444,\n",
      "'scarerow': 0.5032536392485811,\n",
      "'snail': 0.7739639387960336}\n",
      "\n",
      "Episode: 371, Episode Time: 0.067 minutes\n"
     ]
    },
    {
     "name": "stderr",
     "output_type": "stream",
     "text": [
      "8it [00:00, 29.72it/s]\n",
      "28it [00:00, 37.17it/s]\n",
      "8it [00:00, 26.42it/s]\n",
      "18it [00:00, 37.03it/s]\n",
      "8it [00:00, 27.79it/s]\n"
     ]
    },
    {
     "name": "stdout",
     "output_type": "stream",
     "text": [
      "mode: meta_val, episode:  372, total_val_loss: 0.268165, \n",
      "val_mean_iou:{'paper_towel': 0.5565114535789115,\n",
      "'pyramid': 0.6849715991060769,\n",
      "'redheart': 0.06327744676034358,\n",
      "'sandwich': 0.8037102832296642,\n",
      "'shovel': 0.6001148457389327}\n",
      "\n",
      "Episode: 372, Episode Time: 0.079 minutes\n"
     ]
    },
    {
     "name": "stderr",
     "output_type": "stream",
     "text": [
      "8it [00:00, 30.55it/s]\n",
      "18it [00:00, 31.23it/s]\n",
      "8it [00:00, 29.55it/s]\n",
      "18it [00:00, 33.03it/s]\n",
      "8it [00:00, 27.67it/s]\n"
     ]
    },
    {
     "name": "stdout",
     "output_type": "stream",
     "text": [
      "mode: meta_val, episode:  373, total_val_loss: 0.408856, \n",
      "val_mean_iou:{'piano_keyboard': 0.42250437052723755,\n",
      "'poker': 0.7014189742731918,\n",
      "'pretzel': 0.5890222696900878,\n",
      "'pumpkin': 0.8843490734396483,\n",
      "'snowman': 0.6922262854404369}\n",
      "\n",
      "Episode: 373, Episode Time: 0.077 minutes\n"
     ]
    },
    {
     "name": "stderr",
     "output_type": "stream",
     "text": [
      "8it [00:00, 30.01it/s]\n",
      "8it [00:00, 24.62it/s]\n",
      "18it [00:00, 33.99it/s]\n",
      "8it [00:00, 27.21it/s]\n",
      "8it [00:00, 29.17it/s]\n"
     ]
    },
    {
     "name": "stdout",
     "output_type": "stream",
     "text": [
      "mode: meta_val, episode:  374, total_val_loss: 0.195018, \n",
      "val_mean_iou:{'paint_brush': 0.6508863331517583,\n",
      "'puma_logo': 0.27008570516914304,\n",
      "'recreational_vehicle': 0.8201760024647982,\n",
      "'red_wolf': 0.7451669555751022,\n",
      "'seal': 0.8708531211924257}\n",
      "\n",
      "Episode: 374, Episode Time: 0.073 minutes\n"
     ]
    },
    {
     "name": "stderr",
     "output_type": "stream",
     "text": [
      "8it [00:00, 29.21it/s]\n",
      "8it [00:00, 29.51it/s]\n",
      "8it [00:00, 29.22it/s]\n",
      "8it [00:00, 29.83it/s]\n",
      "8it [00:00, 29.01it/s]\n"
     ]
    },
    {
     "name": "stdout",
     "output_type": "stream",
     "text": [
      "mode: meta_val, episode:  375, total_val_loss: 0.408171, \n",
      "val_mean_iou:{'oyster': 0.7299109562176733,\n",
      "'parking_meter': 0.7776217627680388,\n",
      "'photocopier': 0.6294361858424603,\n",
      "'shumai': 0.6763936189177278,\n",
      "'sombrero': 0.5936234408219974}\n",
      "\n",
      "Episode: 375, Episode Time: 0.067 minutes\n"
     ]
    },
    {
     "name": "stderr",
     "output_type": "stream",
     "text": [
      "8it [00:00, 30.25it/s]\n",
      "8it [00:00, 28.98it/s]\n",
      "8it [00:00, 30.62it/s]\n",
      "8it [00:00, 30.31it/s]\n",
      "8it [00:00, 29.84it/s]\n"
     ]
    },
    {
     "name": "stdout",
     "output_type": "stream",
     "text": [
      "mode: meta_val, episode:  376, total_val_loss: 0.248796, \n",
      "val_mean_iou:{'projector': 0.5814202265357102,\n",
      "'pubg_lvl3backpack': 0.5800351402764015,\n",
      "'scissors': 0.5259221488620944,\n",
      "'screwdriver': 0.7096109150034667,\n",
      "'soccer_ball': 0.5045946003840464}\n",
      "\n",
      "Episode: 376, Episode Time: 0.065 minutes\n"
     ]
    },
    {
     "name": "stderr",
     "output_type": "stream",
     "text": [
      "8it [00:00, 30.08it/s]\n",
      "8it [00:00, 28.51it/s]\n",
      "8it [00:00, 30.60it/s]\n",
      "8it [00:00, 31.52it/s]\n",
      "8it [00:00, 30.50it/s]\n"
     ]
    },
    {
     "name": "stdout",
     "output_type": "stream",
     "text": [
      "mode: meta_val, episode:  377, total_val_loss: 0.343874, \n",
      "val_mean_iou:{'persian_cat': 0.8144387381606732,\n",
      "'photocopier': 0.7147651131848725,\n",
      "'punching_bag': 0.47763287091191176,\n",
      "'rosehip': 0.4936891137034786,\n",
      "'shopping_cart': 0.7395566986085605}\n",
      "\n",
      "Episode: 377, Episode Time: 0.065 minutes\n"
     ]
    },
    {
     "name": "stderr",
     "output_type": "stream",
     "text": [
      "18it [00:00, 31.44it/s]\n",
      "28it [00:00, 36.07it/s]\n",
      "8it [00:00, 29.01it/s]\n",
      "8it [00:00, 29.30it/s]\n",
      "8it [00:00, 29.16it/s]\n"
     ]
    },
    {
     "name": "stdout",
     "output_type": "stream",
     "text": [
      "mode: meta_val, episode:  378, total_val_loss: 0.235795, \n",
      "val_mean_iou:{'pill_bottle': 0.7834183500890728,\n",
      "'pineapple': 0.6317324864966041,\n",
      "'psp': 0.7649923936966971,\n",
      "'pyramid': 0.7187283446080699,\n",
      "'reflex_camera': 0.8209788937708025}\n",
      "\n",
      "Episode: 378, Episode Time: 0.082 minutes\n"
     ]
    },
    {
     "name": "stderr",
     "output_type": "stream",
     "text": [
      "8it [00:00, 33.76it/s]\n",
      "8it [00:00, 28.56it/s]\n",
      "8it [00:00, 29.42it/s]\n",
      "8it [00:00, 28.54it/s]\n",
      "8it [00:00, 30.31it/s]\n"
     ]
    },
    {
     "name": "stdout",
     "output_type": "stream",
     "text": [
      "mode: meta_val, episode:  379, total_val_loss: 0.185067, \n",
      "val_mean_iou:{'park_bench': 0.5638857441321672,\n",
      "'partridge': 0.7596940851247125,\n",
      "'pencil_sharpener2': 0.8419876767575303,\n",
      "'pepitas': 0.7536987145301765,\n",
      "'proboscis': 0.791742299606522}\n",
      "\n",
      "Episode: 379, Episode Time: 0.068 minutes\n"
     ]
    },
    {
     "name": "stderr",
     "output_type": "stream",
     "text": [
      "8it [00:00, 25.59it/s]\n",
      "8it [00:00, 28.53it/s]\n",
      "8it [00:00, 29.94it/s]\n",
      "8it [00:00, 26.78it/s]\n",
      "8it [00:00, 32.94it/s]\n"
     ]
    },
    {
     "name": "stdout",
     "output_type": "stream",
     "text": [
      "mode: meta_val, episode:  380, total_val_loss: 0.300262, \n",
      "val_mean_iou:{'paper_towel': 0.5347095582701181,\n",
      "'seagull': 0.7424468925751126,\n",
      "'sewing_machine': 0.5820277385771203,\n",
      "'shopping_cart': 0.7860074835956676,\n",
      "'snowball': 0.5768271379088661}\n",
      "\n",
      "Episode: 380, Episode Time: 0.070 minutes\n"
     ]
    },
    {
     "name": "stderr",
     "output_type": "stream",
     "text": [
      "8it [00:00, 29.38it/s]\n",
      "8it [00:00, 28.77it/s]\n",
      "88it [00:02, 39.46it/s]\n",
      "8it [00:00, 29.77it/s]\n",
      "8it [00:00, 25.31it/s]\n"
     ]
    },
    {
     "name": "stdout",
     "output_type": "stream",
     "text": [
      "mode: meta_val, episode:  381, total_val_loss: 0.312550, \n",
      "val_mean_iou:{'panpipe': 0.6612346113919945,\n",
      "'pen': 0.6287609918289093,\n",
      "'porcupine': 0.7937674875020726,\n",
      "'pretzel': 0.64472762432971,\n",
      "'sombrero': 0.6767622245865249}\n",
      "\n",
      "Episode: 381, Episode Time: 0.102 minutes\n"
     ]
    },
    {
     "name": "stderr",
     "output_type": "stream",
     "text": [
      "8it [00:00, 25.64it/s]\n",
      "8it [00:00, 29.04it/s]\n",
      "8it [00:00, 30.96it/s]\n",
      "8it [00:00, 29.55it/s]\n",
      "8it [00:00, 28.85it/s]\n"
     ]
    },
    {
     "name": "stdout",
     "output_type": "stream",
     "text": [
      "mode: meta_val, episode:  382, total_val_loss: 0.393686, \n",
      "val_mean_iou:{'photocopier': 0.7255820217761733,\n",
      "'power_drill': 0.6400164928224515,\n",
      "'rhinoceros': 0.8906787509786442,\n",
      "'scissors': 0.5723465987149854,\n",
      "'skateboard': 0.193364707898982}\n",
      "\n",
      "Episode: 382, Episode Time: 0.069 minutes\n"
     ]
    },
    {
     "name": "stderr",
     "output_type": "stream",
     "text": [
      "8it [00:00, 29.17it/s]\n",
      "8it [00:00, 28.53it/s]\n",
      "8it [00:00, 28.67it/s]\n",
      "8it [00:00, 27.95it/s]\n",
      "8it [00:00, 29.75it/s]\n"
     ]
    },
    {
     "name": "stdout",
     "output_type": "stream",
     "text": [
      "mode: meta_val, episode:  383, total_val_loss: 0.309608, \n",
      "val_mean_iou:{'photocopier': 0.7460578998908033,\n",
      "'printer': 0.7900126690653713,\n",
      "'pubg_lvl3backpack': 0.5371930359438114,\n",
      "'ruler': 0.6443824261584663,\n",
      "'sea_cucumber': 0.8591571044175854}\n",
      "\n",
      "Episode: 383, Episode Time: 0.068 minutes\n"
     ]
    },
    {
     "name": "stderr",
     "output_type": "stream",
     "text": [
      "8it [00:00, 28.67it/s]\n",
      "8it [00:00, 28.95it/s]\n",
      "8it [00:00, 31.36it/s]\n",
      "8it [00:00, 28.53it/s]\n",
      "8it [00:00, 29.63it/s]\n"
     ]
    },
    {
     "name": "stdout",
     "output_type": "stream",
     "text": [
      "mode: meta_val, episode:  384, total_val_loss: 0.271610, \n",
      "val_mean_iou:{'poached_egg': 0.8133105555064252,\n",
      "'pufferfish': 0.8516449484690396,\n",
      "'redheart': 0.04788252235174231,\n",
      "'redshank': 0.5211315443777662,\n",
      "'scroll_brush': 0.6305737657499815}\n",
      "\n",
      "Episode: 384, Episode Time: 0.067 minutes\n"
     ]
    },
    {
     "name": "stderr",
     "output_type": "stream",
     "text": [
      "8it [00:00, 26.55it/s]\n",
      "8it [00:00, 32.95it/s]\n",
      "8it [00:00, 30.79it/s]\n",
      "18it [00:00, 34.92it/s]\n",
      "18it [00:00, 36.36it/s]\n"
     ]
    },
    {
     "name": "stdout",
     "output_type": "stream",
     "text": [
      "mode: meta_val, episode:  385, total_val_loss: 0.263654, \n",
      "val_mean_iou:{'police_car': 0.8166684737174097,\n",
      "'razor': 0.5030960938106833,\n",
      "'rosehip': 0.5838575108457563,\n",
      "'ruler': 0.618500510297805,\n",
      "'soap': 0.6912513142437846}\n",
      "\n",
      "Episode: 385, Episode Time: 0.075 minutes\n"
     ]
    },
    {
     "name": "stderr",
     "output_type": "stream",
     "text": [
      "8it [00:00, 27.13it/s]\n",
      "8it [00:00, 30.27it/s]\n",
      "8it [00:00, 29.44it/s]\n",
      "8it [00:00, 29.55it/s]\n",
      "18it [00:00, 33.13it/s]\n"
     ]
    },
    {
     "name": "stdout",
     "output_type": "stream",
     "text": [
      "mode: meta_val, episode:  386, total_val_loss: 0.168950, \n",
      "val_mean_iou:{'paint_brush': 0.7757998544374264,\n",
      "'plate': 0.8997125279177001,\n",
      "'quad_drone': 0.6175618347135756,\n",
      "'sled': 0.6149487237671192,\n",
      "'sloth_bear': 0.8432712832908213}\n",
      "\n",
      "Episode: 386, Episode Time: 0.072 minutes\n"
     ]
    },
    {
     "name": "stderr",
     "output_type": "stream",
     "text": [
      "8it [00:00, 26.81it/s]\n",
      "8it [00:00, 28.87it/s]\n",
      "8it [00:00, 29.07it/s]\n",
      "8it [00:00, 28.67it/s]\n",
      "8it [00:00, 28.19it/s]\n"
     ]
    },
    {
     "name": "stdout",
     "output_type": "stream",
     "text": [
      "mode: meta_val, episode:  387, total_val_loss: 0.268298, \n",
      "val_mean_iou:{'panther': 0.8616183485440063,\n",
      "'pencil_sharpener2': 0.8785878809382426,\n",
      "'rice_cooker': 0.7548259880539667,\n",
      "'santa_sledge': 0.5542319669617833,\n",
      "'sleeping_bag': 0.7954479722519475}\n",
      "\n",
      "Episode: 387, Episode Time: 0.068 minutes\n"
     ]
    },
    {
     "name": "stderr",
     "output_type": "stream",
     "text": [
      "8it [00:00, 27.39it/s]\n",
      "8it [00:00, 28.34it/s]\n",
      "8it [00:00, 28.09it/s]\n",
      "8it [00:00, 29.78it/s]\n",
      "8it [00:00, 27.48it/s]\n"
     ]
    },
    {
     "name": "stdout",
     "output_type": "stream",
     "text": [
      "mode: meta_val, episode:  388, total_val_loss: 0.284512, \n",
      "val_mean_iou:{'rhinoceros': 0.8824824993579184,\n",
      "'running_shoe': 0.5190735702943419,\n",
      "'sandbar': 0.22955356256219045,\n",
      "'school_bus': 0.6448357566833761,\n",
      "'sealion': 0.9012506568414391}\n",
      "\n",
      "Episode: 388, Episode Time: 0.070 minutes\n"
     ]
    },
    {
     "name": "stderr",
     "output_type": "stream",
     "text": [
      "8it [00:00, 28.43it/s]\n",
      "8it [00:00, 27.99it/s]\n",
      "18it [00:00, 36.69it/s]\n",
      "8it [00:00, 29.22it/s]\n",
      "8it [00:00, 28.40it/s]\n"
     ]
    },
    {
     "name": "stdout",
     "output_type": "stream",
     "text": [
      "mode: meta_val, episode:  389, total_val_loss: 0.220784, \n",
      "val_mean_iou:{'parallel_bars': 0.2663861175402741,\n",
      "'partridge': 0.8158281815621626,\n",
      "'red_breasted_merganser': 0.6809438533818217,\n",
      "'roller_skate': 0.8258298661369055,\n",
      "'soap': 0.6605690219151522}\n",
      "\n",
      "Episode: 389, Episode Time: 0.072 minutes\n"
     ]
    },
    {
     "name": "stderr",
     "output_type": "stream",
     "text": [
      "8it [00:00, 28.65it/s]\n",
      "8it [00:00, 26.41it/s]\n",
      "8it [00:00, 25.86it/s]\n",
      "8it [00:00, 31.29it/s]\n",
      "8it [00:00, 29.77it/s]\n"
     ]
    },
    {
     "name": "stdout",
     "output_type": "stream",
     "text": [
      "mode: meta_val, episode:  390, total_val_loss: 0.168181, \n",
      "val_mean_iou:{'platypus': 0.8332437162249663,\n",
      "'pokermon_ball': 0.7659761774216336,\n",
      "'potted_plant': 0.715538501229466,\n",
      "'red_breasted_merganser': 0.6852756050217006,\n",
      "'sombrero': 0.6812946052267888}\n",
      "\n",
      "Episode: 390, Episode Time: 0.068 minutes\n"
     ]
    },
    {
     "name": "stderr",
     "output_type": "stream",
     "text": [
      "8it [00:00, 27.55it/s]\n",
      "8it [00:00, 29.16it/s]\n",
      "8it [00:00, 28.33it/s]\n",
      "8it [00:00, 28.73it/s]\n",
      "8it [00:00, 29.65it/s]\n"
     ]
    },
    {
     "name": "stdout",
     "output_type": "stream",
     "text": [
      "mode: meta_val, episode:  391, total_val_loss: 0.310367, \n",
      "val_mean_iou:{'pay_phone': 0.5532552638505743,\n",
      "'peacock': 0.7245095772846892,\n",
      "'roller_skate': 0.79481729400784,\n",
      "'rubick_cube': 0.8862154806652128,\n",
      "'school_bus': 0.6093978518298389}\n",
      "\n",
      "Episode: 391, Episode Time: 0.069 minutes\n"
     ]
    },
    {
     "name": "stderr",
     "output_type": "stream",
     "text": [
      "8it [00:00, 28.41it/s]\n",
      "8it [00:00, 29.87it/s]\n",
      "28it [00:00, 38.00it/s]\n",
      "8it [00:00, 29.14it/s]\n",
      "8it [00:00, 27.77it/s]\n"
     ]
    },
    {
     "name": "stdout",
     "output_type": "stream",
     "text": [
      "mode: meta_val, episode:  392, total_val_loss: 0.271575, \n",
      "val_mean_iou:{'potato': 0.7611460388082926,\n",
      "'pyramid_cube': 0.7454998495947043,\n",
      "'redheart': 0.06651690404966193,\n",
      "'screwdriver': 0.7206428332631909,\n",
      "'sewing_machine': 0.533876656253977}\n",
      "\n",
      "Episode: 392, Episode Time: 0.076 minutes\n"
     ]
    },
    {
     "name": "stderr",
     "output_type": "stream",
     "text": [
      "8it [00:00, 28.56it/s]\n",
      "8it [00:00, 29.85it/s]\n",
      "8it [00:00, 29.06it/s]\n",
      "8it [00:00, 29.65it/s]\n",
      "8it [00:00, 28.78it/s]\n"
     ]
    },
    {
     "name": "stdout",
     "output_type": "stream",
     "text": [
      "mode: meta_val, episode:  393, total_val_loss: 0.379173, \n",
      "val_mean_iou:{'pubg_lvl3backpack': 0.4832687293791451,\n",
      "'radiator': 0.7466834872795679,\n",
      "'rice_cooker': 0.7306309615615627,\n",
      "'sandbar': 0.3024573904700238,\n",
      "'shower_curtain': 0.570271795294948}\n",
      "\n",
      "Episode: 393, Episode Time: 0.068 minutes\n"
     ]
    },
    {
     "name": "stderr",
     "output_type": "stream",
     "text": [
      "8it [00:00, 29.68it/s]\n",
      "8it [00:00, 28.06it/s]\n",
      "18it [00:00, 34.99it/s]\n",
      "8it [00:00, 27.77it/s]\n",
      "8it [00:00, 28.41it/s]\n"
     ]
    },
    {
     "name": "stdout",
     "output_type": "stream",
     "text": [
      "mode: meta_val, episode:  394, total_val_loss: 0.182863, \n",
      "val_mean_iou:{'rally_car': 0.8647360909161776,\n",
      "'red_wolf': 0.8028784454700276,\n",
      "'roller_skate': 0.8116865124138569,\n",
      "'sled': 0.5868454632470983,\n",
      "'snail': 0.7369997294377919}\n",
      "\n",
      "Episode: 394, Episode Time: 0.072 minutes\n"
     ]
    },
    {
     "name": "stderr",
     "output_type": "stream",
     "text": [
      "8it [00:00, 27.88it/s]\n",
      "8it [00:00, 28.67it/s]\n",
      "8it [00:00, 28.25it/s]\n",
      "8it [00:00, 24.69it/s]\n",
      "8it [00:00, 30.59it/s]\n"
     ]
    },
    {
     "name": "stdout",
     "output_type": "stream",
     "text": [
      "mode: meta_val, episode:  395, total_val_loss: 0.237717, \n",
      "val_mean_iou:{'paddle': 0.8039710815035226,\n",
      "'parallel_bars': 0.26944114747642695,\n",
      "'phonograph': 0.7562295703899421,\n",
      "'projector': 0.6588500541794655,\n",
      "'saltshaker': 0.8600679185370496}\n",
      "\n",
      "Episode: 395, Episode Time: 0.069 minutes\n"
     ]
    },
    {
     "name": "stderr",
     "output_type": "stream",
     "text": [
      "18it [00:00, 35.94it/s]\n",
      "8it [00:00, 29.81it/s]\n",
      "8it [00:00, 30.43it/s]\n",
      "8it [00:00, 28.59it/s]\n",
      "8it [00:00, 28.00it/s]\n"
     ]
    },
    {
     "name": "stdout",
     "output_type": "stream",
     "text": [
      "mode: meta_val, episode:  396, total_val_loss: 0.186826, \n",
      "val_mean_iou:{'plaice': 0.8560165655659007,\n",
      "'quill_pen': 0.4693342102416167,\n",
      "'remote_control': 0.6430294929682479,\n",
      "'ruddy_turnstone': 0.7944860446436359,\n",
      "'screw': 0.6441367971366204}\n",
      "\n",
      "Episode: 396, Episode Time: 0.071 minutes\n"
     ]
    },
    {
     "name": "stderr",
     "output_type": "stream",
     "text": [
      "8it [00:00, 30.21it/s]\n",
      "8it [00:00, 30.27it/s]\n",
      "8it [00:00, 29.48it/s]\n",
      "8it [00:00, 29.74it/s]\n",
      "8it [00:00, 26.39it/s]\n"
     ]
    },
    {
     "name": "stdout",
     "output_type": "stream",
     "text": [
      "mode: meta_val, episode:  397, total_val_loss: 0.193537, \n",
      "val_mean_iou:{'perfume': 0.825103302846341,\n",
      "'pidan': 0.791533215151841,\n",
      "'red_fox': 0.8646741887285015,\n",
      "'remote_control': 0.6217434613499602,\n",
      "'rugby_ball': 0.5520948030723516}\n",
      "\n",
      "Episode: 397, Episode Time: 0.067 minutes\n"
     ]
    },
    {
     "name": "stderr",
     "output_type": "stream",
     "text": [
      "8it [00:00, 29.77it/s]\n",
      "8it [00:00, 28.10it/s]\n",
      "8it [00:00, 28.42it/s]\n",
      "8it [00:00, 28.57it/s]\n",
      "8it [00:00, 30.06it/s]\n"
     ]
    },
    {
     "name": "stdout",
     "output_type": "stream",
     "text": [
      "mode: meta_val, episode:  398, total_val_loss: 0.171237, \n",
      "val_mean_iou:{'pencil_box': 0.8333007841531789,\n",
      "'raven': 0.8983501047559439,\n",
      "'sewing_machine': 0.637957219438162,\n",
      "'sloth_bear': 0.8924052105381918,\n",
      "'snail': 0.6793102108829725}\n",
      "\n",
      "Episode: 398, Episode Time: 0.067 minutes\n"
     ]
    },
    {
     "name": "stderr",
     "output_type": "stream",
     "text": [
      "8it [00:00, 28.40it/s]\n",
      "8it [00:00, 29.19it/s]\n",
      "8it [00:00, 28.26it/s]\n",
      "8it [00:00, 29.21it/s]\n",
      "8it [00:00, 29.40it/s]\n"
     ]
    },
    {
     "name": "stdout",
     "output_type": "stream",
     "text": [
      "mode: meta_val, episode:  399, total_val_loss: 0.232792, \n",
      "val_mean_iou:{'park_bench': 0.6193174649907898,\n",
      "'pencil_sharpener2': 0.8360260214267148,\n",
      "'projector': 0.538852614069365,\n",
      "'reflex_camera': 0.804582727196048,\n",
      "'scroll_brush': 0.7362125580241772}\n",
      "\n",
      "Episode: 399, Episode Time: 0.067 minutes\n"
     ]
    },
    {
     "name": "stderr",
     "output_type": "stream",
     "text": [
      "8it [00:00, 27.96it/s]\n",
      "8it [00:00, 27.96it/s]\n",
      "8it [00:00, 28.46it/s]\n",
      "8it [00:00, 28.96it/s]\n",
      "88it [00:02, 39.68it/s]\n"
     ]
    },
    {
     "name": "stdout",
     "output_type": "stream",
     "text": [
      "mode: meta_val, episode:  400, total_val_loss: 0.203832, \n",
      "val_mean_iou:{'pen': 0.6507842026649416,\n",
      "'sandbar': 0.31094838454470836,\n",
      "'scroll_brush': 0.751538054843139,\n",
      "'shih-tzu': 0.833046673879694,\n",
      "'snow_leopard': 0.7172758973282036}\n",
      "\n",
      "Episode: 400, Episode Time: 0.100 minutes\n",
      "num tasks: 5\n",
      "tr_imgs shape: torch.Size([5, 2, 224, 224, 3]), tr_masks shape: torch.Size([5, 2, 224, 224]) val_imgs shape: torch.Size([5, 5, 224, 224, 3]), val_masks shape: torch.Size([5, 5, 224, 224])\n"
     ]
    },
    {
     "name": "stderr",
     "output_type": "stream",
     "text": [
      "\r",
      "0it [00:00, ?it/s]"
     ]
    },
    {
     "name": "stdout",
     "output_type": "stream",
     "text": [
      "num tasks: 5\n",
      "tr_imgs shape: torch.Size([5, 2, 224, 224, 3]), tr_masks shape: torch.Size([5, 2, 224, 224]) val_imgs shape: 5 list of paths, val_masks shape: 5 list of paths\n"
     ]
    },
    {
     "name": "stderr",
     "output_type": "stream",
     "text": [
      "8it [00:00, 27.46it/s]\n",
      "8it [00:00, 28.39it/s]\n",
      "8it [00:00, 29.37it/s]\n",
      "8it [00:00, 27.07it/s]\n",
      "8it [00:00, 28.58it/s]\n"
     ]
    },
    {
     "name": "stdout",
     "output_type": "stream",
     "text": [
      "mode: meta_val, episode:  401, total_val_loss: 0.212734, \n",
      "val_mean_iou:{'puma_logo': 0.3499628796862205,\n",
      "'punching_bag': 0.5364406161035353,\n",
      "'rice_cooker': 0.764368203216665,\n",
      "'screwdriver': 0.71640123259773,\n",
      "'skunk': 0.8387395177720595}\n",
      "\n",
      "Episode: 401, Episode Time: 0.068 minutes\n"
     ]
    },
    {
     "name": "stderr",
     "output_type": "stream",
     "text": [
      "8it [00:00, 22.88it/s]\n",
      "28it [00:00, 36.89it/s]\n",
      "8it [00:00, 30.58it/s]\n",
      "8it [00:00, 28.26it/s]\n",
      "8it [00:00, 26.65it/s]\n"
     ]
    },
    {
     "name": "stdout",
     "output_type": "stream",
     "text": [
      "mode: meta_val, episode:  402, total_val_loss: 0.219504, \n",
      "val_mean_iou:{'pufferfish': 0.8616455027445789,\n",
      "'pyramid': 0.6713584941567261,\n",
      "'rubick_cube': 0.9288512161615337,\n",
      "'scabbard': 0.34618218456355043,\n",
      "'sewing_machine': 0.5878400267734112}\n",
      "\n",
      "Episode: 402, Episode Time: 0.077 minutes\n"
     ]
    },
    {
     "name": "stderr",
     "output_type": "stream",
     "text": [
      "8it [00:00, 29.30it/s]\n",
      "8it [00:00, 28.53it/s]\n",
      "8it [00:00, 29.50it/s]\n",
      "8it [00:00, 29.64it/s]\n",
      "58it [00:01, 39.70it/s]\n"
     ]
    },
    {
     "name": "stdout",
     "output_type": "stream",
     "text": [
      "mode: meta_val, episode:  403, total_val_loss: 0.208926, \n",
      "val_mean_iou:{'ostrich': 0.6987163885245081,\n",
      "'pickup': 0.8952747323919422,\n",
      "'relay_stick': 0.25398004831189636,\n",
      "'scarerow': 0.5444547972538724,\n",
      "'snake': 0.6431846625170128}\n",
      "\n",
      "Episode: 403, Episode Time: 0.088 minutes\n"
     ]
    },
    {
     "name": "stderr",
     "output_type": "stream",
     "text": [
      "8it [00:00, 28.59it/s]\n",
      "8it [00:00, 28.14it/s]\n",
      "8it [00:00, 28.59it/s]\n",
      "8it [00:00, 27.24it/s]\n",
      "8it [00:00, 29.88it/s]\n"
     ]
    },
    {
     "name": "stdout",
     "output_type": "stream",
     "text": [
      "mode: meta_val, episode:  404, total_val_loss: 0.194711, \n",
      "val_mean_iou:{'pingpong_racket': 0.7008028482474125,\n",
      "'ringlet_butterfly': 0.9159786533365413,\n",
      "'santa_sledge': 0.5652733539206001,\n",
      "'sidewinder': 0.7364141789913803,\n",
      "'solar_dish': 0.7961364764866399}\n",
      "\n",
      "Episode: 404, Episode Time: 0.068 minutes\n"
     ]
    },
    {
     "name": "stderr",
     "output_type": "stream",
     "text": [
      "18it [00:00, 33.57it/s]\n",
      "8it [00:00, 28.26it/s]\n",
      "8it [00:00, 29.84it/s]\n",
      "8it [00:00, 29.93it/s]\n",
      "8it [00:00, 29.54it/s]\n"
     ]
    },
    {
     "name": "stdout",
     "output_type": "stream",
     "text": [
      "mode: meta_val, episode:  405, total_val_loss: 0.222143, \n",
      "val_mean_iou:{'pinecone': 0.8550510214585143,\n",
      "'potato_chips': 0.6798134255351567,\n",
      "'printer': 0.7072047920786276,\n",
      "'pumpkin': 0.8591932384913346,\n",
      "'quill_pen': 0.4461769802685008}\n",
      "\n",
      "Episode: 405, Episode Time: 0.072 minutes\n"
     ]
    },
    {
     "name": "stderr",
     "output_type": "stream",
     "text": [
      "8it [00:00, 28.63it/s]\n",
      "8it [00:00, 28.56it/s]\n",
      "28it [00:00, 36.52it/s]\n",
      "8it [00:00, 28.77it/s]\n",
      "8it [00:00, 29.67it/s]\n"
     ]
    },
    {
     "name": "stdout",
     "output_type": "stream",
     "text": [
      "mode: meta_val, episode:  406, total_val_loss: 0.205762, \n",
      "val_mean_iou:{'pinwheel': 0.7480750243800156,\n",
      "'porcupine': 0.7561370723223944,\n",
      "'pyramid': 0.6636036718735558,\n",
      "'ski_mask': 0.6481898736528255,\n",
      "'snow_leopard': 0.6926915950281157}\n",
      "\n",
      "Episode: 406, Episode Time: 0.076 minutes\n"
     ]
    },
    {
     "name": "stderr",
     "output_type": "stream",
     "text": [
      "8it [00:00, 29.24it/s]\n",
      "8it [00:00, 29.43it/s]\n",
      "8it [00:00, 29.03it/s]\n",
      "8it [00:00, 28.40it/s]\n",
      "8it [00:00, 29.71it/s]\n"
     ]
    },
    {
     "name": "stdout",
     "output_type": "stream",
     "text": [
      "mode: meta_val, episode:  407, total_val_loss: 0.309308, \n",
      "val_mean_iou:{'panpipe': 0.6069775776389923,\n",
      "'plaice': 0.7920166524299226,\n",
      "'prayer_rug': 0.7749927768292182,\n",
      "'quill_pen': 0.3755808584193856,\n",
      "'running_shoe': 0.5123902409076218}\n",
      "\n",
      "Episode: 407, Episode Time: 0.068 minutes\n"
     ]
    },
    {
     "name": "stderr",
     "output_type": "stream",
     "text": [
      "8it [00:00, 28.02it/s]\n",
      "8it [00:00, 30.38it/s]\n",
      "8it [00:00, 29.04it/s]\n",
      "8it [00:00, 30.05it/s]\n",
      "8it [00:00, 28.64it/s]\n"
     ]
    },
    {
     "name": "stdout",
     "output_type": "stream",
     "text": [
      "mode: meta_val, episode:  408, total_val_loss: 0.264863, \n",
      "val_mean_iou:{'pill_bottle': 0.8297741842445513,\n",
      "'radio_telescope': 0.7174792476652831,\n",
      "'schooner': 0.6952257769642827,\n",
      "'seatbelt': 0.07750025349186651,\n",
      "'siamese_cat': 0.8429917259168754}\n",
      "\n",
      "Episode: 408, Episode Time: 0.067 minutes\n"
     ]
    },
    {
     "name": "stderr",
     "output_type": "stream",
     "text": [
      "18it [00:00, 35.33it/s]\n",
      "8it [00:00, 28.17it/s]\n",
      "18it [00:00, 36.10it/s]\n",
      "8it [00:00, 26.99it/s]\n",
      "8it [00:00, 29.01it/s]\n"
     ]
    },
    {
     "name": "stdout",
     "output_type": "stream",
     "text": [
      "mode: meta_val, episode:  409, total_val_loss: 0.213928, \n",
      "val_mean_iou:{'parallel_bars': 0.2431820606156257,\n",
      "'pumpkin': 0.8640701715356989,\n",
      "'red_fox': 0.8368679775164349,\n",
      "'seal': 0.8694250113090405,\n",
      "'shovel': 0.568082337324659}\n",
      "\n",
      "Episode: 409, Episode Time: 0.076 minutes\n"
     ]
    },
    {
     "name": "stderr",
     "output_type": "stream",
     "text": [
      "8it [00:00, 27.12it/s]\n",
      "8it [00:00, 30.98it/s]\n",
      "8it [00:00, 27.62it/s]\n",
      "8it [00:00, 27.97it/s]\n",
      "8it [00:00, 29.60it/s]\n"
     ]
    },
    {
     "name": "stdout",
     "output_type": "stream",
     "text": [
      "mode: meta_val, episode:  410, total_val_loss: 0.296291, \n",
      "val_mean_iou:{'patas': 0.8060016908154757,\n",
      "'pencil_sharpener1': 0.766375836465588,\n",
      "'pheasant': 0.849196761710438,\n",
      "'pool_table': 0.6275903966675402,\n",
      "'pretzel': 0.550433746668312}\n",
      "\n",
      "Episode: 410, Episode Time: 0.068 minutes\n"
     ]
    },
    {
     "name": "stderr",
     "output_type": "stream",
     "text": [
      "8it [00:00, 27.66it/s]\n",
      "38it [00:00, 38.11it/s]\n",
      "8it [00:00, 28.87it/s]\n",
      "8it [00:00, 29.54it/s]\n",
      "8it [00:00, 28.77it/s]\n"
     ]
    },
    {
     "name": "stdout",
     "output_type": "stream",
     "text": [
      "mode: meta_val, episode:  411, total_val_loss: 0.259640, \n",
      "val_mean_iou:{'partridge': 0.7600421655356076,\n",
      "'pay_phone': 0.5482091637142273,\n",
      "'raft': 0.702126569470054,\n",
      "'rocking_chair': 0.7727042372633623,\n",
      "'sewing_machine': 0.6308125079356734}\n",
      "\n",
      "Episode: 411, Episode Time: 0.080 minutes\n"
     ]
    },
    {
     "name": "stderr",
     "output_type": "stream",
     "text": [
      "8it [00:00, 26.92it/s]\n",
      "8it [00:00, 29.41it/s]\n",
      "8it [00:00, 29.41it/s]\n",
      "8it [00:00, 30.27it/s]\n",
      "8it [00:00, 28.88it/s]\n"
     ]
    },
    {
     "name": "stdout",
     "output_type": "stream",
     "text": [
      "mode: meta_val, episode:  412, total_val_loss: 0.233234, \n",
      "val_mean_iou:{'plastic_bag': 0.6164142294120523,\n",
      "'relay_stick': 0.3352320031757145,\n",
      "'shuriken': 0.5272870433410783,\n",
      "'skull': 0.8719498799925867,\n",
      "'skunk': 0.8389933566355406}\n",
      "\n",
      "Episode: 412, Episode Time: 0.067 minutes\n"
     ]
    },
    {
     "name": "stderr",
     "output_type": "stream",
     "text": [
      "8it [00:00, 28.26it/s]\n",
      "8it [00:00, 28.85it/s]\n",
      "8it [00:00, 28.65it/s]\n",
      "18it [00:00, 33.31it/s]\n",
      "8it [00:00, 28.56it/s]\n"
     ]
    },
    {
     "name": "stdout",
     "output_type": "stream",
     "text": [
      "mode: meta_val, episode:  413, total_val_loss: 0.250980, \n",
      "val_mean_iou:{'pear': 0.7677510630247232,\n",
      "'psp': 0.683734208224192,\n",
      "'puma_logo': 0.2550632635419763,\n",
      "'rubber_eraser': 0.7462835763197815,\n",
      "'sloth_bear': 0.8179485539446567}\n",
      "\n",
      "Episode: 413, Episode Time: 0.072 minutes\n"
     ]
    },
    {
     "name": "stderr",
     "output_type": "stream",
     "text": [
      "8it [00:00, 27.76it/s]\n",
      "8it [00:00, 29.00it/s]\n",
      "8it [00:00, 29.65it/s]\n",
      "8it [00:00, 31.20it/s]\n",
      "8it [00:00, 29.50it/s]\n"
     ]
    },
    {
     "name": "stdout",
     "output_type": "stream",
     "text": [
      "mode: meta_val, episode:  414, total_val_loss: 0.250494, \n",
      "val_mean_iou:{'perfume': 0.8093210566406577,\n",
      "'persimmon': 0.8088465862324418,\n",
      "'pool_table': 0.595275499881756,\n",
      "'roller_skate': 0.7834102930184594,\n",
      "'ski_mask': 0.6286050151142514}\n",
      "\n",
      "Episode: 414, Episode Time: 0.068 minutes\n"
     ]
    },
    {
     "name": "stderr",
     "output_type": "stream",
     "text": [
      "8it [00:00, 26.72it/s]\n",
      "8it [00:00, 27.96it/s]\n",
      "8it [00:00, 28.28it/s]\n",
      "8it [00:00, 30.27it/s]\n",
      "8it [00:00, 28.06it/s]\n"
     ]
    },
    {
     "name": "stdout",
     "output_type": "stream",
     "text": [
      "mode: meta_val, episode:  415, total_val_loss: 0.220483, \n",
      "val_mean_iou:{'ostrich': 0.7187373561496675,\n",
      "'sandal': 0.6522173201506739,\n",
      "'sandbar': 0.25132006329787304,\n",
      "'scorpion': 0.7137900560449931,\n",
      "'shakuhachi': 0.4750034084939837}\n",
      "\n",
      "Episode: 415, Episode Time: 0.067 minutes\n"
     ]
    },
    {
     "name": "stderr",
     "output_type": "stream",
     "text": [
      "8it [00:00, 28.31it/s]\n",
      "8it [00:00, 32.24it/s]\n",
      "8it [00:00, 28.31it/s]\n",
      "8it [00:00, 29.01it/s]\n",
      "8it [00:00, 29.70it/s]\n"
     ]
    },
    {
     "name": "stdout",
     "output_type": "stream",
     "text": [
      "mode: meta_val, episode:  416, total_val_loss: 0.256707, \n",
      "val_mean_iou:{'panpipe': 0.5810752929517529,\n",
      "'pepitas': 0.7696575035654204,\n",
      "'power_drill': 0.7366182634070431,\n",
      "'pretzel': 0.6071467528268459,\n",
      "'pumpkin_pie': 0.8833580123730307}\n",
      "\n",
      "Episode: 416, Episode Time: 0.068 minutes\n"
     ]
    },
    {
     "name": "stderr",
     "output_type": "stream",
     "text": [
      "8it [00:00, 27.14it/s]\n",
      "8it [00:00, 29.54it/s]\n",
      "8it [00:00, 28.28it/s]\n",
      "8it [00:00, 28.91it/s]\n",
      "8it [00:00, 27.39it/s]\n"
     ]
    },
    {
     "name": "stdout",
     "output_type": "stream",
     "text": [
      "mode: meta_val, episode:  417, total_val_loss: 0.180410, \n",
      "val_mean_iou:{'peanut': 0.7780914042268577,\n",
      "'persian_cat': 0.7687433735414931,\n",
      "'raccoon': 0.8121232709116022,\n",
      "'rain_barrel': 0.6908789909962749,\n",
      "'sealion': 0.8372695098772431}\n",
      "\n",
      "Episode: 417, Episode Time: 0.068 minutes\n"
     ]
    },
    {
     "name": "stderr",
     "output_type": "stream",
     "text": [
      "8it [00:00, 27.66it/s]\n",
      "8it [00:00, 28.44it/s]\n",
      "8it [00:00, 27.36it/s]\n",
      "8it [00:00, 32.82it/s]\n",
      "8it [00:00, 29.56it/s]\n"
     ]
    },
    {
     "name": "stdout",
     "output_type": "stream",
     "text": [
      "mode: meta_val, episode:  418, total_val_loss: 0.328326, \n",
      "val_mean_iou:{'petri_dish': 0.6796302461564255,\n",
      "'photocopier': 0.6149126815143502,\n",
      "'poached_egg': 0.7662783276852101,\n",
      "'ruddy_turnstone': 0.8071113589891834,\n",
      "'snail': 0.7544154561574979}\n",
      "\n",
      "Episode: 418, Episode Time: 0.069 minutes\n"
     ]
    },
    {
     "name": "stderr",
     "output_type": "stream",
     "text": [
      "8it [00:00, 27.77it/s]\n",
      "28it [00:00, 36.78it/s]\n",
      "8it [00:00, 30.01it/s]\n",
      "8it [00:00, 29.27it/s]\n",
      "8it [00:00, 30.50it/s]\n"
     ]
    },
    {
     "name": "stdout",
     "output_type": "stream",
     "text": [
      "mode: meta_val, episode:  419, total_val_loss: 0.170985, \n",
      "val_mean_iou:{'owl': 0.7993698396617858,\n",
      "'pinwheel': 0.6680695183998272,\n",
      "'police_car': 0.7714362784211987,\n",
      "'shih-tzu': 0.8034492740124022,\n",
      "'skua': 0.8975616207238607}\n",
      "\n",
      "Episode: 419, Episode Time: 0.076 minutes\n"
     ]
    },
    {
     "name": "stderr",
     "output_type": "stream",
     "text": [
      "8it [00:00, 26.81it/s]\n",
      "8it [00:00, 29.69it/s]\n",
      "8it [00:00, 29.08it/s]\n",
      "8it [00:00, 26.82it/s]\n",
      "8it [00:00, 25.89it/s]\n"
     ]
    },
    {
     "name": "stdout",
     "output_type": "stream",
     "text": [
      "mode: meta_val, episode:  420, total_val_loss: 0.220324, \n",
      "val_mean_iou:{'pubg_lvl3helmet': 0.5383100777508224,\n",
      "'samarra_mosque': 0.710687668720897,\n",
      "'sandal': 0.7040467110563341,\n",
      "'sidewinder': 0.7676471122002846,\n",
      "'snowman': 0.6976903588954235}\n",
      "\n",
      "Episode: 420, Episode Time: 0.069 minutes\n"
     ]
    },
    {
     "name": "stderr",
     "output_type": "stream",
     "text": [
      "8it [00:00, 26.97it/s]\n",
      "8it [00:00, 29.84it/s]\n",
      "8it [00:00, 27.82it/s]\n",
      "8it [00:00, 29.33it/s]\n",
      "8it [00:00, 29.12it/s]\n"
     ]
    },
    {
     "name": "stdout",
     "output_type": "stream",
     "text": [
      "mode: meta_val, episode:  421, total_val_loss: 0.366565, \n",
      "val_mean_iou:{'paper_towel': 0.48158769499651805,\n",
      "'photocopier': 0.6576157628799737,\n",
      "'pizza': 0.8083298557949662,\n",
      "'proboscis': 0.8139358808047585,\n",
      "'shower_cap': 0.4558371744474596}\n",
      "\n",
      "Episode: 421, Episode Time: 0.068 minutes\n"
     ]
    },
    {
     "name": "stderr",
     "output_type": "stream",
     "text": [
      "8it [00:00, 27.29it/s]\n",
      "8it [00:00, 27.97it/s]\n",
      "8it [00:00, 26.59it/s]\n",
      "8it [00:00, 30.54it/s]\n",
      "8it [00:00, 28.71it/s]\n"
     ]
    },
    {
     "name": "stdout",
     "output_type": "stream",
     "text": [
      "mode: meta_val, episode:  422, total_val_loss: 0.228133, \n",
      "val_mean_iou:{'parthenon': 0.7479514481478071,\n",
      "'potted_plant': 0.7676212870714088,\n",
      "'rabbit': 0.903897585343205,\n",
      "'running_shoe': 0.48225297926286853,\n",
      "'ski_mask': 0.6876814178813795}\n",
      "\n",
      "Episode: 422, Episode Time: 0.068 minutes\n"
     ]
    },
    {
     "name": "stderr",
     "output_type": "stream",
     "text": [
      "8it [00:00, 28.77it/s]\n",
      "8it [00:00, 28.02it/s]\n",
      "18it [00:00, 35.91it/s]\n",
      "8it [00:00, 29.57it/s]\n",
      "8it [00:00, 28.44it/s]\n"
     ]
    },
    {
     "name": "stdout",
     "output_type": "stream",
     "text": [
      "mode: meta_val, episode:  423, total_val_loss: 0.195967, \n",
      "val_mean_iou:{'peacock': 0.7794279576040144,\n",
      "'pig': 0.8401462969254554,\n",
      "'pomelo': 0.7337448747288136,\n",
      "'ruffed_grouse': 0.7658083972796279,\n",
      "'ski_mask': 0.6848434534290548}\n",
      "\n",
      "Episode: 423, Episode Time: 0.072 minutes\n"
     ]
    },
    {
     "name": "stderr",
     "output_type": "stream",
     "text": [
      "8it [00:00, 28.00it/s]\n",
      "8it [00:00, 28.87it/s]\n",
      "8it [00:00, 28.84it/s]\n",
      "8it [00:00, 29.24it/s]\n",
      "8it [00:00, 27.99it/s]\n"
     ]
    },
    {
     "name": "stdout",
     "output_type": "stream",
     "text": [
      "mode: meta_val, episode:  424, total_val_loss: 0.254408, \n",
      "val_mean_iou:{'oyster': 0.7950263259504224,\n",
      "'pyraminx': 0.7667316201832877,\n",
      "'schooner': 0.6686029647679839,\n",
      "'ski_mask': 0.6489013734251932,\n",
      "'snowmobile': 0.4993737560383842}\n",
      "\n",
      "Episode: 424, Episode Time: 0.067 minutes\n"
     ]
    },
    {
     "name": "stderr",
     "output_type": "stream",
     "text": [
      "8it [00:00, 29.21it/s]\n",
      "8it [00:00, 26.90it/s]\n",
      "8it [00:00, 27.88it/s]\n",
      "8it [00:00, 28.10it/s]\n",
      "18it [00:00, 34.61it/s]\n"
     ]
    },
    {
     "name": "stdout",
     "output_type": "stream",
     "text": [
      "mode: meta_val, episode:  425, total_val_loss: 0.257502, \n",
      "val_mean_iou:{'paper_plane': 0.5921147403741965,\n",
      "'poker': 0.7429164151553409,\n",
      "'pspgo': 0.6813011653199494,\n",
      "'pufferfish': 0.855865346299596,\n",
      "'ski_mask': 0.6831749906692157}\n",
      "\n",
      "Episode: 425, Episode Time: 0.072 minutes\n"
     ]
    },
    {
     "name": "stderr",
     "output_type": "stream",
     "text": [
      "8it [00:00, 25.92it/s]\n",
      "8it [00:00, 29.41it/s]\n",
      "8it [00:00, 29.79it/s]\n",
      "18it [00:00, 35.70it/s]\n",
      "8it [00:00, 29.76it/s]\n"
     ]
    },
    {
     "name": "stdout",
     "output_type": "stream",
     "text": [
      "mode: meta_val, episode:  426, total_val_loss: 0.284346, \n",
      "val_mean_iou:{'pool_table': 0.5563985514530023,\n",
      "'red_wolf': 0.7814404907073362,\n",
      "'rugby_ball': 0.6118388146812619,\n",
      "'snowmobile': 0.5387827453651565,\n",
      "'soap': 0.6719342626534917}\n",
      "\n",
      "Episode: 426, Episode Time: 0.072 minutes\n"
     ]
    },
    {
     "name": "stderr",
     "output_type": "stream",
     "text": [
      "8it [00:00, 28.64it/s]\n",
      "8it [00:00, 26.70it/s]\n",
      "18it [00:00, 37.06it/s]\n",
      "18it [00:00, 34.81it/s]\n",
      "8it [00:00, 27.72it/s]\n"
     ]
    },
    {
     "name": "stdout",
     "output_type": "stream",
     "text": [
      "mode: meta_val, episode:  427, total_val_loss: 0.144608, \n",
      "val_mean_iou:{'poker': 0.7656837903319343,\n",
      "'porcupine': 0.816941769176292,\n",
      "'pumpkin': 0.8575384374696439,\n",
      "'recreational_vehicle': 0.8338345362219801,\n",
      "'sea_cucumber': 0.8045326064823357}\n",
      "\n",
      "Episode: 427, Episode Time: 0.076 minutes\n"
     ]
    },
    {
     "name": "stderr",
     "output_type": "stream",
     "text": [
      "8it [00:00, 26.86it/s]\n",
      "8it [00:00, 28.96it/s]\n",
      "8it [00:00, 28.97it/s]\n",
      "18it [00:00, 35.34it/s]\n",
      "8it [00:00, 29.93it/s]\n"
     ]
    },
    {
     "name": "stdout",
     "output_type": "stream",
     "text": [
      "mode: meta_val, episode:  428, total_val_loss: 0.217433, \n",
      "val_mean_iou:{'razor': 0.6029281702443634,\n",
      "'redshank': 0.6536491786311682,\n",
      "'ruler': 0.6487480983979977,\n",
      "'scabbard': 0.40934991577705615,\n",
      "'smoothing_iron': 0.7742461726413046}\n",
      "\n",
      "Episode: 428, Episode Time: 0.071 minutes\n"
     ]
    },
    {
     "name": "stderr",
     "output_type": "stream",
     "text": [
      "8it [00:00, 29.80it/s]\n",
      "8it [00:00, 29.91it/s]\n",
      "8it [00:00, 28.45it/s]\n",
      "8it [00:00, 28.46it/s]\n",
      "8it [00:00, 29.29it/s]\n"
     ]
    },
    {
     "name": "stdout",
     "output_type": "stream",
     "text": [
      "mode: meta_val, episode:  429, total_val_loss: 0.209098, \n",
      "val_mean_iou:{'quill_pen': 0.47537552472518857,\n",
      "'redshank': 0.5805753863528791,\n",
      "'scroll_brush': 0.720109271757519,\n",
      "'sniper_rifle': 0.6652645940815705,\n",
      "'snowball': 0.6187249531830846}\n",
      "\n",
      "Episode: 429, Episode Time: 0.067 minutes\n"
     ]
    },
    {
     "name": "stderr",
     "output_type": "stream",
     "text": [
      "8it [00:00, 29.60it/s]\n",
      "8it [00:00, 28.00it/s]\n",
      "28it [00:00, 37.86it/s]\n",
      "8it [00:00, 30.17it/s]\n",
      "8it [00:00, 29.34it/s]\n"
     ]
    },
    {
     "name": "stdout",
     "output_type": "stream",
     "text": [
      "mode: meta_val, episode:  430, total_val_loss: 0.245243, \n",
      "val_mean_iou:{'panda': 0.7762486297687755,\n",
      "'polar_bear': 0.9070449012875736,\n",
      "'pomelo': 0.7585414754944962,\n",
      "'scabbard': 0.3447555259814586,\n",
      "'soccer_ball': 0.49225837276967366}\n",
      "\n",
      "Episode: 430, Episode Time: 0.075 minutes\n"
     ]
    },
    {
     "name": "stderr",
     "output_type": "stream",
     "text": [
      "8it [00:00, 26.61it/s]\n",
      "28it [00:00, 38.00it/s]\n",
      "8it [00:00, 31.58it/s]\n",
      "8it [00:00, 29.11it/s]\n",
      "8it [00:00, 26.77it/s]\n"
     ]
    },
    {
     "name": "stdout",
     "output_type": "stream",
     "text": [
      "mode: meta_val, episode:  431, total_val_loss: 0.137571, \n",
      "val_mean_iou:{'partridge': 0.7223226262862421,\n",
      "'pyramid': 0.6895662678189576,\n",
      "'rubick_cube': 0.9230763869572365,\n",
      "'ruddy_turnstone': 0.7242187903244944,\n",
      "'siamang': 0.7229203662774095}\n",
      "\n",
      "Episode: 431, Episode Time: 0.075 minutes\n"
     ]
    },
    {
     "name": "stderr",
     "output_type": "stream",
     "text": [
      "8it [00:00, 27.38it/s]\n",
      "18it [00:00, 35.09it/s]\n",
      "8it [00:00, 29.75it/s]\n",
      "8it [00:00, 30.17it/s]\n",
      "8it [00:00, 28.30it/s]\n"
     ]
    },
    {
     "name": "stdout",
     "output_type": "stream",
     "text": [
      "mode: meta_val, episode:  432, total_val_loss: 0.244311, \n",
      "val_mean_iou:{'pheasant': 0.8330130730655732,\n",
      "'pubg_lvl3helmet': 0.36621781377346374,\n",
      "'pumpkin': 0.8746517163252505,\n",
      "'running_shoe': 0.5221274783716685,\n",
      "'sombrero': 0.6967131810608429}\n",
      "\n",
      "Episode: 432, Episode Time: 0.072 minutes\n"
     ]
    },
    {
     "name": "stderr",
     "output_type": "stream",
     "text": [
      "8it [00:00, 28.13it/s]\n",
      "8it [00:00, 30.73it/s]\n",
      "8it [00:00, 31.39it/s]\n",
      "8it [00:00, 32.73it/s]\n",
      "8it [00:00, 28.81it/s]\n"
     ]
    },
    {
     "name": "stdout",
     "output_type": "stream",
     "text": [
      "mode: meta_val, episode:  433, total_val_loss: 0.180287, \n",
      "val_mean_iou:{'pheasant': 0.8229855227157608,\n",
      "'ptarmigan': 0.8157897572699677,\n",
      "'pubg_airdrop': 0.7030883194288762,\n",
      "'scabbard': 0.3569351236510616,\n",
      "'scroll_brush': 0.7560142803917212}\n",
      "\n",
      "Episode: 433, Episode Time: 0.067 minutes\n"
     ]
    },
    {
     "name": "stderr",
     "output_type": "stream",
     "text": [
      "8it [00:00, 27.34it/s]\n",
      "8it [00:00, 25.96it/s]\n",
      "18it [00:00, 35.05it/s]\n",
      "8it [00:00, 27.40it/s]\n",
      "8it [00:00, 28.01it/s]\n"
     ]
    },
    {
     "name": "stdout",
     "output_type": "stream",
     "text": [
      "mode: meta_val, episode:  434, total_val_loss: 0.144413, \n",
      "val_mean_iou:{'perfume': 0.773935327390455,\n",
      "'pufferfish': 0.8485584561788764,\n",
      "'razor': 0.6180719316088971,\n",
      "'saltshaker': 0.8482249662911971,\n",
      "'siamang': 0.7859878978898527}\n",
      "\n",
      "Episode: 434, Episode Time: 0.073 minutes\n"
     ]
    },
    {
     "name": "stderr",
     "output_type": "stream",
     "text": [
      "8it [00:00, 27.54it/s]\n",
      "8it [00:00, 27.58it/s]\n",
      "8it [00:00, 28.66it/s]\n",
      "8it [00:00, 29.74it/s]\n",
      "8it [00:00, 29.21it/s]\n"
     ]
    },
    {
     "name": "stdout",
     "output_type": "stream",
     "text": [
      "mode: meta_val, episode:  435, total_val_loss: 0.298288, \n",
      "val_mean_iou:{'oyster': 0.7976145086592352,\n",
      "'polar_bear': 0.9180868180936599,\n",
      "'radiator': 0.6883503181088295,\n",
      "'scissors': 0.5549347556009456,\n",
      "'seatbelt': 0.08529057660217743}\n",
      "\n",
      "Episode: 435, Episode Time: 0.068 minutes\n"
     ]
    },
    {
     "name": "stderr",
     "output_type": "stream",
     "text": [
      "8it [00:00, 29.08it/s]\n",
      "8it [00:00, 29.15it/s]\n",
      "8it [00:00, 25.75it/s]\n",
      "8it [00:00, 28.25it/s]\n",
      "8it [00:00, 28.51it/s]\n"
     ]
    },
    {
     "name": "stdout",
     "output_type": "stream",
     "text": [
      "mode: meta_val, episode:  436, total_val_loss: 0.360564, \n",
      "val_mean_iou:{'peregine_falcon': 0.7970722971468215,\n",
      "'pingpong_ball': 0.1202739452657781,\n",
      "'polecat': 0.8041766441211629,\n",
      "'power_drill': 0.6980174390571701,\n",
      "'printer': 0.7421633428835119}\n",
      "\n",
      "Episode: 436, Episode Time: 0.068 minutes\n"
     ]
    },
    {
     "name": "stderr",
     "output_type": "stream",
     "text": [
      "8it [00:00, 31.13it/s]\n",
      "8it [00:00, 29.21it/s]\n",
      "8it [00:00, 29.11it/s]\n",
      "8it [00:00, 29.06it/s]\n",
      "18it [00:00, 36.37it/s]\n"
     ]
    },
    {
     "name": "stdout",
     "output_type": "stream",
     "text": [
      "mode: meta_val, episode:  437, total_val_loss: 0.268013, \n",
      "val_mean_iou:{'peanut': 0.7666031545612104,\n",
      "'pool_table': 0.585926819876813,\n",
      "'quail': 0.7804457309228456,\n",
      "'rubber_eraser': 0.7067626288929731,\n",
      "'scabbard': 0.3593018739317334}\n",
      "\n",
      "Episode: 437, Episode Time: 0.073 minutes\n"
     ]
    },
    {
     "name": "stderr",
     "output_type": "stream",
     "text": [
      "8it [00:00, 26.99it/s]\n",
      "8it [00:00, 28.80it/s]\n",
      "8it [00:00, 26.47it/s]\n",
      "8it [00:00, 28.02it/s]\n",
      "28it [00:00, 35.07it/s]\n"
     ]
    },
    {
     "name": "stdout",
     "output_type": "stream",
     "text": [
      "mode: meta_val, episode:  438, total_val_loss: 0.246200, \n",
      "val_mean_iou:{'pickelhaube': 0.7528031109447322,\n",
      "'pingpong_ball': 0.14401740771787686,\n",
      "'porcupine': 0.7591035152145702,\n",
      "'pyramid': 0.6718659501470178,\n",
      "'ruffed_grouse': 0.796875886737525}\n",
      "\n",
      "Episode: 438, Episode Time: 0.077 minutes\n"
     ]
    },
    {
     "name": "stderr",
     "output_type": "stream",
     "text": [
      "8it [00:00, 30.70it/s]\n",
      "8it [00:00, 31.53it/s]\n",
      "8it [00:00, 29.86it/s]\n",
      "8it [00:00, 30.64it/s]\n",
      "8it [00:00, 30.70it/s]\n"
     ]
    },
    {
     "name": "stdout",
     "output_type": "stream",
     "text": [
      "mode: meta_val, episode:  439, total_val_loss: 0.263664, \n",
      "val_mean_iou:{'pickelhaube': 0.753866995074504,\n",
      "'porcupine': 0.7783744398117542,\n",
      "'redheart': 0.04950218409416755,\n",
      "'reflex_camera': 0.7893832952901493,\n",
      "'sock': 0.7303653517084336}\n",
      "\n",
      "Episode: 439, Episode Time: 0.063 minutes\n"
     ]
    },
    {
     "name": "stderr",
     "output_type": "stream",
     "text": [
      "28it [00:00, 39.19it/s]\n",
      "8it [00:00, 31.43it/s]\n",
      "8it [00:00, 31.43it/s]\n",
      "8it [00:00, 31.60it/s]\n",
      "8it [00:00, 29.75it/s]\n"
     ]
    },
    {
     "name": "stdout",
     "output_type": "stream",
     "text": [
      "mode: meta_val, episode:  440, total_val_loss: 0.176931, \n",
      "val_mean_iou:{'otter': 0.9022041997414751,\n",
      "'paper_crane': 0.7043640792861401,\n",
      "'pyramid': 0.6687629814088158,\n",
      "'sandal': 0.6566820825998092,\n",
      "'sarong': 0.612272384259324}\n",
      "\n",
      "Episode: 440, Episode Time: 0.071 minutes\n"
     ]
    },
    {
     "name": "stderr",
     "output_type": "stream",
     "text": [
      "8it [00:00, 31.24it/s]\n",
      "8it [00:00, 30.73it/s]\n",
      "8it [00:00, 30.48it/s]\n",
      "8it [00:00, 30.34it/s]\n",
      "8it [00:00, 29.84it/s]\n"
     ]
    },
    {
     "name": "stdout",
     "output_type": "stream",
     "text": [
      "mode: meta_val, episode:  441, total_val_loss: 0.190110, \n",
      "val_mean_iou:{'paint_brush': 0.7497150764025462,\n",
      "'photocopier': 0.7799222903055798,\n",
      "'rally_car': 0.8325405005483518,\n",
      "'rubick_cube': 0.9158142963009712,\n",
      "'shovel': 0.5707577857670246}\n",
      "\n",
      "Episode: 441, Episode Time: 0.064 minutes\n"
     ]
    },
    {
     "name": "stderr",
     "output_type": "stream",
     "text": [
      "8it [00:00, 27.39it/s]\n",
      "8it [00:00, 29.88it/s]\n",
      "28it [00:00, 39.14it/s]\n",
      "8it [00:00, 29.37it/s]\n",
      "18it [00:00, 37.51it/s]\n"
     ]
    },
    {
     "name": "stdout",
     "output_type": "stream",
     "text": [
      "mode: meta_val, episode:  442, total_val_loss: 0.215887, \n",
      "val_mean_iou:{'plaice': 0.8374117907781683,\n",
      "'pyramid': 0.6625707254244072,\n",
      "'rock_beauty': 0.7229676199888762,\n",
      "'rose': 0.6029779410531295,\n",
      "'snowmobile': 0.4284665268796354}\n",
      "\n",
      "Episode: 442, Episode Time: 0.075 minutes\n"
     ]
    },
    {
     "name": "stderr",
     "output_type": "stream",
     "text": [
      "8it [00:00, 29.00it/s]\n",
      "8it [00:00, 30.06it/s]\n",
      "8it [00:00, 29.70it/s]\n",
      "8it [00:00, 30.34it/s]\n",
      "8it [00:00, 29.94it/s]\n"
     ]
    },
    {
     "name": "stdout",
     "output_type": "stream",
     "text": [
      "mode: meta_val, episode:  443, total_val_loss: 0.259092, \n",
      "val_mean_iou:{'pepitas': 0.6845663321763948,\n",
      "'peregine_falcon': 0.887337974340284,\n",
      "'pickelhaube': 0.820667616859659,\n",
      "'sandbar': 0.2609295057357983,\n",
      "'sewing_machine': 0.5815396104909532}\n",
      "\n",
      "Episode: 443, Episode Time: 0.064 minutes\n"
     ]
    },
    {
     "name": "stderr",
     "output_type": "stream",
     "text": [
      "8it [00:00, 31.31it/s]\n",
      "8it [00:00, 31.26it/s]\n",
      "8it [00:00, 31.37it/s]\n",
      "8it [00:00, 30.26it/s]\n",
      "8it [00:00, 30.75it/s]\n"
     ]
    },
    {
     "name": "stdout",
     "output_type": "stream",
     "text": [
      "mode: meta_val, episode:  444, total_val_loss: 0.195628, \n",
      "val_mean_iou:{'ostrich': 0.7069489860713839,\n",
      "'pencil_sharpener2': 0.8694205334945087,\n",
      "'punching_bag': 0.4556345376148492,\n",
      "'raccoon': 0.8533764460629196,\n",
      "'rubber_eraser': 0.7335378479600176}\n",
      "\n",
      "Episode: 444, Episode Time: 0.063 minutes\n"
     ]
    },
    {
     "name": "stderr",
     "output_type": "stream",
     "text": [
      "8it [00:00, 30.94it/s]\n",
      "8it [00:00, 30.93it/s]\n",
      "8it [00:00, 31.01it/s]\n",
      "8it [00:00, 30.06it/s]\n",
      "8it [00:00, 30.72it/s]\n"
     ]
    },
    {
     "name": "stdout",
     "output_type": "stream",
     "text": [
      "mode: meta_val, episode:  445, total_val_loss: 0.171025, \n",
      "val_mean_iou:{'phonograph': 0.7878580742532679,\n",
      "'plaice': 0.7725488616965273,\n",
      "'quad_drone': 0.6040071525957618,\n",
      "'recreational_vehicle': 0.8736306733694406,\n",
      "'saluki': 0.7050889925460166}\n",
      "\n",
      "Episode: 445, Episode Time: 0.064 minutes\n"
     ]
    },
    {
     "name": "stderr",
     "output_type": "stream",
     "text": [
      "8it [00:00, 29.22it/s]\n",
      "8it [00:00, 31.38it/s]\n",
      "8it [00:00, 30.88it/s]\n",
      "8it [00:00, 30.63it/s]\n",
      "8it [00:00, 29.77it/s]\n"
     ]
    },
    {
     "name": "stdout",
     "output_type": "stream",
     "text": [
      "mode: meta_val, episode:  446, total_val_loss: 0.209546, \n",
      "val_mean_iou:{'paper_crane': 0.6605913797502849,\n",
      "'pillow': 0.7697731597273438,\n",
      "'pomegranate': 0.8303792800148446,\n",
      "'raccoon': 0.8698301220409093,\n",
      "'ski_mask': 0.617356446980799}\n",
      "\n",
      "Episode: 446, Episode Time: 0.064 minutes\n"
     ]
    },
    {
     "name": "stderr",
     "output_type": "stream",
     "text": [
      "8it [00:00, 30.21it/s]\n",
      "8it [00:00, 30.31it/s]\n",
      "18it [00:00, 36.61it/s]\n",
      "28it [00:00, 39.71it/s]\n",
      "8it [00:00, 31.63it/s]\n"
     ]
    },
    {
     "name": "stdout",
     "output_type": "stream",
     "text": [
      "mode: meta_val, episode:  447, total_val_loss: 0.222918, \n",
      "val_mean_iou:{'panda': 0.7719401833061524,\n",
      "'potato_chips': 0.7795010374843463,\n",
      "'prayer_rug': 0.7821891881542465,\n",
      "'roller_skate': 0.8676688302946899,\n",
      "'rose': 0.6587073943439639}\n",
      "\n",
      "Episode: 447, Episode Time: 0.074 minutes\n"
     ]
    },
    {
     "name": "stderr",
     "output_type": "stream",
     "text": [
      "8it [00:00, 29.93it/s]\n",
      "8it [00:00, 30.32it/s]\n",
      "8it [00:00, 30.15it/s]\n",
      "8it [00:00, 30.95it/s]\n",
      "8it [00:00, 29.51it/s]\n"
     ]
    },
    {
     "name": "stdout",
     "output_type": "stream",
     "text": [
      "mode: meta_val, episode:  448, total_val_loss: 0.176425, \n",
      "val_mean_iou:{'pistachio': 0.7422423432320913,\n",
      "'raven': 0.8645556922888727,\n",
      "'rubick_cube': 0.9141837010592073,\n",
      "'sewing_machine': 0.5923326859754372,\n",
      "'shuriken': 0.49932687996959646}\n",
      "\n",
      "Episode: 448, Episode Time: 0.064 minutes\n"
     ]
    },
    {
     "name": "stderr",
     "output_type": "stream",
     "text": [
      "8it [00:00, 31.45it/s]\n",
      "8it [00:00, 29.88it/s]\n",
      "8it [00:00, 30.79it/s]\n",
      "8it [00:00, 30.78it/s]\n",
      "8it [00:00, 29.10it/s]\n"
     ]
    },
    {
     "name": "stdout",
     "output_type": "stream",
     "text": [
      "mode: meta_val, episode:  449, total_val_loss: 0.157209, \n",
      "val_mean_iou:{'paper_crane': 0.7334910415960061,\n",
      "'pteropus': 0.8393760239808246,\n",
      "'red_breasted_merganser': 0.6668149258586433,\n",
      "'snail': 0.7400422356196146,\n",
      "'sombrero': 0.6614291605675835}\n",
      "\n",
      "Episode: 449, Episode Time: 0.063 minutes\n"
     ]
    },
    {
     "name": "stderr",
     "output_type": "stream",
     "text": [
      "8it [00:00, 31.02it/s]\n",
      "38it [00:00, 40.05it/s]\n",
      "8it [00:00, 30.70it/s]\n",
      "18it [00:00, 36.70it/s]\n",
      "18it [00:00, 36.41it/s]\n"
     ]
    },
    {
     "name": "stdout",
     "output_type": "stream",
     "text": [
      "mode: meta_val, episode:  450, total_val_loss: 0.173781, \n",
      "val_mean_iou:{'parking_meter': 0.7740598030094079,\n",
      "'pig': 0.8379575104816516,\n",
      "'proboscis': 0.789139434140226,\n",
      "'raft': 0.7106947498266789,\n",
      "'soap': 0.682049394682535}\n",
      "\n",
      "Episode: 450, Episode Time: 0.082 minutes\n"
     ]
    },
    {
     "name": "stderr",
     "output_type": "stream",
     "text": [
      "8it [00:00, 31.46it/s]\n",
      "8it [00:00, 28.37it/s]\n",
      "38it [00:00, 38.40it/s]\n",
      "8it [00:00, 31.70it/s]\n",
      "8it [00:00, 30.42it/s]\n"
     ]
    },
    {
     "name": "stdout",
     "output_type": "stream",
     "text": [
      "mode: meta_val, episode:  451, total_val_loss: 0.282216, \n",
      "val_mean_iou:{'peacock': 0.695643066695994,\n",
      "'raft': 0.7249811680986099,\n",
      "'redheart': 0.02900594675487629,\n",
      "'roller_skate': 0.7686413809931647,\n",
      "'shih-tzu': 0.8278998709337497}\n",
      "\n",
      "Episode: 451, Episode Time: 0.076 minutes\n"
     ]
    },
    {
     "name": "stderr",
     "output_type": "stream",
     "text": [
      "8it [00:00, 30.46it/s]\n",
      "8it [00:00, 30.80it/s]\n",
      "8it [00:00, 31.75it/s]\n",
      "8it [00:00, 30.84it/s]\n",
      "8it [00:00, 30.09it/s]\n"
     ]
    },
    {
     "name": "stdout",
     "output_type": "stream",
     "text": [
      "mode: meta_val, episode:  452, total_val_loss: 0.169963, \n",
      "val_mean_iou:{'peacock': 0.7236524964131984,\n",
      "'peanut': 0.7619763531724165,\n",
      "'pinwheel': 0.7206403272010521,\n",
      "'soap_dispenser': 0.8378534208165154,\n",
      "'sock': 0.6949757976404582}\n",
      "\n",
      "Episode: 452, Episode Time: 0.063 minutes\n"
     ]
    },
    {
     "name": "stderr",
     "output_type": "stream",
     "text": [
      "8it [00:00, 29.39it/s]\n",
      "8it [00:00, 32.49it/s]\n",
      "8it [00:00, 29.46it/s]\n",
      "8it [00:00, 22.99it/s]\n",
      "8it [00:00, 32.20it/s]\n"
     ]
    },
    {
     "name": "stdout",
     "output_type": "stream",
     "text": [
      "mode: meta_val, episode:  453, total_val_loss: 0.201336, \n",
      "val_mean_iou:{'polecat': 0.8265260840993717,\n",
      "'pomelo': 0.7541151553418761,\n",
      "'roller_coaster': 0.5351809793347162,\n",
      "'ruler': 0.6617611569958496,\n",
      "'skateboard': 0.2666535070850328}\n",
      "\n",
      "Episode: 453, Episode Time: 0.065 minutes\n"
     ]
    },
    {
     "name": "stderr",
     "output_type": "stream",
     "text": [
      "8it [00:00, 28.34it/s]\n",
      "8it [00:00, 30.86it/s]\n",
      "8it [00:00, 30.77it/s]\n",
      "8it [00:00, 30.13it/s]\n",
      "8it [00:00, 29.75it/s]\n"
     ]
    },
    {
     "name": "stdout",
     "output_type": "stream",
     "text": [
      "mode: meta_val, episode:  454, total_val_loss: 0.099224, \n",
      "val_mean_iou:{'paper_crane': 0.7606106809039436,\n",
      "'paper_plane': 0.6286862344927157,\n",
      "'polar_bear': 0.9038978518565692,\n",
      "'ringlet_butterfly': 0.9467208064728546,\n",
      "'skunk': 0.873473404707145}\n",
      "\n",
      "Episode: 454, Episode Time: 0.065 minutes\n"
     ]
    },
    {
     "name": "stderr",
     "output_type": "stream",
     "text": [
      "8it [00:00, 29.39it/s]\n",
      "8it [00:00, 30.14it/s]\n",
      "8it [00:00, 32.47it/s]\n",
      "18it [00:00, 36.55it/s]\n",
      "8it [00:00, 32.38it/s]\n"
     ]
    },
    {
     "name": "stdout",
     "output_type": "stream",
     "text": [
      "mode: meta_val, episode:  455, total_val_loss: 0.260788, \n",
      "val_mean_iou:{'paper_plane': 0.6061991015538704,\n",
      "'printer': 0.7404761470791048,\n",
      "'razor': 0.6117175225761587,\n",
      "'reel': 0.7457907973250382,\n",
      "'refrigerator': 0.5968508862488787}\n",
      "\n",
      "Episode: 455, Episode Time: 0.067 minutes\n"
     ]
    },
    {
     "name": "stderr",
     "output_type": "stream",
     "text": [
      "8it [00:00, 30.94it/s]\n",
      "8it [00:00, 30.59it/s]\n",
      "8it [00:00, 31.84it/s]\n",
      "18it [00:00, 36.25it/s]\n",
      "8it [00:00, 30.70it/s]\n"
     ]
    },
    {
     "name": "stdout",
     "output_type": "stream",
     "text": [
      "mode: meta_val, episode:  456, total_val_loss: 0.146486, \n",
      "val_mean_iou:{'ptarmigan': 0.879489671247442,\n",
      "'rock_beauty': 0.834933949355918,\n",
      "'sandwich': 0.7991088587504906,\n",
      "'shakuhachi': 0.6333419178598388,\n",
      "'sidewinder': 0.7436769645692249}\n",
      "\n",
      "Episode: 456, Episode Time: 0.067 minutes\n"
     ]
    },
    {
     "name": "stderr",
     "output_type": "stream",
     "text": [
      "8it [00:00, 28.74it/s]\n",
      "8it [00:00, 30.79it/s]\n",
      "8it [00:00, 31.37it/s]\n",
      "8it [00:00, 31.06it/s]\n",
      "8it [00:00, 29.10it/s]\n"
     ]
    },
    {
     "name": "stdout",
     "output_type": "stream",
     "text": [
      "mode: meta_val, episode:  457, total_val_loss: 0.210639, \n",
      "val_mean_iou:{'parking_meter': 0.7184568803120286,\n",
      "'partridge': 0.7810818284349808,\n",
      "'polo_shirt': 0.5296785768306504,\n",
      "'revolver': 0.6697226985091482,\n",
      "'scissors': 0.5322830877758206}\n",
      "\n",
      "Episode: 457, Episode Time: 0.064 minutes\n"
     ]
    },
    {
     "name": "stderr",
     "output_type": "stream",
     "text": [
      "8it [00:00, 28.17it/s]\n",
      "18it [00:00, 38.48it/s]\n",
      "8it [00:00, 29.95it/s]\n",
      "8it [00:00, 30.27it/s]\n",
      "8it [00:00, 30.61it/s]\n"
     ]
    },
    {
     "name": "stdout",
     "output_type": "stream",
     "text": [
      "mode: meta_val, episode:  458, total_val_loss: 0.210991, \n",
      "val_mean_iou:{'pillow': 0.7062566824406027,\n",
      "'rally_car': 0.8794560258932055,\n",
      "'rose': 0.7143703481061621,\n",
      "'saluki': 0.707620263378959,\n",
      "'shakuhachi': 0.5315812845791275}\n",
      "\n",
      "Episode: 458, Episode Time: 0.067 minutes\n"
     ]
    },
    {
     "name": "stderr",
     "output_type": "stream",
     "text": [
      "8it [00:00, 28.30it/s]\n",
      "8it [00:00, 30.13it/s]\n",
      "8it [00:00, 31.03it/s]\n",
      "8it [00:00, 29.98it/s]\n",
      "8it [00:00, 31.34it/s]\n"
     ]
    },
    {
     "name": "stdout",
     "output_type": "stream",
     "text": [
      "mode: meta_val, episode:  459, total_val_loss: 0.215984, \n",
      "val_mean_iou:{'ostrich': 0.7305942383146158,\n",
      "'photocopier': 0.6949330494607342,\n",
      "'quad_drone': 0.6458014269214695,\n",
      "'red_breasted_merganser': 0.6565409067972885,\n",
      "'ringlet_butterfly': 0.933171400107918}\n",
      "\n",
      "Episode: 459, Episode Time: 0.064 minutes\n"
     ]
    },
    {
     "name": "stderr",
     "output_type": "stream",
     "text": [
      "8it [00:00, 27.46it/s]\n",
      "8it [00:00, 30.58it/s]\n",
      "8it [00:00, 31.24it/s]\n",
      "8it [00:00, 31.21it/s]\n",
      "8it [00:00, 31.36it/s]\n"
     ]
    },
    {
     "name": "stdout",
     "output_type": "stream",
     "text": [
      "mode: meta_val, episode:  460, total_val_loss: 0.223129, \n",
      "val_mean_iou:{'oyster': 0.7687126325353211,\n",
      "'pistachio': 0.7374492102331645,\n",
      "'polecat': 0.8015978084019058,\n",
      "'relay_stick': 0.33743242287176406,\n",
      "'shakuhachi': 0.44995534158217865}\n",
      "\n",
      "Episode: 460, Episode Time: 0.064 minutes\n"
     ]
    },
    {
     "name": "stderr",
     "output_type": "stream",
     "text": [
      "8it [00:00, 27.77it/s]\n",
      "28it [00:00, 39.42it/s]\n",
      "8it [00:00, 30.91it/s]\n",
      "8it [00:00, 31.81it/s]\n",
      "8it [00:00, 31.88it/s]\n"
     ]
    },
    {
     "name": "stdout",
     "output_type": "stream",
     "text": [
      "mode: meta_val, episode:  461, total_val_loss: 0.136158, \n",
      "val_mean_iou:{'peanut': 0.792080541567634,\n",
      "'potato': 0.7843220652197285,\n",
      "'red_fox': 0.8770434304017865,\n",
      "'saltshaker': 0.9095946032070631,\n",
      "'shovel': 0.6348502941589433}\n",
      "\n",
      "Episode: 461, Episode Time: 0.071 minutes\n"
     ]
    },
    {
     "name": "stderr",
     "output_type": "stream",
     "text": [
      "8it [00:00, 28.48it/s]\n",
      "8it [00:00, 29.41it/s]\n",
      "8it [00:00, 31.11it/s]\n",
      "8it [00:00, 31.83it/s]\n",
      "8it [00:00, 30.81it/s]\n"
     ]
    },
    {
     "name": "stdout",
     "output_type": "stream",
     "text": [
      "mode: meta_val, episode:  462, total_val_loss: 0.217859, \n",
      "val_mean_iou:{'paper_towel': 0.5621530989835035,\n",
      "'petri_dish': 0.8217706169411058,\n",
      "'polecat': 0.8059841276867284,\n",
      "'shotgun': 0.4742723137575212,\n",
      "'siamese_cat': 0.8530187065114799}\n",
      "\n",
      "Episode: 462, Episode Time: 0.064 minutes\n"
     ]
    },
    {
     "name": "stderr",
     "output_type": "stream",
     "text": [
      "8it [00:00, 30.36it/s]\n",
      "8it [00:00, 31.59it/s]\n",
      "8it [00:00, 31.43it/s]\n",
      "8it [00:00, 30.82it/s]\n",
      "8it [00:00, 30.39it/s]\n"
     ]
    },
    {
     "name": "stdout",
     "output_type": "stream",
     "text": [
      "mode: meta_val, episode:  463, total_val_loss: 0.279300, \n",
      "val_mean_iou:{'park_bench': 0.5538325733875946,\n",
      "'pubg_lvl3backpack': 0.49978129799633003,\n",
      "'refrigerator': 0.6363397238337839,\n",
      "'scabbard': 0.38754713425142173,\n",
      "'skull': 0.8906669428547472}\n",
      "\n",
      "Episode: 463, Episode Time: 0.063 minutes\n"
     ]
    },
    {
     "name": "stderr",
     "output_type": "stream",
     "text": [
      "8it [00:00, 31.39it/s]\n",
      "8it [00:00, 33.79it/s]\n",
      "8it [00:00, 30.48it/s]\n",
      "8it [00:00, 29.40it/s]\n",
      "8it [00:00, 31.38it/s]\n"
     ]
    },
    {
     "name": "stdout",
     "output_type": "stream",
     "text": [
      "mode: meta_val, episode:  464, total_val_loss: 0.167334, \n",
      "val_mean_iou:{'pidan': 0.825582945732493,\n",
      "'plastic_bag': 0.6972308733715906,\n",
      "'rubick_cube': 0.9071397337903395,\n",
      "'seagull': 0.8055018164407686,\n",
      "'skua': 0.8503061739494224}\n",
      "\n",
      "Episode: 464, Episode Time: 0.064 minutes\n"
     ]
    },
    {
     "name": "stderr",
     "output_type": "stream",
     "text": [
      "8it [00:00, 29.30it/s]\n",
      "8it [00:00, 28.67it/s]\n",
      "8it [00:00, 30.99it/s]\n",
      "8it [00:00, 31.08it/s]\n",
      "8it [00:00, 31.91it/s]\n"
     ]
    },
    {
     "name": "stdout",
     "output_type": "stream",
     "text": [
      "mode: meta_val, episode:  465, total_val_loss: 0.228236, \n",
      "val_mean_iou:{'pencil_box': 0.8168769945532889,\n",
      "'pencil_sharpener2': 0.8287363398866481,\n",
      "'recreational_vehicle': 0.8317887689033037,\n",
      "'school_bus': 0.7100473336619679,\n",
      "'sewing_machine': 0.5792415214426198}\n",
      "\n",
      "Episode: 465, Episode Time: 0.064 minutes\n"
     ]
    },
    {
     "name": "stderr",
     "output_type": "stream",
     "text": [
      "8it [00:00, 30.38it/s]\n",
      "8it [00:00, 31.82it/s]\n",
      "8it [00:00, 31.07it/s]\n",
      "18it [00:00, 33.56it/s]\n",
      "28it [00:00, 39.84it/s]\n"
     ]
    },
    {
     "name": "stdout",
     "output_type": "stream",
     "text": [
      "mode: meta_val, episode:  466, total_val_loss: 0.198274, \n",
      "val_mean_iou:{'perfume': 0.7824033522704775,\n",
      "'potato': 0.7640184063312013,\n",
      "'power_drill': 0.6768128576825287,\n",
      "'rock_snake': 0.6763696335801492,\n",
      "'seal': 0.8740364024789333}\n",
      "\n",
      "Episode: 466, Episode Time: 0.075 minutes\n"
     ]
    },
    {
     "name": "stderr",
     "output_type": "stream",
     "text": [
      "8it [00:00, 28.28it/s]\n",
      "8it [00:00, 29.52it/s]\n",
      "18it [00:00, 37.16it/s]\n",
      "8it [00:00, 32.28it/s]\n",
      "8it [00:00, 31.95it/s]\n"
     ]
    },
    {
     "name": "stdout",
     "output_type": "stream",
     "text": [
      "mode: meta_val, episode:  467, total_val_loss: 0.251878, \n",
      "val_mean_iou:{'ptarmigan': 0.8545791148178251,\n",
      "'rubber_eraser': 0.6548605303741051,\n",
      "'saluki': 0.699894524884453,\n",
      "'sandwich': 0.7683526052619087,\n",
      "'seatbelt': 0.09055633810359252}\n",
      "\n",
      "Episode: 467, Episode Time: 0.067 minutes\n"
     ]
    },
    {
     "name": "stderr",
     "output_type": "stream",
     "text": [
      "8it [00:00, 29.32it/s]\n",
      "8it [00:00, 31.21it/s]\n",
      "8it [00:00, 30.06it/s]\n",
      "8it [00:00, 31.06it/s]\n",
      "8it [00:00, 31.69it/s]\n"
     ]
    },
    {
     "name": "stdout",
     "output_type": "stream",
     "text": [
      "mode: meta_val, episode:  468, total_val_loss: 0.290049, \n",
      "val_mean_iou:{'potato_chips': 0.625376113856909,\n",
      "'pubg_lvl3backpack': 0.4984468527759031,\n",
      "'rock_snake': 0.6334666069763459,\n",
      "'snowmobile': 0.4559369238312013,\n",
      "'soccer_ball': 0.5175367711063937}\n",
      "\n",
      "Episode: 468, Episode Time: 0.063 minutes\n"
     ]
    },
    {
     "name": "stderr",
     "output_type": "stream",
     "text": [
      "8it [00:00, 29.61it/s]\n",
      "8it [00:00, 30.77it/s]\n",
      "8it [00:00, 29.83it/s]\n",
      "8it [00:00, 31.86it/s]\n",
      "8it [00:00, 31.89it/s]\n"
     ]
    },
    {
     "name": "stdout",
     "output_type": "stream",
     "text": [
      "mode: meta_val, episode:  469, total_val_loss: 0.146550, \n",
      "val_mean_iou:{'red_bayberry': 0.7201708177568584,\n",
      "'shuriken': 0.6193413437630844,\n",
      "'siamang': 0.7684562936559507,\n",
      "'skua': 0.834365873765362,\n",
      "'skunk': 0.8718393548490873}\n",
      "\n",
      "Episode: 469, Episode Time: 0.063 minutes\n"
     ]
    },
    {
     "name": "stderr",
     "output_type": "stream",
     "text": [
      "8it [00:00, 30.21it/s]\n",
      "8it [00:00, 31.52it/s]\n",
      "8it [00:00, 30.79it/s]\n",
      "8it [00:00, 30.34it/s]\n",
      "8it [00:00, 29.76it/s]\n"
     ]
    },
    {
     "name": "stdout",
     "output_type": "stream",
     "text": [
      "mode: meta_val, episode:  470, total_val_loss: 0.187515, \n",
      "val_mean_iou:{'pineapple': 0.6125375513942013,\n",
      "'roller_skate': 0.8007941946567073,\n",
      "'ruddy_turnstone': 0.7686610927091735,\n",
      "'samarra_mosque': 0.7168092467536941,\n",
      "'santa_sledge': 0.5657982637928778}\n",
      "\n",
      "Episode: 470, Episode Time: 0.063 minutes\n"
     ]
    },
    {
     "name": "stderr",
     "output_type": "stream",
     "text": [
      "8it [00:00, 27.92it/s]\n",
      "8it [00:00, 31.69it/s]\n",
      "8it [00:00, 31.26it/s]\n",
      "8it [00:00, 29.82it/s]\n",
      "18it [00:00, 37.24it/s]\n"
     ]
    },
    {
     "name": "stdout",
     "output_type": "stream",
     "text": [
      "mode: meta_val, episode:  471, total_val_loss: 0.182491, \n",
      "val_mean_iou:{'paper_crane': 0.7217420480654693,\n",
      "'poker': 0.7333942178532649,\n",
      "'potted_plant': 0.800474038574958,\n",
      "'quail_egg': 0.7459769332319133,\n",
      "'sarong': 0.5830884431555012}\n",
      "\n",
      "Episode: 471, Episode Time: 0.067 minutes\n"
     ]
    },
    {
     "name": "stderr",
     "output_type": "stream",
     "text": [
      "18it [00:00, 37.06it/s]\n",
      "8it [00:00, 30.11it/s]\n",
      "8it [00:00, 29.51it/s]\n",
      "8it [00:00, 31.86it/s]\n",
      "8it [00:00, 30.71it/s]\n"
     ]
    },
    {
     "name": "stdout",
     "output_type": "stream",
     "text": [
      "mode: meta_val, episode:  472, total_val_loss: 0.142879, \n",
      "val_mean_iou:{'perfume': 0.8432042427653152,\n",
      "'pheasant': 0.8840519019869759,\n",
      "'poker': 0.7594976754460115,\n",
      "'pubg_airdrop': 0.7300226314288558,\n",
      "'pumpkin_pie': 0.8614412629856943}\n",
      "\n",
      "Episode: 472, Episode Time: 0.067 minutes\n"
     ]
    },
    {
     "name": "stderr",
     "output_type": "stream",
     "text": [
      "8it [00:00, 28.06it/s]\n",
      "28it [00:00, 39.48it/s]\n",
      "8it [00:00, 31.94it/s]\n",
      "8it [00:00, 30.47it/s]\n",
      "18it [00:00, 37.29it/s]\n"
     ]
    },
    {
     "name": "stdout",
     "output_type": "stream",
     "text": [
      "mode: meta_val, episode:  473, total_val_loss: 0.196029, \n",
      "val_mean_iou:{'papaya': 0.8479320712887372,\n",
      "'potato': 0.7386321551764802,\n",
      "'puma_logo': 0.3255086442077372,\n",
      "'radio': 0.8427223173183038,\n",
      "'skua': 0.8467793136401521}\n",
      "\n",
      "Episode: 473, Episode Time: 0.075 minutes\n"
     ]
    },
    {
     "name": "stderr",
     "output_type": "stream",
     "text": [
      "8it [00:00, 29.29it/s]\n",
      "8it [00:00, 29.76it/s]\n",
      "8it [00:00, 31.02it/s]\n",
      "8it [00:00, 29.42it/s]\n",
      "8it [00:00, 31.31it/s]\n"
     ]
    },
    {
     "name": "stdout",
     "output_type": "stream",
     "text": [
      "mode: meta_val, episode:  474, total_val_loss: 0.249836, \n",
      "val_mean_iou:{'petri_dish': 0.7823941011245743,\n",
      "'pidan': 0.7954798032366912,\n",
      "'pomelo': 0.7746995319944068,\n",
      "'projector': 0.5834013241003626,\n",
      "'skull': 0.8736503158736765}\n",
      "\n",
      "Episode: 474, Episode Time: 0.065 minutes\n"
     ]
    },
    {
     "name": "stderr",
     "output_type": "stream",
     "text": [
      "8it [00:00, 31.29it/s]\n",
      "8it [00:00, 30.41it/s]\n",
      "8it [00:00, 30.67it/s]\n",
      "8it [00:00, 31.25it/s]\n",
      "8it [00:00, 30.48it/s]\n"
     ]
    },
    {
     "name": "stdout",
     "output_type": "stream",
     "text": [
      "mode: meta_val, episode:  475, total_val_loss: 0.223980, \n",
      "val_mean_iou:{'paper_crane': 0.727337159210101,\n",
      "'pear': 0.7968971709009883,\n",
      "'persimmon': 0.7138467057091085,\n",
      "'power_drill': 0.7545400330188838,\n",
      "'projector': 0.6020240418662988}\n",
      "\n",
      "Episode: 475, Episode Time: 0.063 minutes\n"
     ]
    },
    {
     "name": "stderr",
     "output_type": "stream",
     "text": [
      "8it [00:00, 30.55it/s]\n",
      "8it [00:00, 31.49it/s]\n",
      "8it [00:00, 30.71it/s]\n",
      "8it [00:00, 31.74it/s]\n",
      "8it [00:00, 30.21it/s]\n"
     ]
    },
    {
     "name": "stdout",
     "output_type": "stream",
     "text": [
      "mode: meta_val, episode:  476, total_val_loss: 0.415211, \n",
      "val_mean_iou:{'papaya': 0.8446730532688171,\n",
      "'parking_meter': 0.7328234363947606,\n",
      "'piano_keyboard': 0.429800296216397,\n",
      "'raccoon': 0.8683715349312159,\n",
      "'snowball': 0.5244176860134726}\n",
      "\n",
      "Episode: 476, Episode Time: 0.063 minutes\n"
     ]
    },
    {
     "name": "stderr",
     "output_type": "stream",
     "text": [
      "8it [00:00, 28.22it/s]\n",
      "18it [00:00, 37.63it/s]\n",
      "8it [00:00, 30.20it/s]\n",
      "8it [00:00, 31.85it/s]\n",
      "8it [00:00, 29.37it/s]\n"
     ]
    },
    {
     "name": "stdout",
     "output_type": "stream",
     "text": [
      "mode: meta_val, episode:  477, total_val_loss: 0.242012, \n",
      "val_mean_iou:{'pig': 0.8437790002437732,\n",
      "'pineapple': 0.6163887068936781,\n",
      "'pomelo': 0.7450377824514051,\n",
      "'scabbard': 0.38060461085056296,\n",
      "'scorpion': 0.7063355948711393}\n",
      "\n",
      "Episode: 477, Episode Time: 0.068 minutes\n"
     ]
    },
    {
     "name": "stderr",
     "output_type": "stream",
     "text": [
      "8it [00:00, 29.67it/s]\n",
      "8it [00:00, 31.43it/s]\n",
      "8it [00:00, 30.88it/s]\n",
      "8it [00:00, 30.54it/s]\n",
      "8it [00:00, 30.62it/s]\n"
     ]
    },
    {
     "name": "stdout",
     "output_type": "stream",
     "text": [
      "mode: meta_val, episode:  478, total_val_loss: 0.194224, \n",
      "val_mean_iou:{'patas': 0.7798106990394781,\n",
      "'platypus': 0.8782312956407093,\n",
      "'punching_bag': 0.5522181992743698,\n",
      "'shakuhachi': 0.5319528858509892,\n",
      "'shovel': 0.582387999117552}\n",
      "\n",
      "Episode: 478, Episode Time: 0.063 minutes\n"
     ]
    },
    {
     "name": "stderr",
     "output_type": "stream",
     "text": [
      "8it [00:00, 33.04it/s]\n",
      "8it [00:00, 32.33it/s]\n",
      "8it [00:00, 31.77it/s]\n",
      "8it [00:00, 32.44it/s]\n",
      "8it [00:00, 31.27it/s]\n"
     ]
    },
    {
     "name": "stdout",
     "output_type": "stream",
     "text": [
      "mode: meta_val, episode:  479, total_val_loss: 0.167937, \n",
      "val_mean_iou:{'pickup': 0.9162115783304311,\n",
      "'polecat': 0.8231761675494806,\n",
      "'pyramid_cube': 0.7791244961791206,\n",
      "'red_fox': 0.8825021504339385,\n",
      "'shakuhachi': 0.4293162446490667}\n",
      "\n",
      "Episode: 479, Episode Time: 0.063 minutes\n"
     ]
    },
    {
     "name": "stderr",
     "output_type": "stream",
     "text": [
      "8it [00:00, 29.19it/s]\n",
      "8it [00:00, 31.07it/s]\n",
      "8it [00:00, 31.36it/s]\n",
      "8it [00:00, 29.99it/s]\n",
      "8it [00:00, 32.54it/s]\n"
     ]
    },
    {
     "name": "stdout",
     "output_type": "stream",
     "text": [
      "mode: meta_val, episode:  480, total_val_loss: 0.221786, \n",
      "val_mean_iou:{'paint_brush': 0.7130157389403746,\n",
      "'paper_crane': 0.6854026471601664,\n",
      "'quail_egg': 0.7298261982006515,\n",
      "'sea_cucumber': 0.8029939993320936,\n",
      "'shift_gear': 0.28930785493774314}\n",
      "\n",
      "Episode: 480, Episode Time: 0.063 minutes\n"
     ]
    },
    {
     "name": "stderr",
     "output_type": "stream",
     "text": [
      "18it [00:00, 33.55it/s]\n",
      "8it [00:00, 29.10it/s]\n",
      "8it [00:00, 29.06it/s]\n",
      "8it [00:00, 28.31it/s]\n",
      "8it [00:00, 31.26it/s]\n"
     ]
    },
    {
     "name": "stdout",
     "output_type": "stream",
     "text": [
      "mode: meta_val, episode:  481, total_val_loss: 0.261391, \n",
      "val_mean_iou:{'paddle': 0.8325147173247733,\n",
      "'psp': 0.8071936026441725,\n",
      "'rocking_chair': 0.7661958096932164,\n",
      "'roller_coaster': 0.4466590108752615,\n",
      "'shower_cap': 0.4728586031191797}\n",
      "\n",
      "Episode: 481, Episode Time: 0.069 minutes\n"
     ]
    },
    {
     "name": "stderr",
     "output_type": "stream",
     "text": [
      "8it [00:00, 30.86it/s]\n",
      "8it [00:00, 30.88it/s]\n",
      "8it [00:00, 29.57it/s]\n",
      "88it [00:02, 42.40it/s]\n",
      "8it [00:00, 30.66it/s]\n"
     ]
    },
    {
     "name": "stdout",
     "output_type": "stream",
     "text": [
      "mode: meta_val, episode:  482, total_val_loss: 0.279385, \n",
      "val_mean_iou:{'panpipe': 0.664381450610396,\n",
      "'pen': 0.6592925590017719,\n",
      "'radiator': 0.6437190839886194,\n",
      "'reel': 0.74761892577826,\n",
      "'shift_gear': 0.3077208958884164}\n",
      "\n",
      "Episode: 482, Episode Time: 0.096 minutes\n"
     ]
    },
    {
     "name": "stderr",
     "output_type": "stream",
     "text": [
      "8it [00:00, 28.01it/s]\n",
      "8it [00:00, 29.89it/s]\n",
      "8it [00:00, 30.89it/s]\n",
      "8it [00:00, 29.73it/s]\n",
      "8it [00:00, 30.11it/s]\n"
     ]
    },
    {
     "name": "stdout",
     "output_type": "stream",
     "text": [
      "mode: meta_val, episode:  483, total_val_loss: 0.271644, \n",
      "val_mean_iou:{'pool_table': 0.672291014817377,\n",
      "'printer': 0.848634424199278,\n",
      "'punching_bag': 0.49143112505234954,\n",
      "'reflex_camera': 0.8431224479262073,\n",
      "'shumai': 0.7246645294549021}\n",
      "\n",
      "Episode: 483, Episode Time: 0.065 minutes\n"
     ]
    },
    {
     "name": "stderr",
     "output_type": "stream",
     "text": [
      "8it [00:00, 32.29it/s]\n",
      "8it [00:00, 28.64it/s]\n",
      "8it [00:00, 29.50it/s]\n",
      "18it [00:00, 36.22it/s]\n",
      "8it [00:00, 31.82it/s]\n"
     ]
    },
    {
     "name": "stdout",
     "output_type": "stream",
     "text": [
      "mode: meta_val, episode:  484, total_val_loss: 0.294846, \n",
      "val_mean_iou:{'parallel_bars': 0.26408678948881137,\n",
      "'peregine_falcon': 0.7868462210503206,\n",
      "'pineapple': 0.5974469148780333,\n",
      "'pomelo': 0.8416795017528694,\n",
      "'pumpkin': 0.8707645543881837}\n",
      "\n",
      "Episode: 484, Episode Time: 0.068 minutes\n"
     ]
    },
    {
     "name": "stderr",
     "output_type": "stream",
     "text": [
      "8it [00:00, 29.06it/s]\n",
      "8it [00:00, 30.06it/s]\n",
      "8it [00:00, 30.96it/s]\n",
      "8it [00:00, 30.70it/s]\n",
      "8it [00:00, 30.90it/s]\n"
     ]
    },
    {
     "name": "stdout",
     "output_type": "stream",
     "text": [
      "mode: meta_val, episode:  485, total_val_loss: 0.297741, \n",
      "val_mean_iou:{'panpipe': 0.6438779642532726,\n",
      "'pingpong_ball': 0.11762490766947747,\n",
      "'plastic_bag': 0.7694768880399186,\n",
      "'porcupine': 0.774887306242279,\n",
      "'saxophone': 0.6257738466412757}\n",
      "\n",
      "Episode: 485, Episode Time: 0.064 minutes\n"
     ]
    },
    {
     "name": "stderr",
     "output_type": "stream",
     "text": [
      "8it [00:00, 29.83it/s]\n",
      "8it [00:00, 30.93it/s]\n",
      "8it [00:00, 30.63it/s]\n",
      "8it [00:00, 29.89it/s]\n",
      "8it [00:00, 31.37it/s]\n"
     ]
    },
    {
     "name": "stdout",
     "output_type": "stream",
     "text": [
      "mode: meta_val, episode:  486, total_val_loss: 0.192982, \n",
      "val_mean_iou:{'polecat': 0.8448595395348368,\n",
      "'potato_chips': 0.6197335466685128,\n",
      "'prairie_chicken': 0.8684303886444391,\n",
      "'reflex_camera': 0.7992715256578939,\n",
      "'snowmobile': 0.45982734459330354}\n",
      "\n",
      "Episode: 486, Episode Time: 0.064 minutes\n"
     ]
    },
    {
     "name": "stderr",
     "output_type": "stream",
     "text": [
      "8it [00:00, 30.42it/s]\n",
      "8it [00:00, 30.82it/s]\n",
      "8it [00:00, 31.52it/s]\n",
      "8it [00:00, 30.53it/s]\n",
      "8it [00:00, 31.02it/s]\n"
     ]
    },
    {
     "name": "stdout",
     "output_type": "stream",
     "text": [
      "mode: meta_val, episode:  487, total_val_loss: 0.185696, \n",
      "val_mean_iou:{'pear': 0.779556881415334,\n",
      "'pickup': 0.905182016735776,\n",
      "'polo_shirt': 0.649988449828198,\n",
      "'roller_skate': 0.7942282834652026,\n",
      "'shopping_cart': 0.748819248316686}\n",
      "\n",
      "Episode: 487, Episode Time: 0.063 minutes\n"
     ]
    },
    {
     "name": "stderr",
     "output_type": "stream",
     "text": [
      "8it [00:00, 30.43it/s]\n",
      "8it [00:00, 29.19it/s]\n",
      "8it [00:00, 28.39it/s]\n",
      "8it [00:00, 31.98it/s]\n",
      "8it [00:00, 29.19it/s]\n"
     ]
    },
    {
     "name": "stdout",
     "output_type": "stream",
     "text": [
      "mode: meta_val, episode:  488, total_val_loss: 0.255569, \n",
      "val_mean_iou:{'petri_dish': 0.7066925455152451,\n",
      "'revolver': 0.695855134420297,\n",
      "'roller_skate': 0.7332438430888879,\n",
      "'sea_cucumber': 0.8046439951780082,\n",
      "'sniper_rifle': 0.6029148239741069}\n",
      "\n",
      "Episode: 488, Episode Time: 0.064 minutes\n"
     ]
    },
    {
     "name": "stderr",
     "output_type": "stream",
     "text": [
      "8it [00:00, 28.20it/s]\n",
      "8it [00:00, 30.27it/s]\n",
      "8it [00:00, 32.37it/s]\n",
      "8it [00:00, 29.44it/s]\n",
      "8it [00:00, 27.24it/s]\n"
     ]
    },
    {
     "name": "stdout",
     "output_type": "stream",
     "text": [
      "mode: meta_val, episode:  489, total_val_loss: 0.251291, \n",
      "val_mean_iou:{'pingpong_racket': 0.687532213001705,\n",
      "'polecat': 0.8273675847238383,\n",
      "'red_wolf': 0.743507204216967,\n",
      "'school_bus': 0.7136832027404781,\n",
      "'schooner': 0.6159010748330722}\n",
      "\n",
      "Episode: 489, Episode Time: 0.064 minutes\n"
     ]
    },
    {
     "name": "stderr",
     "output_type": "stream",
     "text": [
      "8it [00:00, 29.99it/s]\n",
      "18it [00:00, 37.32it/s]\n",
      "8it [00:00, 30.11it/s]\n",
      "18it [00:00, 37.18it/s]\n",
      "8it [00:00, 31.30it/s]\n"
     ]
    },
    {
     "name": "stdout",
     "output_type": "stream",
     "text": [
      "mode: meta_val, episode:  490, total_val_loss: 0.287620, \n",
      "val_mean_iou:{'otter': 0.8618243537194088,\n",
      "'pig': 0.8109176226858655,\n",
      "'pinwheel': 0.6953914546506993,\n",
      "'pool_table': 0.49014289107176146,\n",
      "'sandwich': 0.787305534231888}\n",
      "\n",
      "Episode: 490, Episode Time: 0.071 minutes\n"
     ]
    },
    {
     "name": "stderr",
     "output_type": "stream",
     "text": [
      "8it [00:00, 30.63it/s]\n",
      "8it [00:00, 30.60it/s]\n",
      "8it [00:00, 30.19it/s]\n",
      "8it [00:00, 30.65it/s]\n",
      "8it [00:00, 30.22it/s]\n"
     ]
    },
    {
     "name": "stdout",
     "output_type": "stream",
     "text": [
      "mode: meta_val, episode:  491, total_val_loss: 0.210089, \n",
      "val_mean_iou:{'patas': 0.7725666829579152,\n",
      "'pear': 0.8161586537740757,\n",
      "'pomegranate': 0.8091997024227884,\n",
      "'single_log': 0.2865096509195233,\n",
      "'soap_dispenser': 0.8135759316971203}\n",
      "\n",
      "Episode: 491, Episode Time: 0.063 minutes\n"
     ]
    },
    {
     "name": "stderr",
     "output_type": "stream",
     "text": [
      "8it [00:00, 30.05it/s]\n",
      "8it [00:00, 29.83it/s]\n",
      "8it [00:00, 30.57it/s]\n",
      "8it [00:00, 30.64it/s]\n",
      "8it [00:00, 30.60it/s]\n"
     ]
    },
    {
     "name": "stdout",
     "output_type": "stream",
     "text": [
      "mode: meta_val, episode:  492, total_val_loss: 0.166524, \n",
      "val_mean_iou:{'pickup': 0.8950897210199662,\n",
      "'pill_bottle': 0.8032316140074992,\n",
      "'polar_bear': 0.8661509017957826,\n",
      "'police_car': 0.7914657010922697,\n",
      "'saxophone': 0.5214152324549755}\n",
      "\n",
      "Episode: 492, Episode Time: 0.063 minutes\n"
     ]
    },
    {
     "name": "stderr",
     "output_type": "stream",
     "text": [
      "8it [00:00, 27.73it/s]\n",
      "8it [00:00, 29.72it/s]\n",
      "8it [00:00, 29.28it/s]\n",
      "8it [00:00, 29.92it/s]\n",
      "8it [00:00, 30.02it/s]\n"
     ]
    },
    {
     "name": "stdout",
     "output_type": "stream",
     "text": [
      "mode: meta_val, episode:  493, total_val_loss: 0.292068, \n",
      "val_mean_iou:{'petri_dish': 0.7791837283629254,\n",
      "'pretzel': 0.6236028732199086,\n",
      "'pubg_airdrop': 0.6810267591886145,\n",
      "'sandwich_cookies': 0.8419296759428607,\n",
      "'snowmobile': 0.5441240791118749}\n",
      "\n",
      "Episode: 493, Episode Time: 0.064 minutes\n"
     ]
    },
    {
     "name": "stderr",
     "output_type": "stream",
     "text": [
      "8it [00:00, 30.62it/s]\n",
      "18it [00:00, 36.46it/s]\n",
      "8it [00:00, 30.43it/s]\n",
      "8it [00:00, 30.56it/s]\n",
      "8it [00:00, 29.05it/s]\n"
     ]
    },
    {
     "name": "stdout",
     "output_type": "stream",
     "text": [
      "mode: meta_val, episode:  494, total_val_loss: 0.202443, \n",
      "val_mean_iou:{'pencil_sharpener2': 0.8538421389173312,\n",
      "'pickup': 0.9335161090117692,\n",
      "'pig': 0.8392168329048323,\n",
      "'prayer_rug': 0.7985196334025811,\n",
      "'roller_skate': 0.8579600249414525}\n",
      "\n",
      "Episode: 494, Episode Time: 0.068 minutes\n"
     ]
    },
    {
     "name": "stderr",
     "output_type": "stream",
     "text": [
      "8it [00:00, 31.57it/s]\n",
      "18it [00:00, 35.52it/s]\n",
      "8it [00:00, 31.05it/s]\n",
      "18it [00:00, 36.97it/s]\n",
      "8it [00:00, 31.46it/s]\n"
     ]
    },
    {
     "name": "stdout",
     "output_type": "stream",
     "text": [
      "mode: meta_val, episode:  495, total_val_loss: 0.156570, \n",
      "val_mean_iou:{'pig': 0.8595774840179163,\n",
      "'quill_pen': 0.5039138360718909,\n",
      "'sea_urchin': 0.711021682370678,\n",
      "'seal': 0.8926057872826273,\n",
      "'snowplow': 0.8277776323282713}\n",
      "\n",
      "Episode: 495, Episode Time: 0.071 minutes\n"
     ]
    },
    {
     "name": "stderr",
     "output_type": "stream",
     "text": [
      "8it [00:00, 30.31it/s]\n",
      "8it [00:00, 31.57it/s]\n",
      "8it [00:00, 30.31it/s]\n",
      "8it [00:00, 30.41it/s]\n",
      "8it [00:00, 30.30it/s]\n"
     ]
    },
    {
     "name": "stdout",
     "output_type": "stream",
     "text": [
      "mode: meta_val, episode:  496, total_val_loss: 0.441719, \n",
      "val_mean_iou:{'piano_keyboard': 0.4321344500253443,\n",
      "'prayer_rug': 0.837829608041395,\n",
      "'puma_logo': 0.25270153154272657,\n",
      "'running_shoe': 0.5607145996557824,\n",
      "'ski_mask': 0.603112345115375}\n",
      "\n",
      "Episode: 496, Episode Time: 0.064 minutes\n"
     ]
    },
    {
     "name": "stderr",
     "output_type": "stream",
     "text": [
      "8it [00:00, 30.11it/s]\n",
      "18it [00:00, 37.07it/s]\n",
      "8it [00:00, 30.36it/s]\n",
      "8it [00:00, 31.27it/s]\n",
      "8it [00:00, 31.66it/s]\n"
     ]
    },
    {
     "name": "stdout",
     "output_type": "stream",
     "text": [
      "mode: meta_val, episode:  497, total_val_loss: 0.169817, \n",
      "val_mean_iou:{'peanut': 0.6909895093967762,\n",
      "'pinecone': 0.8818790836566365,\n",
      "'radio': 0.8453728174437661,\n",
      "'running_shoe': 0.5897169310819607,\n",
      "'solar_dish': 0.7910224056622697}\n",
      "\n",
      "Episode: 497, Episode Time: 0.067 minutes\n"
     ]
    },
    {
     "name": "stderr",
     "output_type": "stream",
     "text": [
      "28it [00:00, 39.23it/s]\n",
      "8it [00:00, 27.82it/s]\n",
      "8it [00:00, 30.36it/s]\n",
      "8it [00:00, 30.73it/s]\n",
      "8it [00:00, 29.65it/s]\n"
     ]
    },
    {
     "name": "stdout",
     "output_type": "stream",
     "text": [
      "mode: meta_val, episode:  498, total_val_loss: 0.277215, \n",
      "val_mean_iou:{'polo_shirt': 0.6558753975943271,\n",
      "'pyramid': 0.7163009581468647,\n",
      "'sandbar': 0.23609858349393884,\n",
      "'ski_mask': 0.6448585927584478,\n",
      "'smoothing_iron': 0.7948688005271023}\n",
      "\n",
      "Episode: 498, Episode Time: 0.071 minutes\n"
     ]
    },
    {
     "name": "stderr",
     "output_type": "stream",
     "text": [
      "8it [00:00, 29.70it/s]\n",
      "8it [00:00, 30.94it/s]\n",
      "8it [00:00, 31.65it/s]\n",
      "8it [00:00, 30.40it/s]\n",
      "8it [00:00, 27.84it/s]\n"
     ]
    },
    {
     "name": "stdout",
     "output_type": "stream",
     "text": [
      "mode: meta_val, episode:  499, total_val_loss: 0.341421, \n",
      "val_mean_iou:{'parachute': 0.7228590280681106,\n",
      "'pay_phone': 0.5874116024787461,\n",
      "'piano_keyboard': 0.44911518394775995,\n",
      "'siamang': 0.7429239192937851,\n",
      "'ski_mask': 0.6064966682439048}\n",
      "\n",
      "Episode: 499, Episode Time: 0.064 minutes\n"
     ]
    },
    {
     "name": "stderr",
     "output_type": "stream",
     "text": [
      "8it [00:00, 30.68it/s]\n",
      "8it [00:00, 31.62it/s]\n",
      "8it [00:00, 30.37it/s]\n",
      "8it [00:00, 30.44it/s]\n",
      "8it [00:00, 30.77it/s]\n"
     ]
    },
    {
     "name": "stdout",
     "output_type": "stream",
     "text": [
      "mode: meta_val, episode:  500, total_val_loss: 0.313588, \n",
      "val_mean_iou:{'polo_shirt': 0.6291200830420178,\n",
      "'ptarmigan': 0.736246983881657,\n",
      "'rock_snake': 0.6187900825105422,\n",
      "'scarerow': 0.3919812925547126,\n",
      "'single_log': 0.26357460144959377}\n",
      "\n",
      "Episode: 500, Episode Time: 0.064 minutes\n",
      "num tasks: 5\n",
      "tr_imgs shape: torch.Size([5, 2, 224, 224, 3]), tr_masks shape: torch.Size([5, 2, 224, 224]) val_imgs shape: torch.Size([5, 5, 224, 224, 3]), val_masks shape: torch.Size([5, 5, 224, 224])\n"
     ]
    },
    {
     "name": "stderr",
     "output_type": "stream",
     "text": [
      "\r",
      "0it [00:00, ?it/s]"
     ]
    },
    {
     "name": "stdout",
     "output_type": "stream",
     "text": [
      "num tasks: 5\n",
      "tr_imgs shape: torch.Size([5, 2, 224, 224, 3]), tr_masks shape: torch.Size([5, 2, 224, 224]) val_imgs shape: 5 list of paths, val_masks shape: 5 list of paths\n"
     ]
    },
    {
     "name": "stderr",
     "output_type": "stream",
     "text": [
      "8it [00:00, 27.57it/s]\n",
      "8it [00:00, 30.32it/s]\n",
      "8it [00:00, 30.41it/s]\n",
      "8it [00:00, 29.96it/s]\n",
      "8it [00:00, 28.17it/s]\n"
     ]
    },
    {
     "name": "stdout",
     "output_type": "stream",
     "text": [
      "mode: meta_val, episode:  501, total_val_loss: 0.196771, \n",
      "val_mean_iou:{'pidan': 0.7618135478028808,\n",
      "'pomegranate': 0.8226490444963128,\n",
      "'samarra_mosque': 0.6790808034173945,\n",
      "'scorpion': 0.6957458851717082,\n",
      "'snowball': 0.6680059806779547}\n",
      "\n",
      "Episode: 501, Episode Time: 0.064 minutes\n"
     ]
    },
    {
     "name": "stderr",
     "output_type": "stream",
     "text": [
      "28it [00:00, 38.83it/s]\n",
      "8it [00:00, 30.90it/s]\n",
      "8it [00:00, 29.22it/s]\n",
      "18it [00:00, 37.05it/s]\n",
      "8it [00:00, 28.22it/s]\n"
     ]
    },
    {
     "name": "stdout",
     "output_type": "stream",
     "text": [
      "mode: meta_val, episode:  502, total_val_loss: 0.167568, \n",
      "val_mean_iou:{'owl': 0.7883377545190245,\n",
      "'pencil_sharpener1': 0.8466082297965615,\n",
      "'screw': 0.6444957069961397,\n",
      "'sealion': 0.8873765703907577,\n",
      "'shumai': 0.7207299957795148}\n",
      "\n",
      "Episode: 502, Episode Time: 0.076 minutes\n"
     ]
    },
    {
     "name": "stderr",
     "output_type": "stream",
     "text": [
      "8it [00:00, 29.68it/s]\n",
      "8it [00:00, 31.39it/s]\n",
      "8it [00:00, 29.80it/s]\n",
      "8it [00:00, 30.98it/s]\n",
      "8it [00:00, 29.74it/s]\n"
     ]
    },
    {
     "name": "stdout",
     "output_type": "stream",
     "text": [
      "mode: meta_val, episode:  503, total_val_loss: 0.243378, \n",
      "val_mean_iou:{'paper_plane': 0.6838395695975921,\n",
      "'park_bench': 0.5645593911746034,\n",
      "'parthenon': 0.6882002508159055,\n",
      "'pokermon_ball': 0.7674568946749476,\n",
      "'snowplow': 0.7990233971704612}\n",
      "\n",
      "Episode: 503, Episode Time: 0.065 minutes\n"
     ]
    },
    {
     "name": "stderr",
     "output_type": "stream",
     "text": [
      "18it [00:00, 38.76it/s]\n",
      "8it [00:00, 28.96it/s]\n",
      "8it [00:00, 30.18it/s]\n",
      "8it [00:00, 29.99it/s]\n",
      "8it [00:00, 29.60it/s]\n"
     ]
    },
    {
     "name": "stdout",
     "output_type": "stream",
     "text": [
      "mode: meta_val, episode:  504, total_val_loss: 0.186810, \n",
      "val_mean_iou:{'parking_meter': 0.696892441640809,\n",
      "'pufferfish': 0.7957652705769549,\n",
      "'roller_coaster': 0.5807752172505928,\n",
      "'screw': 0.654739215958412,\n",
      "'snow_leopard': 0.7371475413649153}\n",
      "\n",
      "Episode: 504, Episode Time: 0.067 minutes\n"
     ]
    },
    {
     "name": "stderr",
     "output_type": "stream",
     "text": [
      "8it [00:00, 30.13it/s]\n",
      "8it [00:00, 27.91it/s]\n",
      "8it [00:00, 30.30it/s]\n",
      "18it [00:00, 37.26it/s]\n",
      "8it [00:00, 31.17it/s]\n"
     ]
    },
    {
     "name": "stdout",
     "output_type": "stream",
     "text": [
      "mode: meta_val, episode:  505, total_val_loss: 0.247924, \n",
      "val_mean_iou:{'poached_egg': 0.7606232129983007,\n",
      "'pubg_airdrop': 0.6938586472976269,\n",
      "'pubg_lvl3helmet': 0.4338104572087501,\n",
      "'pumpkin': 0.8897795157579799,\n",
      "'solar_dish': 0.7030967318404693}\n",
      "\n",
      "Episode: 505, Episode Time: 0.068 minutes\n"
     ]
    },
    {
     "name": "stderr",
     "output_type": "stream",
     "text": [
      "8it [00:00, 30.27it/s]\n",
      "8it [00:00, 31.41it/s]\n",
      "8it [00:00, 30.00it/s]\n",
      "8it [00:00, 30.07it/s]\n",
      "8it [00:00, 30.53it/s]\n"
     ]
    },
    {
     "name": "stdout",
     "output_type": "stream",
     "text": [
      "mode: meta_val, episode:  506, total_val_loss: 0.145503, \n",
      "val_mean_iou:{'patas': 0.7769547938356456,\n",
      "'pingpong_racket': 0.6734329347928841,\n",
      "'pyraminx': 0.756992795831772,\n",
      "'rabbit': 0.8705479474009437,\n",
      "'skunk': 0.8456144278535749}\n",
      "\n",
      "Episode: 506, Episode Time: 0.064 minutes\n"
     ]
    },
    {
     "name": "stderr",
     "output_type": "stream",
     "text": [
      "8it [00:00, 29.82it/s]\n",
      "8it [00:00, 29.04it/s]\n",
      "8it [00:00, 29.54it/s]\n",
      "28it [00:00, 38.19it/s]\n",
      "8it [00:00, 31.73it/s]\n"
     ]
    },
    {
     "name": "stdout",
     "output_type": "stream",
     "text": [
      "mode: meta_val, episode:  507, total_val_loss: 0.157152, \n",
      "val_mean_iou:{'panda': 0.7722349602677597,\n",
      "'paper_plane': 0.6642781440292198,\n",
      "'persian_cat': 0.7629312620750246,\n",
      "'pickup': 0.8506145677211587,\n",
      "'prairie_chicken': 0.8555954771360805}\n",
      "\n",
      "Episode: 507, Episode Time: 0.072 minutes\n"
     ]
    },
    {
     "name": "stderr",
     "output_type": "stream",
     "text": [
      "8it [00:00, 28.47it/s]\n",
      "8it [00:00, 30.99it/s]\n",
      "8it [00:00, 31.22it/s]\n",
      "8it [00:00, 29.29it/s]\n",
      "8it [00:00, 28.80it/s]\n"
     ]
    },
    {
     "name": "stdout",
     "output_type": "stream",
     "text": [
      "mode: meta_val, episode:  508, total_val_loss: 0.279861, \n",
      "val_mean_iou:{'pillow': 0.7335145649918071,\n",
      "'pineapple': 0.5888540363525392,\n",
      "'plate': 0.8319822688673547,\n",
      "'pubg_airdrop': 0.6778479555689408,\n",
      "'snowmobile': 0.5603584397818583}\n",
      "\n",
      "Episode: 508, Episode Time: 0.064 minutes\n"
     ]
    },
    {
     "name": "stderr",
     "output_type": "stream",
     "text": [
      "8it [00:00, 29.95it/s]\n",
      "8it [00:00, 31.48it/s]\n",
      "8it [00:00, 31.30it/s]\n",
      "8it [00:00, 29.94it/s]\n",
      "8it [00:00, 31.45it/s]\n"
     ]
    },
    {
     "name": "stdout",
     "output_type": "stream",
     "text": [
      "mode: meta_val, episode:  509, total_val_loss: 0.358894, \n",
      "val_mean_iou:{'paper_towel': 0.5026878143598386,\n",
      "'parallel_bars': 0.2786235686549853,\n",
      "'park_bench': 0.6237340997487052,\n",
      "'pillow': 0.7518354675808003,\n",
      "'shower_cap': 0.48992372013876107}\n",
      "\n",
      "Episode: 509, Episode Time: 0.064 minutes\n"
     ]
    },
    {
     "name": "stderr",
     "output_type": "stream",
     "text": [
      "8it [00:00, 30.48it/s]\n",
      "8it [00:00, 31.04it/s]\n",
      "8it [00:00, 31.04it/s]\n",
      "8it [00:00, 30.08it/s]\n",
      "8it [00:00, 30.05it/s]\n"
     ]
    },
    {
     "name": "stdout",
     "output_type": "stream",
     "text": [
      "mode: meta_val, episode:  510, total_val_loss: 0.268030, \n",
      "val_mean_iou:{'pear': 0.7859950453273112,\n",
      "'photocopier': 0.7087892277623273,\n",
      "'prairie_chicken': 0.8292944650932172,\n",
      "'skunk': 0.8641764123732677,\n",
      "'snow_leopard': 0.7705901792174225}\n",
      "\n",
      "Episode: 510, Episode Time: 0.064 minutes\n"
     ]
    },
    {
     "name": "stderr",
     "output_type": "stream",
     "text": [
      "8it [00:00, 30.61it/s]\n",
      "8it [00:00, 30.99it/s]\n",
      "8it [00:00, 31.55it/s]\n",
      "8it [00:00, 31.90it/s]\n",
      "8it [00:00, 30.53it/s]\n"
     ]
    },
    {
     "name": "stdout",
     "output_type": "stream",
     "text": [
      "mode: meta_val, episode:  511, total_val_loss: 0.362356, \n",
      "val_mean_iou:{'printer': 0.7914113911599278,\n",
      "'projector': 0.601476200381784,\n",
      "'quill_pen': 0.39788495552202907,\n",
      "'red_bayberry': 0.7344712858356248,\n",
      "'seatbelt': 0.09609228793528131}\n",
      "\n",
      "Episode: 511, Episode Time: 0.063 minutes\n"
     ]
    },
    {
     "name": "stderr",
     "output_type": "stream",
     "text": [
      "8it [00:00, 29.57it/s]\n",
      "8it [00:00, 30.04it/s]\n",
      "8it [00:00, 31.11it/s]\n",
      "8it [00:00, 31.56it/s]\n",
      "8it [00:00, 30.30it/s]\n"
     ]
    },
    {
     "name": "stdout",
     "output_type": "stream",
     "text": [
      "mode: meta_val, episode:  512, total_val_loss: 0.174852, \n",
      "val_mean_iou:{'rally_car': 0.8212721313025538,\n",
      "'ringlet_butterfly': 0.8731617517089025,\n",
      "'rubber_eraser': 0.6819289920440623,\n",
      "'ruffed_grouse': 0.7511903544570628,\n",
      "'soccer_ball': 0.4872349554275371}\n",
      "\n",
      "Episode: 512, Episode Time: 0.064 minutes\n"
     ]
    },
    {
     "name": "stderr",
     "output_type": "stream",
     "text": [
      "8it [00:00, 29.11it/s]\n",
      "8it [00:00, 30.17it/s]\n",
      "8it [00:00, 29.71it/s]\n",
      "18it [00:00, 36.31it/s]\n",
      "8it [00:00, 31.84it/s]\n"
     ]
    },
    {
     "name": "stdout",
     "output_type": "stream",
     "text": [
      "mode: meta_val, episode:  513, total_val_loss: 0.278465, \n",
      "val_mean_iou:{'psp': 0.8324760664396254,\n",
      "'pspgo': 0.7930311833086703,\n",
      "'pubg_lvl3helmet': 0.5241365222967922,\n",
      "'quad_drone': 0.6271355067843314,\n",
      "'red_bayberry': 0.7136251966918612}\n",
      "\n",
      "Episode: 513, Episode Time: 0.068 minutes\n"
     ]
    },
    {
     "name": "stderr",
     "output_type": "stream",
     "text": [
      "8it [00:00, 29.89it/s]\n",
      "8it [00:00, 29.96it/s]\n",
      "8it [00:00, 31.09it/s]\n",
      "8it [00:00, 30.19it/s]\n",
      "8it [00:00, 30.44it/s]\n"
     ]
    },
    {
     "name": "stdout",
     "output_type": "stream",
     "text": [
      "mode: meta_val, episode:  514, total_val_loss: 0.201168, \n",
      "val_mean_iou:{'parking_meter': 0.7977704262267175,\n",
      "'pickelhaube': 0.8014015983627859,\n",
      "'quail_egg': 0.7401165730473815,\n",
      "'relay_stick': 0.27425437261076047,\n",
      "'rugby_ball': 0.6554658845884566}\n",
      "\n",
      "Episode: 514, Episode Time: 0.064 minutes\n"
     ]
    },
    {
     "name": "stderr",
     "output_type": "stream",
     "text": [
      "8it [00:00, 29.97it/s]\n",
      "8it [00:00, 30.07it/s]\n",
      "8it [00:00, 31.49it/s]\n",
      "8it [00:00, 28.67it/s]\n",
      "8it [00:00, 31.80it/s]\n"
     ]
    },
    {
     "name": "stdout",
     "output_type": "stream",
     "text": [
      "mode: meta_val, episode:  515, total_val_loss: 0.247147, \n",
      "val_mean_iou:{'pear': 0.7188482861814998,\n",
      "'pool_table': 0.5660544827529363,\n",
      "'radiator': 0.6694122015332113,\n",
      "'rubick_cube': 0.9370125920007377,\n",
      "'snail': 0.7533594531700354}\n",
      "\n",
      "Episode: 515, Episode Time: 0.064 minutes\n"
     ]
    },
    {
     "name": "stderr",
     "output_type": "stream",
     "text": [
      "8it [00:00, 29.76it/s]\n",
      "8it [00:00, 28.87it/s]\n",
      "8it [00:00, 30.65it/s]\n",
      "8it [00:00, 30.52it/s]\n",
      "8it [00:00, 29.49it/s]\n"
     ]
    },
    {
     "name": "stdout",
     "output_type": "stream",
     "text": [
      "mode: meta_val, episode:  516, total_val_loss: 0.161205, \n",
      "val_mean_iou:{'pickup': 0.9114709678891508,\n",
      "'pinecone': 0.8335884210314246,\n",
      "'porcupine': 0.7475662920639694,\n",
      "'pteropus': 0.7748964692920987,\n",
      "'running_shoe': 0.5124064329904933}\n",
      "\n",
      "Episode: 516, Episode Time: 0.064 minutes\n"
     ]
    },
    {
     "name": "stderr",
     "output_type": "stream",
     "text": [
      "8it [00:00, 30.77it/s]\n",
      "18it [00:00, 38.23it/s]\n",
      "8it [00:00, 28.51it/s]\n",
      "8it [00:00, 30.98it/s]\n",
      "8it [00:00, 30.43it/s]\n"
     ]
    },
    {
     "name": "stdout",
     "output_type": "stream",
     "text": [
      "mode: meta_val, episode:  517, total_val_loss: 0.169738, \n",
      "val_mean_iou:{'papaya': 0.8395193297197218,\n",
      "'persimmon': 0.7106591332999033,\n",
      "'pingpong_racket': 0.7407511253335008,\n",
      "'pteropus': 0.7667322290816767,\n",
      "'rose': 0.6794058030542401}\n",
      "\n",
      "Episode: 517, Episode Time: 0.067 minutes\n"
     ]
    },
    {
     "name": "stderr",
     "output_type": "stream",
     "text": [
      "8it [00:00, 30.54it/s]\n",
      "8it [00:00, 30.64it/s]\n",
      "8it [00:00, 29.66it/s]\n",
      "8it [00:00, 31.14it/s]\n",
      "8it [00:00, 29.99it/s]\n"
     ]
    },
    {
     "name": "stdout",
     "output_type": "stream",
     "text": [
      "mode: meta_val, episode:  518, total_val_loss: 0.369149, \n",
      "val_mean_iou:{'pinwheel': 0.6946534414593011,\n",
      "'printer': 0.7427075680018277,\n",
      "'sea_urchin': 0.7595707424873854,\n",
      "'shower_curtain': 0.5271522335513916,\n",
      "'snail': 0.7301596561048339}\n",
      "\n",
      "Episode: 518, Episode Time: 0.063 minutes\n"
     ]
    },
    {
     "name": "stderr",
     "output_type": "stream",
     "text": [
      "8it [00:00, 30.76it/s]\n",
      "8it [00:00, 31.02it/s]\n",
      "8it [00:00, 30.05it/s]\n",
      "18it [00:00, 37.84it/s]\n",
      "8it [00:00, 29.69it/s]\n"
     ]
    },
    {
     "name": "stdout",
     "output_type": "stream",
     "text": [
      "mode: meta_val, episode:  519, total_val_loss: 0.222826, \n",
      "val_mean_iou:{'pineapple': 0.5993766944434379,\n",
      "'potato_chips': 0.743592691014537,\n",
      "'pufferfish': 0.8612870224541498,\n",
      "'soap': 0.702576990328109,\n",
      "'soap_dispenser': 0.8350347717916174}\n",
      "\n",
      "Episode: 519, Episode Time: 0.067 minutes\n"
     ]
    },
    {
     "name": "stderr",
     "output_type": "stream",
     "text": [
      "8it [00:00, 29.72it/s]\n",
      "8it [00:00, 30.61it/s]\n",
      "8it [00:00, 29.62it/s]\n",
      "8it [00:00, 31.31it/s]\n",
      "8it [00:00, 32.12it/s]\n"
     ]
    },
    {
     "name": "stdout",
     "output_type": "stream",
     "text": [
      "mode: meta_val, episode:  520, total_val_loss: 0.158487, \n",
      "val_mean_iou:{'pingpong_racket': 0.7660572486279922,\n",
      "'polecat': 0.8032275263721718,\n",
      "'raven': 0.8720489517892607,\n",
      "'red_wolf': 0.7770436371666263,\n",
      "'shopping_cart': 0.7633577737981614}\n",
      "\n",
      "Episode: 520, Episode Time: 0.064 minutes\n"
     ]
    },
    {
     "name": "stderr",
     "output_type": "stream",
     "text": [
      "8it [00:00, 29.40it/s]\n",
      "8it [00:00, 31.08it/s]\n",
      "8it [00:00, 29.99it/s]\n",
      "8it [00:00, 33.11it/s]\n",
      "8it [00:00, 30.97it/s]\n"
     ]
    },
    {
     "name": "stdout",
     "output_type": "stream",
     "text": [
      "mode: meta_val, episode:  521, total_val_loss: 0.257394, \n",
      "val_mean_iou:{'parallel_bars': 0.31154214871789604,\n",
      "'park_bench': 0.6004283255847415,\n",
      "'red_wolf': 0.7452640117055627,\n",
      "'scroll_brush': 0.7208922203805092,\n",
      "'soccer_ball': 0.3879363901322655}\n",
      "\n",
      "Episode: 521, Episode Time: 0.063 minutes\n"
     ]
    },
    {
     "name": "stderr",
     "output_type": "stream",
     "text": [
      "8it [00:00, 29.38it/s]\n",
      "8it [00:00, 31.00it/s]\n",
      "8it [00:00, 31.57it/s]\n",
      "8it [00:00, 28.82it/s]\n",
      "8it [00:00, 31.00it/s]\n"
     ]
    },
    {
     "name": "stdout",
     "output_type": "stream",
     "text": [
      "mode: meta_val, episode:  522, total_val_loss: 0.265877, \n",
      "val_mean_iou:{'paper_plane': 0.6327655471787905,\n",
      "'pool_table': 0.612588506757856,\n",
      "'potato_chips': 0.6134593108267923,\n",
      "'saluki': 0.6694937333642903,\n",
      "'shuriken': 0.6003069358314159}\n",
      "\n",
      "Episode: 522, Episode Time: 0.064 minutes\n"
     ]
    },
    {
     "name": "stderr",
     "output_type": "stream",
     "text": [
      "8it [00:00, 28.74it/s]\n",
      "8it [00:00, 28.27it/s]\n",
      "18it [00:00, 36.28it/s]\n",
      "8it [00:00, 31.98it/s]\n",
      "8it [00:00, 30.97it/s]\n"
     ]
    },
    {
     "name": "stdout",
     "output_type": "stream",
     "text": [
      "mode: meta_val, episode:  523, total_val_loss: 0.251038, \n",
      "val_mean_iou:{'pencil_sharpener2': 0.8267269389200791,\n",
      "'prayer_rug': 0.7361700826780337,\n",
      "'seal': 0.8806854827841003,\n",
      "'snowmobile': 0.4651384345678438,\n",
      "'soap_dispenser': 0.849322989661387}\n",
      "\n",
      "Episode: 523, Episode Time: 0.068 minutes\n"
     ]
    },
    {
     "name": "stderr",
     "output_type": "stream",
     "text": [
      "8it [00:00, 30.06it/s]\n",
      "8it [00:00, 30.62it/s]\n",
      "8it [00:00, 30.33it/s]\n",
      "8it [00:00, 31.54it/s]\n",
      "8it [00:00, 31.85it/s]\n"
     ]
    },
    {
     "name": "stdout",
     "output_type": "stream",
     "text": [
      "mode: meta_val, episode:  524, total_val_loss: 0.215673, \n",
      "val_mean_iou:{'partridge': 0.7222666750493542,\n",
      "'peanut': 0.6879692984073034,\n",
      "'rally_car': 0.8518361823378975,\n",
      "'roller_coaster': 0.498657198689881,\n",
      "'single_log': 0.25580491675269923}\n",
      "\n",
      "Episode: 524, Episode Time: 0.063 minutes\n"
     ]
    },
    {
     "name": "stderr",
     "output_type": "stream",
     "text": [
      "8it [00:00, 28.28it/s]\n",
      "8it [00:00, 30.77it/s]\n",
      "8it [00:00, 30.87it/s]\n",
      "8it [00:00, 29.84it/s]\n",
      "8it [00:00, 31.46it/s]\n"
     ]
    },
    {
     "name": "stdout",
     "output_type": "stream",
     "text": [
      "mode: meta_val, episode:  525, total_val_loss: 0.201382, \n",
      "val_mean_iou:{'pepitas': 0.7494947162905135,\n",
      "'quill_pen': 0.344435968659549,\n",
      "'saluki': 0.6754238815060607,\n",
      "'schooner': 0.7378140500674211,\n",
      "'shih-tzu': 0.8603936476760801}\n",
      "\n",
      "Episode: 525, Episode Time: 0.064 minutes\n"
     ]
    },
    {
     "name": "stderr",
     "output_type": "stream",
     "text": [
      "8it [00:00, 30.22it/s]\n",
      "8it [00:00, 28.54it/s]\n",
      "8it [00:00, 34.35it/s]\n",
      "8it [00:00, 30.37it/s]\n",
      "8it [00:00, 32.56it/s]\n"
     ]
    },
    {
     "name": "stdout",
     "output_type": "stream",
     "text": [
      "mode: meta_val, episode:  526, total_val_loss: 0.266221, \n",
      "val_mean_iou:{'puma_logo': 0.26126348201353655,\n",
      "'radiator': 0.7180662086183671,\n",
      "'redheart': 0.05248851843720047,\n",
      "'scorpion': 0.7332773480404424,\n",
      "'shuriken': 0.5486726123535717}\n",
      "\n",
      "Episode: 526, Episode Time: 0.063 minutes\n"
     ]
    },
    {
     "name": "stderr",
     "output_type": "stream",
     "text": [
      "8it [00:00, 29.70it/s]\n",
      "18it [00:00, 37.82it/s]\n",
      "18it [00:00, 36.04it/s]\n",
      "8it [00:00, 30.87it/s]\n",
      "8it [00:00, 29.76it/s]\n"
     ]
    },
    {
     "name": "stdout",
     "output_type": "stream",
     "text": [
      "mode: meta_val, episode:  527, total_val_loss: 0.229251, \n",
      "val_mean_iou:{'polecat': 0.7712684731242209,\n",
      "'quail': 0.7468926827244279,\n",
      "'red_fox': 0.8576552155415822,\n",
      "'refrigerator': 0.5384239440725662,\n",
      "'sandwich': 0.7853906825657}\n",
      "\n",
      "Episode: 527, Episode Time: 0.071 minutes\n"
     ]
    },
    {
     "name": "stderr",
     "output_type": "stream",
     "text": [
      "18it [00:00, 35.90it/s]\n",
      "8it [00:00, 30.21it/s]\n",
      "8it [00:00, 30.28it/s]\n",
      "8it [00:00, 29.28it/s]\n",
      "8it [00:00, 30.37it/s]\n"
     ]
    },
    {
     "name": "stdout",
     "output_type": "stream",
     "text": [
      "mode: meta_val, episode:  528, total_val_loss: 0.292402, \n",
      "val_mean_iou:{'pay_phone': 0.6091236402979052,\n",
      "'pencil_sharpener1': 0.7247714243907402,\n",
      "'psp': 0.7651117836624107,\n",
      "'reel': 0.8172830440736334,\n",
      "'sewing_machine': 0.5581170020536743}\n",
      "\n",
      "Episode: 528, Episode Time: 0.067 minutes\n"
     ]
    },
    {
     "name": "stderr",
     "output_type": "stream",
     "text": [
      "8it [00:00, 29.02it/s]\n",
      "8it [00:00, 32.80it/s]\n",
      "8it [00:00, 30.43it/s]\n",
      "8it [00:00, 29.62it/s]\n",
      "8it [00:00, 30.04it/s]\n"
     ]
    },
    {
     "name": "stdout",
     "output_type": "stream",
     "text": [
      "mode: meta_val, episode:  529, total_val_loss: 0.180675, \n",
      "val_mean_iou:{'polar_bear': 0.8923435325451264,\n",
      "'pyramid_cube': 0.8981195378925663,\n",
      "'rubber_eraser': 0.6686404330996414,\n",
      "'sewing_machine': 0.5915438993391902,\n",
      "'skunk': 0.826250174594459}\n",
      "\n",
      "Episode: 529, Episode Time: 0.064 minutes\n"
     ]
    },
    {
     "name": "stderr",
     "output_type": "stream",
     "text": [
      "8it [00:00, 26.70it/s]\n",
      "8it [00:00, 30.87it/s]\n",
      "8it [00:00, 31.04it/s]\n",
      "8it [00:00, 30.28it/s]\n",
      "8it [00:00, 31.04it/s]\n"
     ]
    },
    {
     "name": "stdout",
     "output_type": "stream",
     "text": [
      "mode: meta_val, episode:  530, total_val_loss: 0.176121, \n",
      "val_mean_iou:{'pomegranate': 0.8770555125624127,\n",
      "'red_bayberry': 0.7040368131132898,\n",
      "'sandal': 0.588341910621504,\n",
      "'seagull': 0.7709734424392074,\n",
      "'sloth_bear': 0.8832028107611268}\n",
      "\n",
      "Episode: 530, Episode Time: 0.064 minutes\n"
     ]
    },
    {
     "name": "stderr",
     "output_type": "stream",
     "text": [
      "8it [00:00, 28.63it/s]\n",
      "8it [00:00, 30.91it/s]\n",
      "8it [00:00, 29.90it/s]\n",
      "8it [00:00, 29.72it/s]\n",
      "8it [00:00, 30.49it/s]\n"
     ]
    },
    {
     "name": "stdout",
     "output_type": "stream",
     "text": [
      "mode: meta_val, episode:  531, total_val_loss: 0.159005, \n",
      "val_mean_iou:{'pencil_box': 0.8182607216846873,\n",
      "'police_car': 0.8488114821422452,\n",
      "'shovel': 0.5421128403806386,\n",
      "'siamang': 0.7685015118173215,\n",
      "'skua': 0.8526250174814756}\n",
      "\n",
      "Episode: 531, Episode Time: 0.064 minutes\n"
     ]
    },
    {
     "name": "stderr",
     "output_type": "stream",
     "text": [
      "8it [00:00, 28.56it/s]\n",
      "8it [00:00, 31.51it/s]\n",
      "8it [00:00, 30.21it/s]\n",
      "8it [00:00, 29.22it/s]\n",
      "18it [00:00, 36.44it/s]\n"
     ]
    },
    {
     "name": "stdout",
     "output_type": "stream",
     "text": [
      "mode: meta_val, episode:  532, total_val_loss: 0.322235, \n",
      "val_mean_iou:{'pyraminx': 0.8769971627482602,\n",
      "'quail': 0.7791213107840258,\n",
      "'ruddy_turnstone': 0.8182163602511545,\n",
      "'shower_curtain': 0.5427015422393561,\n",
      "'skateboard': 0.24926719464039548}\n",
      "\n",
      "Episode: 532, Episode Time: 0.068 minutes\n"
     ]
    },
    {
     "name": "stderr",
     "output_type": "stream",
     "text": [
      "18it [00:00, 36.29it/s]\n",
      "8it [00:00, 30.32it/s]\n",
      "8it [00:00, 29.46it/s]\n",
      "8it [00:00, 29.97it/s]\n",
      "8it [00:00, 30.39it/s]\n"
     ]
    },
    {
     "name": "stdout",
     "output_type": "stream",
     "text": [
      "mode: meta_val, episode:  533, total_val_loss: 0.164052, \n",
      "val_mean_iou:{'patas': 0.8342027960467129,\n",
      "'prairie_chicken': 0.8944877635833118,\n",
      "'razor': 0.5969841751469654,\n",
      "'rock_beauty': 0.7596887592510847,\n",
      "'school_bus': 0.7394009563837907}\n",
      "\n",
      "Episode: 533, Episode Time: 0.068 minutes\n"
     ]
    },
    {
     "name": "stderr",
     "output_type": "stream",
     "text": [
      "8it [00:00, 29.66it/s]\n",
      "8it [00:00, 28.98it/s]\n",
      "8it [00:00, 29.18it/s]\n",
      "8it [00:00, 27.71it/s]\n",
      "8it [00:00, 31.63it/s]\n"
     ]
    },
    {
     "name": "stdout",
     "output_type": "stream",
     "text": [
      "mode: meta_val, episode:  534, total_val_loss: 0.358980, \n",
      "val_mean_iou:{'pizza': 0.8385042922729118,\n",
      "'raven': 0.8686738044725155,\n",
      "'shower_curtain': 0.5886861308990365,\n",
      "'siamang': 0.7376585550385105,\n",
      "'sniper_rifle': 0.65360182431706}\n",
      "\n",
      "Episode: 534, Episode Time: 0.064 minutes\n"
     ]
    },
    {
     "name": "stderr",
     "output_type": "stream",
     "text": [
      "8it [00:00, 28.61it/s]\n",
      "8it [00:00, 31.68it/s]\n",
      "8it [00:00, 30.52it/s]\n",
      "8it [00:00, 28.73it/s]\n",
      "8it [00:00, 32.31it/s]\n"
     ]
    },
    {
     "name": "stdout",
     "output_type": "stream",
     "text": [
      "mode: meta_val, episode:  535, total_val_loss: 0.133999, \n",
      "val_mean_iou:{'paper_crane': 0.7703783604551724,\n",
      "'pingpong_racket': 0.7309329406575293,\n",
      "'rally_car': 0.8852595039542224,\n",
      "'red_fox': 0.8553038987567168,\n",
      "'shuriken': 0.5631874453184886}\n",
      "\n",
      "Episode: 535, Episode Time: 0.064 minutes\n"
     ]
    },
    {
     "name": "stderr",
     "output_type": "stream",
     "text": [
      "8it [00:00, 29.51it/s]\n",
      "8it [00:00, 30.27it/s]\n",
      "8it [00:00, 31.36it/s]\n",
      "8it [00:00, 31.12it/s]\n",
      "8it [00:00, 30.37it/s]\n"
     ]
    },
    {
     "name": "stdout",
     "output_type": "stream",
     "text": [
      "mode: meta_val, episode:  536, total_val_loss: 0.237765, \n",
      "val_mean_iou:{'pingpong_ball': 0.13737306706017477,\n",
      "'polar_bear': 0.8976458884287651,\n",
      "'police_car': 0.8234779475835243,\n",
      "'shotgun': 0.5303038586591019,\n",
      "'snowball': 0.4942837620168609}\n",
      "\n",
      "Episode: 536, Episode Time: 0.064 minutes\n"
     ]
    },
    {
     "name": "stderr",
     "output_type": "stream",
     "text": [
      "8it [00:00, 30.11it/s]\n",
      "8it [00:00, 31.25it/s]\n",
      "8it [00:00, 31.62it/s]\n",
      "8it [00:00, 30.87it/s]\n",
      "8it [00:00, 31.72it/s]\n"
     ]
    },
    {
     "name": "stdout",
     "output_type": "stream",
     "text": [
      "mode: meta_val, episode:  537, total_val_loss: 0.275848, \n",
      "val_mean_iou:{'perfume': 0.8027035229671236,\n",
      "'redheart': 0.04892090306374029,\n",
      "'screwdriver': 0.6923023730527611,\n",
      "'shakuhachi': 0.48496673050082056,\n",
      "'snowman': 0.6517020195382781}\n",
      "\n",
      "Episode: 537, Episode Time: 0.063 minutes\n"
     ]
    },
    {
     "name": "stderr",
     "output_type": "stream",
     "text": [
      "8it [00:00, 29.43it/s]\n",
      "8it [00:00, 30.49it/s]\n",
      "8it [00:00, 30.03it/s]\n",
      "8it [00:00, 31.15it/s]\n",
      "8it [00:00, 30.49it/s]\n"
     ]
    },
    {
     "name": "stdout",
     "output_type": "stream",
     "text": [
      "mode: meta_val, episode:  538, total_val_loss: 0.209225, \n",
      "val_mean_iou:{'pheasant': 0.8885158453561497,\n",
      "'prayer_rug': 0.7879153717355051,\n",
      "'rain_barrel': 0.8115046090737729,\n",
      "'rosehip': 0.5079310387116066,\n",
      "'sock': 0.81402395921696}\n",
      "\n",
      "Episode: 538, Episode Time: 0.064 minutes\n"
     ]
    },
    {
     "name": "stderr",
     "output_type": "stream",
     "text": [
      "8it [00:00, 30.13it/s]\n",
      "8it [00:00, 29.61it/s]\n",
      "8it [00:00, 31.09it/s]\n",
      "8it [00:00, 30.96it/s]\n",
      "8it [00:00, 30.04it/s]\n"
     ]
    },
    {
     "name": "stdout",
     "output_type": "stream",
     "text": [
      "mode: meta_val, episode:  539, total_val_loss: 0.271367, \n",
      "val_mean_iou:{'printer': 0.7387262179382059,\n",
      "'punching_bag': 0.46856368726840014,\n",
      "'reflex_camera': 0.8405637582303545,\n",
      "'refrigerator': 0.6259483845766437,\n",
      "'rubber_eraser': 0.7179907552845743}\n",
      "\n",
      "Episode: 539, Episode Time: 0.064 minutes\n"
     ]
    },
    {
     "name": "stderr",
     "output_type": "stream",
     "text": [
      "8it [00:00, 29.07it/s]\n",
      "18it [00:00, 36.13it/s]\n",
      "8it [00:00, 31.57it/s]\n",
      "8it [00:00, 30.82it/s]\n",
      "18it [00:00, 35.67it/s]\n"
     ]
    },
    {
     "name": "stdout",
     "output_type": "stream",
     "text": [
      "mode: meta_val, episode:  540, total_val_loss: 0.238324, \n",
      "val_mean_iou:{'parachute': 0.8172894678320295,\n",
      "'sandwich': 0.8175873849119503,\n",
      "'shower_cap': 0.44491856746472264,\n",
      "'shumai': 0.7282406199297407,\n",
      "'sled': 0.5937203418194508}\n",
      "\n",
      "Episode: 540, Episode Time: 0.071 minutes\n"
     ]
    },
    {
     "name": "stderr",
     "output_type": "stream",
     "text": [
      "8it [00:00, 28.75it/s]\n",
      "8it [00:00, 28.08it/s]\n",
      "8it [00:00, 28.15it/s]\n",
      "8it [00:00, 31.78it/s]\n",
      "28it [00:00, 40.28it/s]\n"
     ]
    },
    {
     "name": "stdout",
     "output_type": "stream",
     "text": [
      "mode: meta_val, episode:  541, total_val_loss: 0.227349, \n",
      "val_mean_iou:{'potato': 0.7696331501005851,\n",
      "'raccoon': 0.8730375068741303,\n",
      "'santa_sledge': 0.6192706098693024,\n",
      "'shotgun': 0.5526663472821695,\n",
      "'sleeping_bag': 0.7720997485571841}\n",
      "\n",
      "Episode: 541, Episode Time: 0.071 minutes\n"
     ]
    },
    {
     "name": "stderr",
     "output_type": "stream",
     "text": [
      "8it [00:00, 26.97it/s]\n",
      "8it [00:00, 30.00it/s]\n",
      "8it [00:00, 32.62it/s]\n",
      "8it [00:00, 31.33it/s]\n",
      "8it [00:00, 31.45it/s]\n"
     ]
    },
    {
     "name": "stdout",
     "output_type": "stream",
     "text": [
      "mode: meta_val, episode:  542, total_val_loss: 0.261211, \n",
      "val_mean_iou:{'potted_plant': 0.7451534858993338,\n",
      "'redheart': 0.04742404715497105,\n",
      "'ringlet_butterfly': 0.9262873220600399,\n",
      "'shotgun': 0.45278876053670547,\n",
      "'sleeping_bag': 0.7546796625013132}\n",
      "\n",
      "Episode: 542, Episode Time: 0.064 minutes\n"
     ]
    },
    {
     "name": "stderr",
     "output_type": "stream",
     "text": [
      "8it [00:00, 30.45it/s]\n",
      "8it [00:00, 31.73it/s]\n",
      "18it [00:00, 37.83it/s]\n",
      "38it [00:00, 39.93it/s]\n",
      "8it [00:00, 29.94it/s]\n"
     ]
    },
    {
     "name": "stdout",
     "output_type": "stream",
     "text": [
      "mode: meta_val, episode:  543, total_val_loss: 0.162952, \n",
      "val_mean_iou:{'platypus': 0.8547864669815699,\n",
      "'raft': 0.7539133141171207,\n",
      "'roller_coaster': 0.43753376322643056,\n",
      "'rose': 0.6467143170711529,\n",
      "'ruffed_grouse': 0.7951860053720683}\n",
      "\n",
      "Episode: 543, Episode Time: 0.079 minutes\n"
     ]
    },
    {
     "name": "stderr",
     "output_type": "stream",
     "text": [
      "8it [00:00, 30.58it/s]\n",
      "8it [00:00, 31.05it/s]\n",
      "8it [00:00, 29.85it/s]\n",
      "8it [00:00, 30.65it/s]\n",
      "8it [00:00, 30.20it/s]\n"
     ]
    },
    {
     "name": "stdout",
     "output_type": "stream",
     "text": [
      "mode: meta_val, episode:  544, total_val_loss: 0.221142, \n",
      "val_mean_iou:{'patas': 0.7769487337402756,\n",
      "'pear': 0.7157460723562072,\n",
      "'pineapple': 0.6456058006076999,\n",
      "'pubg_lvl3helmet': 0.41311279447121285,\n",
      "'pyramid_cube': 0.8004406541694371}\n",
      "\n",
      "Episode: 544, Episode Time: 0.063 minutes\n"
     ]
    },
    {
     "name": "stderr",
     "output_type": "stream",
     "text": [
      "8it [00:00, 29.73it/s]\n",
      "8it [00:00, 29.41it/s]\n",
      "8it [00:00, 31.59it/s]\n",
      "8it [00:00, 31.36it/s]\n",
      "8it [00:00, 31.17it/s]\n"
     ]
    },
    {
     "name": "stdout",
     "output_type": "stream",
     "text": [
      "mode: meta_val, episode:  545, total_val_loss: 0.246162, \n",
      "val_mean_iou:{'petri_dish': 0.8121161652389532,\n",
      "'potted_plant': 0.7458706021452279,\n",
      "'puma_logo': 0.3227473188793087,\n",
      "'relay_stick': 0.3114189654530005,\n",
      "'sarong': 0.5173267577171176}\n",
      "\n",
      "Episode: 545, Episode Time: 0.064 minutes\n"
     ]
    },
    {
     "name": "stderr",
     "output_type": "stream",
     "text": [
      "8it [00:00, 30.30it/s]\n",
      "8it [00:00, 28.80it/s]\n",
      "8it [00:00, 30.94it/s]\n",
      "8it [00:00, 29.65it/s]\n",
      "8it [00:00, 27.30it/s]\n"
     ]
    },
    {
     "name": "stdout",
     "output_type": "stream",
     "text": [
      "mode: meta_val, episode:  546, total_val_loss: 0.193968, \n",
      "val_mean_iou:{'papaya': 0.8920711905609349,\n",
      "'park_bench': 0.5878389302266022,\n",
      "'pomegranate': 0.8562131520054853,\n",
      "'reel': 0.7855144950212549,\n",
      "'snowman': 0.7726518794724728}\n",
      "\n",
      "Episode: 546, Episode Time: 0.065 minutes\n"
     ]
    },
    {
     "name": "stderr",
     "output_type": "stream",
     "text": [
      "8it [00:00, 30.57it/s]\n",
      "8it [00:00, 31.48it/s]\n",
      "28it [00:00, 40.12it/s]\n",
      "8it [00:00, 28.06it/s]\n",
      "8it [00:00, 30.35it/s]\n"
     ]
    },
    {
     "name": "stdout",
     "output_type": "stream",
     "text": [
      "mode: meta_val, episode:  547, total_val_loss: 0.306705, \n",
      "val_mean_iou:{'piano_keyboard': 0.4509506940060037,\n",
      "'pyramid': 0.7163839010143904,\n",
      "'red_fox': 0.8714292803809316,\n",
      "'snowball': 0.5913763946988848,\n",
      "'snowman': 0.7669029668450373}\n",
      "\n",
      "Episode: 547, Episode Time: 0.071 minutes\n"
     ]
    },
    {
     "name": "stderr",
     "output_type": "stream",
     "text": [
      "18it [00:00, 35.57it/s]\n",
      "8it [00:00, 29.54it/s]\n",
      "8it [00:00, 31.01it/s]\n",
      "8it [00:00, 30.41it/s]\n",
      "8it [00:00, 29.82it/s]\n"
     ]
    },
    {
     "name": "stdout",
     "output_type": "stream",
     "text": [
      "mode: meta_val, episode:  548, total_val_loss: 0.240566, \n",
      "val_mean_iou:{'pear': 0.7456354996271282,\n",
      "'photocopier': 0.7513635414973578,\n",
      "'pomegranate': 0.8448504852767231,\n",
      "'prairie_chicken': 0.8622841074627773,\n",
      "'seal': 0.8747833588220022}\n",
      "\n",
      "Episode: 548, Episode Time: 0.068 minutes\n"
     ]
    },
    {
     "name": "stderr",
     "output_type": "stream",
     "text": [
      "18it [00:00, 37.51it/s]\n",
      "8it [00:00, 31.83it/s]\n",
      "8it [00:00, 30.31it/s]\n",
      "18it [00:00, 36.37it/s]\n",
      "8it [00:00, 31.24it/s]\n"
     ]
    },
    {
     "name": "stdout",
     "output_type": "stream",
     "text": [
      "mode: meta_val, episode:  549, total_val_loss: 0.275219, \n",
      "val_mean_iou:{'parachute': 0.8026937680911312,\n",
      "'pingpong_ball': 0.1269725786428212,\n",
      "'poker': 0.6961031864530999,\n",
      "'psp': 0.7215281080724828,\n",
      "'red_breasted_merganser': 0.7144890809115881}\n",
      "\n",
      "Episode: 549, Episode Time: 0.071 minutes\n"
     ]
    },
    {
     "name": "stderr",
     "output_type": "stream",
     "text": [
      "8it [00:00, 29.80it/s]\n",
      "8it [00:00, 31.84it/s]\n",
      "8it [00:00, 30.69it/s]\n",
      "8it [00:00, 31.20it/s]\n",
      "8it [00:00, 29.70it/s]\n"
     ]
    },
    {
     "name": "stdout",
     "output_type": "stream",
     "text": [
      "mode: meta_val, episode:  550, total_val_loss: 0.214343, \n",
      "val_mean_iou:{'oyster': 0.7372386247434645,\n",
      "'parking_meter': 0.7403972521031252,\n",
      "'red_fox': 0.8550775605979886,\n",
      "'sandal': 0.5020296905042411,\n",
      "'sarong': 0.5382405990356851}\n",
      "\n",
      "Episode: 550, Episode Time: 0.063 minutes\n"
     ]
    },
    {
     "name": "stderr",
     "output_type": "stream",
     "text": [
      "8it [00:00, 31.50it/s]\n",
      "88it [00:02, 43.72it/s]\n",
      "8it [00:00, 28.89it/s]\n",
      "8it [00:00, 32.38it/s]\n",
      "8it [00:00, 32.20it/s]\n"
     ]
    },
    {
     "name": "stdout",
     "output_type": "stream",
     "text": [
      "mode: meta_val, episode:  551, total_val_loss: 0.214665, \n",
      "val_mean_iou:{'pen': 0.6829903063388215,\n",
      "'quail_egg': 0.7250024535637957,\n",
      "'rice_cooker': 0.6765315118188937,\n",
      "'skateboard': 0.30619162331262034,\n",
      "'skunk': 0.8541303114504539}\n",
      "\n",
      "Episode: 551, Episode Time: 0.092 minutes\n"
     ]
    },
    {
     "name": "stderr",
     "output_type": "stream",
     "text": [
      "8it [00:00, 28.96it/s]\n",
      "8it [00:00, 31.11it/s]\n",
      "8it [00:00, 29.01it/s]\n",
      "18it [00:00, 36.73it/s]\n",
      "8it [00:00, 30.62it/s]\n"
     ]
    },
    {
     "name": "stdout",
     "output_type": "stream",
     "text": [
      "mode: meta_val, episode:  552, total_val_loss: 0.175719, \n",
      "val_mean_iou:{'redshank': 0.7516689967724031,\n",
      "'remote_control': 0.6074436180011069,\n",
      "'sarong': 0.5737336932680163,\n",
      "'seal': 0.8443630313638291,\n",
      "'sock': 0.6763546417613329}\n",
      "\n",
      "Episode: 552, Episode Time: 0.067 minutes\n"
     ]
    },
    {
     "name": "stderr",
     "output_type": "stream",
     "text": [
      "8it [00:00, 29.68it/s]\n",
      "8it [00:00, 29.28it/s]\n",
      "8it [00:00, 31.65it/s]\n",
      "8it [00:00, 26.56it/s]\n",
      "8it [00:00, 30.19it/s]\n"
     ]
    },
    {
     "name": "stdout",
     "output_type": "stream",
     "text": [
      "mode: meta_val, episode:  553, total_val_loss: 0.305321, \n",
      "val_mean_iou:{'oyster': 0.6579321094630206,\n",
      "'pizza': 0.77903668824996,\n",
      "'pubg_lvl3backpack': 0.5838404809561724,\n",
      "'radio_telescope': 0.8207908965502148,\n",
      "'seatbelt': 0.06150862851025559}\n",
      "\n",
      "Episode: 553, Episode Time: 0.064 minutes\n"
     ]
    },
    {
     "name": "stderr",
     "output_type": "stream",
     "text": [
      "8it [00:00, 29.62it/s]\n",
      "8it [00:00, 28.98it/s]\n",
      "8it [00:00, 31.55it/s]\n",
      "8it [00:00, 30.15it/s]\n",
      "8it [00:00, 30.72it/s]\n"
     ]
    },
    {
     "name": "stdout",
     "output_type": "stream",
     "text": [
      "mode: meta_val, episode:  554, total_val_loss: 0.317552, \n",
      "val_mean_iou:{'paddle': 0.760531718592355,\n",
      "'parallel_bars': 0.29155584298811366,\n",
      "'pay_phone': 0.5713014557994028,\n",
      "'pubg_airdrop': 0.69972602600302,\n",
      "'shift_gear': 0.4396454452312629}\n",
      "\n",
      "Episode: 554, Episode Time: 0.063 minutes\n"
     ]
    },
    {
     "name": "stderr",
     "output_type": "stream",
     "text": [
      "8it [00:00, 27.66it/s]\n",
      "8it [00:00, 30.53it/s]\n",
      "8it [00:00, 31.51it/s]\n",
      "8it [00:00, 30.84it/s]\n",
      "8it [00:00, 28.08it/s]\n"
     ]
    },
    {
     "name": "stdout",
     "output_type": "stream",
     "text": [
      "mode: meta_val, episode:  555, total_val_loss: 0.265960, \n",
      "val_mean_iou:{'oyster': 0.6796030169641452,\n",
      "'potato_chips': 0.708078753992139,\n",
      "'saltshaker': 0.861210579939075,\n",
      "'scabbard': 0.3834340933775906,\n",
      "'siamese_cat': 0.8130452865589013}\n",
      "\n",
      "Episode: 555, Episode Time: 0.064 minutes\n"
     ]
    },
    {
     "name": "stderr",
     "output_type": "stream",
     "text": [
      "8it [00:00, 30.08it/s]\n",
      "8it [00:00, 31.45it/s]\n",
      "8it [00:00, 31.33it/s]\n",
      "8it [00:00, 30.79it/s]\n",
      "8it [00:00, 31.80it/s]\n"
     ]
    },
    {
     "name": "stdout",
     "output_type": "stream",
     "text": [
      "mode: meta_val, episode:  556, total_val_loss: 0.233780, \n",
      "val_mean_iou:{'peacock': 0.7571524474540826,\n",
      "'pinecone': 0.9096775945684207,\n",
      "'rice_cooker': 0.6710412743083418,\n",
      "'sandbar': 0.3366840437821148,\n",
      "'sock': 0.7532983326431995}\n",
      "\n",
      "Episode: 556, Episode Time: 0.063 minutes\n"
     ]
    },
    {
     "name": "stderr",
     "output_type": "stream",
     "text": [
      "8it [00:00, 28.27it/s]\n",
      "8it [00:00, 31.62it/s]\n",
      "8it [00:00, 30.94it/s]\n",
      "8it [00:00, 30.45it/s]\n",
      "8it [00:00, 30.71it/s]\n"
     ]
    },
    {
     "name": "stdout",
     "output_type": "stream",
     "text": [
      "mode: meta_val, episode:  557, total_val_loss: 0.177702, \n",
      "val_mean_iou:{'ostrich': 0.7897343740421152,\n",
      "'pinwheel': 0.6761337632289983,\n",
      "'redshank': 0.7390712613145978,\n",
      "'running_shoe': 0.6126337131011732,\n",
      "'shower_cap': 0.47437466569943737}\n",
      "\n",
      "Episode: 557, Episode Time: 0.064 minutes\n"
     ]
    },
    {
     "name": "stderr",
     "output_type": "stream",
     "text": [
      "8it [00:00, 32.29it/s]\n",
      "8it [00:00, 30.89it/s]\n",
      "8it [00:00, 29.92it/s]\n",
      "8it [00:00, 30.66it/s]\n",
      "8it [00:00, 29.68it/s]\n"
     ]
    },
    {
     "name": "stdout",
     "output_type": "stream",
     "text": [
      "mode: meta_val, episode:  558, total_val_loss: 0.208976, \n",
      "val_mean_iou:{'pay_phone': 0.5728047437272905,\n",
      "'pear': 0.8092595106743492,\n",
      "'radio_telescope': 0.8354405782202797,\n",
      "'sandal': 0.6406948131435073,\n",
      "'shovel': 0.5387217985190693}\n",
      "\n",
      "Episode: 558, Episode Time: 0.064 minutes\n"
     ]
    },
    {
     "name": "stderr",
     "output_type": "stream",
     "text": [
      "38it [00:00, 39.78it/s]\n",
      "8it [00:00, 29.21it/s]\n",
      "8it [00:00, 31.26it/s]\n",
      "8it [00:00, 30.45it/s]\n",
      "8it [00:00, 32.39it/s]\n"
     ]
    },
    {
     "name": "stdout",
     "output_type": "stream",
     "text": [
      "mode: meta_val, episode:  559, total_val_loss: 0.115722, \n",
      "val_mean_iou:{'paint_brush': 0.7259323879837426,\n",
      "'peregine_falcon': 0.9076201967986793,\n",
      "'phonograph': 0.7693927361737015,\n",
      "'raft': 0.7710706684589821,\n",
      "'ringlet_butterfly': 0.9394395221342109}\n",
      "\n",
      "Episode: 559, Episode Time: 0.075 minutes\n"
     ]
    },
    {
     "name": "stderr",
     "output_type": "stream",
     "text": [
      "8it [00:00, 29.44it/s]\n",
      "8it [00:00, 28.21it/s]\n",
      "8it [00:00, 31.86it/s]\n",
      "8it [00:00, 29.03it/s]\n",
      "8it [00:00, 31.55it/s]\n"
     ]
    },
    {
     "name": "stdout",
     "output_type": "stream",
     "text": [
      "mode: meta_val, episode:  560, total_val_loss: 0.141157, \n",
      "val_mean_iou:{'pinwheel': 0.72738467141905,\n",
      "'plaice': 0.8489777150860442,\n",
      "'pokermon_ball': 0.7911235905841313,\n",
      "'pumpkin_pie': 0.884080579205727,\n",
      "'soccer_ball': 0.5235130001454777}\n",
      "\n",
      "Episode: 560, Episode Time: 0.064 minutes\n"
     ]
    },
    {
     "name": "stderr",
     "output_type": "stream",
     "text": [
      "8it [00:00, 29.09it/s]\n",
      "8it [00:00, 30.90it/s]\n",
      "8it [00:00, 30.65it/s]\n",
      "8it [00:00, 30.56it/s]\n",
      "8it [00:00, 30.38it/s]\n"
     ]
    },
    {
     "name": "stdout",
     "output_type": "stream",
     "text": [
      "mode: meta_val, episode:  561, total_val_loss: 0.178681, \n",
      "val_mean_iou:{'parthenon': 0.7366140016411906,\n",
      "'ptarmigan': 0.8732850706463002,\n",
      "'quad_drone': 0.6900235698762657,\n",
      "'sidewinder': 0.7392451289662414,\n",
      "'skua': 0.8702707595772051}\n",
      "\n",
      "Episode: 561, Episode Time: 0.064 minutes\n"
     ]
    },
    {
     "name": "stderr",
     "output_type": "stream",
     "text": [
      "8it [00:00, 29.29it/s]\n",
      "8it [00:00, 30.97it/s]\n",
      "8it [00:00, 31.37it/s]\n",
      "8it [00:00, 30.59it/s]\n",
      "8it [00:00, 28.78it/s]\n"
     ]
    },
    {
     "name": "stdout",
     "output_type": "stream",
     "text": [
      "mode: meta_val, episode:  562, total_val_loss: 0.268040, \n",
      "val_mean_iou:{'pepitas': 0.7666782727467789,\n",
      "'power_drill': 0.6876608070594407,\n",
      "'punching_bag': 0.5082231376223315,\n",
      "'rocking_chair': 0.7405561523211787,\n",
      "'sleeping_bag': 0.7031484653680506}\n",
      "\n",
      "Episode: 562, Episode Time: 0.063 minutes\n"
     ]
    },
    {
     "name": "stderr",
     "output_type": "stream",
     "text": [
      "8it [00:00, 28.74it/s]\n",
      "8it [00:00, 30.08it/s]\n",
      "8it [00:00, 31.09it/s]\n",
      "8it [00:00, 31.79it/s]\n",
      "8it [00:00, 31.50it/s]\n"
     ]
    },
    {
     "name": "stdout",
     "output_type": "stream",
     "text": [
      "mode: meta_val, episode:  563, total_val_loss: 0.218699, \n",
      "val_mean_iou:{'paper_crane': 0.781269431583206,\n",
      "'parallel_bars': 0.30420931902628945,\n",
      "'polo_shirt': 0.5953103256536867,\n",
      "'scroll_brush': 0.8323091368720504,\n",
      "'smoothing_iron': 0.7836869915432847}\n",
      "\n",
      "Episode: 563, Episode Time: 0.064 minutes\n"
     ]
    },
    {
     "name": "stderr",
     "output_type": "stream",
     "text": [
      "8it [00:00, 29.69it/s]\n",
      "8it [00:00, 29.82it/s]\n",
      "28it [00:00, 40.72it/s]\n",
      "8it [00:00, 32.06it/s]\n",
      "8it [00:00, 30.64it/s]\n"
     ]
    },
    {
     "name": "stdout",
     "output_type": "stream",
     "text": [
      "mode: meta_val, episode:  564, total_val_loss: 0.219200, \n",
      "val_mean_iou:{'panda': 0.7962525517623694,\n",
      "'plastic_bag': 0.7322018673753717,\n",
      "'pubg_lvl3backpack': 0.49191997203971566,\n",
      "'raccoon': 0.8833173165202335,\n",
      "'rocket': 0.48030571683009227}\n",
      "\n",
      "Episode: 564, Episode Time: 0.071 minutes\n"
     ]
    },
    {
     "name": "stderr",
     "output_type": "stream",
     "text": [
      "8it [00:00, 29.88it/s]\n",
      "8it [00:00, 32.34it/s]\n",
      "8it [00:00, 31.50it/s]\n",
      "8it [00:00, 30.56it/s]\n",
      "8it [00:00, 31.00it/s]\n"
     ]
    },
    {
     "name": "stdout",
     "output_type": "stream",
     "text": [
      "mode: meta_val, episode:  565, total_val_loss: 0.152330, \n",
      "val_mean_iou:{'proboscis': 0.8222536959019109,\n",
      "'redshank': 0.7390008502536369,\n",
      "'saltshaker': 0.9012294719473847,\n",
      "'shotgun': 0.46816329454573846,\n",
      "'shuriken': 0.5855441173372382}\n",
      "\n",
      "Episode: 565, Episode Time: 0.063 minutes\n"
     ]
    },
    {
     "name": "stderr",
     "output_type": "stream",
     "text": [
      "8it [00:00, 27.07it/s]\n",
      "8it [00:00, 32.19it/s]\n",
      "8it [00:00, 30.47it/s]\n",
      "8it [00:00, 29.84it/s]\n",
      "8it [00:00, 30.04it/s]\n"
     ]
    },
    {
     "name": "stdout",
     "output_type": "stream",
     "text": [
      "mode: meta_val, episode:  566, total_val_loss: 0.371086, \n",
      "val_mean_iou:{'parking_meter': 0.7659141993490094,\n",
      "'piano_keyboard': 0.4792441238285281,\n",
      "'pinecone': 0.8801538667113777,\n",
      "'quill_pen': 0.382857414926121,\n",
      "'rice_cooker': 0.7476930431471402}\n",
      "\n",
      "Episode: 566, Episode Time: 0.064 minutes\n"
     ]
    },
    {
     "name": "stderr",
     "output_type": "stream",
     "text": [
      "8it [00:00, 30.08it/s]\n",
      "8it [00:00, 32.36it/s]\n",
      "8it [00:00, 28.73it/s]\n",
      "18it [00:00, 36.29it/s]\n",
      "8it [00:00, 29.76it/s]\n"
     ]
    },
    {
     "name": "stdout",
     "output_type": "stream",
     "text": [
      "mode: meta_val, episode:  567, total_val_loss: 0.168390, \n",
      "val_mean_iou:{'patas': 0.7893058885005286,\n",
      "'pomelo': 0.798530368552442,\n",
      "'razor': 0.6535919791767685,\n",
      "'refrigerator': 0.6560531036822137,\n",
      "'ruddy_turnstone': 0.8051050968580791}\n",
      "\n",
      "Episode: 567, Episode Time: 0.068 minutes\n"
     ]
    },
    {
     "name": "stderr",
     "output_type": "stream",
     "text": [
      "128it [00:02, 42.78it/s]\n",
      "8it [00:00, 31.03it/s]\n",
      "8it [00:00, 30.44it/s]\n",
      "18it [00:00, 37.16it/s]\n",
      "8it [00:00, 31.16it/s]\n"
     ]
    },
    {
     "name": "stdout",
     "output_type": "stream",
     "text": [
      "mode: meta_val, episode:  568, total_val_loss: 0.166528, \n",
      "val_mean_iou:{'ox': 0.8174569889036023,\n",
      "'pickelhaube': 0.7782584692938616,\n",
      "'pumpkin_pie': 0.8798839172603709,\n",
      "'scroll_brush': 0.7436657263552306,\n",
      "'sled': 0.6213322805340963}\n",
      "\n",
      "Episode: 568, Episode Time: 0.112 minutes\n"
     ]
    },
    {
     "name": "stderr",
     "output_type": "stream",
     "text": [
      "8it [00:00, 31.57it/s]\n",
      "8it [00:00, 32.20it/s]\n",
      "8it [00:00, 30.83it/s]\n",
      "8it [00:00, 30.39it/s]\n",
      "8it [00:00, 29.42it/s]\n"
     ]
    },
    {
     "name": "stdout",
     "output_type": "stream",
     "text": [
      "mode: meta_val, episode:  569, total_val_loss: 0.278773, \n",
      "val_mean_iou:{'panpipe': 0.6350522883446075,\n",
      "'paper_crane': 0.7654863138206581,\n",
      "'seatbelt': 0.059087527488773176,\n",
      "'shower_cap': 0.5762971180408205,\n",
      "'shumai': 0.6320572664781995}\n",
      "\n",
      "Episode: 569, Episode Time: 0.063 minutes\n"
     ]
    },
    {
     "name": "stderr",
     "output_type": "stream",
     "text": [
      "8it [00:00, 28.87it/s]\n",
      "8it [00:00, 32.47it/s]\n",
      "8it [00:00, 31.00it/s]\n",
      "8it [00:00, 30.27it/s]\n",
      "8it [00:00, 30.08it/s]\n"
     ]
    },
    {
     "name": "stdout",
     "output_type": "stream",
     "text": [
      "mode: meta_val, episode:  570, total_val_loss: 0.225333, \n",
      "val_mean_iou:{'pingpong_racket': 0.6778452352088147,\n",
      "'potato_chips': 0.7453594366277898,\n",
      "'quail_egg': 0.7511119196322258,\n",
      "'samarra_mosque': 0.6593503093589096,\n",
      "'sniper_rifle': 0.66892112013622}\n",
      "\n",
      "Episode: 570, Episode Time: 0.063 minutes\n"
     ]
    },
    {
     "name": "stderr",
     "output_type": "stream",
     "text": [
      "8it [00:00, 29.59it/s]\n",
      "8it [00:00, 28.79it/s]\n",
      "8it [00:00, 29.91it/s]\n",
      "8it [00:00, 28.18it/s]\n",
      "8it [00:00, 30.03it/s]\n"
     ]
    },
    {
     "name": "stdout",
     "output_type": "stream",
     "text": [
      "mode: meta_val, episode:  571, total_val_loss: 0.176908, \n",
      "val_mean_iou:{'peregine_falcon': 0.7784759050871324,\n",
      "'pteropus': 0.8462085798115966,\n",
      "'ruddy_turnstone': 0.7831923773097837,\n",
      "'scroll_brush': 0.770090820622714,\n",
      "'sea_cucumber': 0.7921732782744302}\n",
      "\n",
      "Episode: 571, Episode Time: 0.064 minutes\n"
     ]
    },
    {
     "name": "stderr",
     "output_type": "stream",
     "text": [
      "8it [00:00, 30.43it/s]\n",
      "8it [00:00, 28.54it/s]\n",
      "8it [00:00, 30.25it/s]\n",
      "88it [00:01, 44.23it/s]\n",
      "8it [00:00, 30.88it/s]\n"
     ]
    },
    {
     "name": "stdout",
     "output_type": "stream",
     "text": [
      "mode: meta_val, episode:  572, total_val_loss: 0.159859, \n",
      "val_mean_iou:{'pen': 0.693004367259274,\n",
      "'peregine_falcon': 0.876886599496813,\n",
      "'rocking_chair': 0.6959337157741199,\n",
      "'scroll_brush': 0.8037149131269898,\n",
      "'siamese_cat': 0.7516012133993751}\n",
      "\n",
      "Episode: 572, Episode Time: 0.093 minutes\n"
     ]
    },
    {
     "name": "stderr",
     "output_type": "stream",
     "text": [
      "8it [00:00, 29.76it/s]\n",
      "38it [00:00, 40.88it/s]\n",
      "8it [00:00, 31.65it/s]\n",
      "8it [00:00, 32.43it/s]\n",
      "18it [00:00, 38.43it/s]\n"
     ]
    },
    {
     "name": "stdout",
     "output_type": "stream",
     "text": [
      "mode: meta_val, episode:  573, total_val_loss: 0.162056, \n",
      "val_mean_iou:{'pencil_sharpener2': 0.7154078546027051,\n",
      "'raft': 0.7558068993018467,\n",
      "'razor': 0.6884207688710364,\n",
      "'reflex_camera': 0.7511372847238991,\n",
      "'samarra_mosque': 0.7310174650415212}\n",
      "\n",
      "Episode: 573, Episode Time: 0.078 minutes\n"
     ]
    },
    {
     "name": "stderr",
     "output_type": "stream",
     "text": [
      "8it [00:00, 31.14it/s]\n",
      "8it [00:00, 31.22it/s]\n",
      "8it [00:00, 31.76it/s]\n",
      "18it [00:00, 34.11it/s]\n",
      "8it [00:00, 30.98it/s]\n"
     ]
    },
    {
     "name": "stdout",
     "output_type": "stream",
     "text": [
      "mode: meta_val, episode:  574, total_val_loss: 0.222615, \n",
      "val_mean_iou:{'oyster': 0.7014726395872479,\n",
      "'partridge': 0.837221158301326,\n",
      "'pokermon_ball': 0.7796975487003925,\n",
      "'sled': 0.607748439525412,\n",
      "'sniper_rifle': 0.6118449364604808}\n",
      "\n",
      "Episode: 574, Episode Time: 0.067 minutes\n"
     ]
    },
    {
     "name": "stderr",
     "output_type": "stream",
     "text": [
      "8it [00:00, 32.89it/s]\n",
      "8it [00:00, 30.40it/s]\n",
      "8it [00:00, 30.85it/s]\n",
      "8it [00:00, 32.10it/s]\n",
      "8it [00:00, 31.06it/s]\n"
     ]
    },
    {
     "name": "stdout",
     "output_type": "stream",
     "text": [
      "mode: meta_val, episode:  575, total_val_loss: 0.282557, \n",
      "val_mean_iou:{'perfume': 0.737221506595731,\n",
      "'persimmon': 0.7567028774527491,\n",
      "'pspgo': 0.5848293321627971,\n",
      "'saxophone': 0.5624379064057161,\n",
      "'shih-tzu': 0.8126906556613697}\n",
      "\n",
      "Episode: 575, Episode Time: 0.063 minutes\n"
     ]
    },
    {
     "name": "stderr",
     "output_type": "stream",
     "text": [
      "8it [00:00, 35.52it/s]\n",
      "8it [00:00, 29.92it/s]\n",
      "8it [00:00, 26.76it/s]\n",
      "18it [00:00, 36.25it/s]\n",
      "8it [00:00, 29.20it/s]\n"
     ]
    },
    {
     "name": "stdout",
     "output_type": "stream",
     "text": [
      "mode: meta_val, episode:  576, total_val_loss: 0.120295, \n",
      "val_mean_iou:{'pinwheel': 0.7034332942392043,\n",
      "'pumpkin': 0.8943103721647224,\n",
      "'rocket': 0.6017521868834071,\n",
      "'sea_urchin': 0.7311840526784131,\n",
      "'skua': 0.8722443571370435}\n",
      "\n",
      "Episode: 576, Episode Time: 0.069 minutes\n"
     ]
    },
    {
     "name": "stderr",
     "output_type": "stream",
     "text": [
      "8it [00:00, 30.69it/s]\n",
      "8it [00:00, 28.81it/s]\n",
      "8it [00:00, 31.33it/s]\n",
      "8it [00:00, 30.83it/s]\n",
      "18it [00:00, 35.45it/s]\n"
     ]
    },
    {
     "name": "stdout",
     "output_type": "stream",
     "text": [
      "mode: meta_val, episode:  577, total_val_loss: 0.183822, \n",
      "val_mean_iou:{'ostrich': 0.8139495154498456,\n",
      "'paddle': 0.7638077926112236,\n",
      "'snowplow': 0.8188900145081552,\n",
      "'soap': 0.6875257251622355,\n",
      "'sock': 0.7259547125109815}\n",
      "\n",
      "Episode: 577, Episode Time: 0.069 minutes\n"
     ]
    },
    {
     "name": "stderr",
     "output_type": "stream",
     "text": [
      "18it [00:00, 36.15it/s]\n",
      "8it [00:00, 31.02it/s]\n",
      "28it [00:00, 39.16it/s]\n",
      "128it [00:03, 42.50it/s]\n",
      "8it [00:00, 31.06it/s]\n"
     ]
    },
    {
     "name": "stdout",
     "output_type": "stream",
     "text": [
      "mode: meta_val, episode:  578, total_val_loss: 0.156997, \n",
      "val_mean_iou:{'ox': 0.829853422574925,\n",
      "'panda': 0.7755085390024696,\n",
      "'poker': 0.8066211797013879,\n",
      "'skua': 0.8687802351950717,\n",
      "'smoothing_iron': 0.7898513759555104}\n",
      "\n",
      "Episode: 578, Episode Time: 0.121 minutes\n"
     ]
    },
    {
     "name": "stderr",
     "output_type": "stream",
     "text": [
      "8it [00:00, 27.55it/s]\n",
      "8it [00:00, 31.98it/s]\n",
      "8it [00:00, 31.16it/s]\n",
      "8it [00:00, 31.05it/s]\n",
      "8it [00:00, 31.03it/s]\n"
     ]
    },
    {
     "name": "stdout",
     "output_type": "stream",
     "text": [
      "mode: meta_val, episode:  579, total_val_loss: 0.251353, \n",
      "val_mean_iou:{'park_bench': 0.5632392359248376,\n",
      "'pidan': 0.7641619000076694,\n",
      "'pokermon_ball': 0.8212170007432114,\n",
      "'polo_shirt': 0.5685426686694611,\n",
      "'radiator': 0.6155098625571169}\n",
      "\n",
      "Episode: 579, Episode Time: 0.064 minutes\n"
     ]
    },
    {
     "name": "stderr",
     "output_type": "stream",
     "text": [
      "8it [00:00, 30.92it/s]\n",
      "8it [00:00, 29.09it/s]\n",
      "8it [00:00, 29.97it/s]\n",
      "28it [00:00, 40.56it/s]\n",
      "18it [00:00, 36.53it/s]\n"
     ]
    },
    {
     "name": "stdout",
     "output_type": "stream",
     "text": [
      "mode: meta_val, episode:  580, total_val_loss: 0.303659, \n",
      "val_mean_iou:{'pidan': 0.8308456046851624,\n",
      "'polecat': 0.8204724305621571,\n",
      "'potato': 0.7574036358951132,\n",
      "'screw': 0.6424310550575731,\n",
      "'shower_curtain': 0.6011674960235769}\n",
      "\n",
      "Episode: 580, Episode Time: 0.075 minutes\n"
     ]
    },
    {
     "name": "stderr",
     "output_type": "stream",
     "text": [
      "8it [00:00, 27.33it/s]\n",
      "8it [00:00, 29.58it/s]\n",
      "8it [00:00, 30.30it/s]\n",
      "8it [00:00, 31.71it/s]\n",
      "8it [00:00, 31.00it/s]\n"
     ]
    },
    {
     "name": "stdout",
     "output_type": "stream",
     "text": [
      "mode: meta_val, episode:  581, total_val_loss: 0.171905, \n",
      "val_mean_iou:{'peregine_falcon': 0.7969273865786141,\n",
      "'pickup': 0.8865605150220766,\n",
      "'polar_bear': 0.8683456649859214,\n",
      "'porcupine': 0.8279743323893289,\n",
      "'raccoon': 0.8663023333763271}\n",
      "\n",
      "Episode: 581, Episode Time: 0.064 minutes\n"
     ]
    },
    {
     "name": "stderr",
     "output_type": "stream",
     "text": [
      "8it [00:00, 31.04it/s]\n",
      "8it [00:00, 30.27it/s]\n",
      "8it [00:00, 29.93it/s]\n",
      "88it [00:02, 43.34it/s]\n",
      "18it [00:00, 37.80it/s]\n"
     ]
    },
    {
     "name": "stdout",
     "output_type": "stream",
     "text": [
      "mode: meta_val, episode:  582, total_val_loss: 0.148319, \n",
      "val_mean_iou:{'pen': 0.6883867717329002,\n",
      "'pill_bottle': 0.8457256973593703,\n",
      "'pinecone': 0.834841285770966,\n",
      "'rose': 0.6421307512175816,\n",
      "'rubber_eraser': 0.7258980568217432}\n",
      "\n",
      "Episode: 582, Episode Time: 0.097 minutes\n"
     ]
    },
    {
     "name": "stderr",
     "output_type": "stream",
     "text": [
      "8it [00:00, 29.78it/s]\n",
      "18it [00:00, 35.48it/s]\n",
      "8it [00:00, 29.80it/s]\n",
      "8it [00:00, 30.18it/s]\n",
      "8it [00:00, 32.13it/s]\n"
     ]
    },
    {
     "name": "stdout",
     "output_type": "stream",
     "text": [
      "mode: meta_val, episode:  583, total_val_loss: 0.236790, \n",
      "val_mean_iou:{'partridge': 0.7558880393673822,\n",
      "'quail_egg': 0.7677348375384012,\n",
      "'shakuhachi': 0.44466416594305913,\n",
      "'shumai': 0.7071901170115367,\n",
      "'sled': 0.6170206965955626}\n",
      "\n",
      "Episode: 583, Episode Time: 0.068 minutes\n"
     ]
    },
    {
     "name": "stderr",
     "output_type": "stream",
     "text": [
      "8it [00:00, 30.55it/s]\n",
      "8it [00:00, 30.97it/s]\n",
      "8it [00:00, 29.88it/s]\n",
      "8it [00:00, 31.17it/s]\n",
      "8it [00:00, 30.69it/s]\n"
     ]
    },
    {
     "name": "stdout",
     "output_type": "stream",
     "text": [
      "mode: meta_val, episode:  584, total_val_loss: 0.143178, \n",
      "val_mean_iou:{'persian_cat': 0.8613972936303345,\n",
      "'pidan': 0.8194765795019097,\n",
      "'pokermon_ball': 0.889825404882346,\n",
      "'polar_bear': 0.8618792234514713,\n",
      "'saluki': 0.7077276197615332}\n",
      "\n",
      "Episode: 584, Episode Time: 0.063 minutes\n"
     ]
    },
    {
     "name": "stderr",
     "output_type": "stream",
     "text": [
      "8it [00:00, 29.53it/s]\n",
      "8it [00:00, 31.31it/s]\n",
      "18it [00:00, 37.13it/s]\n",
      "8it [00:00, 31.38it/s]\n",
      "8it [00:00, 30.34it/s]\n"
     ]
    },
    {
     "name": "stdout",
     "output_type": "stream",
     "text": [
      "mode: meta_val, episode:  585, total_val_loss: 0.176802, \n",
      "val_mean_iou:{'persimmon': 0.8039326734490244,\n",
      "'rosehip': 0.5385638187477058,\n",
      "'santa_sledge': 0.5569913625587489,\n",
      "'seal': 0.8585942800928028,\n",
      "'sock': 0.7524464540360374}\n",
      "\n",
      "Episode: 585, Episode Time: 0.067 minutes\n"
     ]
    },
    {
     "name": "stderr",
     "output_type": "stream",
     "text": [
      "18it [00:00, 38.34it/s]\n",
      "8it [00:00, 29.76it/s]\n",
      "8it [00:00, 28.54it/s]\n",
      "8it [00:00, 31.01it/s]\n",
      "8it [00:00, 31.41it/s]\n"
     ]
    },
    {
     "name": "stdout",
     "output_type": "stream",
     "text": [
      "mode: meta_val, episode:  586, total_val_loss: 0.193789, \n",
      "val_mean_iou:{'radiator': 0.7053136731129799,\n",
      "'razor': 0.6337213777753905,\n",
      "'rugby_ball': 0.6382774526815727,\n",
      "'schooner': 0.6776805688152846,\n",
      "'skull': 0.9033230561704866}\n",
      "\n",
      "Episode: 586, Episode Time: 0.067 minutes\n"
     ]
    },
    {
     "name": "stderr",
     "output_type": "stream",
     "text": [
      "8it [00:00, 30.55it/s]\n",
      "8it [00:00, 28.97it/s]\n",
      "8it [00:00, 28.72it/s]\n",
      "38it [00:00, 40.39it/s]\n",
      "8it [00:00, 31.26it/s]\n"
     ]
    },
    {
     "name": "stdout",
     "output_type": "stream",
     "text": [
      "mode: meta_val, episode:  587, total_val_loss: 0.203866, \n",
      "val_mean_iou:{'phonograph': 0.7922259438444322,\n",
      "'pidan': 0.799589905999398,\n",
      "'quill_pen': 0.5251620247889255,\n",
      "'raft': 0.7602802232633721,\n",
      "'shopping_cart': 0.7392196570112374}\n",
      "\n",
      "Episode: 587, Episode Time: 0.076 minutes\n"
     ]
    },
    {
     "name": "stderr",
     "output_type": "stream",
     "text": [
      "28it [00:00, 39.07it/s]\n",
      "8it [00:00, 30.98it/s]\n",
      "8it [00:00, 30.39it/s]\n",
      "8it [00:00, 31.26it/s]\n",
      "8it [00:00, 31.36it/s]\n"
     ]
    },
    {
     "name": "stdout",
     "output_type": "stream",
     "text": [
      "mode: meta_val, episode:  588, total_val_loss: 0.128636, \n",
      "val_mean_iou:{'paper_crane': 0.7431121445933493,\n",
      "'pheasant': 0.8905027902456308,\n",
      "'pyramid': 0.7399868207651004,\n",
      "'scissors': 0.5586741729996523,\n",
      "'skunk': 0.8806636134617735}\n",
      "\n",
      "Episode: 588, Episode Time: 0.072 minutes\n"
     ]
    },
    {
     "name": "stderr",
     "output_type": "stream",
     "text": [
      "8it [00:00, 30.67it/s]\n",
      "8it [00:00, 30.72it/s]\n",
      "8it [00:00, 29.84it/s]\n",
      "8it [00:00, 30.82it/s]\n",
      "8it [00:00, 31.75it/s]\n"
     ]
    },
    {
     "name": "stdout",
     "output_type": "stream",
     "text": [
      "mode: meta_val, episode:  589, total_val_loss: 0.460873, \n",
      "val_mean_iou:{'pomegranate': 0.8442683268622295,\n",
      "'pyramid_cube': 0.8146863123118668,\n",
      "'remote_control': 0.6535489489376941,\n",
      "'shower_curtain': 0.6260379889729549,\n",
      "'single_log': 0.23930958347833764}\n",
      "\n",
      "Episode: 589, Episode Time: 0.063 minutes\n"
     ]
    },
    {
     "name": "stderr",
     "output_type": "stream",
     "text": [
      "8it [00:00, 29.18it/s]\n",
      "8it [00:00, 30.98it/s]\n",
      "8it [00:00, 30.93it/s]\n",
      "8it [00:00, 30.47it/s]\n",
      "8it [00:00, 30.73it/s]\n"
     ]
    },
    {
     "name": "stdout",
     "output_type": "stream",
     "text": [
      "mode: meta_val, episode:  590, total_val_loss: 0.239529, \n",
      "val_mean_iou:{'pencil_box': 0.8416008599401834,\n",
      "'pill_bottle': 0.8307971022972924,\n",
      "'redshank': 0.7101087538840434,\n",
      "'refrigerator': 0.552849874714247,\n",
      "'scarerow': 0.5623001074502862}\n",
      "\n",
      "Episode: 590, Episode Time: 0.063 minutes\n"
     ]
    },
    {
     "name": "stderr",
     "output_type": "stream",
     "text": [
      "8it [00:00, 29.82it/s]\n",
      "8it [00:00, 30.90it/s]\n",
      "8it [00:00, 30.04it/s]\n",
      "8it [00:00, 28.14it/s]\n",
      "8it [00:00, 30.23it/s]\n"
     ]
    },
    {
     "name": "stdout",
     "output_type": "stream",
     "text": [
      "mode: meta_val, episode:  591, total_val_loss: 0.201226, \n",
      "val_mean_iou:{'park_bench': 0.6869959960879283,\n",
      "'peacock': 0.7664822087612799,\n",
      "'pistachio': 0.7721266857390146,\n",
      "'rock_beauty': 0.8264239301246893,\n",
      "'roller_coaster': 0.5591430344536041}\n",
      "\n",
      "Episode: 591, Episode Time: 0.064 minutes\n"
     ]
    },
    {
     "name": "stderr",
     "output_type": "stream",
     "text": [
      "8it [00:00, 32.40it/s]\n",
      "8it [00:00, 31.49it/s]\n",
      "8it [00:00, 30.96it/s]\n",
      "8it [00:00, 29.36it/s]\n",
      "8it [00:00, 32.08it/s]\n"
     ]
    },
    {
     "name": "stdout",
     "output_type": "stream",
     "text": [
      "mode: meta_val, episode:  592, total_val_loss: 0.263995, \n",
      "val_mean_iou:{'parachute': 0.7751294239420835,\n",
      "'polo_shirt': 0.5908812362996787,\n",
      "'pomelo': 0.760834402605651,\n",
      "'potato_chips': 0.6666913603464008,\n",
      "'sleeping_bag': 0.7620133808084862}\n",
      "\n",
      "Episode: 592, Episode Time: 0.064 minutes\n"
     ]
    },
    {
     "name": "stderr",
     "output_type": "stream",
     "text": [
      "8it [00:00, 30.85it/s]\n",
      "8it [00:00, 29.91it/s]\n",
      "8it [00:00, 29.66it/s]\n",
      "8it [00:00, 30.21it/s]\n",
      "8it [00:00, 30.32it/s]\n"
     ]
    },
    {
     "name": "stdout",
     "output_type": "stream",
     "text": [
      "mode: meta_val, episode:  593, total_val_loss: 0.239128, \n",
      "val_mean_iou:{'parallel_bars': 0.3002102146116805,\n",
      "'plate': 0.8802764161802881,\n",
      "'recreational_vehicle': 0.8805514935446085,\n",
      "'santa_sledge': 0.5693450519588761,\n",
      "'snowball': 0.5418357582001965}\n",
      "\n",
      "Episode: 593, Episode Time: 0.063 minutes\n"
     ]
    },
    {
     "name": "stderr",
     "output_type": "stream",
     "text": [
      "8it [00:00, 26.98it/s]\n",
      "8it [00:00, 30.17it/s]\n",
      "8it [00:00, 31.69it/s]\n",
      "8it [00:00, 29.48it/s]\n",
      "8it [00:00, 30.51it/s]\n"
     ]
    },
    {
     "name": "stdout",
     "output_type": "stream",
     "text": [
      "mode: meta_val, episode:  594, total_val_loss: 0.301451, \n",
      "val_mean_iou:{'refrigerator': 0.6066617486929282,\n",
      "'rubber_eraser': 0.7065060657924991,\n",
      "'sandbar': 0.36392348593326096,\n",
      "'shopping_cart': 0.8042824658604074,\n",
      "'snowplow': 0.784968880741782}\n",
      "\n",
      "Episode: 594, Episode Time: 0.064 minutes\n"
     ]
    },
    {
     "name": "stderr",
     "output_type": "stream",
     "text": [
      "8it [00:00, 31.14it/s]\n",
      "8it [00:00, 31.58it/s]\n",
      "8it [00:00, 31.39it/s]\n",
      "8it [00:00, 30.48it/s]\n",
      "28it [00:00, 36.80it/s]\n"
     ]
    },
    {
     "name": "stdout",
     "output_type": "stream",
     "text": [
      "mode: meta_val, episode:  595, total_val_loss: 0.190667, \n",
      "val_mean_iou:{'pepitas': 0.7330372980647892,\n",
      "'potato': 0.7552328036829618,\n",
      "'rain_barrel': 0.7164202725904822,\n",
      "'rocking_chair': 0.7713633663425384,\n",
      "'shovel': 0.6492920022007964}\n",
      "\n",
      "Episode: 595, Episode Time: 0.072 minutes\n"
     ]
    },
    {
     "name": "stderr",
     "output_type": "stream",
     "text": [
      "8it [00:00, 27.84it/s]\n",
      "8it [00:00, 31.59it/s]\n",
      "8it [00:00, 29.58it/s]\n",
      "8it [00:00, 28.89it/s]\n",
      "8it [00:00, 29.61it/s]\n"
     ]
    },
    {
     "name": "stdout",
     "output_type": "stream",
     "text": [
      "mode: meta_val, episode:  596, total_val_loss: 0.235938, \n",
      "val_mean_iou:{'paper_towel': 0.49936210910661694,\n",
      "'pickup': 0.9117279779202404,\n",
      "'polecat': 0.8499122544512752,\n",
      "'scabbard': 0.35588251692505557,\n",
      "'shih-tzu': 0.8939166407533272}\n",
      "\n",
      "Episode: 596, Episode Time: 0.064 minutes\n"
     ]
    },
    {
     "name": "stderr",
     "output_type": "stream",
     "text": [
      "18it [00:00, 35.34it/s]\n",
      "8it [00:00, 30.56it/s]\n",
      "8it [00:00, 30.41it/s]\n",
      "8it [00:00, 30.77it/s]\n",
      "8it [00:00, 30.79it/s]\n"
     ]
    },
    {
     "name": "stdout",
     "output_type": "stream",
     "text": [
      "mode: meta_val, episode:  597, total_val_loss: 0.153474, \n",
      "val_mean_iou:{'peanut': 0.7365763564000627,\n",
      "'perfume': 0.7787614110135447,\n",
      "'potted_plant': 0.7314850632439167,\n",
      "'shih-tzu': 0.8682726047785838,\n",
      "'sled': 0.6139038456623217}\n",
      "\n",
      "Episode: 597, Episode Time: 0.067 minutes\n"
     ]
    },
    {
     "name": "stderr",
     "output_type": "stream",
     "text": [
      "8it [00:00, 29.86it/s]\n",
      "8it [00:00, 32.33it/s]\n",
      "8it [00:00, 30.57it/s]\n",
      "8it [00:00, 30.63it/s]\n",
      "8it [00:00, 29.98it/s]\n"
     ]
    },
    {
     "name": "stdout",
     "output_type": "stream",
     "text": [
      "mode: meta_val, episode:  598, total_val_loss: 0.181382, \n",
      "val_mean_iou:{'pineapple': 0.6504460501471374,\n",
      "'pubg_airdrop': 0.6646347952905447,\n",
      "'scorpion': 0.7278106315172631,\n",
      "'sea_cucumber': 0.7895679023378919,\n",
      "'siamang': 0.7611263874015192}\n",
      "\n",
      "Episode: 598, Episode Time: 0.064 minutes\n"
     ]
    },
    {
     "name": "stderr",
     "output_type": "stream",
     "text": [
      "8it [00:00, 30.20it/s]\n",
      "8it [00:00, 31.23it/s]\n",
      "8it [00:00, 31.96it/s]\n",
      "8it [00:00, 29.12it/s]\n",
      "8it [00:00, 31.46it/s]\n"
     ]
    },
    {
     "name": "stdout",
     "output_type": "stream",
     "text": [
      "mode: meta_val, episode:  599, total_val_loss: 0.219305, \n",
      "val_mean_iou:{'porcupine': 0.7767334254964258,\n",
      "'pyraminx': 0.7814046639595962,\n",
      "'remote_control': 0.6769612442445996,\n",
      "'sleeping_bag': 0.7468166394073148,\n",
      "'sloth_bear': 0.8737230380776186}\n",
      "\n",
      "Episode: 599, Episode Time: 0.064 minutes\n"
     ]
    },
    {
     "name": "stderr",
     "output_type": "stream",
     "text": [
      "8it [00:00, 29.76it/s]\n",
      "8it [00:00, 28.91it/s]\n",
      "8it [00:00, 29.48it/s]\n",
      "8it [00:00, 30.48it/s]\n",
      "8it [00:00, 30.84it/s]\n"
     ]
    },
    {
     "name": "stdout",
     "output_type": "stream",
     "text": [
      "mode: meta_val, episode:  600, total_val_loss: 0.279217, \n",
      "val_mean_iou:{'pear': 0.7252517417095926,\n",
      "'platypus': 0.8507735045505571,\n",
      "'pool_table': 0.5839853140051281,\n",
      "'saltshaker': 0.9121291307014412,\n",
      "'shakuhachi': 0.5668766286834634}\n",
      "\n",
      "Episode: 600, Episode Time: 0.064 minutes\n",
      "num tasks: 5\n",
      "tr_imgs shape: torch.Size([5, 2, 224, 224, 3]), tr_masks shape: torch.Size([5, 2, 224, 224]) val_imgs shape: torch.Size([5, 5, 224, 224, 3]), val_masks shape: torch.Size([5, 5, 224, 224])\n"
     ]
    },
    {
     "name": "stderr",
     "output_type": "stream",
     "text": [
      "\r",
      "0it [00:00, ?it/s]"
     ]
    },
    {
     "name": "stdout",
     "output_type": "stream",
     "text": [
      "num tasks: 5\n",
      "tr_imgs shape: torch.Size([5, 2, 224, 224, 3]), tr_masks shape: torch.Size([5, 2, 224, 224]) val_imgs shape: 5 list of paths, val_masks shape: 5 list of paths\n"
     ]
    },
    {
     "name": "stderr",
     "output_type": "stream",
     "text": [
      "8it [00:00, 30.34it/s]\n",
      "8it [00:00, 29.81it/s]\n",
      "8it [00:00, 28.81it/s]\n",
      "128it [00:02, 42.85it/s]\n",
      "8it [00:00, 30.73it/s]\n"
     ]
    },
    {
     "name": "stdout",
     "output_type": "stream",
     "text": [
      "mode: meta_val, episode:  601, total_val_loss: 0.325413, \n",
      "val_mean_iou:{'ox': 0.8269758366398161,\n",
      "'paddle': 0.7543155403543176,\n",
      "'pool_table': 0.5581027274850389,\n",
      "'radiator': 0.6476970937976807,\n",
      "'roller_skate': 0.8547003269966899}\n",
      "\n",
      "Episode: 601, Episode Time: 0.110 minutes\n"
     ]
    },
    {
     "name": "stderr",
     "output_type": "stream",
     "text": [
      "18it [00:00, 37.97it/s]\n",
      "8it [00:00, 31.33it/s]\n",
      "8it [00:00, 31.99it/s]\n",
      "8it [00:00, 30.72it/s]\n",
      "8it [00:00, 30.66it/s]\n"
     ]
    },
    {
     "name": "stdout",
     "output_type": "stream",
     "text": [
      "mode: meta_val, episode:  602, total_val_loss: 0.172021, \n",
      "val_mean_iou:{'pear': 0.7453900181756904,\n",
      "'perfume': 0.7824802578900603,\n",
      "'quill_pen': 0.5132623326653198,\n",
      "'seal': 0.8607421303670396,\n",
      "'snowball': 0.4950386974105148}\n",
      "\n",
      "Episode: 602, Episode Time: 0.067 minutes\n"
     ]
    },
    {
     "name": "stderr",
     "output_type": "stream",
     "text": [
      "8it [00:00, 28.27it/s]\n",
      "8it [00:00, 28.81it/s]\n",
      "8it [00:00, 31.02it/s]\n",
      "8it [00:00, 30.97it/s]\n",
      "8it [00:00, 30.46it/s]\n"
     ]
    },
    {
     "name": "stdout",
     "output_type": "stream",
     "text": [
      "mode: meta_val, episode:  603, total_val_loss: 0.218535, \n",
      "val_mean_iou:{'pizza': 0.828946005324336,\n",
      "'rally_car': 0.9099934857563431,\n",
      "'sandbar': 0.27363296792109654,\n",
      "'smoothing_iron': 0.7815133911526695,\n",
      "'snowplow': 0.7904617929921742}\n",
      "\n",
      "Episode: 603, Episode Time: 0.064 minutes\n"
     ]
    },
    {
     "name": "stderr",
     "output_type": "stream",
     "text": [
      "8it [00:00, 31.29it/s]\n",
      "8it [00:00, 28.38it/s]\n",
      "8it [00:00, 31.45it/s]\n",
      "8it [00:00, 30.80it/s]\n",
      "8it [00:00, 30.73it/s]\n"
     ]
    },
    {
     "name": "stdout",
     "output_type": "stream",
     "text": [
      "mode: meta_val, episode:  604, total_val_loss: 0.225245, \n",
      "val_mean_iou:{'puma_logo': 0.29720856550114827,\n",
      "'ringlet_butterfly': 0.9326105310921309,\n",
      "'saltshaker': 0.8788760136366661,\n",
      "'sealion': 0.9160076660664381,\n",
      "'single_log': 0.2614982528041501}\n",
      "\n",
      "Episode: 604, Episode Time: 0.064 minutes\n"
     ]
    },
    {
     "name": "stderr",
     "output_type": "stream",
     "text": [
      "8it [00:00, 31.37it/s]\n",
      "8it [00:00, 30.99it/s]\n",
      "8it [00:00, 28.53it/s]\n",
      "8it [00:00, 30.89it/s]\n",
      "8it [00:00, 29.81it/s]\n"
     ]
    },
    {
     "name": "stdout",
     "output_type": "stream",
     "text": [
      "mode: meta_val, episode:  605, total_val_loss: 0.238211, \n",
      "val_mean_iou:{'paddle': 0.7789720675388425,\n",
      "'pinwheel': 0.6518322952482947,\n",
      "'pizza': 0.8040334311909141,\n",
      "'sarong': 0.5942323951640083,\n",
      "'solar_dish': 0.834117961428654}\n",
      "\n",
      "Episode: 605, Episode Time: 0.063 minutes\n"
     ]
    },
    {
     "name": "stderr",
     "output_type": "stream",
     "text": [
      "8it [00:00, 28.38it/s]\n",
      "8it [00:00, 31.60it/s]\n",
      "8it [00:00, 31.39it/s]\n",
      "8it [00:00, 29.20it/s]\n",
      "8it [00:00, 30.78it/s]\n"
     ]
    },
    {
     "name": "stdout",
     "output_type": "stream",
     "text": [
      "mode: meta_val, episode:  606, total_val_loss: 0.136192, \n",
      "val_mean_iou:{'panther': 0.8415207517269133,\n",
      "'partridge': 0.773455222514486,\n",
      "'pencil_box': 0.8413248159234404,\n",
      "'reflex_camera': 0.8035331329890552,\n",
      "'soap_dispenser': 0.8569351693677267}\n",
      "\n",
      "Episode: 606, Episode Time: 0.064 minutes\n"
     ]
    },
    {
     "name": "stderr",
     "output_type": "stream",
     "text": [
      "8it [00:00, 30.50it/s]\n",
      "8it [00:00, 31.61it/s]\n",
      "8it [00:00, 31.62it/s]\n",
      "18it [00:00, 37.49it/s]\n",
      "8it [00:00, 30.99it/s]\n"
     ]
    },
    {
     "name": "stdout",
     "output_type": "stream",
     "text": [
      "mode: meta_val, episode:  607, total_val_loss: 0.189649, \n",
      "val_mean_iou:{'parallel_bars': 0.29081853983331124,\n",
      "'pencil_box': 0.8500587452187092,\n",
      "'pig': 0.8691667027857792,\n",
      "'pinwheel': 0.7019892335313224,\n",
      "'polar_bear': 0.8935567595270499}\n",
      "\n",
      "Episode: 607, Episode Time: 0.067 minutes\n"
     ]
    },
    {
     "name": "stderr",
     "output_type": "stream",
     "text": [
      "8it [00:00, 30.63it/s]\n",
      "8it [00:00, 28.90it/s]\n",
      "8it [00:00, 31.87it/s]\n",
      "8it [00:00, 30.38it/s]\n",
      "18it [00:00, 37.07it/s]\n"
     ]
    },
    {
     "name": "stdout",
     "output_type": "stream",
     "text": [
      "mode: meta_val, episode:  608, total_val_loss: 0.208741, \n",
      "val_mean_iou:{'paper_plane': 0.6539342997387549,\n",
      "'patas': 0.7853319419309859,\n",
      "'razor': 0.6053519872247966,\n",
      "'rosehip': 0.5152932029507036,\n",
      "'scabbard': 0.4095133423369102}\n",
      "\n",
      "Episode: 608, Episode Time: 0.068 minutes\n"
     ]
    },
    {
     "name": "stderr",
     "output_type": "stream",
     "text": [
      "8it [00:00, 29.94it/s]\n",
      "8it [00:00, 31.00it/s]\n",
      "8it [00:00, 30.65it/s]\n",
      "8it [00:00, 31.35it/s]\n",
      "8it [00:00, 32.40it/s]\n"
     ]
    },
    {
     "name": "stdout",
     "output_type": "stream",
     "text": [
      "mode: meta_val, episode:  609, total_val_loss: 0.153069, \n",
      "val_mean_iou:{'petri_dish': 0.8312306402389924,\n",
      "'ptarmigan': 0.8617671621917691,\n",
      "'red_bayberry': 0.7288532093066481,\n",
      "'rocket': 0.5395432668109745,\n",
      "'screwdriver': 0.7191658499555863}\n",
      "\n",
      "Episode: 609, Episode Time: 0.063 minutes\n"
     ]
    },
    {
     "name": "stderr",
     "output_type": "stream",
     "text": [
      "8it [00:00, 28.66it/s]\n",
      "8it [00:00, 31.31it/s]\n",
      "8it [00:00, 30.70it/s]\n",
      "8it [00:00, 28.98it/s]\n",
      "8it [00:00, 31.43it/s]\n"
     ]
    },
    {
     "name": "stdout",
     "output_type": "stream",
     "text": [
      "mode: meta_val, episode:  610, total_val_loss: 0.348856, \n",
      "val_mean_iou:{'pear': 0.7214718300580081,\n",
      "'proboscis': 0.8400027212546028,\n",
      "'seatbelt': 0.0723292466713249,\n",
      "'shift_gear': 0.29205818170196396,\n",
      "'shumai': 0.6402569184341445}\n",
      "\n",
      "Episode: 610, Episode Time: 0.063 minutes\n"
     ]
    },
    {
     "name": "stderr",
     "output_type": "stream",
     "text": [
      "8it [00:00, 30.79it/s]\n",
      "8it [00:00, 30.79it/s]\n",
      "8it [00:00, 30.75it/s]\n",
      "8it [00:00, 30.02it/s]\n",
      "8it [00:00, 30.76it/s]\n"
     ]
    },
    {
     "name": "stdout",
     "output_type": "stream",
     "text": [
      "mode: meta_val, episode:  611, total_val_loss: 0.378720, \n",
      "val_mean_iou:{'photocopier': 0.692060693676342,\n",
      "'power_drill': 0.7187565828859681,\n",
      "'red_fox': 0.879720505758794,\n",
      "'schooner': 0.6767877809077485,\n",
      "'shift_gear': 0.23794989981301576}\n",
      "\n",
      "Episode: 611, Episode Time: 0.064 minutes\n"
     ]
    },
    {
     "name": "stderr",
     "output_type": "stream",
     "text": [
      "8it [00:00, 29.86it/s]\n",
      "8it [00:00, 31.38it/s]\n",
      "8it [00:00, 31.19it/s]\n",
      "8it [00:00, 32.40it/s]\n",
      "8it [00:00, 29.37it/s]\n"
     ]
    },
    {
     "name": "stdout",
     "output_type": "stream",
     "text": [
      "mode: meta_val, episode:  612, total_val_loss: 0.143860, \n",
      "val_mean_iou:{'otter': 0.9209396648707056,\n",
      "'pencil_box': 0.8764031035212771,\n",
      "'pizza': 0.8155311288718833,\n",
      "'rocket': 0.5107669028770218,\n",
      "'sock': 0.7731497358725148}\n",
      "\n",
      "Episode: 612, Episode Time: 0.063 minutes\n"
     ]
    },
    {
     "name": "stderr",
     "output_type": "stream",
     "text": [
      "8it [00:00, 28.82it/s]\n",
      "8it [00:00, 31.32it/s]\n",
      "8it [00:00, 31.03it/s]\n",
      "8it [00:00, 30.88it/s]\n",
      "18it [00:00, 36.20it/s]\n"
     ]
    },
    {
     "name": "stdout",
     "output_type": "stream",
     "text": [
      "mode: meta_val, episode:  613, total_val_loss: 0.161615, \n",
      "val_mean_iou:{'poker': 0.7459627962138959,\n",
      "'polar_bear': 0.9028894054207877,\n",
      "'potted_plant': 0.7454386638081234,\n",
      "'radio_telescope': 0.8164883727928807,\n",
      "'santa_sledge': 0.6551534236646652}\n",
      "\n",
      "Episode: 613, Episode Time: 0.067 minutes\n"
     ]
    },
    {
     "name": "stderr",
     "output_type": "stream",
     "text": [
      "8it [00:00, 30.70it/s]\n",
      "8it [00:00, 29.78it/s]\n",
      "8it [00:00, 30.27it/s]\n",
      "8it [00:00, 29.52it/s]\n",
      "8it [00:00, 30.42it/s]\n"
     ]
    },
    {
     "name": "stdout",
     "output_type": "stream",
     "text": [
      "mode: meta_val, episode:  614, total_val_loss: 0.217630, \n",
      "val_mean_iou:{'oyster': 0.7244184009454209,\n",
      "'pickup': 0.891586948146226,\n",
      "'rosehip': 0.6583970184477962,\n",
      "'shuriken': 0.5805761057316905,\n",
      "'skateboard': 0.3046772891811782}\n",
      "\n",
      "Episode: 614, Episode Time: 0.063 minutes\n"
     ]
    },
    {
     "name": "stderr",
     "output_type": "stream",
     "text": [
      "18it [00:00, 36.32it/s]\n",
      "8it [00:00, 29.97it/s]\n",
      "8it [00:00, 30.48it/s]\n",
      "8it [00:00, 30.24it/s]\n",
      "8it [00:00, 30.78it/s]\n"
     ]
    },
    {
     "name": "stdout",
     "output_type": "stream",
     "text": [
      "mode: meta_val, episode:  615, total_val_loss: 0.188130, \n",
      "val_mean_iou:{'pheasant': 0.8749266933292716,\n",
      "'pig': 0.8321545040771361,\n",
      "'puma_logo': 0.2724167319853533,\n",
      "'recreational_vehicle': 0.7965584538374079,\n",
      "'roller_coaster': 0.47365082442761675}\n",
      "\n",
      "Episode: 615, Episode Time: 0.068 minutes\n"
     ]
    },
    {
     "name": "stderr",
     "output_type": "stream",
     "text": [
      "8it [00:00, 30.19it/s]\n",
      "8it [00:00, 28.09it/s]\n",
      "8it [00:00, 31.08it/s]\n",
      "8it [00:00, 30.51it/s]\n",
      "8it [00:00, 30.70it/s]\n"
     ]
    },
    {
     "name": "stdout",
     "output_type": "stream",
     "text": [
      "mode: meta_val, episode:  616, total_val_loss: 0.192744, \n",
      "val_mean_iou:{'park_bench': 0.6120800725232989,\n",
      "'pingpong_racket': 0.7303116195956978,\n",
      "'polecat': 0.8577349448754429,\n",
      "'prairie_chicken': 0.8841570498595972,\n",
      "'shift_gear': 0.327236122525811}\n",
      "\n",
      "Episode: 616, Episode Time: 0.064 minutes\n"
     ]
    },
    {
     "name": "stderr",
     "output_type": "stream",
     "text": [
      "8it [00:00, 31.97it/s]\n",
      "8it [00:00, 29.67it/s]\n",
      "8it [00:00, 33.79it/s]\n",
      "8it [00:00, 29.86it/s]\n",
      "8it [00:00, 30.82it/s]\n"
     ]
    },
    {
     "name": "stdout",
     "output_type": "stream",
     "text": [
      "mode: meta_val, episode:  617, total_val_loss: 0.126105, \n",
      "val_mean_iou:{'perfume': 0.7411508689972492,\n",
      "'potted_plant': 0.6951869508496706,\n",
      "'red_breasted_merganser': 0.7408464142105734,\n",
      "'scorpion': 0.7210264647710785,\n",
      "'skua': 0.89876501307746}\n",
      "\n",
      "Episode: 617, Episode Time: 0.064 minutes\n"
     ]
    },
    {
     "name": "stderr",
     "output_type": "stream",
     "text": [
      "8it [00:00, 30.71it/s]\n",
      "8it [00:00, 29.99it/s]\n",
      "8it [00:00, 31.07it/s]\n",
      "8it [00:00, 29.31it/s]\n",
      "8it [00:00, 31.26it/s]\n"
     ]
    },
    {
     "name": "stdout",
     "output_type": "stream",
     "text": [
      "mode: meta_val, episode:  618, total_val_loss: 0.251947, \n",
      "val_mean_iou:{'pizza': 0.8315210989860978,\n",
      "'police_car': 0.7721478502719876,\n",
      "'sandal': 0.6106228307129979,\n",
      "'scabbard': 0.3903801717148693,\n",
      "'sombrero': 0.6687212287844873}\n",
      "\n",
      "Episode: 618, Episode Time: 0.063 minutes\n"
     ]
    },
    {
     "name": "stderr",
     "output_type": "stream",
     "text": [
      "8it [00:00, 32.12it/s]\n",
      "18it [00:00, 36.86it/s]\n",
      "8it [00:00, 32.05it/s]\n",
      "8it [00:00, 28.13it/s]\n",
      "8it [00:00, 30.03it/s]\n"
     ]
    },
    {
     "name": "stdout",
     "output_type": "stream",
     "text": [
      "mode: meta_val, episode:  619, total_val_loss: 0.182760, \n",
      "val_mean_iou:{'paddle': 0.7573534068263341,\n",
      "'polar_bear': 0.883836116988846,\n",
      "'radiator': 0.704514212288675,\n",
      "'seal': 0.8629289851584996,\n",
      "'sidewinder': 0.7625747083290968}\n",
      "\n",
      "Episode: 619, Episode Time: 0.068 minutes\n"
     ]
    },
    {
     "name": "stderr",
     "output_type": "stream",
     "text": [
      "8it [00:00, 29.42it/s]\n",
      "8it [00:00, 29.54it/s]\n",
      "18it [00:00, 36.93it/s]\n",
      "8it [00:00, 29.01it/s]\n",
      "8it [00:00, 30.66it/s]\n"
     ]
    },
    {
     "name": "stdout",
     "output_type": "stream",
     "text": [
      "mode: meta_val, episode:  620, total_val_loss: 0.215501, \n",
      "val_mean_iou:{'paper_crane': 0.7921884189772523,\n",
      "'pig': 0.8281369023795356,\n",
      "'polar_bear': 0.9320032297983107,\n",
      "'pretzel': 0.5782797046662127,\n",
      "'shakuhachi': 0.4870573544946859}\n",
      "\n",
      "Episode: 620, Episode Time: 0.068 minutes\n"
     ]
    },
    {
     "name": "stderr",
     "output_type": "stream",
     "text": [
      "8it [00:00, 29.95it/s]\n",
      "8it [00:00, 30.79it/s]\n",
      "8it [00:00, 31.00it/s]\n",
      "8it [00:00, 30.44it/s]\n",
      "8it [00:00, 30.19it/s]\n"
     ]
    },
    {
     "name": "stdout",
     "output_type": "stream",
     "text": [
      "mode: meta_val, episode:  621, total_val_loss: 0.142611, \n",
      "val_mean_iou:{'pencil_box': 0.8538824488219983,\n",
      "'pistachio': 0.7174081831172099,\n",
      "'plaice': 0.8361375391170522,\n",
      "'raccoon': 0.8454543610853824,\n",
      "'skunk': 0.8589640328942547}\n",
      "\n",
      "Episode: 621, Episode Time: 0.063 minutes\n"
     ]
    },
    {
     "name": "stderr",
     "output_type": "stream",
     "text": [
      "8it [00:00, 31.06it/s]\n",
      "8it [00:00, 30.66it/s]\n",
      "8it [00:00, 30.51it/s]\n",
      "8it [00:00, 29.04it/s]\n",
      "8it [00:00, 30.30it/s]\n"
     ]
    },
    {
     "name": "stdout",
     "output_type": "stream",
     "text": [
      "mode: meta_val, episode:  622, total_val_loss: 0.143273, \n",
      "val_mean_iou:{'phonograph': 0.799581621956402,\n",
      "'pistachio': 0.7440243277121334,\n",
      "'rock_beauty': 0.7605461582798402,\n",
      "'roller_skate': 0.8256005507896638,\n",
      "'skunk': 0.8562574594708448}\n",
      "\n",
      "Episode: 622, Episode Time: 0.063 minutes\n"
     ]
    },
    {
     "name": "stderr",
     "output_type": "stream",
     "text": [
      "8it [00:00, 31.52it/s]\n",
      "8it [00:00, 29.25it/s]\n",
      "8it [00:00, 30.55it/s]\n",
      "8it [00:00, 29.96it/s]\n",
      "8it [00:00, 29.59it/s]\n"
     ]
    },
    {
     "name": "stdout",
     "output_type": "stream",
     "text": [
      "mode: meta_val, episode:  623, total_val_loss: 0.159562, \n",
      "val_mean_iou:{'paddle': 0.7391847202197908,\n",
      "'paper_crane': 0.8050752938856407,\n",
      "'pokermon_ball': 0.8257290958706791,\n",
      "'police_car': 0.8063093016897889,\n",
      "'red_breasted_merganser': 0.6945508922765453}\n",
      "\n",
      "Episode: 623, Episode Time: 0.064 minutes\n"
     ]
    },
    {
     "name": "stderr",
     "output_type": "stream",
     "text": [
      "8it [00:00, 29.28it/s]\n",
      "8it [00:00, 31.75it/s]\n",
      "8it [00:00, 30.84it/s]\n",
      "8it [00:00, 29.00it/s]\n",
      "18it [00:00, 37.42it/s]\n"
     ]
    },
    {
     "name": "stdout",
     "output_type": "stream",
     "text": [
      "mode: meta_val, episode:  624, total_val_loss: 0.174561, \n",
      "val_mean_iou:{'persimmon': 0.8062475321735132,\n",
      "'printer': 0.751716624265754,\n",
      "'pumpkin': 0.8735484572862512,\n",
      "'schooner': 0.6456242281398399,\n",
      "'skull': 0.8864095682203446}\n",
      "\n",
      "Episode: 624, Episode Time: 0.068 minutes\n"
     ]
    },
    {
     "name": "stderr",
     "output_type": "stream",
     "text": [
      "8it [00:00, 29.65it/s]\n",
      "8it [00:00, 30.15it/s]\n",
      "8it [00:00, 29.64it/s]\n",
      "8it [00:00, 28.03it/s]\n",
      "8it [00:00, 29.94it/s]\n"
     ]
    },
    {
     "name": "stdout",
     "output_type": "stream",
     "text": [
      "mode: meta_val, episode:  625, total_val_loss: 0.169501, \n",
      "val_mean_iou:{'paper_plane': 0.6930185937177564,\n",
      "'park_bench': 0.6328440705134499,\n",
      "'pepitas': 0.7391876215194754,\n",
      "'snowmobile': 0.523439162762996,\n",
      "'soap_dispenser': 0.8498965966716393}\n",
      "\n",
      "Episode: 625, Episode Time: 0.065 minutes\n"
     ]
    },
    {
     "name": "stderr",
     "output_type": "stream",
     "text": [
      "8it [00:00, 30.13it/s]\n",
      "18it [00:00, 36.40it/s]\n",
      "8it [00:00, 29.75it/s]\n",
      "8it [00:00, 28.52it/s]\n",
      "8it [00:00, 29.43it/s]\n"
     ]
    },
    {
     "name": "stdout",
     "output_type": "stream",
     "text": [
      "mode: meta_val, episode:  626, total_val_loss: 0.193635, \n",
      "val_mean_iou:{'pig': 0.8345420037050383,\n",
      "'rosehip': 0.6841403410158766,\n",
      "'saluki': 0.7079174971609514,\n",
      "'scarerow': 0.58656016554087,\n",
      "'shumai': 0.694307102193547}\n",
      "\n",
      "Episode: 626, Episode Time: 0.068 minutes\n"
     ]
    },
    {
     "name": "stderr",
     "output_type": "stream",
     "text": [
      "58it [00:01, 40.54it/s]\n",
      "8it [00:00, 29.92it/s]\n",
      "8it [00:00, 31.17it/s]\n",
      "8it [00:00, 30.72it/s]\n",
      "18it [00:00, 33.11it/s]\n"
     ]
    },
    {
     "name": "stdout",
     "output_type": "stream",
     "text": [
      "mode: meta_val, episode:  627, total_val_loss: 0.202423, \n",
      "val_mean_iou:{'pubg_lvl3helmet': 0.4650700922896841,\n",
      "'relay_stick': 0.438653476897714,\n",
      "'rocket': 0.5610319495077201,\n",
      "'sandwich': 0.7906230296051375,\n",
      "'snake': 0.6685750960261033}\n",
      "\n",
      "Episode: 627, Episode Time: 0.087 minutes\n"
     ]
    },
    {
     "name": "stderr",
     "output_type": "stream",
     "text": [
      "8it [00:00, 30.88it/s]\n",
      "8it [00:00, 30.68it/s]\n",
      "8it [00:00, 29.89it/s]\n",
      "8it [00:00, 31.28it/s]\n",
      "8it [00:00, 31.14it/s]\n"
     ]
    },
    {
     "name": "stdout",
     "output_type": "stream",
     "text": [
      "mode: meta_val, episode:  628, total_val_loss: 0.149429, \n",
      "val_mean_iou:{'otter': 0.9038829096035117,\n",
      "'paper_crane': 0.7650213643458528,\n",
      "'red_bayberry': 0.7681280005527003,\n",
      "'redshank': 0.7249262601445989,\n",
      "'roller_coaster': 0.4850377848705571}\n",
      "\n",
      "Episode: 628, Episode Time: 0.064 minutes\n"
     ]
    },
    {
     "name": "stderr",
     "output_type": "stream",
     "text": [
      "8it [00:00, 31.17it/s]\n",
      "8it [00:00, 30.59it/s]\n",
      "8it [00:00, 31.87it/s]\n",
      "8it [00:00, 30.69it/s]\n",
      "8it [00:00, 29.06it/s]\n"
     ]
    },
    {
     "name": "stdout",
     "output_type": "stream",
     "text": [
      "mode: meta_val, episode:  629, total_val_loss: 0.137421, \n",
      "val_mean_iou:{'paper_crane': 0.7977304758187721,\n",
      "'pickup': 0.8883840023590055,\n",
      "'pinwheel': 0.7225157276552016,\n",
      "'polo_shirt': 0.6323587714580636,\n",
      "'rocket': 0.49332085124929004}\n",
      "\n",
      "Episode: 629, Episode Time: 0.063 minutes\n"
     ]
    },
    {
     "name": "stderr",
     "output_type": "stream",
     "text": [
      "8it [00:00, 31.44it/s]\n",
      "8it [00:00, 30.15it/s]\n",
      "28it [00:00, 38.89it/s]\n",
      "8it [00:00, 30.55it/s]\n",
      "8it [00:00, 30.91it/s]\n"
     ]
    },
    {
     "name": "stdout",
     "output_type": "stream",
     "text": [
      "mode: meta_val, episode:  630, total_val_loss: 0.134607, \n",
      "val_mean_iou:{'pinwheel': 0.7137876807480661,\n",
      "'pyramid': 0.6950680450184816,\n",
      "'rocket': 0.6150037099800972,\n",
      "'saltshaker': 0.8708322955949428,\n",
      "'sealion': 0.8785065618107665}\n",
      "\n",
      "Episode: 630, Episode Time: 0.071 minutes\n"
     ]
    },
    {
     "name": "stderr",
     "output_type": "stream",
     "text": [
      "8it [00:00, 30.22it/s]\n",
      "8it [00:00, 29.59it/s]\n",
      "8it [00:00, 29.89it/s]\n",
      "8it [00:00, 31.67it/s]\n",
      "8it [00:00, 31.34it/s]\n"
     ]
    },
    {
     "name": "stdout",
     "output_type": "stream",
     "text": [
      "mode: meta_val, episode:  631, total_val_loss: 0.176796, \n",
      "val_mean_iou:{'pear': 0.7376401562159107,\n",
      "'rice_cooker': 0.7040884873611559,\n",
      "'rocket': 0.5218165091381446,\n",
      "'rocking_chair': 0.750863836039021,\n",
      "'siamang': 0.824243673925942}\n",
      "\n",
      "Episode: 631, Episode Time: 0.064 minutes\n"
     ]
    },
    {
     "name": "stderr",
     "output_type": "stream",
     "text": [
      "8it [00:00, 29.00it/s]\n",
      "8it [00:00, 31.61it/s]\n",
      "8it [00:00, 30.05it/s]\n",
      "8it [00:00, 30.02it/s]\n",
      "8it [00:00, 30.71it/s]\n"
     ]
    },
    {
     "name": "stdout",
     "output_type": "stream",
     "text": [
      "mode: meta_val, episode:  632, total_val_loss: 0.303536, \n",
      "val_mean_iou:{'persian_cat': 0.8896130611499005,\n",
      "'photocopier': 0.7560723221175569,\n",
      "'printer': 0.726959289416786,\n",
      "'puma_logo': 0.3252671833059958,\n",
      "'rain_barrel': 0.7253468812992852}\n",
      "\n",
      "Episode: 632, Episode Time: 0.064 minutes\n"
     ]
    },
    {
     "name": "stderr",
     "output_type": "stream",
     "text": [
      "8it [00:00, 29.45it/s]\n",
      "8it [00:00, 30.34it/s]\n",
      "8it [00:00, 30.90it/s]\n",
      "8it [00:00, 30.83it/s]\n",
      "8it [00:00, 30.28it/s]\n"
     ]
    },
    {
     "name": "stdout",
     "output_type": "stream",
     "text": [
      "mode: meta_val, episode:  633, total_val_loss: 0.151057, \n",
      "val_mean_iou:{'prairie_chicken': 0.8811172534469207,\n",
      "'radio_telescope': 0.8172539283090693,\n",
      "'rain_barrel': 0.7703830256808992,\n",
      "'recreational_vehicle': 0.8711497474392498,\n",
      "'snowman': 0.6910971006871012}\n",
      "\n",
      "Episode: 633, Episode Time: 0.064 minutes\n"
     ]
    },
    {
     "name": "stderr",
     "output_type": "stream",
     "text": [
      "8it [00:00, 29.28it/s]\n",
      "8it [00:00, 30.14it/s]\n",
      "8it [00:00, 29.70it/s]\n",
      "8it [00:00, 31.23it/s]\n",
      "8it [00:00, 29.09it/s]\n"
     ]
    },
    {
     "name": "stdout",
     "output_type": "stream",
     "text": [
      "mode: meta_val, episode:  634, total_val_loss: 0.281224, \n",
      "val_mean_iou:{'parking_meter': 0.8028515603742059,\n",
      "'pspgo': 0.6724501799591991,\n",
      "'screwdriver': 0.7308544872339247,\n",
      "'sewing_machine': 0.5416842714738533,\n",
      "'skateboard': 0.3270503482910434}\n",
      "\n",
      "Episode: 634, Episode Time: 0.064 minutes\n"
     ]
    },
    {
     "name": "stderr",
     "output_type": "stream",
     "text": [
      "8it [00:00, 28.84it/s]\n",
      "18it [00:00, 37.08it/s]\n",
      "8it [00:00, 31.28it/s]\n",
      "8it [00:00, 29.56it/s]\n",
      "8it [00:00, 29.50it/s]\n"
     ]
    },
    {
     "name": "stdout",
     "output_type": "stream",
     "text": [
      "mode: meta_val, episode:  635, total_val_loss: 0.144090, \n",
      "val_mean_iou:{'ptarmigan': 0.7967172324141483,\n",
      "'pteropus': 0.8258286927042912,\n",
      "'pumpkin': 0.9058392327228986,\n",
      "'rubber_eraser': 0.7499897587789963,\n",
      "'sandwich_cookies': 0.7667896356110567}\n",
      "\n",
      "Episode: 635, Episode Time: 0.068 minutes\n"
     ]
    },
    {
     "name": "stderr",
     "output_type": "stream",
     "text": [
      "8it [00:00, 30.15it/s]\n",
      "8it [00:00, 25.37it/s]\n",
      "18it [00:00, 36.59it/s]\n",
      "8it [00:00, 31.76it/s]\n",
      "8it [00:00, 27.65it/s]\n"
     ]
    },
    {
     "name": "stdout",
     "output_type": "stream",
     "text": [
      "mode: meta_val, episode:  636, total_val_loss: 0.338181, \n",
      "val_mean_iou:{'peregine_falcon': 0.8089291489772906,\n",
      "'pretzel': 0.6057469701309264,\n",
      "'psp': 0.8038209369700053,\n",
      "'reflex_camera': 0.828180985244437,\n",
      "'scarerow': 0.6507902489552224}\n",
      "\n",
      "Episode: 636, Episode Time: 0.069 minutes\n"
     ]
    },
    {
     "name": "stderr",
     "output_type": "stream",
     "text": [
      "8it [00:00, 29.53it/s]\n",
      "8it [00:00, 28.58it/s]\n",
      "8it [00:00, 31.84it/s]\n",
      "8it [00:00, 30.87it/s]\n",
      "8it [00:00, 31.51it/s]\n"
     ]
    },
    {
     "name": "stdout",
     "output_type": "stream",
     "text": [
      "mode: meta_val, episode:  637, total_val_loss: 0.209929, \n",
      "val_mean_iou:{'pill_bottle': 0.8561101587772593,\n",
      "'pineapple': 0.6423686630974461,\n",
      "'pingpong_racket': 0.7323376306977522,\n",
      "'polar_bear': 0.895201961671402,\n",
      "'pubg_lvl3helmet': 0.30874748545725256}\n",
      "\n",
      "Episode: 637, Episode Time: 0.064 minutes\n"
     ]
    },
    {
     "name": "stderr",
     "output_type": "stream",
     "text": [
      "8it [00:00, 29.86it/s]\n",
      "28it [00:00, 39.32it/s]\n",
      "8it [00:00, 30.88it/s]\n",
      "8it [00:00, 30.37it/s]\n",
      "28it [00:00, 38.72it/s]\n"
     ]
    },
    {
     "name": "stdout",
     "output_type": "stream",
     "text": [
      "mode: meta_val, episode:  638, total_val_loss: 0.228005, \n",
      "val_mean_iou:{'owl': 0.7996077548551251,\n",
      "'polo_shirt': 0.6580534154703639,\n",
      "'potato': 0.7816291002948972,\n",
      "'pubg_lvl3helmet': 0.4589707908055922,\n",
      "'reflex_camera': 0.814731495347599}\n",
      "\n",
      "Episode: 638, Episode Time: 0.078 minutes\n"
     ]
    },
    {
     "name": "stderr",
     "output_type": "stream",
     "text": [
      "8it [00:00, 30.13it/s]\n",
      "8it [00:00, 31.01it/s]\n",
      "8it [00:00, 30.32it/s]\n",
      "8it [00:00, 30.55it/s]\n",
      "8it [00:00, 29.92it/s]\n"
     ]
    },
    {
     "name": "stdout",
     "output_type": "stream",
     "text": [
      "mode: meta_val, episode:  639, total_val_loss: 0.262014, \n",
      "val_mean_iou:{'paddle': 0.714546858203517,\n",
      "'rally_car': 0.9050253204296341,\n",
      "'rugby_ball': 0.7678623152865258,\n",
      "'scarerow': 0.5731481005803236,\n",
      "'shower_curtain': 0.654082186038531}\n",
      "\n",
      "Episode: 639, Episode Time: 0.064 minutes\n"
     ]
    },
    {
     "name": "stderr",
     "output_type": "stream",
     "text": [
      "8it [00:00, 30.01it/s]\n",
      "8it [00:00, 31.48it/s]\n",
      "58it [00:01, 41.78it/s]\n",
      "8it [00:00, 30.46it/s]\n",
      "8it [00:00, 30.55it/s]\n"
     ]
    },
    {
     "name": "stdout",
     "output_type": "stream",
     "text": [
      "mode: meta_val, episode:  640, total_val_loss: 0.283120, \n",
      "val_mean_iou:{'papaya': 0.8463013790623681,\n",
      "'prayer_rug': 0.7939375092664364,\n",
      "'rosehip': 0.5608450827417466,\n",
      "'saxophone': 0.5389961169117947,\n",
      "'snake': 0.654291281456189}\n",
      "\n",
      "Episode: 640, Episode Time: 0.082 minutes\n"
     ]
    },
    {
     "name": "stderr",
     "output_type": "stream",
     "text": [
      "8it [00:00, 30.40it/s]\n",
      "18it [00:00, 37.11it/s]\n",
      "8it [00:00, 31.82it/s]\n",
      "8it [00:00, 29.85it/s]\n",
      "8it [00:00, 30.16it/s]\n"
     ]
    },
    {
     "name": "stdout",
     "output_type": "stream",
     "text": [
      "mode: meta_val, episode:  641, total_val_loss: 0.109216, \n",
      "val_mean_iou:{'pheasant': 0.85202870801874,\n",
      "'radio': 0.8370375025735589,\n",
      "'ruddy_turnstone': 0.8396553783925658,\n",
      "'running_shoe': 0.5818450273466194,\n",
      "'skua': 0.8676850032629386}\n",
      "\n",
      "Episode: 641, Episode Time: 0.067 minutes\n"
     ]
    },
    {
     "name": "stderr",
     "output_type": "stream",
     "text": [
      "8it [00:00, 30.53it/s]\n",
      "8it [00:00, 29.73it/s]\n",
      "8it [00:00, 29.98it/s]\n",
      "8it [00:00, 28.80it/s]\n",
      "8it [00:00, 30.13it/s]\n"
     ]
    },
    {
     "name": "stdout",
     "output_type": "stream",
     "text": [
      "mode: meta_val, episode:  642, total_val_loss: 0.176039, \n",
      "val_mean_iou:{'otter': 0.9110153658035909,\n",
      "'ruffed_grouse': 0.8465763548797716,\n",
      "'scorpion': 0.7263776243141512,\n",
      "'shift_gear': 0.348469003796794,\n",
      "'shotgun': 0.47168245425085303}\n",
      "\n",
      "Episode: 642, Episode Time: 0.064 minutes\n"
     ]
    },
    {
     "name": "stderr",
     "output_type": "stream",
     "text": [
      "8it [00:00, 31.60it/s]\n",
      "8it [00:00, 30.33it/s]\n",
      "8it [00:00, 28.87it/s]\n",
      "18it [00:00, 37.22it/s]\n",
      "8it [00:00, 30.98it/s]\n"
     ]
    },
    {
     "name": "stdout",
     "output_type": "stream",
     "text": [
      "mode: meta_val, episode:  643, total_val_loss: 0.267068, \n",
      "val_mean_iou:{'pingpong_ball': 0.0956093843045292,\n",
      "'radio': 0.8466715806746239,\n",
      "'sandbar': 0.31476883274003087,\n",
      "'seagull': 0.8038904834913385,\n",
      "'snowmobile': 0.5548304291452957}\n",
      "\n",
      "Episode: 643, Episode Time: 0.067 minutes\n"
     ]
    },
    {
     "name": "stderr",
     "output_type": "stream",
     "text": [
      "8it [00:00, 30.42it/s]\n",
      "18it [00:00, 34.20it/s]\n",
      "8it [00:00, 29.95it/s]\n",
      "8it [00:00, 27.15it/s]\n",
      "8it [00:00, 29.99it/s]\n"
     ]
    },
    {
     "name": "stdout",
     "output_type": "stream",
     "text": [
      "mode: meta_val, episode:  644, total_val_loss: 0.344612, \n",
      "val_mean_iou:{'peregine_falcon': 0.8163303400514654,\n",
      "'pool_table': 0.5156815684399225,\n",
      "'red_bayberry': 0.8083540229457851,\n",
      "'sandbar': 0.33518955412087825,\n",
      "'soap': 0.6827244510917956}\n",
      "\n",
      "Episode: 644, Episode Time: 0.068 minutes\n"
     ]
    },
    {
     "name": "stderr",
     "output_type": "stream",
     "text": [
      "8it [00:00, 31.39it/s]\n",
      "8it [00:00, 29.66it/s]\n",
      "8it [00:00, 30.82it/s]\n",
      "8it [00:00, 30.69it/s]\n",
      "18it [00:00, 38.00it/s]\n"
     ]
    },
    {
     "name": "stdout",
     "output_type": "stream",
     "text": [
      "mode: meta_val, episode:  645, total_val_loss: 0.219932, \n",
      "val_mean_iou:{'pillow': 0.8441618086012872,\n",
      "'pineapple': 0.6064136780251688,\n",
      "'poker': 0.7674554462486128,\n",
      "'porcupine': 0.8328170063931395,\n",
      "'shakuhachi': 0.5192255773433028}\n",
      "\n",
      "Episode: 645, Episode Time: 0.067 minutes\n"
     ]
    },
    {
     "name": "stderr",
     "output_type": "stream",
     "text": [
      "18it [00:00, 36.30it/s]\n",
      "18it [00:00, 38.25it/s]\n",
      "8it [00:00, 30.90it/s]\n",
      "8it [00:00, 30.88it/s]\n",
      "8it [00:00, 31.52it/s]\n"
     ]
    },
    {
     "name": "stdout",
     "output_type": "stream",
     "text": [
      "mode: meta_val, episode:  646, total_val_loss: 0.312035, \n",
      "val_mean_iou:{'potted_plant': 0.7024295067589647,\n",
      "'psp': 0.8133150314025646,\n",
      "'razor': 0.6138790526884103,\n",
      "'redheart': 0.040815493331134,\n",
      "'shower_cap': 0.4515962553016023}\n",
      "\n",
      "Episode: 646, Episode Time: 0.071 minutes\n"
     ]
    },
    {
     "name": "stderr",
     "output_type": "stream",
     "text": [
      "8it [00:00, 29.04it/s]\n",
      "8it [00:00, 32.28it/s]\n",
      "18it [00:00, 37.87it/s]\n",
      "8it [00:00, 30.29it/s]\n",
      "8it [00:00, 31.74it/s]\n"
     ]
    },
    {
     "name": "stdout",
     "output_type": "stream",
     "text": [
      "mode: meta_val, episode:  647, total_val_loss: 0.220128, \n",
      "val_mean_iou:{'patas': 0.8049574079476958,\n",
      "'pear': 0.7795834776994838,\n",
      "'pheasant': 0.8719589597451856,\n",
      "'redheart': 0.04438976065126844,\n",
      "'soap': 0.7011543884445578}\n",
      "\n",
      "Episode: 647, Episode Time: 0.067 minutes\n"
     ]
    },
    {
     "name": "stderr",
     "output_type": "stream",
     "text": [
      "8it [00:00, 30.80it/s]\n",
      "8it [00:00, 31.02it/s]\n",
      "8it [00:00, 28.98it/s]\n",
      "8it [00:00, 30.72it/s]\n",
      "8it [00:00, 30.08it/s]\n"
     ]
    },
    {
     "name": "stdout",
     "output_type": "stream",
     "text": [
      "mode: meta_val, episode:  648, total_val_loss: 0.222973, \n",
      "val_mean_iou:{'otter': 0.89191897062763,\n",
      "'partridge': 0.7600915309415439,\n",
      "'pool_table': 0.583504898427619,\n",
      "'radio_telescope': 0.822966845765021,\n",
      "'sewing_machine': 0.6219942163368166}\n",
      "\n",
      "Episode: 648, Episode Time: 0.063 minutes\n"
     ]
    },
    {
     "name": "stderr",
     "output_type": "stream",
     "text": [
      "8it [00:00, 30.20it/s]\n",
      "8it [00:00, 31.99it/s]\n",
      "8it [00:00, 31.20it/s]\n",
      "8it [00:00, 28.46it/s]\n",
      "8it [00:00, 27.17it/s]\n"
     ]
    },
    {
     "name": "stdout",
     "output_type": "stream",
     "text": [
      "mode: meta_val, episode:  649, total_val_loss: 0.286360, \n",
      "val_mean_iou:{'parallel_bars': 0.24407610332568822,\n",
      "'peregine_falcon': 0.803343172121475,\n",
      "'polo_shirt': 0.5959018689503596,\n",
      "'radiator': 0.6774197166497462,\n",
      "'reflex_camera': 0.83443959717285}\n",
      "\n",
      "Episode: 649, Episode Time: 0.064 minutes\n"
     ]
    },
    {
     "name": "stderr",
     "output_type": "stream",
     "text": [
      "8it [00:00, 30.54it/s]\n",
      "8it [00:00, 30.97it/s]\n",
      "8it [00:00, 31.18it/s]\n",
      "8it [00:00, 28.63it/s]\n",
      "8it [00:00, 30.34it/s]\n"
     ]
    },
    {
     "name": "stdout",
     "output_type": "stream",
     "text": [
      "mode: meta_val, episode:  650, total_val_loss: 0.211205, \n",
      "val_mean_iou:{'oyster': 0.7235861410394683,\n",
      "'pear': 0.7586882632115335,\n",
      "'red_breasted_merganser': 0.7018863165757987,\n",
      "'sock': 0.6784893202819949,\n",
      "'solar_dish': 0.71783779182523}\n",
      "\n",
      "Episode: 650, Episode Time: 0.064 minutes\n"
     ]
    },
    {
     "name": "stderr",
     "output_type": "stream",
     "text": [
      "8it [00:00, 28.80it/s]\n",
      "8it [00:00, 29.05it/s]\n",
      "8it [00:00, 31.52it/s]\n",
      "8it [00:00, 31.68it/s]\n",
      "8it [00:00, 30.63it/s]\n"
     ]
    },
    {
     "name": "stdout",
     "output_type": "stream",
     "text": [
      "mode: meta_val, episode:  651, total_val_loss: 0.299554, \n",
      "val_mean_iou:{'pencil_sharpener1': 0.7582489749133162,\n",
      "'pencil_sharpener2': 0.7562196946258799,\n",
      "'pineapple': 0.6382017186114552,\n",
      "'plastic_bag': 0.5327941533495022,\n",
      "'platypus': 0.77817704755875}\n",
      "\n",
      "Episode: 651, Episode Time: 0.063 minutes\n"
     ]
    },
    {
     "name": "stderr",
     "output_type": "stream",
     "text": [
      "8it [00:00, 30.41it/s]\n",
      "8it [00:00, 30.89it/s]\n",
      "8it [00:00, 32.00it/s]\n",
      "8it [00:00, 31.27it/s]\n",
      "8it [00:00, 28.91it/s]\n"
     ]
    },
    {
     "name": "stdout",
     "output_type": "stream",
     "text": [
      "mode: meta_val, episode:  652, total_val_loss: 0.284969, \n",
      "val_mean_iou:{'ostrich': 0.7488071614468461,\n",
      "'pencil_sharpener1': 0.7029826528082584,\n",
      "'pineapple': 0.6341872183838498,\n",
      "'pomegranate': 0.746599578120707,\n",
      "'seatbelt': 0.084322390513378}\n",
      "\n",
      "Episode: 652, Episode Time: 0.063 minutes\n"
     ]
    },
    {
     "name": "stderr",
     "output_type": "stream",
     "text": [
      "8it [00:00, 28.74it/s]\n",
      "8it [00:00, 31.27it/s]\n",
      "8it [00:00, 31.34it/s]\n",
      "8it [00:00, 29.55it/s]\n",
      "8it [00:00, 30.11it/s]\n"
     ]
    },
    {
     "name": "stdout",
     "output_type": "stream",
     "text": [
      "mode: meta_val, episode:  653, total_val_loss: 0.168558, \n",
      "val_mean_iou:{'otter': 0.8955574248681537,\n",
      "'pencil_box': 0.7575060803501356,\n",
      "'plate': 0.863427261339923,\n",
      "'shakuhachi': 0.5336704026475924,\n",
      "'sidewinder': 0.7478426506802912}\n",
      "\n",
      "Episode: 653, Episode Time: 0.064 minutes\n"
     ]
    },
    {
     "name": "stderr",
     "output_type": "stream",
     "text": [
      "8it [00:00, 30.39it/s]\n",
      "8it [00:00, 32.13it/s]\n",
      "18it [00:00, 37.91it/s]\n",
      "8it [00:00, 31.01it/s]\n",
      "8it [00:00, 31.11it/s]\n"
     ]
    },
    {
     "name": "stdout",
     "output_type": "stream",
     "text": [
      "mode: meta_val, episode:  654, total_val_loss: 0.171977, \n",
      "val_mean_iou:{'platypus': 0.8539193538373788,\n",
      "'poker': 0.7316760944278078,\n",
      "'polo_shirt': 0.6193064764736775,\n",
      "'rocket': 0.5446770086257324,\n",
      "'shotgun': 0.5670541936410741}\n",
      "\n",
      "Episode: 654, Episode Time: 0.067 minutes\n"
     ]
    },
    {
     "name": "stderr",
     "output_type": "stream",
     "text": [
      "8it [00:00, 29.93it/s]\n",
      "8it [00:00, 30.43it/s]\n",
      "8it [00:00, 31.04it/s]\n",
      "8it [00:00, 30.84it/s]\n",
      "8it [00:00, 31.52it/s]\n"
     ]
    },
    {
     "name": "stdout",
     "output_type": "stream",
     "text": [
      "mode: meta_val, episode:  655, total_val_loss: 0.223692, \n",
      "val_mean_iou:{'pheasant': 0.8906203637231291,\n",
      "'pingpong_ball': 0.10722478124356852,\n",
      "'red_bayberry': 0.7847994940523358,\n",
      "'skua': 0.8776602651657699,\n",
      "'sleeping_bag': 0.7824673181785501}\n",
      "\n",
      "Episode: 655, Episode Time: 0.063 minutes\n"
     ]
    },
    {
     "name": "stderr",
     "output_type": "stream",
     "text": [
      "8it [00:00, 31.23it/s]\n",
      "8it [00:00, 31.77it/s]\n",
      "8it [00:00, 30.91it/s]\n",
      "8it [00:00, 31.45it/s]\n",
      "8it [00:00, 29.99it/s]\n"
     ]
    },
    {
     "name": "stdout",
     "output_type": "stream",
     "text": [
      "mode: meta_val, episode:  656, total_val_loss: 0.181777, \n",
      "val_mean_iou:{'ostrich': 0.7716869815949885,\n",
      "'pepitas': 0.6673983766580998,\n",
      "'perfume': 0.8178305429261591,\n",
      "'santa_sledge': 0.6166968654705058,\n",
      "'smoothing_iron': 0.8029961706793227}\n",
      "\n",
      "Episode: 656, Episode Time: 0.063 minutes\n"
     ]
    },
    {
     "name": "stderr",
     "output_type": "stream",
     "text": [
      "8it [00:00, 29.67it/s]\n",
      "28it [00:00, 39.56it/s]\n",
      "8it [00:00, 32.63it/s]\n",
      "8it [00:00, 30.81it/s]\n",
      "18it [00:00, 36.21it/s]\n"
     ]
    },
    {
     "name": "stdout",
     "output_type": "stream",
     "text": [
      "mode: meta_val, episode:  657, total_val_loss: 0.170543, \n",
      "val_mean_iou:{'owl': 0.7935330473083527,\n",
      "'persimmon': 0.7708537609176169,\n",
      "'scissors': 0.5507623890656045,\n",
      "'seal': 0.88494805042787,\n",
      "'snowman': 0.7909524577426639}\n",
      "\n",
      "Episode: 657, Episode Time: 0.075 minutes\n"
     ]
    },
    {
     "name": "stderr",
     "output_type": "stream",
     "text": [
      "8it [00:00, 31.47it/s]\n",
      "8it [00:00, 29.88it/s]\n",
      "8it [00:00, 30.08it/s]\n",
      "18it [00:00, 37.40it/s]\n",
      "8it [00:00, 32.10it/s]\n"
     ]
    },
    {
     "name": "stdout",
     "output_type": "stream",
     "text": [
      "mode: meta_val, episode:  658, total_val_loss: 0.228169, \n",
      "val_mean_iou:{'patas': 0.8324555333952193,\n",
      "'red_fox': 0.8735535594110415,\n",
      "'school_bus': 0.7712761240061946,\n",
      "'shakuhachi': 0.41386862413485914,\n",
      "'soap': 0.7144592245962829}\n",
      "\n",
      "Episode: 658, Episode Time: 0.067 minutes\n"
     ]
    },
    {
     "name": "stderr",
     "output_type": "stream",
     "text": [
      "8it [00:00, 30.52it/s]\n",
      "8it [00:00, 30.29it/s]\n",
      "8it [00:00, 30.90it/s]\n",
      "8it [00:00, 30.56it/s]\n",
      "8it [00:00, 30.72it/s]\n"
     ]
    },
    {
     "name": "stdout",
     "output_type": "stream",
     "text": [
      "mode: meta_val, episode:  659, total_val_loss: 0.201922, \n",
      "val_mean_iou:{'panther': 0.8438383208525938,\n",
      "'polar_bear': 0.8920414643311314,\n",
      "'revolver': 0.6660165385013517,\n",
      "'skateboard': 0.26978009576902207,\n",
      "'snowball': 0.5242200161984956}\n",
      "\n",
      "Episode: 659, Episode Time: 0.063 minutes\n"
     ]
    },
    {
     "name": "stderr",
     "output_type": "stream",
     "text": [
      "8it [00:00, 28.58it/s]\n",
      "88it [00:02, 43.12it/s]\n",
      "58it [00:01, 40.81it/s]\n",
      "8it [00:00, 29.68it/s]\n",
      "8it [00:00, 29.54it/s]\n"
     ]
    },
    {
     "name": "stdout",
     "output_type": "stream",
     "text": [
      "mode: meta_val, episode:  660, total_val_loss: 0.199277, \n",
      "val_mean_iou:{'pen': 0.6574533526445504,\n",
      "'persian_cat': 0.8677125700031576,\n",
      "'shotgun': 0.5201727277044493,\n",
      "'sloth_bear': 0.83078151077994,\n",
      "'snake': 0.6595418768875805}\n",
      "\n",
      "Episode: 660, Episode Time: 0.113 minutes\n"
     ]
    },
    {
     "name": "stderr",
     "output_type": "stream",
     "text": [
      "8it [00:00, 29.58it/s]\n",
      "8it [00:00, 30.64it/s]\n",
      "8it [00:00, 29.30it/s]\n",
      "8it [00:00, 30.05it/s]\n",
      "8it [00:00, 30.96it/s]\n"
     ]
    },
    {
     "name": "stdout",
     "output_type": "stream",
     "text": [
      "mode: meta_val, episode:  661, total_val_loss: 0.204867, \n",
      "val_mean_iou:{'radiator': 0.7759421546473425,\n",
      "'rally_car': 0.8794906927866848,\n",
      "'rosehip': 0.5462768404367191,\n",
      "'saluki': 0.6998659325713656,\n",
      "'skateboard': 0.2799970987162715}\n",
      "\n",
      "Episode: 661, Episode Time: 0.063 minutes\n"
     ]
    },
    {
     "name": "stderr",
     "output_type": "stream",
     "text": [
      "18it [00:00, 35.00it/s]\n",
      "8it [00:00, 31.20it/s]\n",
      "8it [00:00, 30.57it/s]\n",
      "8it [00:00, 31.73it/s]\n",
      "8it [00:00, 30.02it/s]\n"
     ]
    },
    {
     "name": "stdout",
     "output_type": "stream",
     "text": [
      "mode: meta_val, episode:  662, total_val_loss: 0.293319, \n",
      "val_mean_iou:{'paddle': 0.8061882883245459,\n",
      "'poker': 0.8163286437222167,\n",
      "'pubg_lvl3helmet': 0.47634043176770996,\n",
      "'sewing_machine': 0.5521356664111908,\n",
      "'ski_mask': 0.5977388243679767}\n",
      "\n",
      "Episode: 662, Episode Time: 0.068 minutes\n"
     ]
    },
    {
     "name": "stderr",
     "output_type": "stream",
     "text": [
      "8it [00:00, 30.16it/s]\n",
      "8it [00:00, 30.29it/s]\n",
      "8it [00:00, 31.52it/s]\n",
      "8it [00:00, 31.30it/s]\n",
      "8it [00:00, 31.25it/s]\n"
     ]
    },
    {
     "name": "stdout",
     "output_type": "stream",
     "text": [
      "mode: meta_val, episode:  663, total_val_loss: 0.123252, \n",
      "val_mean_iou:{'rhinoceros': 0.885426340486297,\n",
      "'saltshaker': 0.8655327907168406,\n",
      "'saluki': 0.6950478238736163,\n",
      "'screwdriver': 0.7050975949367528,\n",
      "'seagull': 0.7914885860469539}\n",
      "\n",
      "Episode: 663, Episode Time: 0.063 minutes\n"
     ]
    },
    {
     "name": "stderr",
     "output_type": "stream",
     "text": [
      "28it [00:00, 39.26it/s]\n",
      "8it [00:00, 31.99it/s]\n",
      "8it [00:00, 29.71it/s]\n",
      "128it [00:02, 43.23it/s]\n",
      "8it [00:00, 31.98it/s]\n"
     ]
    },
    {
     "name": "stdout",
     "output_type": "stream",
     "text": [
      "mode: meta_val, episode:  664, total_val_loss: 0.202587, \n",
      "val_mean_iou:{'owl': 0.7940391844855569,\n",
      "'ox': 0.8332890388377783,\n",
      "'red_breasted_merganser': 0.7017539967098393,\n",
      "'schooner': 0.6751084554245753,\n",
      "'sea_urchin': 0.7300269662754901}\n",
      "\n",
      "Episode: 664, Episode Time: 0.115 minutes\n"
     ]
    },
    {
     "name": "stderr",
     "output_type": "stream",
     "text": [
      "8it [00:00, 28.11it/s]\n",
      "8it [00:00, 31.27it/s]\n",
      "8it [00:00, 31.59it/s]\n",
      "8it [00:00, 32.44it/s]\n",
      "8it [00:00, 33.04it/s]\n"
     ]
    },
    {
     "name": "stdout",
     "output_type": "stream",
     "text": [
      "mode: meta_val, episode:  665, total_val_loss: 0.136765, \n",
      "val_mean_iou:{'pickup': 0.9002811089302984,\n",
      "'radio_telescope': 0.8518014326057932,\n",
      "'red_fox': 0.8499697118614377,\n",
      "'rubber_eraser': 0.7276499401691069,\n",
      "'shih-tzu': 0.870767687411498}\n",
      "\n",
      "Episode: 665, Episode Time: 0.063 minutes\n"
     ]
    },
    {
     "name": "stderr",
     "output_type": "stream",
     "text": [
      "8it [00:00, 29.22it/s]\n",
      "8it [00:00, 29.64it/s]\n",
      "8it [00:00, 29.44it/s]\n",
      "8it [00:00, 30.37it/s]\n",
      "8it [00:00, 30.08it/s]\n"
     ]
    },
    {
     "name": "stdout",
     "output_type": "stream",
     "text": [
      "mode: meta_val, episode:  666, total_val_loss: 0.319913, \n",
      "val_mean_iou:{'paddle': 0.7309610713817392,\n",
      "'parthenon': 0.7182443394366185,\n",
      "'revolver': 0.7070481473210714,\n",
      "'samarra_mosque': 0.7435581551357804,\n",
      "'seatbelt': 0.07571777138064183}\n",
      "\n",
      "Episode: 666, Episode Time: 0.064 minutes\n"
     ]
    },
    {
     "name": "stderr",
     "output_type": "stream",
     "text": [
      "8it [00:00, 28.85it/s]\n",
      "8it [00:00, 31.17it/s]\n",
      "8it [00:00, 30.69it/s]\n",
      "8it [00:00, 30.31it/s]\n",
      "8it [00:00, 30.53it/s]\n"
     ]
    },
    {
     "name": "stdout",
     "output_type": "stream",
     "text": [
      "mode: meta_val, episode:  667, total_val_loss: 0.447291, \n",
      "val_mean_iou:{'ostrich': 0.7657012960946723,\n",
      "'petri_dish': 0.854431439491427,\n",
      "'photocopier': 0.7258673844045019,\n",
      "'piano_keyboard': 0.41187278453811116,\n",
      "'sidewinder': 0.7498999490413261}\n",
      "\n",
      "Episode: 667, Episode Time: 0.065 minutes\n"
     ]
    },
    {
     "name": "stderr",
     "output_type": "stream",
     "text": [
      "8it [00:00, 28.41it/s]\n",
      "8it [00:00, 30.34it/s]\n",
      "8it [00:00, 31.11it/s]\n",
      "8it [00:00, 29.83it/s]\n",
      "8it [00:00, 31.03it/s]\n"
     ]
    },
    {
     "name": "stdout",
     "output_type": "stream",
     "text": [
      "mode: meta_val, episode:  668, total_val_loss: 0.130872, \n",
      "val_mean_iou:{'partridge': 0.719812668103254,\n",
      "'redshank': 0.6801199097451214,\n",
      "'ringlet_butterfly': 0.943025088117377,\n",
      "'rubber_eraser': 0.7259475588050638,\n",
      "'shovel': 0.6174982513909331}\n",
      "\n",
      "Episode: 668, Episode Time: 0.065 minutes\n"
     ]
    },
    {
     "name": "stderr",
     "output_type": "stream",
     "text": [
      "8it [00:00, 28.22it/s]\n",
      "8it [00:00, 30.64it/s]\n",
      "8it [00:00, 29.84it/s]\n",
      "8it [00:00, 25.28it/s]\n",
      "8it [00:00, 30.43it/s]\n"
     ]
    },
    {
     "name": "stdout",
     "output_type": "stream",
     "text": [
      "mode: meta_val, episode:  669, total_val_loss: 0.200922, \n",
      "val_mean_iou:{'patas': 0.7849885525787001,\n",
      "'polo_shirt': 0.6653385157300105,\n",
      "'pomelo': 0.7533329916731226,\n",
      "'raccoon': 0.8515018296353577,\n",
      "'remote_control': 0.6332669377287712}\n",
      "\n",
      "Episode: 669, Episode Time: 0.066 minutes\n"
     ]
    },
    {
     "name": "stderr",
     "output_type": "stream",
     "text": [
      "8it [00:00, 27.76it/s]\n",
      "8it [00:00, 30.87it/s]\n",
      "8it [00:00, 29.85it/s]\n",
      "8it [00:00, 30.56it/s]\n",
      "8it [00:00, 33.04it/s]\n"
     ]
    },
    {
     "name": "stdout",
     "output_type": "stream",
     "text": [
      "mode: meta_val, episode:  670, total_val_loss: 0.182887, \n",
      "val_mean_iou:{'pencil_sharpener1': 0.7443701616169336,\n",
      "'pinecone': 0.9344038207196955,\n",
      "'pingpong_racket': 0.7008664043347597,\n",
      "'potato_chips': 0.722536537206435,\n",
      "'snowplow': 0.7910332215300783}\n",
      "\n",
      "Episode: 670, Episode Time: 0.064 minutes\n"
     ]
    },
    {
     "name": "stderr",
     "output_type": "stream",
     "text": [
      "8it [00:00, 29.87it/s]\n",
      "8it [00:00, 28.88it/s]\n",
      "8it [00:00, 30.06it/s]\n",
      "8it [00:00, 28.96it/s]\n",
      "8it [00:00, 30.55it/s]\n"
     ]
    },
    {
     "name": "stdout",
     "output_type": "stream",
     "text": [
      "mode: meta_val, episode:  671, total_val_loss: 0.174543, \n",
      "val_mean_iou:{'persimmon': 0.7870167380361109,\n",
      "'pill_bottle': 0.8206114955744093,\n",
      "'pillow': 0.7799020758679107,\n",
      "'porcupine': 0.8526626550355234,\n",
      "'shotgun': 0.5609624149928802}\n",
      "\n",
      "Episode: 671, Episode Time: 0.065 minutes\n"
     ]
    },
    {
     "name": "stderr",
     "output_type": "stream",
     "text": [
      "8it [00:00, 29.83it/s]\n",
      "8it [00:00, 31.98it/s]\n",
      "8it [00:00, 30.87it/s]\n",
      "58it [00:01, 41.08it/s]\n",
      "8it [00:00, 30.50it/s]\n"
     ]
    },
    {
     "name": "stdout",
     "output_type": "stream",
     "text": [
      "mode: meta_val, episode:  672, total_val_loss: 0.260404, \n",
      "val_mean_iou:{'panther': 0.8244801993972343,\n",
      "'paper_towel': 0.592551363781535,\n",
      "'parking_meter': 0.7663727435878911,\n",
      "'pineapple': 0.6147302527148999,\n",
      "'snake': 0.6710148948266155}\n",
      "\n",
      "Episode: 672, Episode Time: 0.083 minutes\n"
     ]
    },
    {
     "name": "stderr",
     "output_type": "stream",
     "text": [
      "8it [00:00, 30.88it/s]\n",
      "8it [00:00, 31.20it/s]\n",
      "8it [00:00, 30.05it/s]\n",
      "8it [00:00, 29.96it/s]\n",
      "8it [00:00, 30.61it/s]\n"
     ]
    },
    {
     "name": "stdout",
     "output_type": "stream",
     "text": [
      "mode: meta_val, episode:  673, total_val_loss: 0.273323, \n",
      "val_mean_iou:{'photocopier': 0.7153004355249142,\n",
      "'pinecone': 0.8696500995168432,\n",
      "'poached_egg': 0.8610596041291206,\n",
      "'skateboard': 0.2889964261858072,\n",
      "'sniper_rifle': 0.6156207529329288}\n",
      "\n",
      "Episode: 673, Episode Time: 0.064 minutes\n"
     ]
    },
    {
     "name": "stderr",
     "output_type": "stream",
     "text": [
      "28it [00:00, 38.62it/s]\n",
      "8it [00:00, 31.19it/s]\n",
      "8it [00:00, 31.90it/s]\n",
      "8it [00:00, 31.65it/s]\n",
      "8it [00:00, 30.73it/s]\n"
     ]
    },
    {
     "name": "stdout",
     "output_type": "stream",
     "text": [
      "mode: meta_val, episode:  674, total_val_loss: 0.348467, \n",
      "val_mean_iou:{'piano_keyboard': 0.4304347524743388,\n",
      "'pingpong_racket': 0.7039873728447836,\n",
      "'pyramid': 0.7492215652131965,\n",
      "'ruddy_turnstone': 0.8308290163020534,\n",
      "'shower_cap': 0.4217931596414559}\n",
      "\n",
      "Episode: 674, Episode Time: 0.071 minutes\n"
     ]
    },
    {
     "name": "stderr",
     "output_type": "stream",
     "text": [
      "18it [00:00, 35.71it/s]\n",
      "8it [00:00, 30.17it/s]\n",
      "8it [00:00, 29.14it/s]\n",
      "8it [00:00, 30.98it/s]\n",
      "8it [00:00, 30.59it/s]\n"
     ]
    },
    {
     "name": "stdout",
     "output_type": "stream",
     "text": [
      "mode: meta_val, episode:  675, total_val_loss: 0.132512, \n",
      "val_mean_iou:{'pickelhaube': 0.770186831918413,\n",
      "'redshank': 0.7447390947898607,\n",
      "'rose': 0.6900392872731511,\n",
      "'rubick_cube': 0.9056705414395418,\n",
      "'scarerow': 0.6382845247539817}\n",
      "\n",
      "Episode: 675, Episode Time: 0.068 minutes\n"
     ]
    },
    {
     "name": "stderr",
     "output_type": "stream",
     "text": [
      "8it [00:00, 27.49it/s]\n",
      "8it [00:00, 28.73it/s]\n",
      "8it [00:00, 29.50it/s]\n",
      "8it [00:00, 30.84it/s]\n",
      "8it [00:00, 29.87it/s]\n"
     ]
    },
    {
     "name": "stdout",
     "output_type": "stream",
     "text": [
      "mode: meta_val, episode:  676, total_val_loss: 0.213342, \n",
      "val_mean_iou:{'pyraminx': 0.7638566096925655,\n",
      "'ruler': 0.7600974795547532,\n",
      "'scissors': 0.5641636599960776,\n",
      "'shopping_cart': 0.7651812998951106,\n",
      "'sidewinder': 0.7269711790576648}\n",
      "\n",
      "Episode: 676, Episode Time: 0.064 minutes\n"
     ]
    },
    {
     "name": "stderr",
     "output_type": "stream",
     "text": [
      "8it [00:00, 29.07it/s]\n",
      "8it [00:00, 29.60it/s]\n",
      "8it [00:00, 30.70it/s]\n",
      "8it [00:00, 29.97it/s]\n",
      "8it [00:00, 31.77it/s]\n"
     ]
    },
    {
     "name": "stdout",
     "output_type": "stream",
     "text": [
      "mode: meta_val, episode:  677, total_val_loss: 0.134865, \n",
      "val_mean_iou:{'scroll_brush': 0.7681169242341099,\n",
      "'shakuhachi': 0.5251529884249855,\n",
      "'shih-tzu': 0.8893110860247107,\n",
      "'snail': 0.8148965041533813,\n",
      "'snowplow': 0.8238331752396827}\n",
      "\n",
      "Episode: 677, Episode Time: 0.064 minutes\n"
     ]
    },
    {
     "name": "stderr",
     "output_type": "stream",
     "text": [
      "8it [00:00, 28.76it/s]\n",
      "8it [00:00, 30.77it/s]\n",
      "8it [00:00, 27.31it/s]\n",
      "8it [00:00, 30.27it/s]\n",
      "8it [00:00, 30.08it/s]\n"
     ]
    },
    {
     "name": "stdout",
     "output_type": "stream",
     "text": [
      "mode: meta_val, episode:  678, total_val_loss: 0.161123, \n",
      "val_mean_iou:{'peanut': 0.7148929723746494,\n",
      "'printer': 0.7942875773122822,\n",
      "'ruddy_turnstone': 0.8089560125407678,\n",
      "'running_shoe': 0.5987965800573876,\n",
      "'snow_leopard': 0.784098992247281}\n",
      "\n",
      "Episode: 678, Episode Time: 0.064 minutes\n"
     ]
    },
    {
     "name": "stderr",
     "output_type": "stream",
     "text": [
      "8it [00:00, 29.48it/s]\n",
      "8it [00:00, 31.35it/s]\n",
      "8it [00:00, 29.77it/s]\n",
      "8it [00:00, 30.17it/s]\n",
      "8it [00:00, 30.88it/s]\n"
     ]
    },
    {
     "name": "stdout",
     "output_type": "stream",
     "text": [
      "mode: meta_val, episode:  679, total_val_loss: 0.246107, \n",
      "val_mean_iou:{'paddle': 0.7784736396597295,\n",
      "'paper_plane': 0.6489078766726508,\n",
      "'peanut': 0.704282953510323,\n",
      "'pickup': 0.9100655597808772,\n",
      "'pingpong_ball': 0.11057406627496826}\n",
      "\n",
      "Episode: 679, Episode Time: 0.065 minutes\n"
     ]
    },
    {
     "name": "stderr",
     "output_type": "stream",
     "text": [
      "8it [00:00, 29.28it/s]\n",
      "8it [00:00, 31.80it/s]\n",
      "8it [00:00, 30.98it/s]\n",
      "8it [00:00, 31.21it/s]\n",
      "8it [00:00, 29.26it/s]\n"
     ]
    },
    {
     "name": "stdout",
     "output_type": "stream",
     "text": [
      "mode: meta_val, episode:  680, total_val_loss: 0.185584, \n",
      "val_mean_iou:{'otter': 0.9066774641695308,\n",
      "'parthenon': 0.7707286312048975,\n",
      "'pubg_lvl3backpack': 0.5599986796862654,\n",
      "'rugby_ball': 0.7055256631259478,\n",
      "'samarra_mosque': 0.7506006697355156}\n",
      "\n",
      "Episode: 680, Episode Time: 0.064 minutes\n"
     ]
    },
    {
     "name": "stderr",
     "output_type": "stream",
     "text": [
      "8it [00:00, 27.80it/s]\n",
      "8it [00:00, 29.53it/s]\n",
      "38it [00:00, 40.02it/s]\n",
      "8it [00:00, 31.26it/s]\n",
      "8it [00:00, 29.60it/s]\n"
     ]
    },
    {
     "name": "stdout",
     "output_type": "stream",
     "text": [
      "mode: meta_val, episode:  681, total_val_loss: 0.121394, \n",
      "val_mean_iou:{'police_car': 0.8458817163149277,\n",
      "'potted_plant': 0.6860023076308747,\n",
      "'raft': 0.7600675418544887,\n",
      "'rocket': 0.501398900396588,\n",
      "'rubick_cube': 0.9281457965592077}\n",
      "\n",
      "Episode: 681, Episode Time: 0.076 minutes\n"
     ]
    },
    {
     "name": "stderr",
     "output_type": "stream",
     "text": [
      "8it [00:00, 31.20it/s]\n",
      "8it [00:00, 30.44it/s]\n",
      "18it [00:00, 37.71it/s]\n",
      "8it [00:00, 30.90it/s]\n",
      "8it [00:00, 31.19it/s]\n"
     ]
    },
    {
     "name": "stdout",
     "output_type": "stream",
     "text": [
      "mode: meta_val, episode:  682, total_val_loss: 0.201592, \n",
      "val_mean_iou:{'pig': 0.8500811836943516,\n",
      "'pokermon_ball': 0.8170030799950875,\n",
      "'pretzel': 0.6229412164522925,\n",
      "'recreational_vehicle': 0.861935587062998,\n",
      "'rosehip': 0.6307689609919023}\n",
      "\n",
      "Episode: 682, Episode Time: 0.067 minutes\n"
     ]
    },
    {
     "name": "stderr",
     "output_type": "stream",
     "text": [
      "8it [00:00, 29.66it/s]\n",
      "8it [00:00, 29.54it/s]\n",
      "8it [00:00, 31.86it/s]\n",
      "28it [00:00, 39.15it/s]\n",
      "18it [00:00, 37.40it/s]\n"
     ]
    },
    {
     "name": "stdout",
     "output_type": "stream",
     "text": [
      "mode: meta_val, episode:  683, total_val_loss: 0.250810, \n",
      "val_mean_iou:{'pool_table': 0.6632304010729044,\n",
      "'potato': 0.7466732872297509,\n",
      "'rocket': 0.4439777118786391,\n",
      "'saluki': 0.7178174561523811,\n",
      "'seal': 0.8788042751481053}\n",
      "\n",
      "Episode: 683, Episode Time: 0.075 minutes\n"
     ]
    },
    {
     "name": "stderr",
     "output_type": "stream",
     "text": [
      "8it [00:00, 29.15it/s]\n",
      "18it [00:00, 36.44it/s]\n",
      "8it [00:00, 30.84it/s]\n",
      "8it [00:00, 29.62it/s]\n",
      "8it [00:00, 31.51it/s]\n"
     ]
    },
    {
     "name": "stdout",
     "output_type": "stream",
     "text": [
      "mode: meta_val, episode:  684, total_val_loss: 0.247009, \n",
      "val_mean_iou:{'partridge': 0.7435297736474411,\n",
      "'pingpong_ball': 0.10818929636831812,\n",
      "'pomelo': 0.7471837823555199,\n",
      "'razor': 0.6071115806732248,\n",
      "'rugby_ball': 0.7071611118940235}\n",
      "\n",
      "Episode: 684, Episode Time: 0.067 minutes\n"
     ]
    },
    {
     "name": "stderr",
     "output_type": "stream",
     "text": [
      "8it [00:00, 30.60it/s]\n",
      "18it [00:00, 37.13it/s]\n",
      "8it [00:00, 30.74it/s]\n",
      "8it [00:00, 28.08it/s]\n",
      "8it [00:00, 29.63it/s]\n"
     ]
    },
    {
     "name": "stdout",
     "output_type": "stream",
     "text": [
      "mode: meta_val, episode:  685, total_val_loss: 0.214516, \n",
      "val_mean_iou:{'parachute': 0.7703773844840529,\n",
      "'pig': 0.8607561756386413,\n",
      "'pizza': 0.8543227644232525,\n",
      "'pretzel': 0.7042034881986757,\n",
      "'sarong': 0.5473568125989292}\n",
      "\n",
      "Episode: 685, Episode Time: 0.068 minutes\n"
     ]
    },
    {
     "name": "stderr",
     "output_type": "stream",
     "text": [
      "8it [00:00, 29.12it/s]\n",
      "8it [00:00, 31.87it/s]\n",
      "8it [00:00, 30.89it/s]\n",
      "18it [00:00, 37.22it/s]\n",
      "28it [00:00, 38.85it/s]\n"
     ]
    },
    {
     "name": "stdout",
     "output_type": "stream",
     "text": [
      "mode: meta_val, episode:  686, total_val_loss: 0.344802, \n",
      "val_mean_iou:{'panda': 0.7720467513312507,\n",
      "'piano_keyboard': 0.459426307905042,\n",
      "'pickelhaube': 0.7759429792031596,\n",
      "'ptarmigan': 0.8117472919723496,\n",
      "'sled': 0.575523323310483}\n",
      "\n",
      "Episode: 686, Episode Time: 0.075 minutes\n"
     ]
    },
    {
     "name": "stderr",
     "output_type": "stream",
     "text": [
      "8it [00:00, 29.44it/s]\n",
      "8it [00:00, 29.86it/s]\n",
      "8it [00:00, 30.41it/s]\n",
      "8it [00:00, 31.07it/s]\n",
      "8it [00:00, 30.47it/s]\n"
     ]
    },
    {
     "name": "stdout",
     "output_type": "stream",
     "text": [
      "mode: meta_val, episode:  687, total_val_loss: 0.129901, \n",
      "val_mean_iou:{'pickup': 0.9101339653577016,\n",
      "'proboscis': 0.8210704487604006,\n",
      "'pyraminx': 0.7626614719766404,\n",
      "'redshank': 0.5572075472873692,\n",
      "'ringlet_butterfly': 0.9068276127114552}\n",
      "\n",
      "Episode: 687, Episode Time: 0.064 minutes\n"
     ]
    },
    {
     "name": "stderr",
     "output_type": "stream",
     "text": [
      "8it [00:00, 28.68it/s]\n",
      "18it [00:00, 36.56it/s]\n",
      "8it [00:00, 30.24it/s]\n",
      "8it [00:00, 30.46it/s]\n",
      "8it [00:00, 31.34it/s]\n"
     ]
    },
    {
     "name": "stdout",
     "output_type": "stream",
     "text": [
      "mode: meta_val, episode:  688, total_val_loss: 0.216047, \n",
      "val_mean_iou:{'parachute': 0.7889605322285898,\n",
      "'phonograph': 0.8172506891274569,\n",
      "'razor': 0.5929441639241461,\n",
      "'rubber_eraser': 0.8362508012658203,\n",
      "'single_log': 0.2211076384867805}\n",
      "\n",
      "Episode: 688, Episode Time: 0.068 minutes\n"
     ]
    },
    {
     "name": "stderr",
     "output_type": "stream",
     "text": [
      "8it [00:00, 27.22it/s]\n",
      "8it [00:00, 31.17it/s]\n",
      "8it [00:00, 32.19it/s]\n",
      "8it [00:00, 29.76it/s]\n",
      "8it [00:00, 31.28it/s]\n"
     ]
    },
    {
     "name": "stdout",
     "output_type": "stream",
     "text": [
      "mode: meta_val, episode:  689, total_val_loss: 0.218470, \n",
      "val_mean_iou:{'parking_meter': 0.78652420335128,\n",
      "'punching_bag': 0.5063843794052587,\n",
      "'roller_skate': 0.8282472565838878,\n",
      "'sandbar': 0.3597439655715181,\n",
      "'sloth_bear': 0.8976254764307705}\n",
      "\n",
      "Episode: 689, Episode Time: 0.064 minutes\n"
     ]
    },
    {
     "name": "stderr",
     "output_type": "stream",
     "text": [
      "8it [00:00, 29.12it/s]\n",
      "28it [00:00, 37.73it/s]\n",
      "8it [00:00, 30.31it/s]\n",
      "8it [00:00, 29.99it/s]\n",
      "8it [00:00, 28.97it/s]\n"
     ]
    },
    {
     "name": "stdout",
     "output_type": "stream",
     "text": [
      "mode: meta_val, episode:  690, total_val_loss: 0.276684, \n",
      "val_mean_iou:{'owl': 0.7949199876598556,\n",
      "'poached_egg': 0.7974575826511989,\n",
      "'porcupine': 0.8472695611569012,\n",
      "'pretzel': 0.6159985974774513,\n",
      "'refrigerator': 0.6529890992616394}\n",
      "\n",
      "Episode: 690, Episode Time: 0.072 minutes\n"
     ]
    },
    {
     "name": "stderr",
     "output_type": "stream",
     "text": [
      "8it [00:00, 28.19it/s]\n",
      "8it [00:00, 27.81it/s]\n",
      "8it [00:00, 30.76it/s]\n",
      "8it [00:00, 30.12it/s]\n",
      "8it [00:00, 29.98it/s]\n"
     ]
    },
    {
     "name": "stdout",
     "output_type": "stream",
     "text": [
      "mode: meta_val, episode:  691, total_val_loss: 0.234515, \n",
      "val_mean_iou:{'peregine_falcon': 0.7678700161139516,\n",
      "'pill_bottle': 0.8600059962031318,\n",
      "'pretzel': 0.7240673216346092,\n",
      "'red_breasted_merganser': 0.740053270535592,\n",
      "'sealion': 0.881425485681985}\n",
      "\n",
      "Episode: 691, Episode Time: 0.065 minutes\n"
     ]
    },
    {
     "name": "stderr",
     "output_type": "stream",
     "text": [
      "8it [00:00, 29.86it/s]\n",
      "8it [00:00, 30.20it/s]\n",
      "8it [00:00, 30.20it/s]\n",
      "8it [00:00, 30.92it/s]\n",
      "8it [00:00, 31.02it/s]\n"
     ]
    },
    {
     "name": "stdout",
     "output_type": "stream",
     "text": [
      "mode: meta_val, episode:  692, total_val_loss: 0.151625, \n",
      "val_mean_iou:{'panpipe': 0.7077444593497795,\n",
      "'pencil_box': 0.797818882874292,\n",
      "'pubg_airdrop': 0.7998935900768391,\n",
      "'rain_barrel': 0.7562634749857875,\n",
      "'shovel': 0.6389610641219036}\n",
      "\n",
      "Episode: 692, Episode Time: 0.064 minutes\n"
     ]
    },
    {
     "name": "stderr",
     "output_type": "stream",
     "text": [
      "18it [00:00, 34.03it/s]\n",
      "8it [00:00, 29.22it/s]\n",
      "8it [00:00, 30.31it/s]\n",
      "8it [00:00, 29.91it/s]\n",
      "8it [00:00, 29.11it/s]\n"
     ]
    },
    {
     "name": "stdout",
     "output_type": "stream",
     "text": [
      "mode: meta_val, episode:  693, total_val_loss: 0.154959, \n",
      "val_mean_iou:{'paint_brush': 0.6890659322716554,\n",
      "'pinecone': 0.9000370318244155,\n",
      "'proboscis': 0.8110295163127405,\n",
      "'radio': 0.82042989509206,\n",
      "'sea_urchin': 0.7048316282010567}\n",
      "\n",
      "Episode: 693, Episode Time: 0.069 minutes\n"
     ]
    },
    {
     "name": "stderr",
     "output_type": "stream",
     "text": [
      "8it [00:00, 30.17it/s]\n",
      "8it [00:00, 30.40it/s]\n",
      "8it [00:00, 31.25it/s]\n",
      "8it [00:00, 30.60it/s]\n",
      "18it [00:00, 36.20it/s]\n"
     ]
    },
    {
     "name": "stdout",
     "output_type": "stream",
     "text": [
      "mode: meta_val, episode:  694, total_val_loss: 0.151046, \n",
      "val_mean_iou:{'panther': 0.7985007651361418,\n",
      "'papaya': 0.8063114073135407,\n",
      "'raccoon': 0.875170480354428,\n",
      "'recreational_vehicle': 0.8655155550174022,\n",
      "'seal': 0.890894250164702}\n",
      "\n",
      "Episode: 694, Episode Time: 0.067 minutes\n"
     ]
    },
    {
     "name": "stderr",
     "output_type": "stream",
     "text": [
      "18it [00:00, 36.48it/s]\n",
      "8it [00:00, 30.57it/s]\n",
      "8it [00:00, 30.32it/s]\n",
      "8it [00:00, 30.80it/s]\n",
      "8it [00:00, 30.36it/s]\n"
     ]
    },
    {
     "name": "stdout",
     "output_type": "stream",
     "text": [
      "mode: meta_val, episode:  695, total_val_loss: 0.252470, \n",
      "val_mean_iou:{'pool_table': 0.587097195879868,\n",
      "'quail_egg': 0.8171160357995787,\n",
      "'razor': 0.6353946052123196,\n",
      "'red_bayberry': 0.7740983200531699,\n",
      "'rubber_eraser': 0.7693928920331503}\n",
      "\n",
      "Episode: 695, Episode Time: 0.068 minutes\n"
     ]
    },
    {
     "name": "stderr",
     "output_type": "stream",
     "text": [
      "8it [00:00, 29.72it/s]\n",
      "8it [00:00, 28.52it/s]\n",
      "18it [00:00, 37.65it/s]\n",
      "8it [00:00, 28.57it/s]\n",
      "8it [00:00, 31.56it/s]\n"
     ]
    },
    {
     "name": "stdout",
     "output_type": "stream",
     "text": [
      "mode: meta_val, episode:  696, total_val_loss: 0.199312, \n",
      "val_mean_iou:{'oyster': 0.8285201723724578,\n",
      "'radio_telescope': 0.8400042463025333,\n",
      "'running_shoe': 0.6278865996049128,\n",
      "'sea_urchin': 0.7881991609025405,\n",
      "'soap': 0.6759350181249224}\n",
      "\n",
      "Episode: 696, Episode Time: 0.068 minutes\n"
     ]
    },
    {
     "name": "stderr",
     "output_type": "stream",
     "text": [
      "8it [00:00, 28.72it/s]\n",
      "8it [00:00, 31.52it/s]\n",
      "8it [00:00, 30.90it/s]\n",
      "8it [00:00, 29.51it/s]\n",
      "18it [00:00, 36.52it/s]\n"
     ]
    },
    {
     "name": "stdout",
     "output_type": "stream",
     "text": [
      "mode: meta_val, episode:  697, total_val_loss: 0.180497, \n",
      "val_mean_iou:{'parthenon': 0.7366445031709317,\n",
      "'pig': 0.863830490978622,\n",
      "'prairie_chicken': 0.8600104608783807,\n",
      "'siamang': 0.8420416939654753,\n",
      "'sidewinder': 0.8150344203203346}\n",
      "\n",
      "Episode: 697, Episode Time: 0.068 minutes\n"
     ]
    },
    {
     "name": "stderr",
     "output_type": "stream",
     "text": [
      "8it [00:00, 29.64it/s]\n",
      "8it [00:00, 31.18it/s]\n",
      "8it [00:00, 29.93it/s]\n",
      "8it [00:00, 29.20it/s]\n",
      "18it [00:00, 38.11it/s]\n"
     ]
    },
    {
     "name": "stdout",
     "output_type": "stream",
     "text": [
      "mode: meta_val, episode:  698, total_val_loss: 0.241387, \n",
      "val_mean_iou:{'pingpong_ball': 0.13888363035016332,\n",
      "'pistachio': 0.7794405361617545,\n",
      "'pizza': 0.8361793282262702,\n",
      "'raccoon': 0.8482894083663697,\n",
      "'rose': 0.6993157290271593}\n",
      "\n",
      "Episode: 698, Episode Time: 0.068 minutes\n"
     ]
    },
    {
     "name": "stderr",
     "output_type": "stream",
     "text": [
      "8it [00:00, 26.21it/s]\n",
      "8it [00:00, 32.08it/s]\n",
      "8it [00:00, 31.66it/s]\n",
      "88it [00:02, 42.34it/s]\n",
      "8it [00:00, 29.49it/s]\n"
     ]
    },
    {
     "name": "stdout",
     "output_type": "stream",
     "text": [
      "mode: meta_val, episode:  699, total_val_loss: 0.282646, \n",
      "val_mean_iou:{'pen': 0.6968920067574053,\n",
      "'plaice': 0.8157017889626552,\n",
      "'redheart': 0.0387316173475351,\n",
      "'shotgun': 0.5189111472544552,\n",
      "'solar_dish': 0.810047221122644}\n",
      "\n",
      "Episode: 699, Episode Time: 0.095 minutes\n"
     ]
    },
    {
     "name": "stderr",
     "output_type": "stream",
     "text": [
      "8it [00:00, 29.56it/s]\n",
      "28it [00:00, 39.98it/s]\n",
      "8it [00:00, 30.53it/s]\n",
      "18it [00:00, 37.31it/s]\n",
      "18it [00:00, 36.07it/s]\n"
     ]
    },
    {
     "name": "stdout",
     "output_type": "stream",
     "text": [
      "mode: meta_val, episode:  700, total_val_loss: 0.168190, \n",
      "val_mean_iou:{'park_bench': 0.6491982380078898,\n",
      "'pumpkin': 0.8794763630919488,\n",
      "'pyramid': 0.7447983410948354,\n",
      "'quail': 0.7814759222021782,\n",
      "'sidewinder': 0.745930869175109}\n",
      "\n",
      "Episode: 700, Episode Time: 0.079 minutes\n",
      "num tasks: 5\n",
      "tr_imgs shape: torch.Size([5, 2, 224, 224, 3]), tr_masks shape: torch.Size([5, 2, 224, 224]) val_imgs shape: torch.Size([5, 5, 224, 224, 3]), val_masks shape: torch.Size([5, 5, 224, 224])\n"
     ]
    },
    {
     "name": "stderr",
     "output_type": "stream",
     "text": [
      "\r",
      "0it [00:00, ?it/s]"
     ]
    },
    {
     "name": "stdout",
     "output_type": "stream",
     "text": [
      "num tasks: 5\n",
      "tr_imgs shape: torch.Size([5, 2, 224, 224, 3]), tr_masks shape: torch.Size([5, 2, 224, 224]) val_imgs shape: 5 list of paths, val_masks shape: 5 list of paths\n"
     ]
    },
    {
     "name": "stderr",
     "output_type": "stream",
     "text": [
      "18it [00:00, 37.24it/s]\n",
      "8it [00:00, 31.32it/s]\n",
      "8it [00:00, 31.24it/s]\n",
      "8it [00:00, 30.63it/s]\n",
      "8it [00:00, 29.87it/s]\n"
     ]
    },
    {
     "name": "stdout",
     "output_type": "stream",
     "text": [
      "mode: meta_val, episode:  701, total_val_loss: 0.181733, \n",
      "val_mean_iou:{'pomelo': 0.7901243013262572,\n",
      "'potato_chips': 0.7184145309607837,\n",
      "'rocking_chair': 0.7304586922719862,\n",
      "'rose': 0.7226380738750914,\n",
      "'smoothing_iron': 0.7949954331580127}\n",
      "\n",
      "Episode: 701, Episode Time: 0.067 minutes\n"
     ]
    },
    {
     "name": "stderr",
     "output_type": "stream",
     "text": [
      "8it [00:00, 30.55it/s]\n",
      "8it [00:00, 27.06it/s]\n",
      "8it [00:00, 31.21it/s]\n",
      "8it [00:00, 29.49it/s]\n",
      "8it [00:00, 30.55it/s]\n"
     ]
    },
    {
     "name": "stdout",
     "output_type": "stream",
     "text": [
      "mode: meta_val, episode:  702, total_val_loss: 0.190963, \n",
      "val_mean_iou:{'peregine_falcon': 0.7887431696316605,\n",
      "'platypus': 0.8442114895439441,\n",
      "'red_breasted_merganser': 0.7023552392585188,\n",
      "'reflex_camera': 0.8209100905126775,\n",
      "'rubick_cube': 0.9066395305926457}\n",
      "\n",
      "Episode: 702, Episode Time: 0.064 minutes\n"
     ]
    },
    {
     "name": "stderr",
     "output_type": "stream",
     "text": [
      "8it [00:00, 26.22it/s]\n",
      "8it [00:00, 28.00it/s]\n",
      "88it [00:02, 42.50it/s]\n",
      "28it [00:00, 39.38it/s]\n",
      "8it [00:00, 30.74it/s]\n"
     ]
    },
    {
     "name": "stdout",
     "output_type": "stream",
     "text": [
      "mode: meta_val, episode:  703, total_val_loss: 0.178532, \n",
      "val_mean_iou:{'paper_crane': 0.8043884864490659,\n",
      "'pen': 0.7065542363106652,\n",
      "'pyramid': 0.7550949832629205,\n",
      "'quail_egg': 0.7565324799360823,\n",
      "'shopping_cart': 0.747915290810875}\n",
      "\n",
      "Episode: 703, Episode Time: 0.102 minutes\n"
     ]
    },
    {
     "name": "stderr",
     "output_type": "stream",
     "text": [
      "28it [00:00, 38.41it/s]\n",
      "8it [00:00, 30.69it/s]\n",
      "8it [00:00, 30.67it/s]\n",
      "8it [00:00, 31.04it/s]\n",
      "8it [00:00, 31.05it/s]\n"
     ]
    },
    {
     "name": "stdout",
     "output_type": "stream",
     "text": [
      "mode: meta_val, episode:  704, total_val_loss: 0.276878, \n",
      "val_mean_iou:{'potato': 0.7582133091283121,\n",
      "'redheart': 0.04609485310420053,\n",
      "'ruffed_grouse': 0.9027712806871381,\n",
      "'sandbar': 0.25636454138345416,\n",
      "'scorpion': 0.7377521146673395}\n",
      "\n",
      "Episode: 704, Episode Time: 0.071 minutes\n"
     ]
    },
    {
     "name": "stderr",
     "output_type": "stream",
     "text": [
      "28it [00:00, 38.57it/s]\n",
      "8it [00:00, 30.06it/s]\n",
      "8it [00:00, 30.78it/s]\n",
      "8it [00:00, 30.27it/s]\n",
      "8it [00:00, 31.14it/s]\n"
     ]
    },
    {
     "name": "stdout",
     "output_type": "stream",
     "text": [
      "mode: meta_val, episode:  705, total_val_loss: 0.136233, \n",
      "val_mean_iou:{'owl': 0.7855323396347128,\n",
      "'red_bayberry': 0.7180905189409086,\n",
      "'rocket': 0.499551645487778,\n",
      "'ruddy_turnstone': 0.8398042582440515,\n",
      "'sealion': 0.9182322170312941}\n",
      "\n",
      "Episode: 705, Episode Time: 0.071 minutes\n"
     ]
    },
    {
     "name": "stderr",
     "output_type": "stream",
     "text": [
      "8it [00:00, 28.15it/s]\n",
      "8it [00:00, 31.03it/s]\n",
      "8it [00:00, 32.34it/s]\n",
      "18it [00:00, 38.48it/s]\n",
      "8it [00:00, 30.52it/s]\n"
     ]
    },
    {
     "name": "stdout",
     "output_type": "stream",
     "text": [
      "mode: meta_val, episode:  706, total_val_loss: 0.129877, \n",
      "val_mean_iou:{'pinecone': 0.8729604511253092,\n",
      "'poached_egg': 0.8003955861539123,\n",
      "'rocking_chair': 0.7419562529619061,\n",
      "'screw': 0.6771817388899547,\n",
      "'screwdriver': 0.7357761437546475}\n",
      "\n",
      "Episode: 706, Episode Time: 0.067 minutes\n"
     ]
    },
    {
     "name": "stderr",
     "output_type": "stream",
     "text": [
      "38it [00:00, 40.77it/s]\n",
      "8it [00:00, 30.68it/s]\n",
      "8it [00:00, 31.75it/s]\n",
      "8it [00:00, 30.64it/s]\n",
      "8it [00:00, 31.03it/s]\n"
     ]
    },
    {
     "name": "stdout",
     "output_type": "stream",
     "text": [
      "mode: meta_val, episode:  707, total_val_loss: 0.191571, \n",
      "val_mean_iou:{'paint_brush': 0.7040510130678314,\n",
      "'raft': 0.7608799068531072,\n",
      "'rain_barrel': 0.7607671583504637,\n",
      "'samarra_mosque': 0.7016090820895957,\n",
      "'single_log': 0.21607075162583533}\n",
      "\n",
      "Episode: 707, Episode Time: 0.075 minutes\n"
     ]
    },
    {
     "name": "stderr",
     "output_type": "stream",
     "text": [
      "18it [00:00, 36.58it/s]\n",
      "8it [00:00, 29.80it/s]\n",
      "8it [00:00, 28.27it/s]\n",
      "8it [00:00, 30.76it/s]\n",
      "8it [00:00, 28.26it/s]\n"
     ]
    },
    {
     "name": "stdout",
     "output_type": "stream",
     "text": [
      "mode: meta_val, episode:  708, total_val_loss: 0.244757, \n",
      "val_mean_iou:{'peregine_falcon': 0.7993032007775696,\n",
      "'pinwheel': 0.6923992000608958,\n",
      "'quail': 0.7868684070587916,\n",
      "'red_fox': 0.8536584100371869,\n",
      "'sandbar': 0.3976347994437591}\n",
      "\n",
      "Episode: 708, Episode Time: 0.068 minutes\n"
     ]
    },
    {
     "name": "stderr",
     "output_type": "stream",
     "text": [
      "8it [00:00, 30.59it/s]\n",
      "8it [00:00, 30.19it/s]\n",
      "8it [00:00, 30.86it/s]\n",
      "18it [00:00, 37.02it/s]\n",
      "8it [00:00, 29.88it/s]\n"
     ]
    },
    {
     "name": "stdout",
     "output_type": "stream",
     "text": [
      "mode: meta_val, episode:  709, total_val_loss: 0.277696, \n",
      "val_mean_iou:{'potato_chips': 0.6019998494238339,\n",
      "'puma_logo': 0.3370172000718059,\n",
      "'pyraminx': 0.7809640017939774,\n",
      "'sandwich': 0.7605919776952891,\n",
      "'scabbard': 0.41444473370973384}\n",
      "\n",
      "Episode: 709, Episode Time: 0.067 minutes\n"
     ]
    },
    {
     "name": "stderr",
     "output_type": "stream",
     "text": [
      "8it [00:00, 29.77it/s]\n",
      "8it [00:00, 29.22it/s]\n",
      "8it [00:00, 31.30it/s]\n",
      "8it [00:00, 31.15it/s]\n",
      "8it [00:00, 30.93it/s]\n"
     ]
    },
    {
     "name": "stdout",
     "output_type": "stream",
     "text": [
      "mode: meta_val, episode:  710, total_val_loss: 0.262693, \n",
      "val_mean_iou:{'park_bench': 0.6458063011150792,\n",
      "'seagull': 0.8275585993249293,\n",
      "'sewing_machine': 0.5628704837363726,\n",
      "'single_log': 0.22601184442446282,\n",
      "'soccer_ball': 0.5095456086555479}\n",
      "\n",
      "Episode: 710, Episode Time: 0.064 minutes\n"
     ]
    },
    {
     "name": "stderr",
     "output_type": "stream",
     "text": [
      "8it [00:00, 30.53it/s]\n",
      "8it [00:00, 29.71it/s]\n",
      "8it [00:00, 30.71it/s]\n",
      "8it [00:00, 31.52it/s]\n",
      "18it [00:00, 36.95it/s]\n"
     ]
    },
    {
     "name": "stdout",
     "output_type": "stream",
     "text": [
      "mode: meta_val, episode:  711, total_val_loss: 0.276944, \n",
      "val_mean_iou:{'quail': 0.7864886450292962,\n",
      "'sandbar': 0.3667875845778287,\n",
      "'sea_urchin': 0.7195926322388099,\n",
      "'ski_mask': 0.64824954443484,\n",
      "'solar_dish': 0.7900621623950171}\n",
      "\n",
      "Episode: 711, Episode Time: 0.068 minutes\n"
     ]
    },
    {
     "name": "stderr",
     "output_type": "stream",
     "text": [
      "8it [00:00, 29.42it/s]\n",
      "38it [00:00, 40.80it/s]\n",
      "8it [00:00, 30.07it/s]\n",
      "8it [00:00, 33.00it/s]\n",
      "8it [00:00, 30.39it/s]\n"
     ]
    },
    {
     "name": "stdout",
     "output_type": "stream",
     "text": [
      "mode: meta_val, episode:  712, total_val_loss: 0.371204, \n",
      "val_mean_iou:{'parking_meter': 0.714931364724927,\n",
      "'peacock': 0.748484340433564,\n",
      "'piano_keyboard': 0.40766207358072304,\n",
      "'raft': 0.7725744384246406,\n",
      "'siamese_cat': 0.8445969722007528}\n",
      "\n",
      "Episode: 712, Episode Time: 0.075 minutes\n"
     ]
    },
    {
     "name": "stderr",
     "output_type": "stream",
     "text": [
      "8it [00:00, 30.99it/s]\n",
      "8it [00:00, 30.98it/s]\n",
      "128it [00:03, 41.54it/s]\n",
      "8it [00:00, 30.32it/s]\n",
      "8it [00:00, 30.28it/s]\n"
     ]
    },
    {
     "name": "stdout",
     "output_type": "stream",
     "text": [
      "mode: meta_val, episode:  713, total_val_loss: 0.189355, \n",
      "val_mean_iou:{'ox': 0.8383790528332006,\n",
      "'refrigerator': 0.6724958787143951,\n",
      "'scarerow': 0.6370196636061369,\n",
      "'shakuhachi': 0.5396399549541933,\n",
      "'snail': 0.7502755082882786}\n",
      "\n",
      "Episode: 713, Episode Time: 0.111 minutes\n"
     ]
    },
    {
     "name": "stderr",
     "output_type": "stream",
     "text": [
      "8it [00:00, 29.13it/s]\n",
      "8it [00:00, 30.70it/s]\n",
      "8it [00:00, 30.77it/s]\n",
      "8it [00:00, 29.90it/s]\n",
      "8it [00:00, 31.58it/s]\n"
     ]
    },
    {
     "name": "stdout",
     "output_type": "stream",
     "text": [
      "mode: meta_val, episode:  714, total_val_loss: 0.238595, \n",
      "val_mean_iou:{'oyster': 0.7896092365005982,\n",
      "'parallel_bars': 0.27732686294139103,\n",
      "'pear': 0.7356758472031555,\n",
      "'police_car': 0.847344650115168,\n",
      "'pufferfish': 0.8424797903597498}\n",
      "\n",
      "Episode: 714, Episode Time: 0.064 minutes\n"
     ]
    },
    {
     "name": "stderr",
     "output_type": "stream",
     "text": [
      "88it [00:02, 41.47it/s]\n",
      "8it [00:00, 30.95it/s]\n",
      "8it [00:00, 28.77it/s]\n",
      "8it [00:00, 30.13it/s]\n",
      "8it [00:00, 29.81it/s]\n"
     ]
    },
    {
     "name": "stdout",
     "output_type": "stream",
     "text": [
      "mode: meta_val, episode:  715, total_val_loss: 0.117236, \n",
      "val_mean_iou:{'pen': 0.7205807855705237,\n",
      "'radio_telescope': 0.8354176559860407,\n",
      "'raven': 0.8740960147216328,\n",
      "'rock_beauty': 0.7472962368021179,\n",
      "'roller_skate': 0.8632770542686745}\n",
      "\n",
      "Episode: 715, Episode Time: 0.094 minutes\n"
     ]
    },
    {
     "name": "stderr",
     "output_type": "stream",
     "text": [
      "8it [00:00, 29.05it/s]\n",
      "8it [00:00, 30.05it/s]\n",
      "8it [00:00, 29.43it/s]\n",
      "8it [00:00, 31.28it/s]\n",
      "18it [00:00, 37.76it/s]\n"
     ]
    },
    {
     "name": "stdout",
     "output_type": "stream",
     "text": [
      "mode: meta_val, episode:  716, total_val_loss: 0.366535, \n",
      "val_mean_iou:{'paper_crane': 0.7848740496788659,\n",
      "'pokermon_ball': 0.8559257626776573,\n",
      "'raven': 0.8873843103970096,\n",
      "'screw': 0.6786152595687395,\n",
      "'shower_curtain': 0.5388034330878224}\n",
      "\n",
      "Episode: 716, Episode Time: 0.067 minutes\n"
     ]
    },
    {
     "name": "stderr",
     "output_type": "stream",
     "text": [
      "28it [00:00, 37.80it/s]\n",
      "8it [00:00, 29.96it/s]\n",
      "8it [00:00, 30.77it/s]\n",
      "8it [00:00, 29.47it/s]\n",
      "8it [00:00, 30.14it/s]\n"
     ]
    },
    {
     "name": "stdout",
     "output_type": "stream",
     "text": [
      "mode: meta_val, episode:  717, total_val_loss: 0.170068, \n",
      "val_mean_iou:{'potato': 0.7678703278986158,\n",
      "'potted_plant': 0.7300171325441387,\n",
      "'rhinoceros': 0.8984800886570141,\n",
      "'running_shoe': 0.5290241871093737,\n",
      "'sea_urchin': 0.7039204023067896}\n",
      "\n",
      "Episode: 717, Episode Time: 0.072 minutes\n"
     ]
    },
    {
     "name": "stderr",
     "output_type": "stream",
     "text": [
      "8it [00:00, 28.53it/s]\n",
      "8it [00:00, 29.74it/s]\n",
      "8it [00:00, 29.97it/s]\n",
      "18it [00:00, 36.98it/s]\n",
      "8it [00:00, 29.28it/s]\n"
     ]
    },
    {
     "name": "stdout",
     "output_type": "stream",
     "text": [
      "mode: meta_val, episode:  718, total_val_loss: 0.207128, \n",
      "val_mean_iou:{'pill_bottle': 0.8488138759194073,\n",
      "'pumpkin': 0.8919037674348667,\n",
      "'red_bayberry': 0.6908027883130601,\n",
      "'shumai': 0.623536247845099,\n",
      "'smoothing_iron': 0.7999760239639488}\n",
      "\n",
      "Episode: 718, Episode Time: 0.068 minutes\n"
     ]
    },
    {
     "name": "stderr",
     "output_type": "stream",
     "text": [
      "8it [00:00, 29.74it/s]\n",
      "8it [00:00, 29.91it/s]\n",
      "8it [00:00, 30.05it/s]\n",
      "8it [00:00, 30.12it/s]\n",
      "8it [00:00, 31.39it/s]\n"
     ]
    },
    {
     "name": "stdout",
     "output_type": "stream",
     "text": [
      "mode: meta_val, episode:  719, total_val_loss: 0.201587, \n",
      "val_mean_iou:{'polar_bear': 0.9068130068854541,\n",
      "'pubg_lvl3backpack': 0.4832909763317135,\n",
      "'recreational_vehicle': 0.8556796072105802,\n",
      "'single_log': 0.2534907369223771,\n",
      "'snail': 0.7727175509156115}\n",
      "\n",
      "Episode: 719, Episode Time: 0.064 minutes\n"
     ]
    },
    {
     "name": "stderr",
     "output_type": "stream",
     "text": [
      "8it [00:00, 29.89it/s]\n",
      "8it [00:00, 30.52it/s]\n",
      "8it [00:00, 30.96it/s]\n",
      "8it [00:00, 31.34it/s]\n",
      "8it [00:00, 31.50it/s]\n"
     ]
    },
    {
     "name": "stdout",
     "output_type": "stream",
     "text": [
      "mode: meta_val, episode:  720, total_val_loss: 0.188644, \n",
      "val_mean_iou:{'paint_brush': 0.7296193380143412,\n",
      "'peanut': 0.7301683693152534,\n",
      "'quill_pen': 0.39319340056607105,\n",
      "'school_bus': 0.7628291297442665,\n",
      "'sea_cucumber': 0.8164896795443788}\n",
      "\n",
      "Episode: 720, Episode Time: 0.063 minutes\n"
     ]
    },
    {
     "name": "stderr",
     "output_type": "stream",
     "text": [
      "8it [00:00, 30.24it/s]\n",
      "8it [00:00, 32.17it/s]\n",
      "8it [00:00, 30.50it/s]\n",
      "8it [00:00, 28.98it/s]\n",
      "18it [00:00, 36.92it/s]\n"
     ]
    },
    {
     "name": "stdout",
     "output_type": "stream",
     "text": [
      "mode: meta_val, episode:  721, total_val_loss: 0.388450, \n",
      "val_mean_iou:{'paper_plane': 0.6266652589150676,\n",
      "'piano_keyboard': 0.34040686681189297,\n",
      "'razor': 0.5976629958868966,\n",
      "'recreational_vehicle': 0.861928296945899,\n",
      "'shuriken': 0.5403364966838414}\n",
      "\n",
      "Episode: 721, Episode Time: 0.068 minutes\n"
     ]
    },
    {
     "name": "stderr",
     "output_type": "stream",
     "text": [
      "8it [00:00, 29.31it/s]\n",
      "8it [00:00, 30.05it/s]\n",
      "8it [00:00, 30.98it/s]\n",
      "8it [00:00, 31.33it/s]\n",
      "8it [00:00, 31.92it/s]\n"
     ]
    },
    {
     "name": "stdout",
     "output_type": "stream",
     "text": [
      "mode: meta_val, episode:  722, total_val_loss: 0.224296, \n",
      "val_mean_iou:{'parallel_bars': 0.284892061780573,\n",
      "'pyramid_cube': 0.7991960189327233,\n",
      "'quill_pen': 0.35797994202717354,\n",
      "'rosehip': 0.7372398121686836,\n",
      "'sea_cucumber': 0.824908991034701}\n",
      "\n",
      "Episode: 722, Episode Time: 0.064 minutes\n"
     ]
    },
    {
     "name": "stderr",
     "output_type": "stream",
     "text": [
      "8it [00:00, 25.80it/s]\n",
      "18it [00:00, 36.47it/s]\n",
      "8it [00:00, 30.50it/s]\n",
      "8it [00:00, 29.62it/s]\n",
      "8it [00:00, 29.83it/s]\n"
     ]
    },
    {
     "name": "stdout",
     "output_type": "stream",
     "text": [
      "mode: meta_val, episode:  723, total_val_loss: 0.262267, \n",
      "val_mean_iou:{'paper_towel': 0.4970494889591475,\n",
      "'peanut': 0.7015331973301598,\n",
      "'potato_chips': 0.6565193884509108,\n",
      "'rose': 0.7123160826378193,\n",
      "'snowman': 0.7253233979949}\n",
      "\n",
      "Episode: 723, Episode Time: 0.068 minutes\n"
     ]
    },
    {
     "name": "stderr",
     "output_type": "stream",
     "text": [
      "8it [00:00, 30.40it/s]\n",
      "8it [00:00, 31.76it/s]\n",
      "8it [00:00, 30.23it/s]\n",
      "8it [00:00, 29.98it/s]\n",
      "8it [00:00, 31.48it/s]\n"
     ]
    },
    {
     "name": "stdout",
     "output_type": "stream",
     "text": [
      "mode: meta_val, episode:  724, total_val_loss: 0.273699, \n",
      "val_mean_iou:{'pyramid_cube': 0.7765153578057513,\n",
      "'redheart': 0.046381882369479446,\n",
      "'samarra_mosque': 0.7506550698736278,\n",
      "'scissors': 0.5649386932685364,\n",
      "'sock': 0.6887347064902556}\n",
      "\n",
      "Episode: 724, Episode Time: 0.063 minutes\n"
     ]
    },
    {
     "name": "stderr",
     "output_type": "stream",
     "text": [
      "8it [00:00, 28.00it/s]\n",
      "18it [00:00, 38.11it/s]\n",
      "8it [00:00, 31.41it/s]\n",
      "8it [00:00, 29.19it/s]\n",
      "18it [00:00, 37.42it/s]\n"
     ]
    },
    {
     "name": "stdout",
     "output_type": "stream",
     "text": [
      "mode: meta_val, episode:  725, total_val_loss: 0.178782, \n",
      "val_mean_iou:{'poker': 0.8062811095318435,\n",
      "'pomelo': 0.800411265960834,\n",
      "'sealion': 0.9174522202519967,\n",
      "'snowplow': 0.8049715862226612,\n",
      "'soap': 0.7085614578669646}\n",
      "\n",
      "Episode: 725, Episode Time: 0.071 minutes\n"
     ]
    },
    {
     "name": "stderr",
     "output_type": "stream",
     "text": [
      "8it [00:00, 29.41it/s]\n",
      "18it [00:00, 36.64it/s]\n",
      "18it [00:00, 37.55it/s]\n",
      "8it [00:00, 31.84it/s]\n",
      "8it [00:00, 30.08it/s]\n"
     ]
    },
    {
     "name": "stdout",
     "output_type": "stream",
     "text": [
      "mode: meta_val, episode:  726, total_val_loss: 0.229727, \n",
      "val_mean_iou:{'pretzel': 0.6842977079487178,\n",
      "'pubg_lvl3helmet': 0.3090396876771625,\n",
      "'radio': 0.8744847978562104,\n",
      "'seal': 0.9289119203947647,\n",
      "'smoothing_iron': 0.8198395297881996}\n",
      "\n",
      "Episode: 726, Episode Time: 0.071 minutes\n"
     ]
    },
    {
     "name": "stderr",
     "output_type": "stream",
     "text": [
      "18it [00:00, 36.92it/s]\n",
      "8it [00:00, 30.08it/s]\n",
      "8it [00:00, 30.06it/s]\n",
      "8it [00:00, 30.68it/s]\n",
      "8it [00:00, 29.02it/s]\n"
     ]
    },
    {
     "name": "stdout",
     "output_type": "stream",
     "text": [
      "mode: meta_val, episode:  727, total_val_loss: 0.118620, \n",
      "val_mean_iou:{'parachute': 0.7326283679498138,\n",
      "'pumpkin_pie': 0.8565983700059623,\n",
      "'raven': 0.886324097501777,\n",
      "'roller_skate': 0.8690234049859029,\n",
      "'screw': 0.677789753854531}\n",
      "\n",
      "Episode: 727, Episode Time: 0.068 minutes\n"
     ]
    },
    {
     "name": "stderr",
     "output_type": "stream",
     "text": [
      "8it [00:00, 31.37it/s]\n",
      "8it [00:00, 28.69it/s]\n",
      "8it [00:00, 31.58it/s]\n",
      "8it [00:00, 31.25it/s]\n",
      "8it [00:00, 31.91it/s]\n"
     ]
    },
    {
     "name": "stdout",
     "output_type": "stream",
     "text": [
      "mode: meta_val, episode:  728, total_val_loss: 0.167970, \n",
      "val_mean_iou:{'paper_crane': 0.7638557286996773,\n",
      "'porcupine': 0.757894388211628,\n",
      "'shih-tzu': 0.8635783056761981,\n",
      "'sloth_bear': 0.83824601225362,\n",
      "'solar_dish': 0.7749651775824355}\n",
      "\n",
      "Episode: 728, Episode Time: 0.064 minutes\n"
     ]
    },
    {
     "name": "stderr",
     "output_type": "stream",
     "text": [
      "8it [00:00, 30.50it/s]\n",
      "8it [00:00, 29.46it/s]\n",
      "18it [00:00, 36.20it/s]\n",
      "8it [00:00, 30.98it/s]\n",
      "8it [00:00, 30.40it/s]\n"
     ]
    },
    {
     "name": "stdout",
     "output_type": "stream",
     "text": [
      "mode: meta_val, episode:  729, total_val_loss: 0.179558, \n",
      "val_mean_iou:{'pizza': 0.8307882308022991,\n",
      "'ptarmigan': 0.8630183471509966,\n",
      "'pumpkin': 0.8752677422536366,\n",
      "'shopping_cart': 0.7585603918976385,\n",
      "'snow_leopard': 0.8139252225353893}\n",
      "\n",
      "Episode: 729, Episode Time: 0.067 minutes\n"
     ]
    },
    {
     "name": "stderr",
     "output_type": "stream",
     "text": [
      "8it [00:00, 29.55it/s]\n",
      "8it [00:00, 29.99it/s]\n",
      "8it [00:00, 29.89it/s]\n",
      "8it [00:00, 29.43it/s]\n",
      "8it [00:00, 30.75it/s]\n"
     ]
    },
    {
     "name": "stdout",
     "output_type": "stream",
     "text": [
      "mode: meta_val, episode:  730, total_val_loss: 0.177248, \n",
      "val_mean_iou:{'parking_meter': 0.7344590284567813,\n",
      "'persian_cat': 0.9074160281090689,\n",
      "'polecat': 0.8314990044668562,\n",
      "'ringlet_butterfly': 0.9339277971010795,\n",
      "'sniper_rifle': 0.6125602318937217}\n",
      "\n",
      "Episode: 730, Episode Time: 0.064 minutes\n"
     ]
    },
    {
     "name": "stderr",
     "output_type": "stream",
     "text": [
      "8it [00:00, 29.99it/s]\n",
      "8it [00:00, 30.68it/s]\n",
      "8it [00:00, 31.39it/s]\n",
      "8it [00:00, 31.36it/s]\n",
      "8it [00:00, 30.78it/s]\n"
     ]
    },
    {
     "name": "stdout",
     "output_type": "stream",
     "text": [
      "mode: meta_val, episode:  731, total_val_loss: 0.168880, \n",
      "val_mean_iou:{'partridge': 0.8162755977418871,\n",
      "'pepitas': 0.7327764488829593,\n",
      "'sarong': 0.5839927630865394,\n",
      "'seagull': 0.8270477485877652,\n",
      "'siamang': 0.8324219870507343}\n",
      "\n",
      "Episode: 731, Episode Time: 0.064 minutes\n"
     ]
    },
    {
     "name": "stderr",
     "output_type": "stream",
     "text": [
      "8it [00:00, 31.21it/s]\n",
      "28it [00:00, 37.63it/s]\n",
      "8it [00:00, 29.49it/s]\n",
      "8it [00:00, 29.23it/s]\n",
      "18it [00:00, 36.68it/s]\n"
     ]
    },
    {
     "name": "stdout",
     "output_type": "stream",
     "text": [
      "mode: meta_val, episode:  732, total_val_loss: 0.206908, \n",
      "val_mean_iou:{'panther': 0.8453655481000646,\n",
      "'pineapple': 0.5938978076512541,\n",
      "'poker': 0.7556044372064182,\n",
      "'potato': 0.7493648283445898,\n",
      "'red_breasted_merganser': 0.729953985600052}\n",
      "\n",
      "Episode: 732, Episode Time: 0.076 minutes\n"
     ]
    },
    {
     "name": "stderr",
     "output_type": "stream",
     "text": [
      "8it [00:00, 29.65it/s]\n",
      "8it [00:00, 30.84it/s]\n",
      "8it [00:00, 30.49it/s]\n",
      "8it [00:00, 31.89it/s]\n",
      "8it [00:00, 30.23it/s]\n"
     ]
    },
    {
     "name": "stdout",
     "output_type": "stream",
     "text": [
      "mode: meta_val, episode:  733, total_val_loss: 0.164820, \n",
      "val_mean_iou:{'pteropus': 0.8477979736719438,\n",
      "'saltshaker': 0.8981450985248596,\n",
      "'scissors': 0.5538415946922138,\n",
      "'shotgun': 0.5647024755430362,\n",
      "'snowmobile': 0.5042834072134964}\n",
      "\n",
      "Episode: 733, Episode Time: 0.063 minutes\n"
     ]
    },
    {
     "name": "stderr",
     "output_type": "stream",
     "text": [
      "18it [00:00, 35.62it/s]\n",
      "8it [00:00, 30.74it/s]\n",
      "8it [00:00, 29.93it/s]\n",
      "8it [00:00, 30.05it/s]\n",
      "8it [00:00, 29.50it/s]\n"
     ]
    },
    {
     "name": "stdout",
     "output_type": "stream",
     "text": [
      "mode: meta_val, episode:  734, total_val_loss: 0.210343, \n",
      "val_mean_iou:{'otter': 0.8733678583609876,\n",
      "'partridge': 0.7758493583572394,\n",
      "'pool_table': 0.5592969168133328,\n",
      "'razor': 0.6233209375635007,\n",
      "'shih-tzu': 0.8486960247669405}\n",
      "\n",
      "Episode: 734, Episode Time: 0.068 minutes\n"
     ]
    },
    {
     "name": "stderr",
     "output_type": "stream",
     "text": [
      "8it [00:00, 26.80it/s]\n",
      "8it [00:00, 30.16it/s]\n",
      "8it [00:00, 31.22it/s]\n",
      "8it [00:00, 28.81it/s]\n",
      "8it [00:00, 31.75it/s]\n"
     ]
    },
    {
     "name": "stdout",
     "output_type": "stream",
     "text": [
      "mode: meta_val, episode:  735, total_val_loss: 0.290497, \n",
      "val_mean_iou:{'police_car': 0.7871475361715211,\n",
      "'pretzel': 0.6261731962551353,\n",
      "'puma_logo': 0.31132300433269106,\n",
      "'pumpkin_pie': 0.8539528725406071,\n",
      "'running_shoe': 0.5251207348416641}\n",
      "\n",
      "Episode: 735, Episode Time: 0.065 minutes\n"
     ]
    },
    {
     "name": "stderr",
     "output_type": "stream",
     "text": [
      "18it [00:00, 34.30it/s]\n",
      "8it [00:00, 29.17it/s]\n",
      "8it [00:00, 29.51it/s]\n",
      "8it [00:00, 30.94it/s]\n",
      "18it [00:00, 35.13it/s]\n"
     ]
    },
    {
     "name": "stdout",
     "output_type": "stream",
     "text": [
      "mode: meta_val, episode:  736, total_val_loss: 0.185709, \n",
      "val_mean_iou:{'pig': 0.8423942746486429,\n",
      "'pyraminx': 0.7863040208239249,\n",
      "'reel': 0.8480075110140208,\n",
      "'scabbard': 0.3851081071063812,\n",
      "'screw': 0.6818619533458165}\n",
      "\n",
      "Episode: 736, Episode Time: 0.072 minutes\n"
     ]
    },
    {
     "name": "stderr",
     "output_type": "stream",
     "text": [
      "18it [00:00, 35.22it/s]\n",
      "8it [00:00, 30.52it/s]\n",
      "8it [00:00, 30.84it/s]\n",
      "8it [00:00, 30.15it/s]\n",
      "8it [00:00, 32.79it/s]\n"
     ]
    },
    {
     "name": "stdout",
     "output_type": "stream",
     "text": [
      "mode: meta_val, episode:  737, total_val_loss: 0.383760, \n",
      "val_mean_iou:{'prairie_chicken': 0.8659079185213446,\n",
      "'pubg_lvl3backpack': 0.5703566881135936,\n",
      "'pufferfish': 0.8599951158920585,\n",
      "'rose': 0.7069754512078023,\n",
      "'shower_curtain': 0.5829317377543876}\n",
      "\n",
      "Episode: 737, Episode Time: 0.068 minutes\n"
     ]
    },
    {
     "name": "stderr",
     "output_type": "stream",
     "text": [
      "8it [00:00, 29.72it/s]\n",
      "8it [00:00, 28.44it/s]\n",
      "8it [00:00, 30.31it/s]\n",
      "58it [00:01, 41.69it/s]\n",
      "28it [00:00, 40.09it/s]\n"
     ]
    },
    {
     "name": "stdout",
     "output_type": "stream",
     "text": [
      "mode: meta_val, episode:  738, total_val_loss: 0.333558, \n",
      "val_mean_iou:{'owl': 0.782142480039602,\n",
      "'peregine_falcon': 0.8080247571264447,\n",
      "'power_drill': 0.611512769427783,\n",
      "'sidewinder': 0.7544478938616768,\n",
      "'snake': 0.6729052688249337}\n",
      "\n",
      "Episode: 738, Episode Time: 0.090 minutes\n"
     ]
    },
    {
     "name": "stderr",
     "output_type": "stream",
     "text": [
      "8it [00:00, 29.99it/s]\n",
      "8it [00:00, 31.17it/s]\n",
      "8it [00:00, 30.38it/s]\n",
      "8it [00:00, 28.75it/s]\n",
      "8it [00:00, 31.74it/s]\n"
     ]
    },
    {
     "name": "stdout",
     "output_type": "stream",
     "text": [
      "mode: meta_val, episode:  739, total_val_loss: 0.269064, \n",
      "val_mean_iou:{'paper_crane': 0.7574434622922421,\n",
      "'pubg_lvl3helmet': 0.3972726624847096,\n",
      "'samarra_mosque': 0.7151919406493928,\n",
      "'shower_cap': 0.5038303221713591,\n",
      "'sleeping_bag': 0.7617963320396145}\n",
      "\n",
      "Episode: 739, Episode Time: 0.063 minutes\n"
     ]
    },
    {
     "name": "stderr",
     "output_type": "stream",
     "text": [
      "8it [00:00, 28.37it/s]\n",
      "8it [00:00, 30.66it/s]\n",
      "8it [00:00, 32.52it/s]\n",
      "8it [00:00, 29.66it/s]\n",
      "8it [00:00, 30.27it/s]\n"
     ]
    },
    {
     "name": "stdout",
     "output_type": "stream",
     "text": [
      "mode: meta_val, episode:  740, total_val_loss: 0.215961, \n",
      "val_mean_iou:{'printer': 0.7891545940810962,\n",
      "'puma_logo': 0.269714739101353,\n",
      "'rocket': 0.44500073053572187,\n",
      "'shovel': 0.541042394583929,\n",
      "'smoothing_iron': 0.7999530479741004}\n",
      "\n",
      "Episode: 740, Episode Time: 0.064 minutes\n"
     ]
    },
    {
     "name": "stderr",
     "output_type": "stream",
     "text": [
      "8it [00:00, 29.39it/s]\n",
      "8it [00:00, 31.07it/s]\n",
      "8it [00:00, 30.93it/s]\n",
      "8it [00:00, 29.26it/s]\n",
      "8it [00:00, 30.94it/s]\n"
     ]
    },
    {
     "name": "stdout",
     "output_type": "stream",
     "text": [
      "mode: meta_val, episode:  741, total_val_loss: 0.143538, \n",
      "val_mean_iou:{'pteropus': 0.7912704760218903,\n",
      "'rocket': 0.40661539715955386,\n",
      "'ruffed_grouse': 0.8161124239831116,\n",
      "'skua': 0.9178597503027652,\n",
      "'snowmobile': 0.4418837892499238}\n",
      "\n",
      "Episode: 741, Episode Time: 0.064 minutes\n"
     ]
    },
    {
     "name": "stderr",
     "output_type": "stream",
     "text": [
      "8it [00:00, 29.81it/s]\n",
      "8it [00:00, 29.77it/s]\n",
      "8it [00:00, 29.70it/s]\n",
      "8it [00:00, 28.84it/s]\n",
      "28it [00:00, 39.59it/s]\n"
     ]
    },
    {
     "name": "stdout",
     "output_type": "stream",
     "text": [
      "mode: meta_val, episode:  742, total_val_loss: 0.214555, \n",
      "val_mean_iou:{'panpipe': 0.6667758674551625,\n",
      "'paper_plane': 0.6642626421437794,\n",
      "'polar_bear': 0.9255086971763624,\n",
      "'potato': 0.7536722338768627,\n",
      "'schooner': 0.6953579685174498}\n",
      "\n",
      "Episode: 742, Episode Time: 0.073 minutes\n"
     ]
    },
    {
     "name": "stderr",
     "output_type": "stream",
     "text": [
      "8it [00:00, 27.93it/s]\n",
      "18it [00:00, 36.60it/s]\n",
      "8it [00:00, 29.80it/s]\n",
      "8it [00:00, 29.52it/s]\n",
      "8it [00:00, 30.34it/s]\n"
     ]
    },
    {
     "name": "stdout",
     "output_type": "stream",
     "text": [
      "mode: meta_val, episode:  743, total_val_loss: 0.270625, \n",
      "val_mean_iou:{'pumpkin_pie': 0.8071033871171426,\n",
      "'razor': 0.5461049751292687,\n",
      "'rock_beauty': 0.7548279556625646,\n",
      "'seatbelt': 0.07664007826615393,\n",
      "'shakuhachi': 0.46041571486469945}\n",
      "\n",
      "Episode: 743, Episode Time: 0.068 minutes\n"
     ]
    },
    {
     "name": "stderr",
     "output_type": "stream",
     "text": [
      "18it [00:00, 37.31it/s]\n",
      "8it [00:00, 29.48it/s]\n",
      "8it [00:00, 30.38it/s]\n",
      "28it [00:00, 39.63it/s]\n",
      "8it [00:00, 31.27it/s]\n"
     ]
    },
    {
     "name": "stdout",
     "output_type": "stream",
     "text": [
      "mode: meta_val, episode:  744, total_val_loss: 0.315352, \n",
      "val_mean_iou:{'park_bench': 0.679417344478856,\n",
      "'photocopier': 0.8332486281483018,\n",
      "'plastic_bag': 0.7601937459180075,\n",
      "'pyramid': 0.7107800290378602,\n",
      "'soap': 0.7159273638940625}\n",
      "\n",
      "Episode: 744, Episode Time: 0.075 minutes\n"
     ]
    },
    {
     "name": "stderr",
     "output_type": "stream",
     "text": [
      "8it [00:00, 30.05it/s]\n",
      "8it [00:00, 31.65it/s]\n",
      "8it [00:00, 30.78it/s]\n",
      "8it [00:00, 30.41it/s]\n",
      "8it [00:00, 30.44it/s]\n"
     ]
    },
    {
     "name": "stdout",
     "output_type": "stream",
     "text": [
      "mode: meta_val, episode:  745, total_val_loss: 0.167400, \n",
      "val_mean_iou:{'perfume': 0.7951642820547942,\n",
      "'persian_cat': 0.8982330339442728,\n",
      "'persimmon': 0.7328221904031474,\n",
      "'sea_cucumber': 0.766431588952319,\n",
      "'sniper_rifle': 0.6279569276680725}\n",
      "\n",
      "Episode: 745, Episode Time: 0.063 minutes\n"
     ]
    },
    {
     "name": "stderr",
     "output_type": "stream",
     "text": [
      "8it [00:00, 27.87it/s]\n",
      "8it [00:00, 29.39it/s]\n",
      "8it [00:00, 32.31it/s]\n",
      "8it [00:00, 24.09it/s]\n",
      "8it [00:00, 34.61it/s]\n"
     ]
    },
    {
     "name": "stdout",
     "output_type": "stream",
     "text": [
      "mode: meta_val, episode:  746, total_val_loss: 0.295334, \n",
      "val_mean_iou:{'paint_brush': 0.720045058601484,\n",
      "'pay_phone': 0.5880632107134925,\n",
      "'pubg_lvl3helmet': 0.32533422999132217,\n",
      "'red_bayberry': 0.7338678666661442,\n",
      "'refrigerator': 0.6455378949856525}\n",
      "\n",
      "Episode: 746, Episode Time: 0.065 minutes\n"
     ]
    },
    {
     "name": "stderr",
     "output_type": "stream",
     "text": [
      "8it [00:00, 27.69it/s]\n",
      "8it [00:00, 31.35it/s]\n",
      "8it [00:00, 25.00it/s]\n",
      "8it [00:00, 29.53it/s]\n",
      "8it [00:00, 30.77it/s]\n"
     ]
    },
    {
     "name": "stdout",
     "output_type": "stream",
     "text": [
      "mode: meta_val, episode:  747, total_val_loss: 0.180295, \n",
      "val_mean_iou:{'police_car': 0.8472151356872374,\n",
      "'quail_egg': 0.794357454739064,\n",
      "'recreational_vehicle': 0.8733353359875446,\n",
      "'shopping_cart': 0.7745698948347078,\n",
      "'shuriken': 0.5138476838897728}\n",
      "\n",
      "Episode: 747, Episode Time: 0.068 minutes\n"
     ]
    },
    {
     "name": "stderr",
     "output_type": "stream",
     "text": [
      "8it [00:00, 28.23it/s]\n",
      "8it [00:00, 26.40it/s]\n",
      "8it [00:00, 29.37it/s]\n",
      "8it [00:00, 29.03it/s]\n",
      "8it [00:00, 33.81it/s]\n"
     ]
    },
    {
     "name": "stdout",
     "output_type": "stream",
     "text": [
      "mode: meta_val, episode:  748, total_val_loss: 0.293469, \n",
      "val_mean_iou:{'parallel_bars': 0.27723018314669207,\n",
      "'patas': 0.8577744518620204,\n",
      "'pencil_box': 0.8441374532778955,\n",
      "'red_breasted_merganser': 0.7048153467271709,\n",
      "'shower_curtain': 0.7024132986920222}\n",
      "\n",
      "Episode: 748, Episode Time: 0.067 minutes\n"
     ]
    },
    {
     "name": "stderr",
     "output_type": "stream",
     "text": [
      "8it [00:00, 30.36it/s]\n",
      "8it [00:00, 30.35it/s]\n",
      "8it [00:00, 30.86it/s]\n",
      "8it [00:00, 30.51it/s]\n",
      "8it [00:00, 25.32it/s]\n"
     ]
    },
    {
     "name": "stdout",
     "output_type": "stream",
     "text": [
      "mode: meta_val, episode:  749, total_val_loss: 0.262452, \n",
      "val_mean_iou:{'potato_chips': 0.7638251194593667,\n",
      "'red_bayberry': 0.7633511145834191,\n",
      "'refrigerator': 0.6534042112250903,\n",
      "'screwdriver': 0.7454486382222274,\n",
      "'sombrero': 0.644135394822396}\n",
      "\n",
      "Episode: 749, Episode Time: 0.064 minutes\n"
     ]
    },
    {
     "name": "stderr",
     "output_type": "stream",
     "text": [
      "8it [00:00, 25.88it/s]\n",
      "8it [00:00, 29.53it/s]\n",
      "18it [00:00, 37.38it/s]\n",
      "8it [00:00, 29.95it/s]\n",
      "8it [00:00, 30.51it/s]\n"
     ]
    },
    {
     "name": "stdout",
     "output_type": "stream",
     "text": [
      "mode: meta_val, episode:  750, total_val_loss: 0.180492, \n",
      "val_mean_iou:{'patas': 0.8012839070281963,\n",
      "'pyraminx': 0.8055658447447034,\n",
      "'reflex_camera': 0.786031211504204,\n",
      "'saxophone': 0.5596394829775581,\n",
      "'soap': 0.6774577078738736}\n",
      "\n",
      "Episode: 750, Episode Time: 0.068 minutes\n"
     ]
    },
    {
     "name": "stderr",
     "output_type": "stream",
     "text": [
      "8it [00:00, 32.48it/s]\n",
      "8it [00:00, 29.58it/s]\n",
      "8it [00:00, 30.23it/s]\n",
      "8it [00:00, 31.01it/s]\n",
      "8it [00:00, 30.53it/s]\n"
     ]
    },
    {
     "name": "stdout",
     "output_type": "stream",
     "text": [
      "mode: meta_val, episode:  751, total_val_loss: 0.517967, \n",
      "val_mean_iou:{'park_bench': 0.6905656531861224,\n",
      "'piano_keyboard': 0.4236002067782483,\n",
      "'proboscis': 0.8133233421399834,\n",
      "'shopping_cart': 0.7273886360081693,\n",
      "'shower_curtain': 0.6215186183855513}\n",
      "\n",
      "Episode: 751, Episode Time: 0.064 minutes\n"
     ]
    },
    {
     "name": "stderr",
     "output_type": "stream",
     "text": [
      "8it [00:00, 29.71it/s]\n",
      "18it [00:00, 36.26it/s]\n",
      "8it [00:00, 31.07it/s]\n",
      "8it [00:00, 31.31it/s]\n",
      "8it [00:00, 29.56it/s]\n"
     ]
    },
    {
     "name": "stdout",
     "output_type": "stream",
     "text": [
      "mode: meta_val, episode:  752, total_val_loss: 0.251676, \n",
      "val_mean_iou:{'pencil_box': 0.7651768024411355,\n",
      "'persimmon': 0.8143128715176119,\n",
      "'radio': 0.8078847246030866,\n",
      "'redheart': 0.046279922185748196,\n",
      "'sarong': 0.6160078910256912}\n",
      "\n",
      "Episode: 752, Episode Time: 0.067 minutes\n"
     ]
    },
    {
     "name": "stderr",
     "output_type": "stream",
     "text": [
      "8it [00:00, 29.84it/s]\n",
      "8it [00:00, 29.04it/s]\n",
      "8it [00:00, 29.22it/s]\n",
      "8it [00:00, 29.18it/s]\n",
      "8it [00:00, 31.78it/s]\n"
     ]
    },
    {
     "name": "stdout",
     "output_type": "stream",
     "text": [
      "mode: meta_val, episode:  753, total_val_loss: 0.155368, \n",
      "val_mean_iou:{'pencil_sharpener1': 0.751954538934128,\n",
      "'pufferfish': 0.839915828272417,\n",
      "'pyramid_cube': 0.7574750340619114,\n",
      "'scissors': 0.6481660610398298,\n",
      "'sloth_bear': 0.8478619786978088}\n",
      "\n",
      "Episode: 753, Episode Time: 0.064 minutes\n"
     ]
    },
    {
     "name": "stderr",
     "output_type": "stream",
     "text": [
      "8it [00:00, 30.76it/s]\n",
      "18it [00:00, 36.13it/s]\n",
      "8it [00:00, 29.35it/s]\n",
      "8it [00:00, 31.38it/s]\n",
      "8it [00:00, 29.65it/s]\n"
     ]
    },
    {
     "name": "stdout",
     "output_type": "stream",
     "text": [
      "mode: meta_val, episode:  754, total_val_loss: 0.251946, \n",
      "val_mean_iou:{'persimmon': 0.7536543862470484,\n",
      "'police_car': 0.7984394091659197,\n",
      "'raven': 0.9017806620887442,\n",
      "'razor': 0.6018963439206834,\n",
      "'redheart': 0.042470297820650815}\n",
      "\n",
      "Episode: 754, Episode Time: 0.068 minutes\n"
     ]
    },
    {
     "name": "stderr",
     "output_type": "stream",
     "text": [
      "8it [00:00, 28.71it/s]\n",
      "8it [00:00, 31.26it/s]\n",
      "8it [00:00, 30.89it/s]\n",
      "8it [00:00, 30.82it/s]\n",
      "8it [00:00, 29.21it/s]\n"
     ]
    },
    {
     "name": "stdout",
     "output_type": "stream",
     "text": [
      "mode: meta_val, episode:  755, total_val_loss: 0.223385, \n",
      "val_mean_iou:{'persian_cat': 0.8634756747131169,\n",
      "'pufferfish': 0.8628034955743944,\n",
      "'rocket': 0.44208521818054863,\n",
      "'shumai': 0.6709693923932807,\n",
      "'sock': 0.7253846373503199}\n",
      "\n",
      "Episode: 755, Episode Time: 0.064 minutes\n"
     ]
    },
    {
     "name": "stderr",
     "output_type": "stream",
     "text": [
      "8it [00:00, 32.11it/s]\n",
      "8it [00:00, 30.95it/s]\n",
      "8it [00:00, 29.07it/s]\n",
      "18it [00:00, 40.99it/s]\n",
      "8it [00:00, 28.17it/s]\n"
     ]
    },
    {
     "name": "stdout",
     "output_type": "stream",
     "text": [
      "mode: meta_val, episode:  756, total_val_loss: 0.337276, \n",
      "val_mean_iou:{'pillow': 0.7814439029168994,\n",
      "'pingpong_ball': 0.13631920973959738,\n",
      "'proboscis': 0.8400047335145491,\n",
      "'rice_cooker': 0.7424029214075029,\n",
      "'sandwich': 0.7665361752905139}\n",
      "\n",
      "Episode: 756, Episode Time: 0.068 minutes\n"
     ]
    },
    {
     "name": "stderr",
     "output_type": "stream",
     "text": [
      "38it [00:00, 40.98it/s]\n",
      "8it [00:00, 28.79it/s]\n",
      "8it [00:00, 30.34it/s]\n",
      "8it [00:00, 30.30it/s]\n",
      "8it [00:00, 30.32it/s]\n"
     ]
    },
    {
     "name": "stdout",
     "output_type": "stream",
     "text": [
      "mode: meta_val, episode:  757, total_val_loss: 0.206353, \n",
      "val_mean_iou:{'papaya': 0.8382538720185326,\n",
      "'pizza': 0.8312960298307777,\n",
      "'plaice': 0.8275434903798504,\n",
      "'raft': 0.753560186871824,\n",
      "'snowman': 0.6487171040643519}\n",
      "\n",
      "Episode: 757, Episode Time: 0.075 minutes\n"
     ]
    },
    {
     "name": "stderr",
     "output_type": "stream",
     "text": [
      "8it [00:00, 27.08it/s]\n",
      "8it [00:00, 28.06it/s]\n",
      "8it [00:00, 30.09it/s]\n",
      "8it [00:00, 33.01it/s]\n",
      "8it [00:00, 32.72it/s]\n"
     ]
    },
    {
     "name": "stdout",
     "output_type": "stream",
     "text": [
      "mode: meta_val, episode:  758, total_val_loss: 0.354180, \n",
      "val_mean_iou:{'pay_phone': 0.5316197442024396,\n",
      "'photocopier': 0.7332783201166035,\n",
      "'police_car': 0.8210057421266841,\n",
      "'pubg_lvl3helmet': 0.43962285254662764,\n",
      "'shovel': 0.595233170050496}\n",
      "\n",
      "Episode: 758, Episode Time: 0.067 minutes\n"
     ]
    },
    {
     "name": "stderr",
     "output_type": "stream",
     "text": [
      "8it [00:00, 29.30it/s]\n",
      "8it [00:00, 28.75it/s]\n",
      "8it [00:00, 31.85it/s]\n",
      "28it [00:00, 38.97it/s]\n",
      "0it [00:00, ?it/s]"
     ]
    }
   ],
   "source": [
    "leo = train_model(config, dataset)"
   ]
  },
  {
   "cell_type": "markdown",
   "metadata": {},
   "source": [
    "## Evaluation"
   ]
  },
  {
   "cell_type": "code",
   "execution_count": null,
   "metadata": {},
   "outputs": [],
   "source": [
    "mode = \"meta_val\"\n",
    "dataset =\"fss1000\"\n",
    "dataloader = Datagenerator(config, dataset, data_type=mode)\n",
    "img_transformer = dataloader.transform_image\n",
    "mask_transformer = dataloader.transform_mask\n",
    "transformers = (img_transformer, mask_transformer)\n",
    "val_meta_data = dataloader.get_batch_data()\n",
    "class_in_metadata = val_meta_data[4]\n",
    "print(f\"classes in mode {mode}: {class_in_metadata}\")"
   ]
  },
  {
   "cell_type": "code",
   "execution_count": null,
   "metadata": {},
   "outputs": [],
   "source": [
    "select_class = 4\n",
    "pred_data_index = list(range(5))\n",
    "print(\"class\", class_in_metadata[select_class], \"is selected\")\n",
    "batch_data = get_named_dict(val_meta_data, select_class)"
   ]
  },
  {
   "cell_type": "code",
   "execution_count": null,
   "metadata": {},
   "outputs": [],
   "source": [
    "#perform forward_propagate and perform innerloop updates to generate weights\n",
    "seg_weight_grad, features = leo.leo_inner_loop(batch_data.tr_imgs, batch_data.tr_masks)\n",
    "#fine tune the weights\n",
    "tr_val_loss, seg_weight_grad, decoder_grads, mean_iou, weight = \\\n",
    "            leo.finetuning_inner_loop(batch_data, features, seg_weight_grad, transformers, mode)\n",
    "\n",
    "#prepare validation set\n",
    "if type(pred_data_index) == list:\n",
    "    input_embedding = np.vstack([list_to_tensor(batch_data.val_imgs[i], img_transformer) \\\n",
    "                                 for i in pred_data_index])\n",
    "    input_mask = np.vstack([list_to_tensor(batch_data.val_masks[i], mask_transformer) \\\n",
    "                            for i in pred_data_index])\n",
    "else:\n",
    "    input_embedding = list_to_tensor(batch_data.val_imgs[pred_data_index], img_transformer)\n",
    "    input_mask = list_to_tensor(batch_data.val_masks[pred_data_index], mask_transformer)\n",
    "\n",
    "input_embedding_for_plot = input_embedding.copy()\n",
    "input_mask_for_plot = input_mask.copy()\n",
    "\n",
    "input_embedding = prepare_inputs(numpy_to_tensor(input_embedding))\n",
    "input_mask = numpy_to_tensor(input_mask)\n",
    "#predict on training data\n",
    "features = leo.forward_decoder(encoder_outputs)\n",
    "val_prediction = leo.forward_segnetwork(features, input_embedding, weight)\n",
    "val_prediction = np.argmax(tensor_to_numpy(val_prediction), 1)"
   ]
  },
  {
   "cell_type": "code",
   "execution_count": null,
   "metadata": {},
   "outputs": [],
   "source": [
    "def plot_batch_mask(embeds, preds, masks):\n",
    "    fig = plt.figure(figsize=(20,16))\n",
    "    for i in range(0, len(preds)):\n",
    "        embed = np.squeeze(embeds) if len(embeds) == 1 else embeds[i]\n",
    "        pred = np.squeeze(preds) if len(preds) == 1 else preds[i]\n",
    "        mask = np.squeeze(masks) if len(masks) == 1 else masks[i]\n",
    "        \n",
    "        fig.add_subplot(len(preds), 3, i*3+1)\n",
    "        plt.imshow((embed+1)/2)\n",
    "        plt.title(\"raw images\")\n",
    "        \n",
    "        fig.add_subplot(len(preds), 3, i*3+2)\n",
    "        plt.imshow(mask, cmap=\"gray\")\n",
    "        plt.title(\"ground_truth\")\n",
    "        \n",
    "        fig.add_subplot(len(preds), 3, i*3+3)\n",
    "        plt.imshow(pred, cmap=\"gray\")\n",
    "        plt.title(\"prediction\")\n",
    "        \n",
    "    plt.subplots_adjust(hspace=0.5)\n",
    "    plt.show()\n",
    "    return"
   ]
  },
  {
   "cell_type": "code",
   "execution_count": null,
   "metadata": {
    "scrolled": false
   },
   "outputs": [],
   "source": [
    "plot_batch_mask(input_embedding_for_plot, val_prediction, input_mask_for_plot)"
   ]
  },
  {
   "cell_type": "code",
   "execution_count": null,
   "metadata": {},
   "outputs": [],
   "source": [
    "experiment_number = config.experiment.number\n",
    "experiment_description = config.experiment.description\n",
    "experiment_root_path = os.path.join(\"leo_segmentation\", \"data\", \"models\", f\"experiment_{experiment_number}\")\n",
    "cached_files = os.listdir(experiment_root_path)\n",
    "cached_files"
   ]
  },
  {
   "cell_type": "code",
   "execution_count": null,
   "metadata": {
    "scrolled": false
   },
   "outputs": [],
   "source": [
    "filename = cached_files[4]\n",
    "val_ious = pd.read_pickle(os.path.join(experiment_root_path, filename)).T\n",
    "print(f\"filename: {filename}\")\n",
    "filtered_scores = []\n",
    "for _class, _df in val_ious.iterrows():\n",
    "    if _class == \"episode\":\n",
    "        continue\n",
    "    temp = [i for i in _df if not np.isnan(i)]\n",
    "    class_sampling_frequency = len(temp)\n",
    "    mean_of_all_ious_per_class = np.mean(temp)\n",
    "    filtered_scores.append((_class, mean_of_all_ious_per_class, class_sampling_frequency))\n",
    "filtered_val_ious = pd.DataFrame(filtered_scores, columns=[\"classes\", \"mean_val_ious\", \"class_sampling_frequency\"])\n",
    "filtered_val_ious = filtered_val_ious.sort_values(by=\"mean_val_ious\", ascending=False)\n",
    "filtered_val_ious[filtered_val_ious.mean_val_ious > 0.7].count()\n",
    "len(filtered_val_ious)"
   ]
  },
  {
   "cell_type": "code",
   "execution_count": null,
   "metadata": {},
   "outputs": [],
   "source": [
    "os.listdir(\"leo_segmentation/data/fss1000/images\")[600:800]"
   ]
  },
  {
   "cell_type": "code",
   "execution_count": null,
   "metadata": {},
   "outputs": [],
   "source": [
    "filtered_val_ious.class_sampling_frequency.max()"
   ]
  },
  {
   "cell_type": "code",
   "execution_count": null,
   "metadata": {},
   "outputs": [],
   "source": [
    "train_ious = pd.read_pickle(os.path.join(experiment_root_path, cached_files[2])).T\n",
    "filtered_scores = []\n",
    "for _class, _df in train_ious.iterrows():\n",
    "    if _class == \"episode\":\n",
    "        continue\n",
    "    temp = [i for i in _df if not np.isnan(i)]\n",
    "    class_sampling_frequency = len(temp)\n",
    "    mean_of_all_ious_per_class = np.mean(temp)\n",
    "    filtered_scores.append((_class, mean_of_all_ious_per_class, class_sampling_frequency))\n",
    "filtered_train_ious = pd.DataFrame(filtered_scores, columns=[\"classes\", \"mean_train_ious\", \"class_sampling_frequency\"])\n",
    "filtered_train_ious = filtered_train_ious.sort_values(by=\"mean_train_ious\", ascending=False)"
   ]
  },
  {
   "cell_type": "code",
   "execution_count": null,
   "metadata": {},
   "outputs": [],
   "source": [
    "#classes in meta-train and meta-val are unique if their intersection is zero\n",
    "set(filtered_train_ious.classes.unique()).intersection(set(filtered_val_ious.classes.unique()))"
   ]
  },
  {
   "cell_type": "code",
   "execution_count": null,
   "metadata": {},
   "outputs": [],
   "source": [
    "meta_val_loss = pd.read_pickle(os.path.join(experiment_root_path, cached_files[5]))\n",
    "meta_train_loss = pd.read_pickle(os.path.join(experiment_root_path, cached_files[3]))\n",
    "num_data_points = meta_val_loss.shape[0]"
   ]
  },
  {
   "cell_type": "code",
   "execution_count": null,
   "metadata": {},
   "outputs": [],
   "source": [
    "fig = plt.figure(figsize=(10, 8))\n",
    "plt.title(\"meta_losses\")\n",
    "plt.xlabel(\"epochs\")\n",
    "plt.ylabel(\"loss\")\n",
    "plt.plot(np.arange(num_data_points), meta_val_loss.total_val_loss, label=\"meta_val_loss\")\n",
    "plt.plot(np.arange(num_data_points), meta_train_loss.total_val_loss, label=\"meta_train_loss\")\n",
    "plt.legend()"
   ]
  },
  {
   "cell_type": "code",
   "execution_count": null,
   "metadata": {},
   "outputs": [],
   "source": []
  }
 ],
 "metadata": {
  "kernelspec": {
   "display_name": "pytorch-tf2-env",
   "language": "python",
   "name": "pytorch-tf2-env"
  },
  "language_info": {
   "codemirror_mode": {
    "name": "ipython",
    "version": 3
   },
   "file_extension": ".py",
   "mimetype": "text/x-python",
   "name": "python",
   "nbconvert_exporter": "python",
   "pygments_lexer": "ipython3",
   "version": "3.7.8"
  }
 },
 "nbformat": 4,
 "nbformat_minor": 4
}
