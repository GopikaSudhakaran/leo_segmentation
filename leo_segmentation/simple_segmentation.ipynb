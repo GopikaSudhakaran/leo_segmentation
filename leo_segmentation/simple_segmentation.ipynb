{
 "cells": [
  {
   "cell_type": "code",
   "execution_count": 33,
   "metadata": {},
   "outputs": [],
   "source": [
    "import torch, os, random\n",
    "from torch import nn\n",
    "from torch.autograd import Variable\n",
    "import numpy as np\n",
    "import matplotlib.pyplot as plt\n",
    "import gc\n",
    "from pathlib import Path\n",
    "import tensorflow as tf"
   ]
  },
  {
   "cell_type": "code",
   "execution_count": 2,
   "metadata": {},
   "outputs": [
    {
     "data": {
      "text/plain": [
       "['aeroplane',\n",
       " 'bicycle',\n",
       " 'bird',\n",
       " 'boat',\n",
       " 'bottle',\n",
       " 'bus',\n",
       " 'car',\n",
       " 'cat',\n",
       " 'chair',\n",
       " 'cow',\n",
       " 'diningtable',\n",
       " 'dog',\n",
       " 'horse',\n",
       " 'motorbike',\n",
       " 'person',\n",
       " 'pottedplant',\n",
       " 'sheep',\n",
       " 'sofa',\n",
       " 'train',\n",
       " 'tvmonitor']"
      ]
     },
     "execution_count": 2,
     "metadata": {},
     "output_type": "execute_result"
    }
   ],
   "source": [
    "pascal_voc_path = os.path.join(os.getcwd(), \"..\", \"..\", \"..\", \"leo-srp-project\", \"merge_to_dev\", \"leo_segmentation\", \"leo_segmentation\", \"data\", \"pascal_voc\")\n",
    "pascal_voc_path = Path(pascal_voc_path).resolve()\n",
    "os.listdir(os.path.join(pascal_voc_path, \"train\", \"images\"))"
   ]
  },
  {
   "cell_type": "code",
   "execution_count": 145,
   "metadata": {},
   "outputs": [],
   "source": [
    "selected_class = \"bottle\"\n",
    "train_path = os.path.join(pascal_voc_path, \"train\")\n",
    "val_path = os.path.join(pascal_voc_path, \"val\")\n",
    "train_x = os.path.join(train_path, \"images\", f\"{selected_class}\")\n",
    "val_x = os.path.join(val_path, \"images\", f\"{selected_class}\")\n",
    "train_y = os.path.join(train_path, \"masks\", f\"{selected_class}\")\n",
    "val_y = os.path.join(val_path, \"masks\", f\"{selected_class}\")"
   ]
  },
  {
   "cell_type": "markdown",
   "metadata": {},
   "source": [
    "## visualize sample data"
   ]
  },
  {
   "cell_type": "code",
   "execution_count": 146,
   "metadata": {},
   "outputs": [
    {
     "name": "stderr",
     "output_type": "stream",
     "text": [
      "Clipping input data to the valid range for imshow with RGB data ([0..1] for floats or [0..255] for integers).\n"
     ]
    },
    {
     "data": {
      "text/plain": [
       "<matplotlib.image.AxesImage at 0x1d22ba64508>"
      ]
     },
     "execution_count": 146,
     "metadata": {},
     "output_type": "execute_result"
    },
    {
     "data": {
      "image/png": "[encoded data removed]",
      "text/plain": [
       "<Figure size 720x576 with 2 Axes>"
      ]
     },
     "metadata": {
      "needs_background": "light"
     },
     "output_type": "display_data"
    }
   ],
   "source": [
    "def load_data(path_root, path_list):\n",
    "    path_list = [path_list] if type(path_list) == str else path_list\n",
    "    return np.squeeze(np.array([np.load(os.path.join(path_root, i)) for i in path_list]))\n",
    "\n",
    "temp_paths = os.listdir(train_x)\n",
    "random.shuffle(temp_paths)\n",
    "temp_paths = temp_paths[0]\n",
    "sample_data = load_data(train_x, temp_paths)\n",
    "sample_data_mask = load_data(train_y, temp_paths)\n",
    "\n",
    "fig = plt.figure(figsize=(10,8))\n",
    "\n",
    "fig.add_subplot(1,2,1)\n",
    "plt.imshow(sample_data[:,:,6:9])\n",
    "fig.add_subplot(1,2,2)\n",
    "plt.imshow(sample_data_mask)"
   ]
  },
  {
   "cell_type": "code",
   "execution_count": 5,
   "metadata": {},
   "outputs": [],
   "source": [
    "img_height, img_width, num_channels = sample_data.shape\n",
    "device = torch.device(\"cuda:0\")"
   ]
  },
  {
   "cell_type": "markdown",
   "metadata": {},
   "source": [
    "## simple network1 - conv\n",
    "#### tensorflow-conv"
   ]
  },
  {
   "cell_type": "code",
   "execution_count": null,
   "metadata": {},
   "outputs": [],
   "source": [
    "optimizer = tf.keras.optimizers.Adam(1e-3)\n",
    "\n",
    "def compute_loss(model, x, masks):\n",
    "    logits = model(x)\n",
    "    scce = tf.keras.losses.SparseCategoricalCrossentropy(from_logits=True)\n",
    "    scce_loss = scce(masks, logits)\n",
    "    return scce_loss\n",
    "\n",
    "\n",
    "@tf.function\n",
    "def train_step(model, x, masks, optimizer):\n",
    "    \"\"\"Executes one training step and returns the loss.\n",
    "\n",
    "    This function computes the loss and gradients, and uses the latter to\n",
    "    update the model's parameters.\n",
    "    \"\"\"\n",
    "    with tf.GradientTape() as tape:\n",
    "        loss = compute_loss(model, x, masks)\n",
    "    gradients = tape.gradient(loss, model.trainable_variables)\n",
    "    optimizer.apply_gradients(zip(gradients, model.trainable_variables))\n",
    "    return loss\n",
    "\n",
    "def calc_iou_per_class(pred_x, targets):\n",
    "    iou_per_class = []\n",
    "    for i in range(len(pred_x)):\n",
    "        pred = np.argmax(pred_x[i].numpy(), -1).astype(int)\n",
    "        target = targets[i].astype(int)\n",
    "        iou = np.sum(np.logical_and(target, pred))/np.sum(np.logical_or(target, pred))\n",
    "        iou_per_class.append(iou)\n",
    "        mean_iou_per_class = np.mean(iou_per_class)\n",
    "    return mean_iou_per_class"
   ]
  },
  {
   "cell_type": "code",
   "execution_count": null,
   "metadata": {},
   "outputs": [],
   "source": [
    "conv1 = tf.keras.layers.Conv2D(filters=2, kernel_size=4, strides=1, padding='same',\\\n",
    "                               activation=\"relu\", use_bias=False)\n",
    "inputs = tf.keras.Input(shape=(img_height, img_width, num_channels))\n",
    "output = conv1(inputs)\n",
    "seg_net = tf.keras.Model(inputs=inputs, outputs=output)\n",
    "seg_net.summary()"
   ]
  },
  {
   "cell_type": "code",
   "execution_count": null,
   "metadata": {},
   "outputs": [],
   "source": [
    "tf.keras.backend.clear_session()\n",
    "epochs = 30\n",
    "bs = 10\n",
    "learning_rate = 1e-3\n",
    "optimizer = tf.keras.optimizers.Adam(learning_rate)\n",
    "losses = []\n",
    "train_x_paths = os.listdir(train_x)\n",
    "val_x_paths = os.listdir(val_x)\n",
    "for i in range(epochs):\n",
    "    random.shuffle(train_x_paths)\n",
    "    batch_losses = []\n",
    "    iou_per_class = []\n",
    "    iou_per_class_val = []\n",
    "    len_paths = []\n",
    "    for j in range(len(train_x_paths)//bs + 1):\n",
    "        batch_paths = train_x_paths[j*bs: (j+1)*bs]\n",
    "        len_paths.extend(batch_paths)\n",
    "        batch_x = load_data(train_x, batch_paths)\n",
    "        batch_y = load_data(train_y, batch_paths)\n",
    "        loss = train_step(seg_net, batch_x, batch_y, optimizer)\n",
    "        batch_losses.append(loss.numpy())\n",
    "        pred_x = seg_net(batch_x)\n",
    "        iou_per_class.append(calc_iou_per_class(pred_x, batch_y))\n",
    "        batch_losses.append(loss)\n",
    "    for j in range(len(val_x_paths)//bs + 1):\n",
    "        batch_paths = val_x_paths[j*bs: (j+1)*bs]\n",
    "        batch_x_val = load_data(val_x, batch_paths)\n",
    "        batch_y_val = load_data(val_y, batch_paths)\n",
    "        pred_x_val = seg_net(batch_x_val)\n",
    "        iou_per_class_val.append(calc_iou_per_class(pred_x_val, batch_y_val))\n",
    "    loss = sum(batch_losses)\n",
    "    iou = np.mean(np.array(iou_per_class))\n",
    "    iou_val = np.mean(np.array(iou_per_class_val))\n",
    "    losses.append(loss)\n",
    "    print(f\"epoch {i}, loss: {loss}, iou_train: {iou}, iou_val: {iou_val}\")"
   ]
  },
  {
   "cell_type": "code",
   "execution_count": null,
   "metadata": {},
   "outputs": [],
   "source": [
    "plt.imshow(np.argmax(pred_x_val[0].numpy(), -1), cmap=\"gray\")"
   ]
  },
  {
   "cell_type": "code",
   "execution_count": null,
   "metadata": {},
   "outputs": [],
   "source": [
    "plt.imshow(batch_y_val[0], cmap=\"gray\")"
   ]
  },
  {
   "cell_type": "code",
   "execution_count": null,
   "metadata": {
    "scrolled": false
   },
   "outputs": [],
   "source": [
    "seg_net.trainable_variables"
   ]
  },
  {
   "cell_type": "markdown",
   "metadata": {},
   "source": [
    "#### pytorch-conv1"
   ]
  },
  {
   "cell_type": "code",
   "execution_count": 153,
   "metadata": {},
   "outputs": [],
   "source": [
    "def calc_iou_per_class(pred_x, targets):\n",
    "    iou_per_class = []\n",
    "    for i in range(len(pred_x)):\n",
    "        pred = np.argmax(pred_x[i].cpu().detach().numpy(), 0).astype(int)\n",
    "        target = targets[i].astype(int)\n",
    "        iou = np.sum(np.logical_and(target, pred))/np.sum(np.logical_or(target, pred))\n",
    "        iou_per_class.append(iou)\n",
    "        mean_iou_per_class = np.mean(iou_per_class)\n",
    "    return mean_iou_per_class\n",
    "\n",
    "def one_hot_target(mask, channel_dim=1):\n",
    "    mask_inv = (~mask.astype(bool)).astype(np.float32)\n",
    "    channel_zero = np.expand_dims(mask_inv, channel_dim)\n",
    "    channel_one = np.expand_dims(mask, channel_dim)\n",
    "    return np.concatenate((channel_zero, channel_one), axis=channel_dim)\n",
    "\n",
    "def softmax(py_tensor, channel_dim=1):\n",
    "    py_tensor = torch.exp(py_tensor)\n",
    "    return  py_tensor/torch.unsqueeze(torch.sum(py_tensor, dim=channel_dim), channel_dim)\n",
    "\n",
    "def sparse_crossentropy(target, pred,  channel_dim=1, eps=1e-10):\n",
    "    pred += eps\n",
    "    loss = torch.sum(-1 * target * torch.log(pred), dim=channel_dim)\n",
    "    return torch.mean(loss)"
   ]
  },
  {
   "cell_type": "code",
   "execution_count": 154,
   "metadata": {
    "scrolled": false
   },
   "outputs": [
    {
     "name": "stdout",
     "output_type": "stream",
     "text": [
      "epoch 0, loss: 5.008728548884392, iou_train: 0.09721179448647926, iou_val: 0.18270375313060755\n",
      "epoch 1, loss: 1.8997397348284721, iou_train: 0.22978933524997433, iou_val: 0.21410820358697147\n",
      "epoch 2, loss: 1.32028017193079, iou_train: 0.31404145554106805, iou_val: 0.25655519317113\n",
      "epoch 3, loss: 1.1546671688556671, iou_train: 0.32766263338955814, iou_val: 0.2624019836995447\n",
      "epoch 4, loss: 1.1051587499678135, iou_train: 0.33935665752925037, iou_val: 0.26517063455644274\n",
      "epoch 5, loss: 1.0097663439810276, iou_train: 0.3314824264933871, iou_val: 0.26698934803823404\n",
      "epoch 6, loss: 0.9861627630889416, iou_train: 0.36010274766514266, iou_val: 0.26828767566814676\n",
      "epoch 7, loss: 0.9569776058197021, iou_train: 0.35841286963810215, iou_val: 0.26954102654261297\n",
      "epoch 8, loss: 0.9829528592526913, iou_train: 0.38167021572011967, iou_val: 0.2705518074764716\n",
      "epoch 9, loss: 0.9320965968072414, iou_train: 0.35755998022045554, iou_val: 0.27136486213645306\n"
     ]
    }
   ],
   "source": [
    "seg_net = torch.nn.Sequential(nn.Conv2d(in_channels=num_channels, out_channels=2, kernel_size=3,\n",
    "                        stride=1, padding=1)).to(device)\n",
    "output_channels = 2\n",
    "epochs = 10\n",
    "bs = 9\n",
    "learning_rate = 1e-3 \n",
    "optimizer = torch.optim.Adam(seg_net.parameters(), lr=learning_rate)\n",
    "losses = []\n",
    "train_x_paths = os.listdir(train_x)\n",
    "val_x_paths = os.listdir(val_x)\n",
    "for i in range(epochs):\n",
    "    random.shuffle(train_x_paths)\n",
    "    batch_losses = []\n",
    "    iou_per_class = []\n",
    "    iou_per_class_val = []\n",
    "    len_paths = []\n",
    "    for j in range(len(train_x_paths)//bs + 1):\n",
    "        batch_paths = train_x_paths[j*bs: (j+1)*bs]\n",
    "        len_paths.extend(batch_paths)\n",
    "        batch_x = load_data(train_x, batch_paths)\n",
    "        batch_x = torch.from_numpy(batch_x).to(device)\n",
    "        batch_x = batch_x.permute((0, 3, 1, 2))\n",
    "        batch_y = load_data(train_y, batch_paths)\n",
    "\n",
    "        pred = seg_net(batch_x).to(device)\n",
    "        hot_batch_y = torch.from_numpy(one_hot_target(batch_y)).to(device)\n",
    "        hot_batch_y.requires_grad = True\n",
    "        pred = softmax(pred)\n",
    "        loss = sparse_crossentropy(hot_batch_y, pred)\n",
    "        optimizer.zero_grad()\n",
    "        loss.backward()\n",
    "        optimizer.step()\n",
    "        pred_x = seg_net(batch_x).to(device)\n",
    "        iou_per_class.append(calc_iou_per_class(pred_x, batch_y))\n",
    "        batch_losses.append(loss.cpu().detach().numpy())\n",
    "    \n",
    "    for j in range(len(val_x_paths)//bs + 1):\n",
    "        batch_paths = val_x_paths[j*bs: (j+1)*bs]\n",
    "        batch_x_val = load_data(val_x, batch_paths)\n",
    "        batch_x_val = np.expand_dims(batch_x_val, 0) if len(batch_x_val.shape) < 4 else batch_x_val\n",
    "        batch_x_val = torch.from_numpy(batch_x_val).to(device)\n",
    "        batch_x_val = batch_x_val.permute((0, 3, 1, 2))\n",
    "        batch_y_val = load_data(val_y, batch_paths)\n",
    "        pred_x_val = seg_net(batch_x_val).to(device)\n",
    "\n",
    "        iou_per_class_val.append(calc_iou_per_class(pred_x_val, batch_y_val))\n",
    "    loss = sum(batch_losses)\n",
    "    iou = np.mean(np.array(iou_per_class))\n",
    "    iou_val = np.mean(np.array(iou_per_class_val))\n",
    "    losses.append(loss)\n",
    "    print(f\"epoch {i}, loss: {loss}, iou_train: {iou}, iou_val: {iou_val}\")"
   ]
  },
  {
   "cell_type": "code",
   "execution_count": 155,
   "metadata": {},
   "outputs": [
    {
     "data": {
      "text/plain": [
       "torch.Size([4, 14, 384, 512])"
      ]
     },
     "execution_count": 155,
     "metadata": {},
     "output_type": "execute_result"
    }
   ],
   "source": [
    "batch_x_val.shape"
   ]
  },
  {
   "cell_type": "code",
   "execution_count": 156,
   "metadata": {},
   "outputs": [
    {
     "data": {
      "text/plain": [
       "<matplotlib.image.AxesImage at 0x1d23d25f1c8>"
      ]
     },
     "execution_count": 156,
     "metadata": {},
     "output_type": "execute_result"
    },
    {
     "data": {
      "image/png": "[encoded data removed]",
      "text/plain": [
       "<Figure size 432x288 with 1 Axes>"
      ]
     },
     "metadata": {
      "needs_background": "light"
     },
     "output_type": "display_data"
    }
   ],
   "source": [
    "plt.imshow(np.argmax(pred_x_val[0].cpu().detach().numpy(), 0), cmap=\"gray\")"
   ]
  },
  {
   "cell_type": "code",
   "execution_count": 157,
   "metadata": {},
   "outputs": [
    {
     "data": {
      "text/plain": [
       "<matplotlib.image.AxesImage at 0x1d244cbae08>"
      ]
     },
     "execution_count": 157,
     "metadata": {},
     "output_type": "execute_result"
    },
    {
     "data": {
      "image/png": "[encoded data removed]",
      "text/plain": [
       "<Figure size 432x288 with 1 Axes>"
      ]
     },
     "metadata": {
      "needs_background": "light"
     },
     "output_type": "display_data"
    }
   ],
   "source": [
    "plt.imshow(batch_y_val[0], cmap=\"gray\")"
   ]
  },
  {
   "cell_type": "markdown",
   "metadata": {},
   "source": [
    "## simple network1 - fully_connected\n",
    "#### pytorch"
   ]
  },
  {
   "cell_type": "code",
   "execution_count": 177,
   "metadata": {},
   "outputs": [],
   "source": [
    "class Segmodel(nn.Module):\n",
    "    def __init__(self, weight_shape):\n",
    "        super(Segmodel, self).__init__()\n",
    "        self.channel_zero_weight = nn.Parameter(torch.normal(torch.zeros(weight_shape), torch.ones(weight_shape)),\\\n",
    "                                            requires_grad=True)\n",
    "        self.channel_one_weight = nn.Parameter(torch.normal(torch.zeros(weight_shape), torch.ones(weight_shape)),\\\n",
    "                                            requires_grad=True)\n",
    "        self.channel_one_bias = nn.Parameter(torch.normal(torch.zeros(weight_shape), torch.ones(weight_shape)),\\\n",
    "                                            requires_grad=True)\n",
    "        self.channel_two_bias = nn.Parameter(torch.normal(torch.zeros(weight_shape), torch.ones(weight_shape)),\\\n",
    "                                            requires_grad=True)\n",
    "        self.scale = nn.Parameter(torch.tensor(10.0, requires_grad=True))\n",
    "\n",
    "\n",
    "    def forward(self, x):\n",
    "        channel_zero = x * self.channel_zero_weight/self.scale + self.channel_one_bias\n",
    "        channel_zero = torch.unsqueeze(torch.sum(channel_zero, dim=1), 1)\n",
    "        channel_one = x * self.channel_one_weight/self.scale + self.channel_two_bias\n",
    "        channel_one = torch.unsqueeze(torch.sum(channel_one, dim=1), 1)\n",
    "        return torch.cat([channel_zero, channel_one], 1)"
   ]
  },
  {
   "cell_type": "code",
   "execution_count": 179,
   "metadata": {},
   "outputs": [
    {
     "name": "stdout",
     "output_type": "stream",
     "text": [
      "epoch 0, loss: 8.257838934659958, iou_train: 0.08067641321070726, iou_val: 0.084932022689442\n",
      "epoch 1, loss: 4.189929217100143, iou_train: 0.19403491800350423, iou_val: 0.1629243658297867\n",
      "epoch 2, loss: 2.6786985099315643, iou_train: 0.264402964788218, iou_val: 0.2102545662674725\n",
      "epoch 3, loss: 1.9664382711052895, iou_train: 0.31082645039448736, iou_val: 0.23794137627295225\n",
      "epoch 4, loss: 1.6234542429447174, iou_train: 0.3912580332420825, iou_val: 0.2568553063735863\n"
     ]
    }
   ],
   "source": [
    "weights_shape = (1, num_channels, img_height, img_width)\n",
    "seg_net_fc  = Segmodel(weights_shape).to(device)\n",
    "\n",
    "output_channels = 2\n",
    "epochs = 5\n",
    "bs = 9\n",
    "learning_rate = 1e-1 \n",
    "optimizer = torch.optim.Adam(seg_net_fc.parameters(), lr=learning_rate)\n",
    "losses = []\n",
    "train_x_paths = os.listdir(train_x)\n",
    "val_x_paths = os.listdir(val_x)\n",
    "for i in range(epochs):\n",
    "    random.shuffle(train_x_paths)\n",
    "    batch_losses = []\n",
    "    iou_per_class = []\n",
    "    iou_per_class_val = []\n",
    "    len_paths = []\n",
    "    for j in range(len(train_x_paths)//bs + 1):\n",
    "        batch_paths = train_x_paths[j*bs: (j+1)*bs]\n",
    "        len_paths.extend(batch_paths)\n",
    "        batch_x = load_data(train_x, batch_paths)\n",
    "        batch_x = torch.from_numpy(batch_x).to(device)\n",
    "        batch_x = batch_x.permute((0, 3, 1, 2))\n",
    "        batch_y = load_data(train_y, batch_paths)\n",
    "\n",
    "        pred = seg_net_fc(batch_x).to(device)\n",
    "        hot_batch_y = torch.from_numpy(one_hot_target(batch_y)).to(device)\n",
    "        hot_batch_y.requires_grad = True\n",
    "        pred = softmax(pred)\n",
    "        loss = sparse_crossentropy(hot_batch_y, pred)\n",
    "        optimizer.zero_grad()\n",
    "        loss.backward()\n",
    "        optimizer.step()\n",
    "        pred_x = seg_net_fc(batch_x).to(device)\n",
    "        iou_per_class.append(calc_iou_per_class(pred_x, batch_y))\n",
    "        batch_losses.append(loss.cpu().detach().numpy())\n",
    "    \n",
    "    for j in range(len(val_x_paths)//bs + 1):\n",
    "        batch_paths = val_x_paths[j*bs: (j+1)*bs]\n",
    "        batch_x_val = load_data(val_x, batch_paths)\n",
    "        batch_x_val = np.expand_dims(batch_x_val, 0) if len(batch_x_val.shape) < 4 else batch_x_val\n",
    "        batch_x_val = torch.from_numpy(batch_x_val).to(device)\n",
    "        batch_x_val = batch_x_val.permute((0, 3, 1, 2))\n",
    "        batch_y_val = load_data(val_y, batch_paths)\n",
    "        pred_x_val = seg_net_fc(batch_x_val).to(device)\n",
    "        iou_per_class_val.append(calc_iou_per_class(pred_x_val, batch_y_val))\n",
    "    loss = sum(batch_losses)\n",
    "    iou = np.mean(np.array(iou_per_class))\n",
    "    iou_val = np.mean(np.array(iou_per_class_val))\n",
    "    losses.append(loss)\n",
    "    print(f\"epoch {i}, loss: {loss}, iou_train: {iou}, iou_val: {iou_val}\")"
   ]
  },
  {
   "cell_type": "code",
   "execution_count": 182,
   "metadata": {},
   "outputs": [],
   "source": [
    "per = list(seg_net_fc.parameters())"
   ]
  },
  {
   "cell_type": "code",
   "execution_count": 187,
   "metadata": {},
   "outputs": [
    {
     "data": {
      "text/plain": [
       "Parameter containing:\n",
       "tensor([[[[ 3.0015e-01, -1.2302e-01, -3.8226e-01,  ...,  1.9725e+00,\n",
       "            9.0156e-01, -1.3470e+00],\n",
       "          [-1.1552e+00, -4.9008e-01, -1.9597e+00,  ...,  1.0124e+00,\n",
       "            1.2591e+00,  5.9483e-01],\n",
       "          [ 1.5327e-01,  4.0144e-02, -1.4260e+00,  ..., -7.5145e-01,\n",
       "            9.8270e-01,  8.0496e-01],\n",
       "          ...,\n",
       "          [ 6.8765e-01,  2.1178e+00, -1.6156e+00,  ...,  7.9265e-01,\n",
       "            6.0856e-01,  3.6334e-01],\n",
       "          [ 1.4248e+00,  2.5451e-01,  2.5929e-01,  ..., -7.0414e-01,\n",
       "            7.5013e-01,  1.1645e+00],\n",
       "          [ 3.2315e-01,  4.9604e-01, -6.1099e-01,  ..., -1.8292e-01,\n",
       "           -1.3914e+00,  5.5048e-01]],\n",
       "\n",
       "         [[ 2.1887e-01,  1.2473e-01, -1.4306e-01,  ...,  4.9489e-01,\n",
       "           -2.3864e+00,  3.8603e-01],\n",
       "          [ 1.8255e+00,  2.0318e-01,  1.4447e-01,  ...,  4.4164e-01,\n",
       "           -7.6400e-02,  1.3516e-01],\n",
       "          [-3.5701e-01,  2.9108e-02, -4.4440e-01,  ...,  2.6693e-01,\n",
       "            1.7625e+00, -1.6868e+00],\n",
       "          ...,\n",
       "          [ 2.2966e+00, -2.9837e-01, -1.0342e+00,  ...,  1.0060e+00,\n",
       "            1.4608e+00,  3.1232e-01],\n",
       "          [-1.5777e+00, -6.5293e-01,  2.1611e+00,  ..., -7.1779e-01,\n",
       "            5.3724e-01, -1.7235e-01],\n",
       "          [-1.0463e-01,  5.1531e-01,  5.5196e-01,  ...,  1.4703e+00,\n",
       "           -6.4516e-02,  4.7428e-01]],\n",
       "\n",
       "         [[ 1.1733e+00,  9.9635e-01,  3.5526e-01,  ...,  1.3086e+00,\n",
       "           -7.0524e-01,  1.5427e+00],\n",
       "          [-2.0958e+00, -9.8153e-01, -1.6571e+00,  ..., -2.4515e-01,\n",
       "            9.0006e-01, -2.4898e-01],\n",
       "          [ 5.6332e-02, -4.3278e-01, -1.1910e-01,  ..., -3.8449e-01,\n",
       "           -1.1736e+00, -1.8826e+00],\n",
       "          ...,\n",
       "          [-3.3992e-01, -2.5723e+00, -9.9061e-01,  ...,  5.1023e-01,\n",
       "           -1.1087e-01,  6.4347e-01],\n",
       "          [-1.0531e+00,  3.5882e-01,  1.4940e+00,  ..., -1.8070e+00,\n",
       "           -7.8633e-02,  5.8241e-01],\n",
       "          [-9.1578e-01, -8.9915e-01,  8.8027e-01,  ...,  6.1482e-01,\n",
       "           -9.8585e-01, -9.2487e-01]],\n",
       "\n",
       "         ...,\n",
       "\n",
       "         [[-8.2081e-02, -8.9388e-01,  5.7643e-01,  ...,  7.1532e-01,\n",
       "            2.0585e+00,  4.5261e-01],\n",
       "          [ 4.0822e-01,  1.1825e+00, -3.5257e-01,  ...,  1.1436e+00,\n",
       "            7.2183e-01,  8.6988e-02],\n",
       "          [-1.9205e+00, -5.2927e-01, -2.0669e-01,  ...,  3.0862e-01,\n",
       "            8.0773e-01, -2.3063e-03],\n",
       "          ...,\n",
       "          [ 1.5569e+00, -5.0663e-01,  9.9652e-01,  ...,  5.9468e-01,\n",
       "            7.3803e-01,  3.3627e-01],\n",
       "          [ 2.9645e-01,  9.5278e-01,  7.9988e-02,  ...,  1.6623e+00,\n",
       "           -3.4461e-01,  1.6856e-01],\n",
       "          [ 1.4469e+00,  9.0335e-01,  1.5929e+00,  ...,  5.3284e-01,\n",
       "            3.3255e-02, -3.7013e-01]],\n",
       "\n",
       "         [[-6.6143e-01, -1.2969e+00, -4.4498e-01,  ...,  7.5591e-01,\n",
       "            4.6771e-01,  7.0760e-01],\n",
       "          [-1.2285e+00,  4.6663e-01, -1.9049e-01,  ...,  8.6763e-01,\n",
       "            8.7733e-01, -4.3032e-02],\n",
       "          [ 2.0027e-01,  5.0407e-01, -5.9601e-01,  ...,  3.9079e-01,\n",
       "            3.7396e-02,  9.8531e-01],\n",
       "          ...,\n",
       "          [ 1.1517e+00,  1.1783e-02, -1.0228e-01,  ..., -1.7646e+00,\n",
       "            2.1325e-01,  1.8269e-01],\n",
       "          [-2.4656e+00,  1.7096e+00,  1.9215e+00,  ...,  5.8709e-01,\n",
       "           -1.1345e-01,  1.7918e+00],\n",
       "          [ 1.3642e+00, -5.4867e-01, -8.9280e-01,  ..., -4.2020e-01,\n",
       "            7.2212e-01,  1.6243e+00]],\n",
       "\n",
       "         [[ 3.5333e-01,  3.3353e-01, -1.4011e-01,  ...,  3.7966e-01,\n",
       "           -3.8174e-01,  1.6125e+00],\n",
       "          [-6.1270e-01,  4.4618e-02,  4.5499e-01,  ...,  1.1574e+00,\n",
       "            2.4063e+00,  7.4119e-01],\n",
       "          [ 1.2378e+00, -6.9858e-02,  1.8362e-03,  ..., -1.1508e+00,\n",
       "            9.1409e-01, -1.8009e+00],\n",
       "          ...,\n",
       "          [-2.5881e-01,  8.4542e-01, -7.7322e-01,  ...,  9.1454e-01,\n",
       "           -3.0065e+00, -9.1118e-01],\n",
       "          [-6.9034e-01, -3.1956e-01, -2.8429e-01,  ..., -9.0267e-01,\n",
       "           -8.0118e-01,  8.8099e-01],\n",
       "          [ 1.7133e+00,  1.0181e+00, -1.3916e+00,  ...,  2.3008e-01,\n",
       "           -9.0118e-01,  9.9636e-01]]]], device='cuda:0', requires_grad=True)"
      ]
     },
     "execution_count": 187,
     "metadata": {},
     "output_type": "execute_result"
    }
   ],
   "source": [
    "seg_net_fc.channel_zero_weight"
   ]
  },
  {
   "cell_type": "code",
   "execution_count": 161,
   "metadata": {},
   "outputs": [
    {
     "data": {
      "text/plain": [
       "<matplotlib.image.AxesImage at 0x1d244d3b7c8>"
      ]
     },
     "execution_count": 161,
     "metadata": {},
     "output_type": "execute_result"
    },
    {
     "data": {
      "image/png": "[encoded data removed]",
      "text/plain": [
       "<Figure size 432x288 with 1 Axes>"
      ]
     },
     "metadata": {
      "needs_background": "light"
     },
     "output_type": "display_data"
    }
   ],
   "source": [
    "plt.imshow(np.argmax(pred_x_val[0].cpu().detach().numpy(), 0), cmap=\"gray\")"
   ]
  },
  {
   "cell_type": "code",
   "execution_count": 162,
   "metadata": {},
   "outputs": [
    {
     "data": {
      "text/plain": [
       "<matplotlib.image.AxesImage at 0x1d244d8fb48>"
      ]
     },
     "execution_count": 162,
     "metadata": {},
     "output_type": "execute_result"
    },
    {
     "data": {
      "image/png": "[encoded data removed]",
      "text/plain": [
       "<Figure size 432x288 with 1 Axes>"
      ]
     },
     "metadata": {
      "needs_background": "light"
     },
     "output_type": "display_data"
    }
   ],
   "source": [
    "plt.imshow(batch_y_val[0], cmap=\"gray\")"
   ]
  },
  {
   "cell_type": "code",
   "execution_count": 163,
   "metadata": {},
   "outputs": [
    {
     "data": {
      "text/plain": [
       "tensor(10., requires_grad=True)"
      ]
     },
     "execution_count": 163,
     "metadata": {},
     "output_type": "execute_result"
    }
   ],
   "source": [
    "def initialize_weights()"
   ]
  },
  {
   "cell_type": "code",
   "execution_count": 170,
   "metadata": {},
   "outputs": [
    {
     "data": {
      "text/plain": [
       "tensor([0., 1., 0., 1.])"
      ]
     },
     "execution_count": 170,
     "metadata": {},
     "output_type": "execute_result"
    }
   ],
   "source": [
    "(~torch.tensor([1,0,1,0]).type(torch.bool)).type(torch.float32)"
   ]
  },
  {
   "cell_type": "code",
   "execution_count": 172,
   "metadata": {},
   "outputs": [
    {
     "data": {
      "text/plain": [
       "Segmodel()"
      ]
     },
     "execution_count": 172,
     "metadata": {},
     "output_type": "execute_result"
    }
   ],
   "source": [
    "seg_net_fc"
   ]
  },
  {
   "cell_type": "code",
   "execution_count": null,
   "metadata": {},
   "outputs": [],
   "source": [
    "seg_net_fc"
   ]
  }
 ],
 "metadata": {
  "kernelspec": {
   "display_name": "pytorch-tf2-env",
   "language": "python",
   "name": "pytorch-tf2-env"
  },
  "language_info": {
   "codemirror_mode": {
    "name": "ipython",
    "version": 3
   },
   "file_extension": ".py",
   "mimetype": "text/x-python",
   "name": "python",
   "nbconvert_exporter": "python",
   "pygments_lexer": "ipython3",
   "version": "3.7.8"
  }
 },
 "nbformat": 4,
 "nbformat_minor": 4
}
