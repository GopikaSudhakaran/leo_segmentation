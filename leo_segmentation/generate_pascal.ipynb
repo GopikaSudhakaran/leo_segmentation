{
 "cells": [
  {
   "cell_type": "code",
   "execution_count": 38,
   "metadata": {},
   "outputs": [],
   "source": [
    "import os\n",
    "import shutil"
   ]
  },
  {
   "cell_type": "markdown",
   "metadata": {},
   "source": [
    "## Define and read class names"
   ]
  },
  {
   "cell_type": "code",
   "execution_count": 1,
   "metadata": {},
   "outputs": [],
   "source": [
    "class_names = ['aeroplane',\n",
    " 'bicycle',\n",
    " 'bird',\n",
    " 'boat',\n",
    " 'bottle',\n",
    " 'bus',\n",
    " 'car',\n",
    " 'cat',\n",
    " 'chair',\n",
    " 'cow',\n",
    " 'diningtable',\n",
    " 'dog',\n",
    " 'horse',\n",
    " 'motorbike',\n",
    " 'person',\n",
    " 'pottedplant',\n",
    " 'sheep',\n",
    " 'sofa',\n",
    " 'train',\n",
    " 'tvmonitor']"
   ]
  },
  {
   "cell_type": "code",
   "execution_count": 22,
   "metadata": {
    "tags": []
   },
   "outputs": [],
   "source": [
    "for i in range(20)\n",
    "path_to_val_list = os.path.join(os.getcwd(),\"class_names\", f\"{class_names[0]}_val.txt\")\n",
    "path_to_train_list = os.path.join(os.getcwd(),\"class_names\", f\"{class_names[0]}_train.txt\")\n",
    "with open(path_to_val_list, \"r\") as f:\n",
    "    images_list = f.readlines()\n",
    "images_or_mask_list = [ j+\".jpg\" for i in images_list for j in i.split(\" \") if len(j)==11]\n",
    "with open(path_to_train_list, \"r\") as f:\n",
    "    images_list = f.readlines()\n",
    "images_or_mask_list = images_or_mask_list.extend([ j+\".jpg\" for i in images_list for j in i.split(\" \") if len(j)==11])"
   ]
  },
  {
   "cell_type": "code",
   "execution_count": 20,
   "metadata": {},
   "outputs": [],
   "source": []
  },
  {
   "cell_type": "markdown",
   "metadata": {},
   "source": [
    "## Create Destination folder"
   ]
  },
  {
   "cell_type": "code",
   "execution_count": 89,
   "metadata": {},
   "outputs": [],
   "source": [
    "image_or_mask = \"images\"\n",
    "destination_path = os.path.join(os.getcwd(), f\"data/grouped_by_classes/{class_names[select_class]}/{image_or_mask}\")\n",
    "os.makedirs(destination_path, exist_ok=True)"
   ]
  },
  {
   "cell_type": "markdown",
   "metadata": {},
   "source": [
    "## Select Working fold 0,1,2,3 and copy"
   ]
  },
  {
   "cell_type": "code",
   "execution_count": 90,
   "metadata": {},
   "outputs": [],
   "source": [
    "working_fold = 0\n",
    "source_path = os.path.join(os.getcwd(), \"data\", \"original_pascalvoc5i\" ,\"pascal-5\", f\"{working_fold}\", f\"{image_or_mask}\", \"classa\") "
   ]
  },
  {
   "cell_type": "code",
   "execution_count": 91,
   "metadata": {
    "tags": []
   },
   "outputs": [],
   "source": [
    "source_data_list = os.listdir(source_path)\n",
    "for filename in source_data_list:\n",
    "    if filename in images_or_mask_list:\n",
    "        source = os.path.join(source_path, filename)\n",
    "        destination = os.path.join(destination_path,filename)\n",
    "        dest = shutil.copy(source, destination) \n"
   ]
  },
  {
   "cell_type": "code",
   "execution_count": null,
   "metadata": {},
   "outputs": [],
   "source": []
  }
 ],
 "metadata": {
  "accelerator": "GPU",
  "colab": {
   "collapsed_sections": [],
   "name": "segmentation.ipynb",
   "private_outputs": true,
   "provenance": [],
   "toc_visible": true
  },
  "kernelspec": {
   "display_name": "pytorch-tf2-env",
   "name": "pytorch-tf2-env"
  },
  "language_info": {
   "codemirror_mode": {
    "name": "ipython",
    "version": 3
   },
   "file_extension": ".py",
   "mimetype": "text/x-python",
   "name": "python",
   "nbconvert_exporter": "python",
   "pygments_lexer": "ipython3",
   "version": "3.7.4-final"
  }
 },
 "nbformat": 4,
 "nbformat_minor": 0
}