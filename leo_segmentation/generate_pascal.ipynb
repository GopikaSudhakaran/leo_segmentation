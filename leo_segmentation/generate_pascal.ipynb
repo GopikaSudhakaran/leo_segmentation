{
 "cells": [
  {
   "cell_type": "code",
   "execution_count": 38,
   "metadata": {},
   "outputs": [],
   "source": [
    "import os\n",
    "import shutil"
   ]
  },
  {
   "cell_type": "markdown",
   "metadata": {},
   "source": [
    "## Define and read class names"
   ]
  },
  {
   "cell_type": "code",
   "execution_count": 3,
   "metadata": {},
   "outputs": [],
   "source": [
    "class_names = {\n",
    "    1:\"aeroplane\",\n",
    "    2:\"bicycle\",\n",
    "    3:\"bird\",\n",
    "    4:\"boat\",\n",
    "    5:\"bottle\"\n",
    "}"
   ]
  },
  {
   "cell_type": "code",
   "execution_count": 82,
   "metadata": {
    "tags": []
   },
   "outputs": [],
   "source": [
    "select_class = 2\n",
    "path_to_img_list = os.path.join(os.getcwd(),\"class_names\", f\"class{select_class}.txt\")\n",
    "with open(path_to_img_list, \"r\") as f:\n",
    "    images_list = f.readlines()"
   ]
  },
  {
   "cell_type": "code",
   "execution_count": 83,
   "metadata": {},
   "outputs": [
    {
     "output_type": "execute_result",
     "data": {
      "text/plain": "['2007_007447.jpg',\n '2010_003093.jpg',\n '2007_005368.jpg',\n '2007_006317.jpg',\n '2011_002111.jpg',\n '2009_003353.jpg',\n '2009_002519.jpg',\n '2010_003799.jpg',\n '2011_001632.jpg',\n '2007_005702.jpg',\n '2009_001481.jpg',\n '2008_005650.jpg',\n '2007_000584.jpg',\n '2009_003164.jpg',\n '2007_005273.jpg',\n '2011_002656.jpg',\n '2008_001375.jpg',\n '2009_003519.jpg',\n '2010_005111.jpg',\n '2011_002135.jpg',\n '2008_003329.jpg',\n '2008_005839.jpg',\n '2010_001922.jpg',\n '2011_000589.jpg',\n '2011_002585.jpg',\n '2007_004769.jpg',\n '2009_003007.jpg',\n '2007_005064.jpg',\n '2010_004072.jpg',\n '2009_001096.jpg',\n '2007_001027.jpg',\n '2007_006661.jpg',\n '2010_002055.jpg',\n '2007_009295.jpg',\n '2009_004561.jpg',\n '2009_002715.jpg',\n '2009_000015.jpg',\n '2011_000453.jpg',\n '2010_002720.jpg',\n '2008_001523.jpg',\n '2008_004441.jpg',\n '2007_000793.jpg',\n '2007_009788.jpg',\n '2007_002227.jpg',\n '2009_003860.jpg',\n '2008_001566.jpg',\n '2009_003646.jpg',\n '2008_001402.jpg',\n '2009_000161.jpg',\n '2010_005810.jpg',\n '2010_003062.jpg',\n '2007_009618.jpg',\n '2010_000685.jpg',\n '2010_001183.jpg',\n '2007_006581.jpg',\n '2008_002894.jpg',\n '2008_005713.jpg',\n '2010_004154.jpg',\n '2010_004069.jpg',\n '2010_001514.jpg',\n '2009_003075.jpg',\n '2010_000632.jpg',\n '2007_000515.jpg',\n '2007_005430.jpg',\n '2008_000764.jpg']"
     },
     "metadata": {},
     "execution_count": 83
    }
   ],
   "source": [
    "images_or_mask_list = [i.rstrip(\"\\n\")+\".jpg\" for i in images_list]\n",
    "images_or_mask_list "
   ]
  },
  {
   "cell_type": "markdown",
   "metadata": {},
   "source": [
    "## Create Destination folder"
   ]
  },
  {
   "cell_type": "code",
   "execution_count": 89,
   "metadata": {},
   "outputs": [],
   "source": [
    "image_or_mask = \"images\"\n",
    "destination_path = os.path.join(os.getcwd(), f\"data/grouped_by_classes/{class_names[select_class]}/{image_or_mask}\")\n",
    "os.makedirs(destination_path, exist_ok=True)"
   ]
  },
  {
   "cell_type": "markdown",
   "metadata": {},
   "source": [
    "## Select Working fold 0,1,2,3 and copy"
   ]
  },
  {
   "cell_type": "code",
   "execution_count": 90,
   "metadata": {},
   "outputs": [],
   "source": [
    "working_fold = 0\n",
    "source_path = os.path.join(os.getcwd(), \"data\", \"original_pascalvoc5i\" ,\"pascal-5\", f\"{working_fold}\", f\"{image_or_mask}\", \"classa\") "
   ]
  },
  {
   "cell_type": "code",
   "execution_count": 91,
   "metadata": {
    "tags": []
   },
   "outputs": [],
   "source": [
    "source_data_list = os.listdir(source_path)\n",
    "for filename in source_data_list:\n",
    "    if filename in images_or_mask_list:\n",
    "        source = os.path.join(source_path, filename)\n",
    "        destination = os.path.join(destination_path,filename)\n",
    "        dest = shutil.copy(source, destination) \n"
   ]
  },
  {
   "cell_type": "code",
   "execution_count": null,
   "metadata": {},
   "outputs": [],
   "source": []
  }
 ],
 "metadata": {
  "accelerator": "GPU",
  "colab": {
   "collapsed_sections": [],
   "name": "segmentation.ipynb",
   "private_outputs": true,
   "provenance": [],
   "toc_visible": true
  },
  "kernelspec": {
   "display_name": "pytorch-tf2-env",
   "name": "pytorch-tf2-env"
  },
  "language_info": {
   "codemirror_mode": {
    "name": "ipython",
    "version": 3
   },
   "file_extension": ".py",
   "mimetype": "text/x-python",
   "name": "python",
   "nbconvert_exporter": "python",
   "pygments_lexer": "ipython3",
   "version": "3.7.4-final"
  }
 },
 "nbformat": 4,
 "nbformat_minor": 0
}