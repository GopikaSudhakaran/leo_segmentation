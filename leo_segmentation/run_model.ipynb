{
 "cells": [
  {
   "cell_type": "code",
   "execution_count": 19,
   "metadata": {
    "scrolled": true
   },
   "outputs": [],
   "source": [
    "from data import Datagenerator, TrainingStats\n",
    "from copy import deepcopy\n",
    "from model import LEO, load_model, save_model\n",
    "from  torch.nn import MSELoss\n",
    "from easydict import EasyDict as edict\n",
    "from utils import load_config, check_experiment\n",
    "from run import train_model\n",
    "import torch.optim as optim\n",
    "import argparse\n",
    "import torch \n",
    "import torch.optim\n",
    "import gc\n",
    "from utils import display_data_shape, get_named_dict, one_hot_target,\\\n",
    "    softmax, sparse_crossentropy, calc_iou_per_class, log_data, load_config\n",
    "import matplotlib.pyplot as plt\n",
    "import numpy as np"
   ]
  },
  {
   "cell_type": "markdown",
   "metadata": {},
   "source": [
    "## Train"
   ]
  },
  {
   "cell_type": "code",
   "execution_count": 20,
   "metadata": {},
   "outputs": [],
   "source": [
    "config = load_config()"
   ]
  },
  {
   "cell_type": "code",
   "execution_count": null,
   "metadata": {
    "scrolled": false
   },
   "outputs": [
    {
     "name": "stdout",
     "output_type": "stream",
     "text": [
      "num tasks: 7\n",
      "tr_data shape: torch.Size([7, 2, 384, 512, 14]),tr_data_masks shape: torch.Size([7, 2, 384, 512]), val_data shape: torch.Size([7, 5, 384, 512, 14]),val_masks shape: torch.Size([7, 5, 384, 512])\n"
     ]
    },
    {
     "name": "stderr",
     "output_type": "stream",
     "text": [
      "C:\\Users\\temil\\OneDrive\\Documents\\Study\\UHildesheim\\Project\\Scripts\\leo-srp-project\\merge_to_dev\\leo_segmentation\\leo_segmentation\\utils.py:205: UserWarning: Mixed memory format inputs detected while calling the operator. The operator will output contiguous tensor even if some of the inputs are in channels_last format. (Triggered internally at  ..\\aten\\src\\ATen\\native\\TensorIterator.cpp:918.)\n",
      "  loss = torch.sum(-1 * target * torch.log(pred), dim=channel_dim)\n"
     ]
    },
    {
     "name": "stdout",
     "output_type": "stream",
     "text": [
      "Class: car, Episode: 1, Val IOU: 0.00026729403812896245\n",
      "Class: bus, Episode: 1, Val IOU: 0.0\n",
      "Class: aeroplane, Episode: 1, Val IOU: 0.0\n",
      "Class: bicycle, Episode: 1, Val IOU: 0.0008932753971014225\n",
      "Class: bottle, Episode: 1, Val IOU: 0.0\n",
      "Class: chair, Episode: 1, Val IOU: 0.0\n",
      "Class: cow, Episode: 1, Val IOU: 0.0\n",
      "\n",
      "mode:meta_train, episode:001, kl_loss:6.920055, total_val_loss:0.692386\n",
      "Class: cat, Episode: 2, Val IOU: 0.0003486674843634833\n",
      "Class: aeroplane, Episode: 2, Val IOU: 3.515865342357388e-06\n",
      "Class: car, Episode: 2, Val IOU: 0.0033367823314670733\n",
      "Class: bird, Episode: 2, Val IOU: 2.5826446280991735e-05\n",
      "Class: bicycle, Episode: 2, Val IOU: 0.04137031709115359\n",
      "Class: chair, Episode: 2, Val IOU: 0.0003426485786047717\n",
      "Class: bus, Episode: 2, Val IOU: 0.0\n",
      "\n",
      "mode:meta_train, episode:002, kl_loss:328.662903, total_val_loss:0.693362\n",
      "Class: cow, Episode: 3, Val IOU: 0.0001122180154225306\n",
      "Class: aeroplane, Episode: 3, Val IOU: 0.0\n",
      "Class: bus, Episode: 3, Val IOU: 1.394991978796122e-05\n",
      "Class: cat, Episode: 3, Val IOU: 4.2495511874892725e-05\n",
      "Class: boat, Episode: 3, Val IOU: 0.00029404925397752765\n",
      "Class: bicycle, Episode: 3, Val IOU: 0.007844181795582305\n",
      "Class: bottle, Episode: 3, Val IOU: 0.0\n",
      "\n",
      "mode:meta_train, episode:003, kl_loss:60.845139, total_val_loss:0.693136\n",
      "Class: car, Episode: 4, Val IOU: 0.006152179523192557\n",
      "Class: cat, Episode: 4, Val IOU: 0.0010677078007481412\n",
      "Class: bicycle, Episode: 4, Val IOU: 0.026443205815938352\n",
      "Class: cow, Episode: 4, Val IOU: 0.00031415175067854\n",
      "Class: bus, Episode: 4, Val IOU: 0.0\n",
      "Class: bottle, Episode: 4, Val IOU: 3.1670625494853524e-05\n",
      "Class: chair, Episode: 4, Val IOU: 4.3582479843103074e-05\n",
      "\n",
      "mode:meta_train, episode:004, kl_loss:58.203583, total_val_loss:0.693032\n",
      "Class: boat, Episode: 5, Val IOU: 1.0339316496840562e-05\n",
      "Class: bird, Episode: 5, Val IOU: 0.0\n",
      "Class: cow, Episode: 5, Val IOU: 0.0017280707175584588\n",
      "Class: bicycle, Episode: 5, Val IOU: 0.000260636294879682\n",
      "Class: bus, Episode: 5, Val IOU: 0.0\n",
      "Class: car, Episode: 5, Val IOU: 0.015967595031205283\n",
      "Class: bottle, Episode: 5, Val IOU: 0.0005168571411946255\n",
      "\n",
      "mode:meta_train, episode:005, kl_loss:81.586716, total_val_loss:0.695934\n",
      "Class: car, Episode: 6, Val IOU: 0.003972805243794464\n",
      "Class: boat, Episode: 6, Val IOU: 0.0011130981533729015\n",
      "Class: cow, Episode: 6, Val IOU: 0.014722101914686463\n",
      "Class: chair, Episode: 6, Val IOU: 0.02077649799473005\n",
      "Class: bird, Episode: 6, Val IOU: 0.001485268566695482\n",
      "Class: bus, Episode: 6, Val IOU: 2.1154619111082904e-05\n",
      "Class: cat, Episode: 6, Val IOU: 0.0014379273772168208\n",
      "\n",
      "mode:meta_train, episode:006, kl_loss:64.880730, total_val_loss:0.693827\n"
     ]
    }
   ],
   "source": [
    "leo, meta_data, classes = train_model(config)"
   ]
  },
  {
   "cell_type": "markdown",
   "metadata": {},
   "source": [
    "## Predictions on Meta Val / Test"
   ]
  },
  {
   "cell_type": "code",
   "execution_count": null,
   "metadata": {
    "scrolled": true
   },
   "outputs": [],
   "source": [
    "leo"
   ]
  },
  {
   "cell_type": "code",
   "execution_count": null,
   "metadata": {},
   "outputs": [],
   "source": [
    "dataloader = Datagenerator(config, dataset=\"pascal_voc\", data_type=\"meta_val\")\n",
    "val_meta_data = dataloader.get_batch_data()\n",
    "class_in_metadata = val_meta_data[-1]"
   ]
  },
  {
   "cell_type": "code",
   "execution_count": null,
   "metadata": {},
   "outputs": [],
   "source": [
    "class_in_metadata"
   ]
  },
  {
   "cell_type": "code",
   "execution_count": null,
   "metadata": {},
   "outputs": [],
   "source": [
    "select_class = -1\n",
    "select_sample = 0"
   ]
  },
  {
   "cell_type": "code",
   "execution_count": null,
   "metadata": {},
   "outputs": [],
   "source": [
    "print(\"class\", class_in_metadata[select_class], \"is selected\")\n",
    "batch_data = get_named_dict(val_meta_data, select_class)\n",
    "input_data = batch_data.val_data[select_sample].permute(1, 2, 0)\n",
    "plt.title(\"First three channels of embeddings is visualized\")\n",
    "plt.imshow(input_data.cpu().detach().numpy()[:,:,:3])"
   ]
  },
  {
   "cell_type": "code",
   "execution_count": null,
   "metadata": {},
   "outputs": [],
   "source": [
    "batch_data.val_data.shape"
   ]
  },
  {
   "cell_type": "code",
   "execution_count": null,
   "metadata": {},
   "outputs": [],
   "source": [
    "latents, kl_loss = leo.forward_encoder(batch_data.tr_data)\n",
    "tr_loss, predicted_weights, _ = leo.forward_decoder(batch_data.tr_data, latents, batch_data.tr_data_masks)\n",
    "val_loss = leo.finetuning_inner_loop(batch_data, tr_loss, predicted_weights)\n",
    "_, _, predictions = leo.forward_decoder(batch_data.val_data, latents, batch_data.val_data_masks)"
   ]
  },
  {
   "cell_type": "code",
   "execution_count": null,
   "metadata": {},
   "outputs": [],
   "source": [
    "select_sample = 0\n",
    "def plot_batch_mask(batch_data, select_sample):\n",
    "    input_mask = batch_data.val_data_masks[select_sample]\n",
    "    plt.title(\"ground truth mask\")\n",
    "    plt.imshow(input_mask.cpu().detach().numpy(), cmap=\"gray\")\n",
    "    return\n",
    "\n",
    "plot_batch_mask(batch_data, select_sample)"
   ]
  },
  {
   "cell_type": "code",
   "execution_count": null,
   "metadata": {},
   "outputs": [],
   "source": [
    "def plot_prediction_mask(pred_mask, select_sample):\n",
    "    plt.title(\"mask prediction\")\n",
    "    plt.imshow(np.argmax(pred_mask[select_sample].cpu().detach().numpy(), 0), cmap=\"gray\")\n",
    "    return\n",
    "\n",
    "plot_prediction_mask(predictions, select_sample)"
   ]
  },
  {
   "cell_type": "code",
   "execution_count": null,
   "metadata": {},
   "outputs": [],
   "source": [
    "calc_iou_per_class(predictions, batch_data.val_data_masks)"
   ]
  },
  {
   "cell_type": "code",
   "execution_count": null,
   "metadata": {},
   "outputs": [],
   "source": []
  }
 ],
 "metadata": {
  "kernelspec": {
   "display_name": "pytorch-tf2-env",
   "language": "python",
   "name": "pytorch-tf2-env"
  },
  "language_info": {
   "codemirror_mode": {
    "name": "ipython",
    "version": 3
   },
   "file_extension": ".py",
   "mimetype": "text/x-python",
   "name": "python",
   "nbconvert_exporter": "python",
   "pygments_lexer": "ipython3",
   "version": "3.7.8"
  }
 },
 "nbformat": 4,
 "nbformat_minor": 4
}
