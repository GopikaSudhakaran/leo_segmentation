{
 "cells": [
  {
   "cell_type": "code",
   "execution_count": 1,
   "metadata": {},
   "outputs": [
    {
     "name": "stderr",
     "output_type": "stream",
     "text": [
      "c:\\users\\temil\\onedrive\\documents\\codes_and_scripts\\python_envs\\pytorch-tf2-env\\lib\\site-packages\\numpy\\_distributor_init.py:32: UserWarning: loaded more than 1 DLL from .libs:\n",
      "c:\\users\\temil\\onedrive\\documents\\codes_and_scripts\\python_envs\\pytorch-tf2-env\\lib\\site-packages\\numpy\\.libs\\libopenblas.NOIJJG62EMASZI6NYURL6JBKM4EVBGM7.gfortran-win_amd64.dll\n",
      "c:\\users\\temil\\onedrive\\documents\\codes_and_scripts\\python_envs\\pytorch-tf2-env\\lib\\site-packages\\numpy\\.libs\\libopenblas.PYQHXLVVQ7VESDPUVUADXEVJOBGHJPAY.gfortran-win_amd64.dll\n",
      "  stacklevel=1)\n"
     ]
    }
   ],
   "source": [
    "from data import Datagenerator, TrainingStats\n",
    "from model import LEO, load_model, save_model\n",
    "from  torch.nn import MSELoss\n",
    "from easydict import EasyDict as edict\n",
    "from utils import load_config, check_experiment\n",
    "from run import train_model\n",
    "import torch.optim as optim\n",
    "import argparse\n",
    "import torch \n",
    "import torch.optim\n",
    "import gc\n",
    "from utils import display_data_shape, get_named_dict, one_hot_target,\\\n",
    "    softmax, sparse_crossentropy, calc_iou_per_class, log_data, load_config\n",
    "import matplotlib.pyplot as plt\n",
    "import numpy as np"
   ]
  },
  {
   "cell_type": "markdown",
   "metadata": {},
   "source": [
    "## Train"
   ]
  },
  {
   "cell_type": "code",
   "execution_count": 2,
   "metadata": {},
   "outputs": [],
   "source": [
    "config = load_config()"
   ]
  },
  {
   "cell_type": "code",
   "execution_count": null,
   "metadata": {
    "scrolled": false
   },
   "outputs": [
    {
     "name": "stdout",
     "output_type": "stream",
     "text": [
      "num tasks: 7\n",
      "tr_data shape: torch.Size([7, 2, 384, 512, 14]),tr_data_masks shape: torch.Size([7, 2, 384, 512]), val_data shape: torch.Size([7, 5, 384, 512, 14]),val_masks shape: torch.Size([7, 5, 384, 512])\n"
     ]
    },
    {
     "name": "stderr",
     "output_type": "stream",
     "text": [
      "C:\\Users\\temil\\OneDrive\\Documents\\Study\\UHildesheim\\Project\\Scripts\\leo-srp-project\\merge_to_dev\\leo_segmentation\\leo_segmentation\\model.py:92: UserWarning: Mixed memory format inputs detected while calling the operator. The operator will output channels_last tensor even if some of the inputs are not in channels_last format. (Triggered internally at  ..\\aten\\src\\ATen\\native\\TensorIterator.cpp:924.)\n",
      "  channel_zero = inputs * predicted_weights[:, :14, :, :]\n",
      "c:\\users\\temil\\onedrive\\documents\\codes_and_scripts\\python_envs\\pytorch-tf2-env\\lib\\site-packages\\torch\\autograd\\__init__.py:192: UserWarning: Mixed memory format inputs detected while calling the operator. The operator will output contiguous tensor even if some of the inputs are in channels_last format. (Triggered internally at  ..\\aten\\src\\ATen\\native\\TensorIterator.cpp:918.)\n",
      "  inputs, allow_unused)\n"
     ]
    },
    {
     "name": "stdout",
     "output_type": "stream",
     "text": [
      "Class: bus, Episode: 1, Val IOU: 0.17216083276237387\n",
      "Class: cow, Episode: 1, Val IOU: 0.13238326732092848\n",
      "Class: bottle, Episode: 1, Val IOU: 0.15815690579669434\n",
      "Class: boat, Episode: 1, Val IOU: 0.056805459646771285\n",
      "Class: aeroplane, Episode: 1, Val IOU: 0.07448769727063236\n",
      "Class: cat, Episode: 1, Val IOU: 0.19199552557704777\n",
      "Class: car, Episode: 1, Val IOU: 0.10829365725986032\n",
      "\n",
      "mode:meta_train, episode:001, kl_loss:0.128264, total_val_loss:0.774303\n"
     ]
    }
   ],
   "source": [
    "leo, meta_data, classes = train_model(config)"
   ]
  },
  {
   "cell_type": "markdown",
   "metadata": {},
   "source": [
    "## Visualize Predictions"
   ]
  },
  {
   "cell_type": "code",
   "execution_count": null,
   "metadata": {},
   "outputs": [],
   "source": [
    "leo"
   ]
  },
  {
   "cell_type": "code",
   "execution_count": null,
   "metadata": {},
   "outputs": [],
   "source": [
    "classes"
   ]
  },
  {
   "cell_type": "code",
   "execution_count": null,
   "metadata": {},
   "outputs": [],
   "source": [
    "select_class = 2\n",
    "print(\"class\", classes[select_class], \"is selected\")\n",
    "select_sample = 1\n",
    "batch_data = get_named_dict(meta_data, select_class)\n",
    "input_data = batch_data.val_data[select_sample].permute(1, 2, 0)\n",
    "plt.title(\"First three channels of embeddings is visualized\")\n",
    "plt.imshow(input_data.cpu().detach().numpy()[:,:,:3])"
   ]
  },
  {
   "cell_type": "code",
   "execution_count": null,
   "metadata": {},
   "outputs": [],
   "source": [
    "input_mask = batch_data.val_data_masks[select_sample]\n",
    "plt.title(\"ground truth mask\")\n",
    "plt.imshow(input_mask.cpu().detach().numpy(), cmap=\"gray\")"
   ]
  },
  {
   "cell_type": "code",
   "execution_count": null,
   "metadata": {},
   "outputs": [],
   "source": [
    "latents, kl_loss = leo.forward_encoder(batch_data.val_data)\n",
    "_, _, predictions = leo.forward_decoder(batch_data.val_data, latents, batch_data.val_data_masks)"
   ]
  },
  {
   "cell_type": "code",
   "execution_count": null,
   "metadata": {},
   "outputs": [],
   "source": [
    "plt.title(\"mask prediction\")\n",
    "plt.imshow(np.argmax(predictions.cpu().detach().numpy()[select_sample], 0), cmap=\"gray\")"
   ]
  },
  {
   "cell_type": "code",
   "execution_count": null,
   "metadata": {},
   "outputs": [],
   "source": [
    "predictions.shape"
   ]
  },
  {
   "cell_type": "code",
   "execution_count": null,
   "metadata": {},
   "outputs": [],
   "source": []
  }
 ],
 "metadata": {
  "kernelspec": {
   "display_name": "pytorch-tf2-env",
   "language": "python",
   "name": "pytorch-tf2-env"
  },
  "language_info": {
   "codemirror_mode": {
    "name": "ipython",
    "version": 3
   },
   "file_extension": ".py",
   "mimetype": "text/x-python",
   "name": "python",
   "nbconvert_exporter": "python",
   "pygments_lexer": "ipython3",
   "version": "3.7.8"
  }
 },
 "nbformat": 4,
 "nbformat_minor": 4
}
